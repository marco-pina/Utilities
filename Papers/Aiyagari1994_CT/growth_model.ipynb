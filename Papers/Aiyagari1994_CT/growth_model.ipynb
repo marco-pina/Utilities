{
 "cells": [
  {
   "cell_type": "code",
   "execution_count": 26,
   "metadata": {},
   "outputs": [],
   "source": [
    "globals().clear()\n",
    "## Import libraries\n",
    "import matplotlib\n",
    "#matplotlib.use('TkAgg') # Required to make it run on both Windows and Mac\n",
    "import matplotlib.pyplot as plt\n",
    "import tensorflow as tf \n",
    "from tensorflow import keras\n",
    "import numpy as np \n",
    "import os\n",
    "from tqdm import trange\n",
    "\n",
    "# Switch of unnecessary TF warning messages\n",
    "os.environ['TF_CPP_MIN_LOG_LEVEL'] = '2'"
   ]
  },
  {
   "cell_type": "code",
   "execution_count": 37,
   "metadata": {},
   "outputs": [],
   "source": [
    "gamma = tf.constant(2.0)           # Curvature of the utility function\n",
    "rho   = tf.constant(0.04)          # Discount rate\n",
    "A      = tf.constant(0.5)          # TFP\n",
    "alpha = tf.constant(0.36)          # Returns to scale\n",
    "delta = tf.constant(0.05)          # Depreciation Rate of Capital\n",
    "\n",
    "batchSize = 100                    # Batch Size\n",
    "number_epochs = 500000             # Number of epochs\n",
    "\n",
    "kMin = 0.1                         # lower bound of sample interval\n",
    "kMax = 10.0                        # upper bound of sample interval\n",
    "\n",
    "gridSize = 10000                  # Plotting grid\n",
    "\n",
    "# Set global seed\n",
    "tf.random.set_seed(1234)\n",
    "np.random.seed(1234)\n",
    "\n",
    "# Value function initial guess\n",
    "initGuess = -60\n",
    "\n",
    "# Neural network optimizer\n",
    "optimizer = keras.optimizers.Adam()"
   ]
  },
  {
   "cell_type": "code",
   "execution_count": 38,
   "metadata": {},
   "outputs": [],
   "source": [
    "def valueFnNeuralNet(nHidden = 3, nNeurons = 8):\n",
    "\tmodel = keras.models.Sequential()\n",
    "\n",
    "\t# Input layer\n",
    "\tmodel.add(keras.layers.Dense(nNeurons, activation = \"tanh\", input_dim = 1))\n",
    "\n",
    "\t# Hiden layers\n",
    "\tfor layer in range(nHidden - 1):\n",
    "\t\tmodel.add(keras.layers.Dense(nNeurons, activation = \"tanh\"))\n",
    "\n",
    "\t# Output layer\n",
    "\tmodel.add(keras.layers.Dense(1,bias_initializer = keras.initializers.Constant(value = initGuess)))\n",
    "\treturn model\n",
    "\n",
    "def HJB(input, V):\n",
    "\tVPrime = tf.gradients(V(input), input)[0]\n",
    "\tVPrimemax = tf.maximum(VPrime, 1E-7)\t\t# dV/dk\n",
    "\n",
    "\tY = A * tf.pow(input, alpha)\t\t\t\t# Output\n",
    "\n",
    "\tC = tf.pow(VPrimemax, (-1/gamma))\t\t\t# Consumption\n",
    "\n",
    "\tI = Y - C \t\t\t\t\t\t\t\t\t# Investment\n",
    "\n",
    "\tmuK = I - delta * input  \t\t\t\t\t# Capital drift\n",
    "\n",
    "\tU = tf.pow(C, 1-gamma) / (1-gamma) \t\t\t# Utility\n",
    "\n",
    "\tHJB = U - rho * V(input) + tf.multiply(tf.stop_gradient(VPrimemax), muK)\n",
    "\treturn HJB \n",
    "\n",
    "def Objective(batchSize):\n",
    "\tinput = tf.random.uniform(shape = (batchSize,1), minval = kMin, maxval = kMax)\n",
    "\terror = HJB(input, VF)\n",
    "\treturn tf.reduce_mean(tf.square(error))"
   ]
  },
  {
   "cell_type": "code",
   "execution_count": 39,
   "metadata": {},
   "outputs": [],
   "source": [
    "@tf.function\n",
    "def training_step():\n",
    "\twith tf.GradientTape() as tape:\n",
    "\t\tloss = Objective(batchSize)\n",
    "\tgrads = tape.gradient(loss, theta)\n",
    "\toptimizer.apply_gradients(zip(grads, theta))\n",
    "\treturn loss"
   ]
  },
  {
   "cell_type": "code",
   "execution_count": 40,
   "metadata": {},
   "outputs": [],
   "source": [
    "def train_model(epochs):\n",
    "\tlosses = []\n",
    "\tfor epoch in trange(epochs):\n",
    "\t\tloss = training_step()\n",
    "\t\tlosses.append(loss.numpy())\n",
    "\treturn losses "
   ]
  },
  {
   "cell_type": "code",
   "execution_count": 41,
   "metadata": {},
   "outputs": [
    {
     "name": "stderr",
     "output_type": "stream",
     "text": [
      "100%|██████████| 500000/500000 [02:43<00:00, 3067.01it/s]\n"
     ]
    }
   ],
   "source": [
    "# Set up neural network\n",
    "VF = valueFnNeuralNet()\n",
    "\n",
    "# Define trainable network parameters\n",
    "theta = VF.trainable_variables\n",
    "\n",
    "# Run Model (and output loss evolution) \n",
    "results = train_model(number_epochs)"
   ]
  },
  {
   "cell_type": "code",
   "execution_count": 42,
   "metadata": {},
   "outputs": [],
   "source": [
    "@tf.function \t# need decorator since tf.gradients only work in graph mode\n",
    "def C(input, V):\n",
    "\tVPrime = tf.gradients(V(input), input)[0]\n",
    "\tVPrimemax = tf.maximum(VPrime, 1E-7)\n",
    "\tC = tf.pow(VPrimemax, (-1/gamma))\n",
    "\treturn C\n",
    "\n",
    "# Define plotting grid\n",
    "K = tf.cast(np.linspace(kMin, kMax, gridSize).reshape(gridSize, 1), tf.float32)"
   ]
  },
  {
   "cell_type": "code",
   "execution_count": 43,
   "metadata": {},
   "outputs": [
    {
     "data": {
      "image/png": "[encoded data removed]",
      "text/plain": [
       "<Figure size 432x288 with 1 Axes>"
      ]
     },
     "metadata": {
      "needs_background": "light"
     },
     "output_type": "display_data"
    }
   ],
   "source": [
    "\n",
    "\n",
    "# Import reference results\n",
    "#reference_V = np.genfromtxt('BEN_V.csv')\n",
    "#reference_C = np.genfromtxt('BEN_C.csv')\n",
    "\n",
    "#os.mkdir('results_closed_form_with_reference')\n",
    "#os.chdir('results_closed_form_with_reference')\n",
    "\n",
    "matplotlib.rcParams.update({'legend.fontsize': 15, 'axes.labelsize': 14, 'axes.titlesize': 14})\n",
    "# Plot loss function (as sqrt)\n",
    "fig = plt.figure()\n",
    "plt.rc('text', usetex=True)\n",
    "plt.rc('font', family='sans-serif', serif = 'Computer Modern Sans serif')\n",
    "plt.plot(results, linewidth=1.0)\n",
    "plt.grid(alpha=0.2)\n",
    "plt.xscale('log')\n",
    "plt.yscale('log')\n",
    "plt.xlabel('Number of iterations')\n",
    "plt.ylabel('Loss')\n",
    "plt.title('Loss Evolution')\n",
    "plt.show()\n",
    "#fig.savefig('Loss.png')"
   ]
  },
  {
   "cell_type": "code",
   "execution_count": 45,
   "metadata": {},
   "outputs": [
    {
     "data": {
      "image/png": "[encoded data removed]",
      "text/plain": [
       "<Figure size 432x288 with 1 Axes>"
      ]
     },
     "metadata": {
      "needs_background": "light"
     },
     "output_type": "display_data"
    }
   ],
   "source": [
    "fig = plt.figure()\n",
    "plt.rc('text', usetex=True)\n",
    "plt.rc('font', family='sans-serif', serif = 'Computer Modern Sans serif')\n",
    "plt.plot(K, VF(K), color = \"tab:blue\", label = \"Neural Network Approximation\", linewidth = 3, linestyle=':')\n",
    "#plt.plot(K, reference_V, color= \"tab:orange\", label = \"Finite Difference Scheme\", linewidth = 3, linestyle=(0, (5, 2, 1, 2)), dash_capstyle='round')\n",
    "plt.grid(alpha=0.2)\n",
    "plt.xlabel('Capital')\n",
    "plt.ylabel('Value')\n",
    "plt.title('Value Function')\n",
    "plt.legend(loc = \"lower right\")\n",
    "plt.show()\n",
    "#fig.savefig('Value.png')"
   ]
  },
  {
   "cell_type": "code",
   "execution_count": 46,
   "metadata": {},
   "outputs": [
    {
     "data": {
      "image/png": "[encoded data removed]",
      "text/plain": [
       "<Figure size 432x288 with 1 Axes>"
      ]
     },
     "metadata": {
      "needs_background": "light"
     },
     "output_type": "display_data"
    }
   ],
   "source": [
    "# Plot consumption policy function\n",
    "fig = plt.figure()\n",
    "C = C(K, VF)\n",
    "plt.rc('text', usetex=True)\n",
    "plt.rc('font', family='sans-serif', serif = 'Computer Modern Sans serif')\n",
    "plt.plot(K, C.numpy(), color = \"tab:blue\", label = \"Neural Network Approximation\", linewidth = 3, linestyle=':')\n",
    "#plt.plot(K, reference_C, color= \"tab:orange\", label = \"Finite Difference Scheme\", linewidth = 3, linestyle=(0, (5, 2, 1, 2)), dash_capstyle='round')\n",
    "plt.grid(alpha=0.2)\n",
    "plt.xlabel('Capital')\n",
    "plt.ylabel('Consumption')\n",
    "plt.title('Consumption Policy Function')\n",
    "plt.legend(loc = \"lower right\")\n",
    "plt.show()\n",
    "#fig.savefig('Consumption.png')"
   ]
  },
  {
   "cell_type": "code",
   "execution_count": null,
   "metadata": {},
   "outputs": [],
   "source": []
  }
 ],
 "metadata": {
  "interpreter": {
   "hash": "4d884904bc29f7597ada18f51c2dced7caeac8d0bee2d87585de5946cf47cde2"
  },
  "kernelspec": {
   "display_name": "Python 3.9.1 64-bit",
   "name": "python3"
  },
  "language_info": {
   "codemirror_mode": {
    "name": "ipython",
    "version": 3
   },
   "file_extension": ".py",
   "mimetype": "text/x-python",
   "name": "python",
   "nbconvert_exporter": "python",
   "pygments_lexer": "ipython3",
   "version": "3.9.1"
  },
  "orig_nbformat": 4
 },
 "nbformat": 4,
 "nbformat_minor": 2
}
