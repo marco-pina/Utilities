{
 "cells": [
  {
   "cell_type": "markdown",
   "metadata": {},
   "source": [
    "**Content:** Aiyagari model with difussion process and Deep Learning\n",
    "\n",
    "**Author:** Marco Piña\n",
    "\n",
    "**Date:** Nov-2021"
   ]
  },
  {
   "cell_type": "code",
   "execution_count": 2,
   "metadata": {},
   "outputs": [],
   "source": [
    "import tensorflow as tf \n",
    "from tensorflow import keras"
   ]
  },
  {
   "cell_type": "code",
   "execution_count": 8,
   "metadata": {},
   "outputs": [
    {
     "data": {
      "text/plain": [
       "<tf.Tensor: shape=(3, 4), dtype=float32, numpy=\n",
       "array([[0.7951286 , 0.5510745 , 0.12180364, 0.89232135],\n",
       "       [0.5489644 , 0.40709484, 0.03784883, 0.14281535],\n",
       "       [0.47531617, 0.04792309, 0.20777798, 0.61168075]], dtype=float32)>"
      ]
     },
     "execution_count": 8,
     "metadata": {},
     "output_type": "execute_result"
    }
   ],
   "source": [
    "alpha = tf.constant(0.35)\n",
    "beta  = tf.constant(1.05**(-1/4))\n",
    "rho   = tf.constant(0.05)\n",
    "delta = tf.constant(0.1)\n",
    "gamma = tf.constant(2)\n",
    "phi   = tf.constant(-1)\n",
    "Delta = tf.constant(1000)\n",
    "Na    = tf.constant(100) #100\n",
    "Nz    = tf.constant(40) #40\n",
    "\n",
    "batchSize = 100                    # Batch Size\n",
    "number_epochs = 100000             # Number of epochs\n",
    "\n",
    "kMin = 0.1                         # lower bound of sample interval\n",
    "kMax = 10.0                        # upper bound of sample interval\n",
    "\n",
    "gridSize = 10000                  # Plotting grid"
   ]
  },
  {
   "cell_type": "code",
   "execution_count": 11,
   "metadata": {},
   "outputs": [
    {
     "data": {
      "text/plain": [
       "<tf.Tensor: shape=(4, 3), dtype=float32, numpy=\n",
       "array([[0.7951286 , 0.5489644 , 0.47531617],\n",
       "       [0.5510745 , 0.40709484, 0.04792309],\n",
       "       [0.12180364, 0.03784883, 0.20777798],\n",
       "       [0.89232135, 0.14281535, 0.61168075]], dtype=float32)>"
      ]
     },
     "execution_count": 11,
     "metadata": {},
     "output_type": "execute_result"
    }
   ],
   "source": [
    "#tf.reshape(tensor= array, shape = [4,3])\n",
    "tf.transpose(array)"
   ]
  }
 ],
 "metadata": {
  "interpreter": {
   "hash": "4d884904bc29f7597ada18f51c2dced7caeac8d0bee2d87585de5946cf47cde2"
  },
  "kernelspec": {
   "display_name": "Python 3.9.1 64-bit",
   "language": "python",
   "name": "python3"
  },
  "language_info": {
   "codemirror_mode": {
    "name": "ipython",
    "version": 3
   },
   "file_extension": ".py",
   "mimetype": "text/x-python",
   "name": "python",
   "nbconvert_exporter": "python",
   "pygments_lexer": "ipython3",
   "version": "3.9.1"
  },
  "orig_nbformat": 4
 },
 "nbformat": 4,
 "nbformat_minor": 2
}
