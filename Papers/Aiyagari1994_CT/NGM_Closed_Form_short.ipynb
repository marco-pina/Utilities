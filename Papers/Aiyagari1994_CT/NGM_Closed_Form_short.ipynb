{
 "cells": [
  {
   "cell_type": "markdown",
   "metadata": {
    "id": "nsOhKDxNTA5n"
   },
   "source": [
    "**Authors:** Maximilian J. Vogler, George L. Sorg-Langhans\t\t\t\t\t  \n",
    "**File Name:** NGM_Closed_Form\t\t\t\t\t\t\t\t\t\t\t\t  \n",
    "**Start Date:** 04/16/2020\t\t\t\t\t\t\t\t\t\t\t\t\t  \n",
    "**Last Modification Date:** 04/19/2020\t\t\t\t\t\t\t\t\t\t  \n",
    "**Purpose:** Run NGM code with closed-form solutions"
   ]
  },
  {
   "cell_type": "code",
   "execution_count": 6,
   "metadata": {
    "id": "6iSUUOFVLJDl"
   },
   "outputs": [],
   "source": [
    "globals().clear()\n",
    "## Import libraries\n",
    "import matplotlib\n",
    "import matplotlib.pyplot as plt\n",
    "import tensorflow as tf \n",
    "from tensorflow import keras\n",
    "import numpy as np \n",
    "import os\n",
    "from tqdm import trange\n",
    "\n",
    "# Switch of unnecessary TF warning messages\n",
    "os.environ['TF_CPP_MIN_LOG_LEVEL'] = '2'"
   ]
  },
  {
   "cell_type": "markdown",
   "metadata": {
    "id": "Xj1RyU-RPzQP"
   },
   "source": [
    "### Parameters"
   ]
  },
  {
   "cell_type": "code",
   "execution_count": 7,
   "metadata": {
    "id": "zfQ3P57oLR1g"
   },
   "outputs": [],
   "source": [
    "gamma = tf.constant(2.0)           # Curvature of the utility function\n",
    "rho   = tf.constant(0.04)          # Discount rate\n",
    "A     = tf.constant(0.5)          # TFP\n",
    "alpha = tf.constant(0.36)          # Returns to scale\n",
    "delta = tf.constant(0.05)          # Depreciation Rate of Capital\n",
    "\n",
    "batchSize = 100                    # Batch Size\n",
    "number_epochs = 100000             # Number of epochs\n",
    "\n",
    "kMin = 0.1                         # lower bound of sample interval\n",
    "kMax = 10.0                        # upper bound of sample interval\n",
    "gridSize = 10000                  # Plotting grid\n",
    "\n",
    "\n",
    "# Set global seed\n",
    "tf.random.set_seed(1234)\n",
    "np.random.seed(1234)\n",
    "\n",
    "# Value function initial guess\n",
    "initGuess = -60\n",
    "\n",
    "# Neural network optimizer\n",
    "optimizer = keras.optimizers.Adam()\n",
    "\n",
    "# Define plotting grid\n",
    "K = tf.cast(np.linspace(kMin, kMax, gridSize).reshape(gridSize, 1), tf.float32)"
   ]
  },
  {
   "cell_type": "markdown",
   "metadata": {
    "id": "G4JLBUz_P2sD"
   },
   "source": [
    "### Value Function Neural Network"
   ]
  },
  {
   "cell_type": "code",
   "execution_count": 8,
   "metadata": {
    "id": "0PB5n5dNLUUw"
   },
   "outputs": [],
   "source": [
    "def valueFnNeuralNet(nHidden = 3, nNeurons = 8):\n",
    "\n",
    "    model = keras.models.Sequential()\n",
    "\n",
    "    # Input layer\n",
    "    model.add(keras.layers.Dense(nNeurons, activation = \"tanh\", input_dim = 1))\n",
    "\n",
    "    # Hiden layers\n",
    "    for layer in range(nHidden - 1):\n",
    "        model.add(keras.layers.Dense(nNeurons, activation = \"tanh\"))\n",
    "    \n",
    "    # Output layer\n",
    "    model.add(keras.layers.Dense(1,bias_initializer = keras.initializers.Constant(value = initGuess)))\n",
    "    \n",
    "    return model\n",
    "\n",
    "def HJB(input, V):\n",
    "    VPrime = tf.gradients(V(input), input)[0]\n",
    "    VPrimemax = tf.maximum(VPrime, 1E-7)\t\t# dV/dk\n",
    "\n",
    "    Y = A * tf.pow(input, alpha)\t\t\t\t# Output\n",
    "\n",
    "    C = tf.pow(VPrimemax, (-1/gamma))\t\t\t# Consumption\n",
    "\n",
    "    I = Y - C \t\t\t\t\t\t\t\t\t# Investment\n",
    "\n",
    "    muK = I - delta * input  \t\t\t\t\t# Capital drift\n",
    "\n",
    "    U = tf.pow(C, 1-gamma) / (1-gamma) \t\t\t# Utility\n",
    "\n",
    "    HJB = U - rho * V(input) + tf.multiply(tf.stop_gradient(VPrimemax), muK)\n",
    "    return HJB \n",
    "\n",
    "def Objective(batchSize):\n",
    "    input = tf.random.uniform(shape = (batchSize,1), minval = kMin, maxval = kMax)\n",
    "    error = HJB(input, VF)\n",
    "    return tf.reduce_mean(tf.square(error))"
   ]
  },
  {
   "cell_type": "markdown",
   "metadata": {
    "id": "bPhV5meOQEBA"
   },
   "source": [
    "### Training components"
   ]
  },
  {
   "cell_type": "code",
   "execution_count": 9,
   "metadata": {
    "id": "K6tI65QCQA33"
   },
   "outputs": [],
   "source": [
    "################################ Training Step ################################\n",
    "\n",
    "# Need decorator to run in graph mode instead of eager exectution\n",
    "@tf.function\n",
    "def training_step():\n",
    "    with tf.GradientTape() as tape:\n",
    "        loss = Objective(batchSize)\n",
    "    grads = tape.gradient(loss, theta)\n",
    "    optimizer.apply_gradients(zip(grads, theta))\n",
    "    return loss\n",
    "\n",
    "################################ Training Loop ################################\n",
    "\n",
    "def train_model(epochs):\n",
    "    losses = []\n",
    "    for epoch in trange(epochs):\n",
    "        loss = training_step()\n",
    "        losses.append(loss.numpy())\n",
    "    return losses "
   ]
  },
  {
   "cell_type": "markdown",
   "metadata": {
    "id": "Mp6Z_dImQQGE"
   },
   "source": [
    "### Running"
   ]
  },
  {
   "cell_type": "code",
   "execution_count": 10,
   "metadata": {
    "colab": {
     "base_uri": "https://localhost:8080/"
    },
    "id": "6oM4fPf4QO8q",
    "outputId": "dcd5af75-2d83-4a78-8462-a933bf15d9d9"
   },
   "outputs": [
    {
     "name": "stderr",
     "output_type": "stream",
     "text": [
      "100%|██████████| 100000/100000 [00:32<00:00, 3091.22it/s]\n"
     ]
    }
   ],
   "source": [
    "# Set up neural network\n",
    "VF = valueFnNeuralNet()\n",
    "\n",
    "# Define trainable network parameters\n",
    "theta = VF.trainable_variables\n",
    "\n",
    "# Run Model (and output loss evolution) \n",
    "results = train_model(number_epochs)"
   ]
  },
  {
   "cell_type": "markdown",
   "metadata": {
    "id": "xKXKPe5RPsJC"
   },
   "source": [
    "### Plot loss function (as sqrt)"
   ]
  },
  {
   "cell_type": "code",
   "execution_count": 11,
   "metadata": {
    "colab": {
     "base_uri": "https://localhost:8080/",
     "height": 286
    },
    "id": "LexuekCULqED",
    "outputId": "b6543df0-0a55-4b5f-ad58-37d9e316ed89"
   },
   "outputs": [
    {
     "data": {
      "image/png": "[encoded data removed]",
      "text/plain": [
       "<Figure size 432x288 with 1 Axes>"
      ]
     },
     "metadata": {
      "needs_background": "light"
     },
     "output_type": "display_data"
    }
   ],
   "source": [
    "fig = plt.figure()\n",
    "plt.plot(results, linewidth=1.0)\n",
    "plt.grid(alpha=0.2)\n",
    "plt.xscale('log')\n",
    "plt.yscale('log')\n",
    "plt.xlabel('Number of iterations')\n",
    "plt.ylabel('Loss')\n",
    "plt.show()"
   ]
  },
  {
   "cell_type": "markdown",
   "metadata": {
    "id": "tswN-oemPlfR"
   },
   "source": [
    "### Plot value function"
   ]
  },
  {
   "cell_type": "code",
   "execution_count": 12,
   "metadata": {
    "colab": {
     "base_uri": "https://localhost:8080/",
     "height": 279
    },
    "id": "KwbLdigOMKy7",
    "outputId": "26d210bf-5671-4c06-941a-c125b40f272c"
   },
   "outputs": [
    {
     "data": {
      "image/png": "[encoded data removed]",
      "text/plain": [
       "<Figure size 432x288 with 1 Axes>"
      ]
     },
     "metadata": {
      "needs_background": "light"
     },
     "output_type": "display_data"
    }
   ],
   "source": [
    "fig = plt.figure()\n",
    "plt.plot(K, VF(K), color = \"tab:blue\", label = \"Neural Network Approximation\", linewidth = 3, linestyle=':')\n",
    "plt.grid(alpha=0.2)\n",
    "plt.xlabel('Capital')\n",
    "plt.ylabel('Value')\n",
    "plt.legend(loc = \"lower right\")\n",
    "plt.show()"
   ]
  }
 ],
 "metadata": {
  "colab": {
   "name": "NGM_Closed_Form.ipynb",
   "provenance": []
  },
  "kernelspec": {
   "display_name": "Python 3",
   "language": "python",
   "name": "python3"
  },
  "language_info": {
   "codemirror_mode": {
    "name": "ipython",
    "version": 3
   },
   "file_extension": ".py",
   "mimetype": "text/x-python",
   "name": "python",
   "nbconvert_exporter": "python",
   "pygments_lexer": "ipython3",
   "version": "3.9.1"
  }
 },
 "nbformat": 4,
 "nbformat_minor": 1
}
