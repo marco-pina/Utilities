{
 "cells": [
  {
   "cell_type": "code",
   "execution_count": 1,
   "metadata": {},
   "outputs": [],
   "source": [
    "import pandas as pd\n",
    "import numpy as np\n",
    "from scipy.stats import norm\n",
    "from scipy.stats import truncnorm\n",
    "from scipy.integrate import quad\n",
    "from scipy.optimize import bisect\n",
    "from numba import njit\n",
    "from interpolation import interp"
   ]
  },
  {
   "cell_type": "code",
   "execution_count": 11,
   "metadata": {},
   "outputs": [],
   "source": [
    "class BCG_incomplete_markets:\n",
    "    # init method or constructor\n",
    "    def __init__(self,\n",
    "                chi1    = 0,\n",
    "                chi2    = 0.9,\n",
    "                w10     = 0.9,\n",
    "                w20     = 1.1,\n",
    "                theta10 = 0.5,\n",
    "                theta20 = 0.5,\n",
    "                psi1    = 3,\n",
    "                psi2    = 3,\n",
    "                alpha   = 0.6,\n",
    "                A       = 2.5,\n",
    "                mu      = -0.025,\n",
    "                sigma   = 0.4,\n",
    "                beta    = 0.96,\n",
    "                bound   = 3,\n",
    "                Vl      = 0,\n",
    "                Vh      = 0.5,\n",
    "                kbot    = 0.01,\n",
    "                #ktop = (alpha*A)**(1/(1-alpha)),\n",
    "                ktop    = 0.25,\n",
    "                bbot    = 0.1,\n",
    "                btop    = 0.8):\n",
    "        #=========== Setup ===========#\n",
    "        # Risk parameters\n",
    "        self.chi1  = chi1\n",
    "        self.chi2  = chi2\n",
    "        # Other parameters\n",
    "        self.psi1  = psi1\n",
    "        self.psi2  = psi2\n",
    "        self.alpha = alpha \n",
    "        self.A     = A\n",
    "        self.mu    = mu \n",
    "        self.sigma = sigma\n",
    "        self.beta  = beta\n",
    "        self.bound = bound\n",
    "        # Bounds for firm value, capital, and debt\n",
    "        self.Vl    = Vl\n",
    "        self.Vh    = Vh\n",
    "        self.kbot  = kbot\n",
    "        #self.kbot = (*A)**(1/(1-))\n",
    "        self.ktop  = ktop\n",
    "        self.bbot  = bbot\n",
    "        self.btop  = btop\n",
    "        # Utility\n",
    "        self.u     = njit(lambda c: (c**(1-psi)) / (1-psi))\n",
    "        # Initial endowments\n",
    "        self.w10   = w10\n",
    "        self.w20   = w20\n",
    "        self.w0    = w10 + w20\n",
    "        # Initial holdings\n",
    "        self.theta10 = theta10\n",
    "        self.theta20 = theta20\n",
    "        # Endowments at t=1\n",
    "        self.w11 = njit(lambda epsilon: np.exp(-chi1*mu - 0.5*(chi1**2)*(sigma**2) + chi1*epsilon))\n",
    "        self.w21 = njit(lambda epsilon: np.exp(-chi2*mu - 0.5*(chi2**2)*(sigma**2) + chi2*epsilon))\n",
    "        self.w1  = njit(lambda epsilon: self.w11(epsilon) + self.w21(epsilon))\n",
    "        # Truncated normal\n",
    "        ta, tb = (-bound - mu) / sigma , (bound - mu) / sigma \n",
    "        rv = truncnorm(ta, tb, loc=mu, scale=sigma)\n",
    "        eps_range = np.linspace(ta, tb, 1000000)\n",
    "        pdf_range = rv.pdf(eps_range)\n",
    "        self.g = njit(lambda epsilon: interp(eps_range, pdf_range, epsilon ))\n",
    "    #*************************************************************\n",
    "    # Function: Solve for equilibrium of the BCG model\n",
    "    #*************************************************************\n",
    "    def solve_eq(self, print_crit=True):\n",
    "        # Load parameters\n",
    "        psi1    = self.psi1\n",
    "        psi2    = self.psi2\n",
    "        alpha   = self.alpha\n",
    "        A       = self.A\n",
    "        beta    = self.beta\n",
    "        bound   = self.bound\n",
    "        Vl      = self.Vl\n",
    "        Vh      = self.Vh\n",
    "        kbot    = self.kbot\n",
    "        ktop    = self.ktop\n",
    "        bbot    = self.bbot\n",
    "        btop    = self.btop\n",
    "        w10     = self.w10\n",
    "        w20     = self.w20\n",
    "        theta10 = self.theta10\n",
    "        theta20 = self.theta20\n",
    "        w11     = self.w11\n",
    "        w21     = self.w21\n",
    "        g       = self.g\n",
    "\n",
    "        # We need to find a fixed point on the value of the firm\n",
    "        V_crit = 1\n",
    "\n",
    "        Y      = njit(lambda epsilon, fk: np.exp(epsilon)*fk)\n",
    "        intqq1 = njit(lambda epsilon, fk, theta1, psi1, b: (w11(epsilon) + theta1*(Y(epsilon, fk) - b))**(-psi1)*(Y(epsilon, fk) - b)*g(epsilon))\n",
    "        intp1  = njit(lambda epsilon, fk, psi2, b: (Y(epsilon, fk)/b)*(w21(epsilon) + Y(epsilon, fk))**(-psi2)*g(epsilon))\n",
    "        intp2  = njit(lambda epsilon, fk, theta2, psi2, b: (w21(epsilon) + theta2*(Y(epsilon, fk)-b) + b)**(-psi2)*g(epsilon))\n",
    "        intqq2 = njit(lambda epsilon, fk, theta2, psi2, b: (w21(epsilon) + theta2*(Y(epsilon, fk)-b) + b)**(-psi2)*(Y(epsilon, fk) - b)*g(epsilon))\n",
    "        intk1  = njit(lambda epsilon, fk, psi2: (w21(epsilon) + Y(epsilon, fk))**(-psi2)*np.exp(epsilon)*g(epsilon))\n",
    "        intk2  = njit(lambda epsilon, fk, theta2, psi2, b: (w21(epsilon) + theta2*(Y(epsilon, fk)-b) + b)**(-psi2)*np.exp(epsilon)*g(epsilon))\n",
    "        intB1  = njit(lambda epsilon, fk, theta1, psi1, b: (w11(epsilon) + theta1*(Y(epsilon, fk) - b))**(-psi1)*g(epsilon))\n",
    "        intB2  = njit(lambda epsilon, fk, theta2, psi2, b: (w21(epsilon) + theta2*(Y(epsilon, fk) - b) + b)**(-psi2)*g(epsilon))\n",
    "        while V_crit>1e-4:\n",
    "            # We begin by adding the guess for the value of the firm to endowment\n",
    "            V = (Vl+Vh)/2\n",
    "            ww10 = w10 + theta10*V\n",
    "            ww20 = w20 + theta20*V\n",
    "            # Figure out the optimal level of debt\n",
    "            bl = bbot\n",
    "            bh = btop\n",
    "            b_crit=1\n",
    "            while b_crit>1e-5:\n",
    "                # Setting the conjecture for debt\n",
    "                b = (bl+bh)/2\n",
    "                # Figure out the optimal level of capital\n",
    "                kl = kbot\n",
    "                kh = ktop\n",
    "                k_crit=1\n",
    "                while k_crit>1e-5:\n",
    "                    # Setting the conjecture for capital\n",
    "                    k = (kl+kh)/2\n",
    "                    # Production\n",
    "                    fk = A*(k**alpha)\n",
    "                    # Y = lambda : np.exp()*fk\n",
    "                    # Compute integration threshold\n",
    "                    epstar = np.log(b/fk)\n",
    "                    #**************************************************************\n",
    "                    # Compute the prices and allocations consistent with consumers'\n",
    "                    # Euler equations\n",
    "                    #**************************************************************\n",
    "                    # We impose the following:\n",
    "                    # Agent 1 buys equity\n",
    "                    # Agent 2 buys equity and all debt\n",
    "                    # Agents trade such that prices converge\n",
    "                    #========\n",
    "                    # Agent 1\n",
    "                    #========\n",
    "                    # Holdings\n",
    "                    xi1 = 0\n",
    "                    theta1a = 0.3\n",
    "                    theta1b = 1\n",
    "                    while abs(theta1b - theta1a) > 0.001:\n",
    "                        theta1 = (theta1a + theta1b) / 2\n",
    "                        # qq1 is the equity price consistent with agent-1 Euler␣Equation\n",
    "                        ## Note: Price is in the date-0 budget constraint of the agent\n",
    "                        ## First, compute the constant term that is not influenced by␣q\n",
    "                        ## that is, E[u'(c^{1}_{1})d^{e}(k,B)]\n",
    "                        # intqq1 = lambda : (w11(epsilon) + 1*(Y(epsilon, fk) - b))**(-1)*(Y(epsilon,fk) - b)*g(epsilon)\n",
    "                        # const_qq1 =  beta * quad(intqq1,epstar,bound)[0]\n",
    "                        const_qq1 = beta * quad(intqq1,epstar,bound, args=(fk, theta1, psi1,b))[0]\n",
    "                        ## Second, iterate to get the equity price q\n",
    "                        qq1l = 0\n",
    "                        qq1h = ww10\n",
    "                        diff = 1\n",
    "                        while diff > 1e-7:\n",
    "                            qq1 = (qq1l+qq1h)/2\n",
    "                            rhs = const_qq1/((ww10-qq1*theta1)**(-psi1))\n",
    "                            if (rhs > qq1):\n",
    "                                qq1l = qq1\n",
    "                            else:\n",
    "                                qq1h = qq1\n",
    "                            diff = abs(qq1l-qq1h)\n",
    "                        #========\n",
    "                        # Agent 2\n",
    "                        #========\n",
    "                        xi2 = b - xi1\n",
    "                        theta2 = 1 - theta1\n",
    "                        # p is the bond price consistent with agent-2 Euler Equation\n",
    "                        ## Note: Price is in the date-0 budget constraint of the agent\n",
    "                        ## First, compute the constant term that is not influenced by␣\n",
    "                        ## that is, E[u'(c^{2}_{1})d^{b}(k,B)]\n",
    "                        # intp1 = lambda : (Y(, fk)/b)*(w21() + Y(, fk))**(-2)*g()\n",
    "                        # intp2 = lambda : (w21() + 2*(Y(, fk)-b) + b)**(-2)*g()\n",
    "                        # const_p =  * (quad(intp1,-bound,epstar)[0] + quad(intp2,epstar,bound)[0])\n",
    "                        const_p =  beta * (quad(intp1,-bound,epstar, args=(fk, psi2, b))[0]\\\n",
    "                                            + quad(intp2,epstar,bound, args=(fk, theta2, psi2,b))[0])\n",
    "                        ## iterate to get the bond price p\n",
    "                        pl = 0\n",
    "                        ph = ww20/b\n",
    "                        diff = 1\n",
    "                        while diff > 1e-7:\n",
    "                            p = (pl+ph)/2\n",
    "                            rhs = const_p/((ww20-qq1*theta2-p*b)**(-psi2))\n",
    "                            if (rhs > p):\n",
    "                                pl = p\n",
    "                            else:\n",
    "                                ph = p\n",
    "                            diff = abs(pl-ph)\n",
    "                        # qq2 is the equity price consistent with agent-2 Euler␣Equation\n",
    "                        # intqq2 = lambda : (w21() + 2*(Y(, fk)-b) + b)**(-2)*(Y(, fk) - b)*g()\n",
    "                        const_qq2 =  beta * quad(intqq2,epstar,bound, args=(fk, theta2, psi2,b))[0]\n",
    "                        qq2l = 0\n",
    "                        qq2h = ww20\n",
    "                        diff = 1\n",
    "                        while diff > 1e-7:\n",
    "                            qq2 = (qq2l+qq2h)/2\n",
    "                            rhs = const_qq2/((ww20-qq2*theta2-p*b)**(-psi2))\n",
    "                            if (rhs > qq2):\n",
    "                                qq2l = qq2\n",
    "                            else:\n",
    "                                qq2h = qq2\n",
    "                            diff = abs(qq2l-qq2h)\n",
    "                        # q be the maximum valuation for the equity among agents\n",
    "                        ## This will be the equity price based on Makowski's criterion\n",
    "                        q = max(qq1,qq2)\n",
    "                        #================\n",
    "                        # Update holdings\n",
    "                        #================\n",
    "                        if qq1 > qq2:\n",
    "                            theta1a = theta1\n",
    "                        else:\n",
    "                            theta1b = theta1\n",
    "                    #================\n",
    "                    # Get consumption\n",
    "                    #================\n",
    "                    c10 = ww10 - q*theta1\n",
    "                    c11 = lambda epsilon: w11(epsilon) + theta1*max(Y(epsilon, fk)-b,0)\n",
    "                    c20 = ww20 - q*(1-theta1) - p*b\n",
    "                    c21 = lambda epsilon: w21(epsilon) + (1-theta1)*max(Y(epsilon, fk)-b,0) + min(Y(epsilon, fk),b)\n",
    "                    #*************************************************\n",
    "                    # Compute the first order conditions for the firm\n",
    "                    #*************************************************\n",
    "                    #===========\n",
    "                    # Equity FOC\n",
    "                    #===========\n",
    "                    # Only agent 2's IMRS is relevent\n",
    "                    # intk1 = lambda epsilon: (w21(epsilon) + Y(epsilon, fk))**(-psi2)*np.exp(epsilon)*g(epsilon)\n",
    "                    # intk2 = lambda epsilon: (w21(epsilon) + theta2*(Y(epsilon, fk)-b) + b)**(-psi2)*np.exp(epsilon)*g(epsilon)\n",
    "                    # kfoc_num = quad(intk1,-bound,epstar)[0] + quad(intk2,epstar,bound)[0]\n",
    "                    kfoc_num = quad(intk1,-bound,epstar, args=(fk, psi2))[0] + quad(intk2,epstar,bound, args=(fk, theta2, psi2, b))[0]\n",
    "                    kfoc_denom = (ww20- q*theta2 - p*b)**(-psi2)\n",
    "                    kfoc = beta*alpha*A*(k**(alpha-1))*(kfoc_num/kfoc_denom) - 1\n",
    "                    if (kfoc > 0):\n",
    "                        kl = k\n",
    "                    else:\n",
    "                        kh = k\n",
    "                    k_crit = abs(kh-kl)\n",
    "                    if print_crit:\n",
    "                        print(\"critical value of k: {:.5f}\".format(k_crit))\n",
    "                #=========\n",
    "                # Bond FOC\n",
    "                #=========\n",
    "                # intB1 = lambda : (w11() + 1*(Y(, fk) - b))**(-1)*g()\n",
    "                # intB2 = lambda : (w21() + 2*(Y(, fk) - b) + b)**(-2)*g()\n",
    "                # bfoc1 = quad(intB1,epstar,bound)[0] / (ww10 - q*1)**(-1)\n",
    "                # bfoc2 = quad(intB2,epstar,bound)[0] / (ww20 - q*2 - p*b)**(-2)\n",
    "                bfoc1 = quad(intB1,epstar,bound, args=(fk, theta1, psi1, b))[0] / (ww10 -q*theta1)**(-psi1)\n",
    "                bfoc2 = quad(intB2,epstar,bound, args=(fk, theta2, psi2, b))[0] / (ww20 -q*theta2 - p*b)**(-psi2)\n",
    "                bfoc = bfoc1 - bfoc2\n",
    "                if (bfoc > 0):\n",
    "                    bh = b\n",
    "                else:\n",
    "                    bl = b\n",
    "                b_crit = abs(bh-bl)\n",
    "                if print_crit:\n",
    "                    print(\"#=== critical value of b: {:.5f}\".format(b_crit))\n",
    "            # Compute the value of the firm\n",
    "            value_x = -k + q + p*b\n",
    "            if (value_x > V):\n",
    "                Vl = V\n",
    "            else:\n",
    "                Vh = V\n",
    "            V_crit = abs(value_x-V)\n",
    "            if print_crit:\n",
    "                print(\"#====== critical value of V: {:.5f}\".format(V_crit))\n",
    "            print('k,b,p,q,kfoc,bfoc,epstar,V,V_crit')\n",
    "            formattedList = [\"%.3f\" % member for member in [k,\n",
    "                                                            b,\n",
    "                                                            p,\n",
    "                                                            q,\n",
    "                                                            kfoc,\n",
    "                                                            bfoc,\n",
    "                                                            epstar,\n",
    "                                                            V,\n",
    "                                                            V_crit]]\n",
    "            print(formattedList)\n",
    "        #*********************************\n",
    "        # Equilibrium values\n",
    "        #*********************************\n",
    "        # Return the results\n",
    "        kss = k\n",
    "        bss = b\n",
    "        Vss = V\n",
    "        qss = q\n",
    "        pss = p\n",
    "        c10ss = c10\n",
    "        c11ss = c11\n",
    "        c20ss = c20\n",
    "        c21ss = c21\n",
    "        theta1ss = theta1\n",
    "        # Print the results\n",
    "        print('finished')\n",
    "        # print('k,b,p,q,kfoc,bfoc,epstar,V,V_crit')\n",
    "        #formattedList = [\"%.3f\" % member for member in [kss,\n",
    "        # bss,\n",
    "        # pss,\n",
    "        # qss,\n",
    "        # kfoc,\n",
    "        # bfoc,\n",
    "        # epstar,\n",
    "        # Vss,\n",
    "        # V_crit]]\n",
    "        #print(formattedList)\n",
    "        return kss,bss,Vss,qss,pss,c10ss,c11ss,c20ss,c21ss,theta1ss\n",
    "    #*************************************************************\n",
    "    # Function: Equity and bond valuations by different agents\n",
    "    #*************************************************************\n",
    "    def valuations_by_agent(self,\n",
    "                            c10, c11, c20, c21,\n",
    "                            k, b):\n",
    "        # Load parameters\n",
    "        psi1    = self.psi1\n",
    "        psi2    = self.psi2\n",
    "        alpha   = self.alpha\n",
    "        A       = self.A\n",
    "        beta    = self.beta\n",
    "        bound   = self.bound\n",
    "        Vl      = self.Vl\n",
    "        Vh      = self.Vh\n",
    "        kbot    = self.kbot\n",
    "        ktop    = self.ktop\n",
    "        bbot    = self.bbot\n",
    "        btop    = self.btop\n",
    "        w10     = self.w10\n",
    "        w20     = self.w20\n",
    "        theta10 = self.theta10\n",
    "        theta20 = self.theta20\n",
    "        w11     = self.w11\n",
    "        w21     = self.w21\n",
    "        g       = self.g\n",
    "        # Get functions for IMRS/state price density\n",
    "        IMRS1 = lambda epsilon: beta * (c11(epsilon)/c10)**(-psi1)*g(epsilon)\n",
    "        IMRS2 = lambda epsilon: beta * (c21(epsilon)/c20)**(-psi2)*g(epsilon)\n",
    "        # Production\n",
    "        fk = A*(k**alpha)\n",
    "        Y = lambda epsilon: np.exp(epsilon)*fk\n",
    "        # Compute integration threshold\n",
    "        epstar = np.log(b/fk)\n",
    "        # Compute equity valuation with agent 1's IMRS\n",
    "        intQ1 = lambda epsilon: IMRS1(epsilon)*(Y(epsilon) - b)\n",
    "        Q1 = quad(intQ1, epstar, bound)[0]\n",
    "        # Compute bond valuation with agent 1's IMRS\n",
    "        intP1 = lambda epsilon: IMRS1(epsilon)*Y(epsilon)/b\n",
    "        P1 = quad(intP1, -bound, epstar)[0] + quad(IMRS1, epstar, bound)[0]\n",
    "        # Compute equity valuation with agent 2's IMRS\n",
    "        intQ2 = lambda epsilon: IMRS2(epsilon)*(Y(epsilon) - b)\n",
    "        Q2 = quad(intQ2, epstar, bound)[0]\n",
    "        # Compute bond valuation with agent 2's IMRS\n",
    "        intP2 = lambda epsilon: IMRS2(epsilon)*Y(epsilon)/b\n",
    "        P2 = quad(intP2, -bound, epstar)[0] + quad(IMRS2, epstar, bound)[0]\n",
    "        return Q1,Q2,P1,P2\n",
    "    #*************************************************************\n",
    "    # Function: equilibrium valuations for firm, equity, bond\n",
    "    #*************************************************************\n",
    "    def eq_valuation(self, c10, c11, c20, c21, N=30):\n",
    "        # Load parameters\n",
    "        psi1    = self.psi1\n",
    "        psi2    = self.psi2\n",
    "        alpha   = self.alpha\n",
    "        A       = self.A\n",
    "        beta    = self.beta\n",
    "        bound   = self.bound\n",
    "        Vl      = self.Vl\n",
    "        Vh      = self.Vh\n",
    "        kbot    = self.kbot\n",
    "        ktop    = self.ktop\n",
    "        bbot    = self.bbot\n",
    "        btop    = self.btop\n",
    "        w10     = self.w10\n",
    "        w20     = self.w20\n",
    "        theta10 = self.theta10\n",
    "        theta20 = self.theta20\n",
    "        w11     = self.w11\n",
    "        w21     = self.w21\n",
    "        g       = self.g\n",
    "        # Create grids\n",
    "        kgrid, bgrid = np.meshgrid(np.linspace(kbot,ktop,N),\n",
    "                                   np.linspace(bbot,btop,N))\n",
    "        Vgrid = np.zeros_like(kgrid)\n",
    "        Qgrid = np.zeros_like(kgrid)\n",
    "        Pgrid = np.zeros_like(kgrid)\n",
    "        # Loop: firm value\n",
    "        for i in range(N):\n",
    "            for j in range(N):\n",
    "                # Get capital and debt\n",
    "                k = kgrid[i,j]\n",
    "                b = bgrid[i,j]\n",
    "                # Valuations by each agent\n",
    "                Q1,Q2,P1,P2 = self.valuations_by_agent(c10,\n",
    "                                                        c11,\n",
    "                                                        c20,\n",
    "                                                        c21,\n",
    "                                                        k,\n",
    "                                                        b)\n",
    "                # The prices will be the maximum of the valuations\n",
    "                Q = max(Q1,Q2)\n",
    "                P = max(P1,P2)\n",
    "                # Compute firm value\n",
    "                V = -k + Q + P*b\n",
    "                Vgrid[i,j] = V\n",
    "                Qgrid[i,j] = Q\n",
    "                Pgrid[i,j] = P\n",
    "        return kgrid, bgrid, Vgrid, Qgrid, Pgrid"
   ]
  },
  {
   "cell_type": "code",
   "execution_count": 12,
   "metadata": {},
   "outputs": [],
   "source": [
    "mdl = BCG_incomplete_markets()\n",
    "#kss,bss,Vss,qss,pss,c10ss,c11ss,c20ss,c21ss,theta1ss = mdl.solve_eq(print_crit=False)"
   ]
  },
  {
   "cell_type": "code",
   "execution_count": 13,
   "metadata": {},
   "outputs": [
    {
     "name": "stdout",
     "output_type": "stream",
     "text": [
      "k,b,p,q,kfoc,bfoc,epstar,V,V_crit\n",
      "['0.178', '0.503', '0.407', '0.092', '0.000', '-0.000', '-0.568', '0.250', '0.131']\n",
      "k,b,p,q,kfoc,bfoc,epstar,V,V_crit\n",
      "['0.155', '0.487', '0.381', '0.073', '0.000', '0.000', '-0.518', '0.125', '0.021']\n",
      "k,b,p,q,kfoc,bfoc,epstar,V,V_crit\n",
      "['0.144', '0.479', '0.368', '0.065', '0.000', '0.000', '-0.492', '0.062', '0.034']\n",
      "k,b,p,q,kfoc,bfoc,epstar,V,V_crit\n",
      "['0.150', '0.484', '0.374', '0.069', '0.000', '-0.000', '-0.504', '0.094', '0.006']\n",
      "k,b,p,q,kfoc,bfoc,epstar,V,V_crit\n",
      "['0.153', '0.486', '0.377', '0.071', '0.000', '-0.000', '-0.510', '0.109', '0.008']\n",
      "k,b,p,q,kfoc,bfoc,epstar,V,V_crit\n",
      "['0.151', '0.484', '0.376', '0.070', '0.000', '0.000', '-0.508', '0.102', '0.001']\n",
      "k,b,p,q,kfoc,bfoc,epstar,V,V_crit\n",
      "['0.151', '0.483', '0.375', '0.070', '-0.000', '0.000', '-0.507', '0.098', '0.003']\n",
      "k,b,p,q,kfoc,bfoc,epstar,V,V_crit\n",
      "['0.151', '0.484', '0.375', '0.070', '0.000', '-0.000', '-0.507', '0.100', '0.001']\n",
      "k,b,p,q,kfoc,bfoc,epstar,V,V_crit\n",
      "['0.151', '0.484', '0.376', '0.070', '0.000', '0.000', '-0.507', '0.101', '0.000']\n",
      "k,b,p,q,kfoc,bfoc,epstar,V,V_crit\n",
      "['0.151', '0.484', '0.376', '0.070', '0.000', '0.000', '-0.508', '0.101', '0.000']\n",
      "k,b,p,q,kfoc,bfoc,epstar,V,V_crit\n",
      "['0.151', '0.484', '0.376', '0.070', '-0.000', '-0.000', '-0.507', '0.101', '0.000']\n",
      "finished\n",
      "0.10073912888808995\n",
      "0.100830078125\n",
      "0.98564453125\n"
     ]
    }
   ],
   "source": [
    "kss,bss,Vss,qss,pss,c10ss,c11ss,c20ss,c21ss,theta1ss = mdl.solve_eq(print_crit=False)\n",
    "print(-kss+qss+pss*bss)\n",
    "print(Vss)\n",
    "print(theta1ss)"
   ]
  },
  {
   "cell_type": "code",
   "execution_count": 14,
   "metadata": {},
   "outputs": [
    {
     "name": "stdout",
     "output_type": "stream",
     "text": [
      "Maximum valuation of the firm value in the (k,B) grid: 0.10074\n",
      "Equilibrium firm value: 0.10083\n"
     ]
    }
   ],
   "source": [
    "kgrid, bgrid, Vgrid, Qgrid, Pgrid = mdl.eq_valuation(c10ss, c11ss, c20ss, c21ss,N=30)\n",
    "print('Maximum valuation of the firm value in the (k,B) grid: {:.5f}'.format(Vgrid.max()))\n",
    "print('Equilibrium firm value: {:.5f}'.format(Vss))"
   ]
  },
  {
   "cell_type": "code",
   "execution_count": 15,
   "metadata": {},
   "outputs": [],
   "source": [
    "from IPython.display import Image\n",
    "import matplotlib.pyplot as plt\n",
    "from mpl_toolkits import mplot3d\n",
    "import plotly.graph_objs as go"
   ]
  },
  {
   "cell_type": "code",
   "execution_count": 16,
   "metadata": {},
   "outputs": [
    {
     "data": {
      "application/vnd.plotly.v1+json": {
       "config": {
        "plotlyServerURL": "https://plot.ly"
       },
       "data": [
        {
         "marker": {
          "color": "red",
          "size": 3
         },
         "mode": "markers",
         "type": "scatter3d",
         "x": [
          0.15111572265625
         ],
         "y": [
          0.4843666076660157
         ],
         "z": [
          0.100830078125
         ]
        },
        {
         "colorscale": [
          [
           0,
           "rgb(247,251,255)"
          ],
          [
           0.125,
           "rgb(222,235,247)"
          ],
          [
           0.25,
           "rgb(198,219,239)"
          ],
          [
           0.375,
           "rgb(158,202,225)"
          ],
          [
           0.5,
           "rgb(107,174,214)"
          ],
          [
           0.625,
           "rgb(66,146,198)"
          ],
          [
           0.75,
           "rgb(33,113,181)"
          ],
          [
           0.875,
           "rgb(8,81,156)"
          ],
          [
           1,
           "rgb(8,48,107)"
          ]
         ],
         "opacity": 0.6,
         "type": "surface",
         "x": [
          [
           0.01,
           0.018275862068965518,
           0.026551724137931033,
           0.034827586206896556,
           0.04310344827586207,
           0.05137931034482759,
           0.05965517241379311,
           0.06793103448275863,
           0.07620689655172413,
           0.08448275862068966,
           0.09275862068965517,
           0.10103448275862069,
           0.10931034482758621,
           0.11758620689655172,
           0.12586206896551724,
           0.13413793103448277,
           0.1424137931034483,
           0.1506896551724138,
           0.15896551724137933,
           0.16724137931034483,
           0.17551724137931035,
           0.18379310344827587,
           0.1920689655172414,
           0.20034482758620692,
           0.20862068965517244,
           0.21689655172413794,
           0.22517241379310346,
           0.23344827586206898,
           0.2417241379310345,
           0.25
          ],
          [
           0.01,
           0.018275862068965518,
           0.026551724137931033,
           0.034827586206896556,
           0.04310344827586207,
           0.05137931034482759,
           0.05965517241379311,
           0.06793103448275863,
           0.07620689655172413,
           0.08448275862068966,
           0.09275862068965517,
           0.10103448275862069,
           0.10931034482758621,
           0.11758620689655172,
           0.12586206896551724,
           0.13413793103448277,
           0.1424137931034483,
           0.1506896551724138,
           0.15896551724137933,
           0.16724137931034483,
           0.17551724137931035,
           0.18379310344827587,
           0.1920689655172414,
           0.20034482758620692,
           0.20862068965517244,
           0.21689655172413794,
           0.22517241379310346,
           0.23344827586206898,
           0.2417241379310345,
           0.25
          ],
          [
           0.01,
           0.018275862068965518,
           0.026551724137931033,
           0.034827586206896556,
           0.04310344827586207,
           0.05137931034482759,
           0.05965517241379311,
           0.06793103448275863,
           0.07620689655172413,
           0.08448275862068966,
           0.09275862068965517,
           0.10103448275862069,
           0.10931034482758621,
           0.11758620689655172,
           0.12586206896551724,
           0.13413793103448277,
           0.1424137931034483,
           0.1506896551724138,
           0.15896551724137933,
           0.16724137931034483,
           0.17551724137931035,
           0.18379310344827587,
           0.1920689655172414,
           0.20034482758620692,
           0.20862068965517244,
           0.21689655172413794,
           0.22517241379310346,
           0.23344827586206898,
           0.2417241379310345,
           0.25
          ],
          [
           0.01,
           0.018275862068965518,
           0.026551724137931033,
           0.034827586206896556,
           0.04310344827586207,
           0.05137931034482759,
           0.05965517241379311,
           0.06793103448275863,
           0.07620689655172413,
           0.08448275862068966,
           0.09275862068965517,
           0.10103448275862069,
           0.10931034482758621,
           0.11758620689655172,
           0.12586206896551724,
           0.13413793103448277,
           0.1424137931034483,
           0.1506896551724138,
           0.15896551724137933,
           0.16724137931034483,
           0.17551724137931035,
           0.18379310344827587,
           0.1920689655172414,
           0.20034482758620692,
           0.20862068965517244,
           0.21689655172413794,
           0.22517241379310346,
           0.23344827586206898,
           0.2417241379310345,
           0.25
          ],
          [
           0.01,
           0.018275862068965518,
           0.026551724137931033,
           0.034827586206896556,
           0.04310344827586207,
           0.05137931034482759,
           0.05965517241379311,
           0.06793103448275863,
           0.07620689655172413,
           0.08448275862068966,
           0.09275862068965517,
           0.10103448275862069,
           0.10931034482758621,
           0.11758620689655172,
           0.12586206896551724,
           0.13413793103448277,
           0.1424137931034483,
           0.1506896551724138,
           0.15896551724137933,
           0.16724137931034483,
           0.17551724137931035,
           0.18379310344827587,
           0.1920689655172414,
           0.20034482758620692,
           0.20862068965517244,
           0.21689655172413794,
           0.22517241379310346,
           0.23344827586206898,
           0.2417241379310345,
           0.25
          ],
          [
           0.01,
           0.018275862068965518,
           0.026551724137931033,
           0.034827586206896556,
           0.04310344827586207,
           0.05137931034482759,
           0.05965517241379311,
           0.06793103448275863,
           0.07620689655172413,
           0.08448275862068966,
           0.09275862068965517,
           0.10103448275862069,
           0.10931034482758621,
           0.11758620689655172,
           0.12586206896551724,
           0.13413793103448277,
           0.1424137931034483,
           0.1506896551724138,
           0.15896551724137933,
           0.16724137931034483,
           0.17551724137931035,
           0.18379310344827587,
           0.1920689655172414,
           0.20034482758620692,
           0.20862068965517244,
           0.21689655172413794,
           0.22517241379310346,
           0.23344827586206898,
           0.2417241379310345,
           0.25
          ],
          [
           0.01,
           0.018275862068965518,
           0.026551724137931033,
           0.034827586206896556,
           0.04310344827586207,
           0.05137931034482759,
           0.05965517241379311,
           0.06793103448275863,
           0.07620689655172413,
           0.08448275862068966,
           0.09275862068965517,
           0.10103448275862069,
           0.10931034482758621,
           0.11758620689655172,
           0.12586206896551724,
           0.13413793103448277,
           0.1424137931034483,
           0.1506896551724138,
           0.15896551724137933,
           0.16724137931034483,
           0.17551724137931035,
           0.18379310344827587,
           0.1920689655172414,
           0.20034482758620692,
           0.20862068965517244,
           0.21689655172413794,
           0.22517241379310346,
           0.23344827586206898,
           0.2417241379310345,
           0.25
          ],
          [
           0.01,
           0.018275862068965518,
           0.026551724137931033,
           0.034827586206896556,
           0.04310344827586207,
           0.05137931034482759,
           0.05965517241379311,
           0.06793103448275863,
           0.07620689655172413,
           0.08448275862068966,
           0.09275862068965517,
           0.10103448275862069,
           0.10931034482758621,
           0.11758620689655172,
           0.12586206896551724,
           0.13413793103448277,
           0.1424137931034483,
           0.1506896551724138,
           0.15896551724137933,
           0.16724137931034483,
           0.17551724137931035,
           0.18379310344827587,
           0.1920689655172414,
           0.20034482758620692,
           0.20862068965517244,
           0.21689655172413794,
           0.22517241379310346,
           0.23344827586206898,
           0.2417241379310345,
           0.25
          ],
          [
           0.01,
           0.018275862068965518,
           0.026551724137931033,
           0.034827586206896556,
           0.04310344827586207,
           0.05137931034482759,
           0.05965517241379311,
           0.06793103448275863,
           0.07620689655172413,
           0.08448275862068966,
           0.09275862068965517,
           0.10103448275862069,
           0.10931034482758621,
           0.11758620689655172,
           0.12586206896551724,
           0.13413793103448277,
           0.1424137931034483,
           0.1506896551724138,
           0.15896551724137933,
           0.16724137931034483,
           0.17551724137931035,
           0.18379310344827587,
           0.1920689655172414,
           0.20034482758620692,
           0.20862068965517244,
           0.21689655172413794,
           0.22517241379310346,
           0.23344827586206898,
           0.2417241379310345,
           0.25
          ],
          [
           0.01,
           0.018275862068965518,
           0.026551724137931033,
           0.034827586206896556,
           0.04310344827586207,
           0.05137931034482759,
           0.05965517241379311,
           0.06793103448275863,
           0.07620689655172413,
           0.08448275862068966,
           0.09275862068965517,
           0.10103448275862069,
           0.10931034482758621,
           0.11758620689655172,
           0.12586206896551724,
           0.13413793103448277,
           0.1424137931034483,
           0.1506896551724138,
           0.15896551724137933,
           0.16724137931034483,
           0.17551724137931035,
           0.18379310344827587,
           0.1920689655172414,
           0.20034482758620692,
           0.20862068965517244,
           0.21689655172413794,
           0.22517241379310346,
           0.23344827586206898,
           0.2417241379310345,
           0.25
          ],
          [
           0.01,
           0.018275862068965518,
           0.026551724137931033,
           0.034827586206896556,
           0.04310344827586207,
           0.05137931034482759,
           0.05965517241379311,
           0.06793103448275863,
           0.07620689655172413,
           0.08448275862068966,
           0.09275862068965517,
           0.10103448275862069,
           0.10931034482758621,
           0.11758620689655172,
           0.12586206896551724,
           0.13413793103448277,
           0.1424137931034483,
           0.1506896551724138,
           0.15896551724137933,
           0.16724137931034483,
           0.17551724137931035,
           0.18379310344827587,
           0.1920689655172414,
           0.20034482758620692,
           0.20862068965517244,
           0.21689655172413794,
           0.22517241379310346,
           0.23344827586206898,
           0.2417241379310345,
           0.25
          ],
          [
           0.01,
           0.018275862068965518,
           0.026551724137931033,
           0.034827586206896556,
           0.04310344827586207,
           0.05137931034482759,
           0.05965517241379311,
           0.06793103448275863,
           0.07620689655172413,
           0.08448275862068966,
           0.09275862068965517,
           0.10103448275862069,
           0.10931034482758621,
           0.11758620689655172,
           0.12586206896551724,
           0.13413793103448277,
           0.1424137931034483,
           0.1506896551724138,
           0.15896551724137933,
           0.16724137931034483,
           0.17551724137931035,
           0.18379310344827587,
           0.1920689655172414,
           0.20034482758620692,
           0.20862068965517244,
           0.21689655172413794,
           0.22517241379310346,
           0.23344827586206898,
           0.2417241379310345,
           0.25
          ],
          [
           0.01,
           0.018275862068965518,
           0.026551724137931033,
           0.034827586206896556,
           0.04310344827586207,
           0.05137931034482759,
           0.05965517241379311,
           0.06793103448275863,
           0.07620689655172413,
           0.08448275862068966,
           0.09275862068965517,
           0.10103448275862069,
           0.10931034482758621,
           0.11758620689655172,
           0.12586206896551724,
           0.13413793103448277,
           0.1424137931034483,
           0.1506896551724138,
           0.15896551724137933,
           0.16724137931034483,
           0.17551724137931035,
           0.18379310344827587,
           0.1920689655172414,
           0.20034482758620692,
           0.20862068965517244,
           0.21689655172413794,
           0.22517241379310346,
           0.23344827586206898,
           0.2417241379310345,
           0.25
          ],
          [
           0.01,
           0.018275862068965518,
           0.026551724137931033,
           0.034827586206896556,
           0.04310344827586207,
           0.05137931034482759,
           0.05965517241379311,
           0.06793103448275863,
           0.07620689655172413,
           0.08448275862068966,
           0.09275862068965517,
           0.10103448275862069,
           0.10931034482758621,
           0.11758620689655172,
           0.12586206896551724,
           0.13413793103448277,
           0.1424137931034483,
           0.1506896551724138,
           0.15896551724137933,
           0.16724137931034483,
           0.17551724137931035,
           0.18379310344827587,
           0.1920689655172414,
           0.20034482758620692,
           0.20862068965517244,
           0.21689655172413794,
           0.22517241379310346,
           0.23344827586206898,
           0.2417241379310345,
           0.25
          ],
          [
           0.01,
           0.018275862068965518,
           0.026551724137931033,
           0.034827586206896556,
           0.04310344827586207,
           0.05137931034482759,
           0.05965517241379311,
           0.06793103448275863,
           0.07620689655172413,
           0.08448275862068966,
           0.09275862068965517,
           0.10103448275862069,
           0.10931034482758621,
           0.11758620689655172,
           0.12586206896551724,
           0.13413793103448277,
           0.1424137931034483,
           0.1506896551724138,
           0.15896551724137933,
           0.16724137931034483,
           0.17551724137931035,
           0.18379310344827587,
           0.1920689655172414,
           0.20034482758620692,
           0.20862068965517244,
           0.21689655172413794,
           0.22517241379310346,
           0.23344827586206898,
           0.2417241379310345,
           0.25
          ],
          [
           0.01,
           0.018275862068965518,
           0.026551724137931033,
           0.034827586206896556,
           0.04310344827586207,
           0.05137931034482759,
           0.05965517241379311,
           0.06793103448275863,
           0.07620689655172413,
           0.08448275862068966,
           0.09275862068965517,
           0.10103448275862069,
           0.10931034482758621,
           0.11758620689655172,
           0.12586206896551724,
           0.13413793103448277,
           0.1424137931034483,
           0.1506896551724138,
           0.15896551724137933,
           0.16724137931034483,
           0.17551724137931035,
           0.18379310344827587,
           0.1920689655172414,
           0.20034482758620692,
           0.20862068965517244,
           0.21689655172413794,
           0.22517241379310346,
           0.23344827586206898,
           0.2417241379310345,
           0.25
          ],
          [
           0.01,
           0.018275862068965518,
           0.026551724137931033,
           0.034827586206896556,
           0.04310344827586207,
           0.05137931034482759,
           0.05965517241379311,
           0.06793103448275863,
           0.07620689655172413,
           0.08448275862068966,
           0.09275862068965517,
           0.10103448275862069,
           0.10931034482758621,
           0.11758620689655172,
           0.12586206896551724,
           0.13413793103448277,
           0.1424137931034483,
           0.1506896551724138,
           0.15896551724137933,
           0.16724137931034483,
           0.17551724137931035,
           0.18379310344827587,
           0.1920689655172414,
           0.20034482758620692,
           0.20862068965517244,
           0.21689655172413794,
           0.22517241379310346,
           0.23344827586206898,
           0.2417241379310345,
           0.25
          ],
          [
           0.01,
           0.018275862068965518,
           0.026551724137931033,
           0.034827586206896556,
           0.04310344827586207,
           0.05137931034482759,
           0.05965517241379311,
           0.06793103448275863,
           0.07620689655172413,
           0.08448275862068966,
           0.09275862068965517,
           0.10103448275862069,
           0.10931034482758621,
           0.11758620689655172,
           0.12586206896551724,
           0.13413793103448277,
           0.1424137931034483,
           0.1506896551724138,
           0.15896551724137933,
           0.16724137931034483,
           0.17551724137931035,
           0.18379310344827587,
           0.1920689655172414,
           0.20034482758620692,
           0.20862068965517244,
           0.21689655172413794,
           0.22517241379310346,
           0.23344827586206898,
           0.2417241379310345,
           0.25
          ],
          [
           0.01,
           0.018275862068965518,
           0.026551724137931033,
           0.034827586206896556,
           0.04310344827586207,
           0.05137931034482759,
           0.05965517241379311,
           0.06793103448275863,
           0.07620689655172413,
           0.08448275862068966,
           0.09275862068965517,
           0.10103448275862069,
           0.10931034482758621,
           0.11758620689655172,
           0.12586206896551724,
           0.13413793103448277,
           0.1424137931034483,
           0.1506896551724138,
           0.15896551724137933,
           0.16724137931034483,
           0.17551724137931035,
           0.18379310344827587,
           0.1920689655172414,
           0.20034482758620692,
           0.20862068965517244,
           0.21689655172413794,
           0.22517241379310346,
           0.23344827586206898,
           0.2417241379310345,
           0.25
          ],
          [
           0.01,
           0.018275862068965518,
           0.026551724137931033,
           0.034827586206896556,
           0.04310344827586207,
           0.05137931034482759,
           0.05965517241379311,
           0.06793103448275863,
           0.07620689655172413,
           0.08448275862068966,
           0.09275862068965517,
           0.10103448275862069,
           0.10931034482758621,
           0.11758620689655172,
           0.12586206896551724,
           0.13413793103448277,
           0.1424137931034483,
           0.1506896551724138,
           0.15896551724137933,
           0.16724137931034483,
           0.17551724137931035,
           0.18379310344827587,
           0.1920689655172414,
           0.20034482758620692,
           0.20862068965517244,
           0.21689655172413794,
           0.22517241379310346,
           0.23344827586206898,
           0.2417241379310345,
           0.25
          ],
          [
           0.01,
           0.018275862068965518,
           0.026551724137931033,
           0.034827586206896556,
           0.04310344827586207,
           0.05137931034482759,
           0.05965517241379311,
           0.06793103448275863,
           0.07620689655172413,
           0.08448275862068966,
           0.09275862068965517,
           0.10103448275862069,
           0.10931034482758621,
           0.11758620689655172,
           0.12586206896551724,
           0.13413793103448277,
           0.1424137931034483,
           0.1506896551724138,
           0.15896551724137933,
           0.16724137931034483,
           0.17551724137931035,
           0.18379310344827587,
           0.1920689655172414,
           0.20034482758620692,
           0.20862068965517244,
           0.21689655172413794,
           0.22517241379310346,
           0.23344827586206898,
           0.2417241379310345,
           0.25
          ],
          [
           0.01,
           0.018275862068965518,
           0.026551724137931033,
           0.034827586206896556,
           0.04310344827586207,
           0.05137931034482759,
           0.05965517241379311,
           0.06793103448275863,
           0.07620689655172413,
           0.08448275862068966,
           0.09275862068965517,
           0.10103448275862069,
           0.10931034482758621,
           0.11758620689655172,
           0.12586206896551724,
           0.13413793103448277,
           0.1424137931034483,
           0.1506896551724138,
           0.15896551724137933,
           0.16724137931034483,
           0.17551724137931035,
           0.18379310344827587,
           0.1920689655172414,
           0.20034482758620692,
           0.20862068965517244,
           0.21689655172413794,
           0.22517241379310346,
           0.23344827586206898,
           0.2417241379310345,
           0.25
          ],
          [
           0.01,
           0.018275862068965518,
           0.026551724137931033,
           0.034827586206896556,
           0.04310344827586207,
           0.05137931034482759,
           0.05965517241379311,
           0.06793103448275863,
           0.07620689655172413,
           0.08448275862068966,
           0.09275862068965517,
           0.10103448275862069,
           0.10931034482758621,
           0.11758620689655172,
           0.12586206896551724,
           0.13413793103448277,
           0.1424137931034483,
           0.1506896551724138,
           0.15896551724137933,
           0.16724137931034483,
           0.17551724137931035,
           0.18379310344827587,
           0.1920689655172414,
           0.20034482758620692,
           0.20862068965517244,
           0.21689655172413794,
           0.22517241379310346,
           0.23344827586206898,
           0.2417241379310345,
           0.25
          ],
          [
           0.01,
           0.018275862068965518,
           0.026551724137931033,
           0.034827586206896556,
           0.04310344827586207,
           0.05137931034482759,
           0.05965517241379311,
           0.06793103448275863,
           0.07620689655172413,
           0.08448275862068966,
           0.09275862068965517,
           0.10103448275862069,
           0.10931034482758621,
           0.11758620689655172,
           0.12586206896551724,
           0.13413793103448277,
           0.1424137931034483,
           0.1506896551724138,
           0.15896551724137933,
           0.16724137931034483,
           0.17551724137931035,
           0.18379310344827587,
           0.1920689655172414,
           0.20034482758620692,
           0.20862068965517244,
           0.21689655172413794,
           0.22517241379310346,
           0.23344827586206898,
           0.2417241379310345,
           0.25
          ],
          [
           0.01,
           0.018275862068965518,
           0.026551724137931033,
           0.034827586206896556,
           0.04310344827586207,
           0.05137931034482759,
           0.05965517241379311,
           0.06793103448275863,
           0.07620689655172413,
           0.08448275862068966,
           0.09275862068965517,
           0.10103448275862069,
           0.10931034482758621,
           0.11758620689655172,
           0.12586206896551724,
           0.13413793103448277,
           0.1424137931034483,
           0.1506896551724138,
           0.15896551724137933,
           0.16724137931034483,
           0.17551724137931035,
           0.18379310344827587,
           0.1920689655172414,
           0.20034482758620692,
           0.20862068965517244,
           0.21689655172413794,
           0.22517241379310346,
           0.23344827586206898,
           0.2417241379310345,
           0.25
          ],
          [
           0.01,
           0.018275862068965518,
           0.026551724137931033,
           0.034827586206896556,
           0.04310344827586207,
           0.05137931034482759,
           0.05965517241379311,
           0.06793103448275863,
           0.07620689655172413,
           0.08448275862068966,
           0.09275862068965517,
           0.10103448275862069,
           0.10931034482758621,
           0.11758620689655172,
           0.12586206896551724,
           0.13413793103448277,
           0.1424137931034483,
           0.1506896551724138,
           0.15896551724137933,
           0.16724137931034483,
           0.17551724137931035,
           0.18379310344827587,
           0.1920689655172414,
           0.20034482758620692,
           0.20862068965517244,
           0.21689655172413794,
           0.22517241379310346,
           0.23344827586206898,
           0.2417241379310345,
           0.25
          ],
          [
           0.01,
           0.018275862068965518,
           0.026551724137931033,
           0.034827586206896556,
           0.04310344827586207,
           0.05137931034482759,
           0.05965517241379311,
           0.06793103448275863,
           0.07620689655172413,
           0.08448275862068966,
           0.09275862068965517,
           0.10103448275862069,
           0.10931034482758621,
           0.11758620689655172,
           0.12586206896551724,
           0.13413793103448277,
           0.1424137931034483,
           0.1506896551724138,
           0.15896551724137933,
           0.16724137931034483,
           0.17551724137931035,
           0.18379310344827587,
           0.1920689655172414,
           0.20034482758620692,
           0.20862068965517244,
           0.21689655172413794,
           0.22517241379310346,
           0.23344827586206898,
           0.2417241379310345,
           0.25
          ],
          [
           0.01,
           0.018275862068965518,
           0.026551724137931033,
           0.034827586206896556,
           0.04310344827586207,
           0.05137931034482759,
           0.05965517241379311,
           0.06793103448275863,
           0.07620689655172413,
           0.08448275862068966,
           0.09275862068965517,
           0.10103448275862069,
           0.10931034482758621,
           0.11758620689655172,
           0.12586206896551724,
           0.13413793103448277,
           0.1424137931034483,
           0.1506896551724138,
           0.15896551724137933,
           0.16724137931034483,
           0.17551724137931035,
           0.18379310344827587,
           0.1920689655172414,
           0.20034482758620692,
           0.20862068965517244,
           0.21689655172413794,
           0.22517241379310346,
           0.23344827586206898,
           0.2417241379310345,
           0.25
          ],
          [
           0.01,
           0.018275862068965518,
           0.026551724137931033,
           0.034827586206896556,
           0.04310344827586207,
           0.05137931034482759,
           0.05965517241379311,
           0.06793103448275863,
           0.07620689655172413,
           0.08448275862068966,
           0.09275862068965517,
           0.10103448275862069,
           0.10931034482758621,
           0.11758620689655172,
           0.12586206896551724,
           0.13413793103448277,
           0.1424137931034483,
           0.1506896551724138,
           0.15896551724137933,
           0.16724137931034483,
           0.17551724137931035,
           0.18379310344827587,
           0.1920689655172414,
           0.20034482758620692,
           0.20862068965517244,
           0.21689655172413794,
           0.22517241379310346,
           0.23344827586206898,
           0.2417241379310345,
           0.25
          ],
          [
           0.01,
           0.018275862068965518,
           0.026551724137931033,
           0.034827586206896556,
           0.04310344827586207,
           0.05137931034482759,
           0.05965517241379311,
           0.06793103448275863,
           0.07620689655172413,
           0.08448275862068966,
           0.09275862068965517,
           0.10103448275862069,
           0.10931034482758621,
           0.11758620689655172,
           0.12586206896551724,
           0.13413793103448277,
           0.1424137931034483,
           0.1506896551724138,
           0.15896551724137933,
           0.16724137931034483,
           0.17551724137931035,
           0.18379310344827587,
           0.1920689655172414,
           0.20034482758620692,
           0.20862068965517244,
           0.21689655172413794,
           0.22517241379310346,
           0.23344827586206898,
           0.2417241379310345,
           0.25
          ]
         ],
         "y": [
          [
           0.1,
           0.1,
           0.1,
           0.1,
           0.1,
           0.1,
           0.1,
           0.1,
           0.1,
           0.1,
           0.1,
           0.1,
           0.1,
           0.1,
           0.1,
           0.1,
           0.1,
           0.1,
           0.1,
           0.1,
           0.1,
           0.1,
           0.1,
           0.1,
           0.1,
           0.1,
           0.1,
           0.1,
           0.1,
           0.1
          ],
          [
           0.12413793103448277,
           0.12413793103448277,
           0.12413793103448277,
           0.12413793103448277,
           0.12413793103448277,
           0.12413793103448277,
           0.12413793103448277,
           0.12413793103448277,
           0.12413793103448277,
           0.12413793103448277,
           0.12413793103448277,
           0.12413793103448277,
           0.12413793103448277,
           0.12413793103448277,
           0.12413793103448277,
           0.12413793103448277,
           0.12413793103448277,
           0.12413793103448277,
           0.12413793103448277,
           0.12413793103448277,
           0.12413793103448277,
           0.12413793103448277,
           0.12413793103448277,
           0.12413793103448277,
           0.12413793103448277,
           0.12413793103448277,
           0.12413793103448277,
           0.12413793103448277,
           0.12413793103448277,
           0.12413793103448277
          ],
          [
           0.14827586206896554,
           0.14827586206896554,
           0.14827586206896554,
           0.14827586206896554,
           0.14827586206896554,
           0.14827586206896554,
           0.14827586206896554,
           0.14827586206896554,
           0.14827586206896554,
           0.14827586206896554,
           0.14827586206896554,
           0.14827586206896554,
           0.14827586206896554,
           0.14827586206896554,
           0.14827586206896554,
           0.14827586206896554,
           0.14827586206896554,
           0.14827586206896554,
           0.14827586206896554,
           0.14827586206896554,
           0.14827586206896554,
           0.14827586206896554,
           0.14827586206896554,
           0.14827586206896554,
           0.14827586206896554,
           0.14827586206896554,
           0.14827586206896554,
           0.14827586206896554,
           0.14827586206896554,
           0.14827586206896554
          ],
          [
           0.1724137931034483,
           0.1724137931034483,
           0.1724137931034483,
           0.1724137931034483,
           0.1724137931034483,
           0.1724137931034483,
           0.1724137931034483,
           0.1724137931034483,
           0.1724137931034483,
           0.1724137931034483,
           0.1724137931034483,
           0.1724137931034483,
           0.1724137931034483,
           0.1724137931034483,
           0.1724137931034483,
           0.1724137931034483,
           0.1724137931034483,
           0.1724137931034483,
           0.1724137931034483,
           0.1724137931034483,
           0.1724137931034483,
           0.1724137931034483,
           0.1724137931034483,
           0.1724137931034483,
           0.1724137931034483,
           0.1724137931034483,
           0.1724137931034483,
           0.1724137931034483,
           0.1724137931034483,
           0.1724137931034483
          ],
          [
           0.19655172413793104,
           0.19655172413793104,
           0.19655172413793104,
           0.19655172413793104,
           0.19655172413793104,
           0.19655172413793104,
           0.19655172413793104,
           0.19655172413793104,
           0.19655172413793104,
           0.19655172413793104,
           0.19655172413793104,
           0.19655172413793104,
           0.19655172413793104,
           0.19655172413793104,
           0.19655172413793104,
           0.19655172413793104,
           0.19655172413793104,
           0.19655172413793104,
           0.19655172413793104,
           0.19655172413793104,
           0.19655172413793104,
           0.19655172413793104,
           0.19655172413793104,
           0.19655172413793104,
           0.19655172413793104,
           0.19655172413793104,
           0.19655172413793104,
           0.19655172413793104,
           0.19655172413793104,
           0.19655172413793104
          ],
          [
           0.22068965517241382,
           0.22068965517241382,
           0.22068965517241382,
           0.22068965517241382,
           0.22068965517241382,
           0.22068965517241382,
           0.22068965517241382,
           0.22068965517241382,
           0.22068965517241382,
           0.22068965517241382,
           0.22068965517241382,
           0.22068965517241382,
           0.22068965517241382,
           0.22068965517241382,
           0.22068965517241382,
           0.22068965517241382,
           0.22068965517241382,
           0.22068965517241382,
           0.22068965517241382,
           0.22068965517241382,
           0.22068965517241382,
           0.22068965517241382,
           0.22068965517241382,
           0.22068965517241382,
           0.22068965517241382,
           0.22068965517241382,
           0.22068965517241382,
           0.22068965517241382,
           0.22068965517241382,
           0.22068965517241382
          ],
          [
           0.24482758620689657,
           0.24482758620689657,
           0.24482758620689657,
           0.24482758620689657,
           0.24482758620689657,
           0.24482758620689657,
           0.24482758620689657,
           0.24482758620689657,
           0.24482758620689657,
           0.24482758620689657,
           0.24482758620689657,
           0.24482758620689657,
           0.24482758620689657,
           0.24482758620689657,
           0.24482758620689657,
           0.24482758620689657,
           0.24482758620689657,
           0.24482758620689657,
           0.24482758620689657,
           0.24482758620689657,
           0.24482758620689657,
           0.24482758620689657,
           0.24482758620689657,
           0.24482758620689657,
           0.24482758620689657,
           0.24482758620689657,
           0.24482758620689657,
           0.24482758620689657,
           0.24482758620689657,
           0.24482758620689657
          ],
          [
           0.26896551724137935,
           0.26896551724137935,
           0.26896551724137935,
           0.26896551724137935,
           0.26896551724137935,
           0.26896551724137935,
           0.26896551724137935,
           0.26896551724137935,
           0.26896551724137935,
           0.26896551724137935,
           0.26896551724137935,
           0.26896551724137935,
           0.26896551724137935,
           0.26896551724137935,
           0.26896551724137935,
           0.26896551724137935,
           0.26896551724137935,
           0.26896551724137935,
           0.26896551724137935,
           0.26896551724137935,
           0.26896551724137935,
           0.26896551724137935,
           0.26896551724137935,
           0.26896551724137935,
           0.26896551724137935,
           0.26896551724137935,
           0.26896551724137935,
           0.26896551724137935,
           0.26896551724137935,
           0.26896551724137935
          ],
          [
           0.2931034482758621,
           0.2931034482758621,
           0.2931034482758621,
           0.2931034482758621,
           0.2931034482758621,
           0.2931034482758621,
           0.2931034482758621,
           0.2931034482758621,
           0.2931034482758621,
           0.2931034482758621,
           0.2931034482758621,
           0.2931034482758621,
           0.2931034482758621,
           0.2931034482758621,
           0.2931034482758621,
           0.2931034482758621,
           0.2931034482758621,
           0.2931034482758621,
           0.2931034482758621,
           0.2931034482758621,
           0.2931034482758621,
           0.2931034482758621,
           0.2931034482758621,
           0.2931034482758621,
           0.2931034482758621,
           0.2931034482758621,
           0.2931034482758621,
           0.2931034482758621,
           0.2931034482758621,
           0.2931034482758621
          ],
          [
           0.31724137931034485,
           0.31724137931034485,
           0.31724137931034485,
           0.31724137931034485,
           0.31724137931034485,
           0.31724137931034485,
           0.31724137931034485,
           0.31724137931034485,
           0.31724137931034485,
           0.31724137931034485,
           0.31724137931034485,
           0.31724137931034485,
           0.31724137931034485,
           0.31724137931034485,
           0.31724137931034485,
           0.31724137931034485,
           0.31724137931034485,
           0.31724137931034485,
           0.31724137931034485,
           0.31724137931034485,
           0.31724137931034485,
           0.31724137931034485,
           0.31724137931034485,
           0.31724137931034485,
           0.31724137931034485,
           0.31724137931034485,
           0.31724137931034485,
           0.31724137931034485,
           0.31724137931034485,
           0.31724137931034485
          ],
          [
           0.3413793103448276,
           0.3413793103448276,
           0.3413793103448276,
           0.3413793103448276,
           0.3413793103448276,
           0.3413793103448276,
           0.3413793103448276,
           0.3413793103448276,
           0.3413793103448276,
           0.3413793103448276,
           0.3413793103448276,
           0.3413793103448276,
           0.3413793103448276,
           0.3413793103448276,
           0.3413793103448276,
           0.3413793103448276,
           0.3413793103448276,
           0.3413793103448276,
           0.3413793103448276,
           0.3413793103448276,
           0.3413793103448276,
           0.3413793103448276,
           0.3413793103448276,
           0.3413793103448276,
           0.3413793103448276,
           0.3413793103448276,
           0.3413793103448276,
           0.3413793103448276,
           0.3413793103448276,
           0.3413793103448276
          ],
          [
           0.3655172413793104,
           0.3655172413793104,
           0.3655172413793104,
           0.3655172413793104,
           0.3655172413793104,
           0.3655172413793104,
           0.3655172413793104,
           0.3655172413793104,
           0.3655172413793104,
           0.3655172413793104,
           0.3655172413793104,
           0.3655172413793104,
           0.3655172413793104,
           0.3655172413793104,
           0.3655172413793104,
           0.3655172413793104,
           0.3655172413793104,
           0.3655172413793104,
           0.3655172413793104,
           0.3655172413793104,
           0.3655172413793104,
           0.3655172413793104,
           0.3655172413793104,
           0.3655172413793104,
           0.3655172413793104,
           0.3655172413793104,
           0.3655172413793104,
           0.3655172413793104,
           0.3655172413793104,
           0.3655172413793104
          ],
          [
           0.3896551724137931,
           0.3896551724137931,
           0.3896551724137931,
           0.3896551724137931,
           0.3896551724137931,
           0.3896551724137931,
           0.3896551724137931,
           0.3896551724137931,
           0.3896551724137931,
           0.3896551724137931,
           0.3896551724137931,
           0.3896551724137931,
           0.3896551724137931,
           0.3896551724137931,
           0.3896551724137931,
           0.3896551724137931,
           0.3896551724137931,
           0.3896551724137931,
           0.3896551724137931,
           0.3896551724137931,
           0.3896551724137931,
           0.3896551724137931,
           0.3896551724137931,
           0.3896551724137931,
           0.3896551724137931,
           0.3896551724137931,
           0.3896551724137931,
           0.3896551724137931,
           0.3896551724137931,
           0.3896551724137931
          ],
          [
           0.4137931034482759,
           0.4137931034482759,
           0.4137931034482759,
           0.4137931034482759,
           0.4137931034482759,
           0.4137931034482759,
           0.4137931034482759,
           0.4137931034482759,
           0.4137931034482759,
           0.4137931034482759,
           0.4137931034482759,
           0.4137931034482759,
           0.4137931034482759,
           0.4137931034482759,
           0.4137931034482759,
           0.4137931034482759,
           0.4137931034482759,
           0.4137931034482759,
           0.4137931034482759,
           0.4137931034482759,
           0.4137931034482759,
           0.4137931034482759,
           0.4137931034482759,
           0.4137931034482759,
           0.4137931034482759,
           0.4137931034482759,
           0.4137931034482759,
           0.4137931034482759,
           0.4137931034482759,
           0.4137931034482759
          ],
          [
           0.4379310344827587,
           0.4379310344827587,
           0.4379310344827587,
           0.4379310344827587,
           0.4379310344827587,
           0.4379310344827587,
           0.4379310344827587,
           0.4379310344827587,
           0.4379310344827587,
           0.4379310344827587,
           0.4379310344827587,
           0.4379310344827587,
           0.4379310344827587,
           0.4379310344827587,
           0.4379310344827587,
           0.4379310344827587,
           0.4379310344827587,
           0.4379310344827587,
           0.4379310344827587,
           0.4379310344827587,
           0.4379310344827587,
           0.4379310344827587,
           0.4379310344827587,
           0.4379310344827587,
           0.4379310344827587,
           0.4379310344827587,
           0.4379310344827587,
           0.4379310344827587,
           0.4379310344827587,
           0.4379310344827587
          ],
          [
           0.4620689655172414,
           0.4620689655172414,
           0.4620689655172414,
           0.4620689655172414,
           0.4620689655172414,
           0.4620689655172414,
           0.4620689655172414,
           0.4620689655172414,
           0.4620689655172414,
           0.4620689655172414,
           0.4620689655172414,
           0.4620689655172414,
           0.4620689655172414,
           0.4620689655172414,
           0.4620689655172414,
           0.4620689655172414,
           0.4620689655172414,
           0.4620689655172414,
           0.4620689655172414,
           0.4620689655172414,
           0.4620689655172414,
           0.4620689655172414,
           0.4620689655172414,
           0.4620689655172414,
           0.4620689655172414,
           0.4620689655172414,
           0.4620689655172414,
           0.4620689655172414,
           0.4620689655172414,
           0.4620689655172414
          ],
          [
           0.4862068965517242,
           0.4862068965517242,
           0.4862068965517242,
           0.4862068965517242,
           0.4862068965517242,
           0.4862068965517242,
           0.4862068965517242,
           0.4862068965517242,
           0.4862068965517242,
           0.4862068965517242,
           0.4862068965517242,
           0.4862068965517242,
           0.4862068965517242,
           0.4862068965517242,
           0.4862068965517242,
           0.4862068965517242,
           0.4862068965517242,
           0.4862068965517242,
           0.4862068965517242,
           0.4862068965517242,
           0.4862068965517242,
           0.4862068965517242,
           0.4862068965517242,
           0.4862068965517242,
           0.4862068965517242,
           0.4862068965517242,
           0.4862068965517242,
           0.4862068965517242,
           0.4862068965517242,
           0.4862068965517242
          ],
          [
           0.5103448275862069,
           0.5103448275862069,
           0.5103448275862069,
           0.5103448275862069,
           0.5103448275862069,
           0.5103448275862069,
           0.5103448275862069,
           0.5103448275862069,
           0.5103448275862069,
           0.5103448275862069,
           0.5103448275862069,
           0.5103448275862069,
           0.5103448275862069,
           0.5103448275862069,
           0.5103448275862069,
           0.5103448275862069,
           0.5103448275862069,
           0.5103448275862069,
           0.5103448275862069,
           0.5103448275862069,
           0.5103448275862069,
           0.5103448275862069,
           0.5103448275862069,
           0.5103448275862069,
           0.5103448275862069,
           0.5103448275862069,
           0.5103448275862069,
           0.5103448275862069,
           0.5103448275862069,
           0.5103448275862069
          ],
          [
           0.5344827586206897,
           0.5344827586206897,
           0.5344827586206897,
           0.5344827586206897,
           0.5344827586206897,
           0.5344827586206897,
           0.5344827586206897,
           0.5344827586206897,
           0.5344827586206897,
           0.5344827586206897,
           0.5344827586206897,
           0.5344827586206897,
           0.5344827586206897,
           0.5344827586206897,
           0.5344827586206897,
           0.5344827586206897,
           0.5344827586206897,
           0.5344827586206897,
           0.5344827586206897,
           0.5344827586206897,
           0.5344827586206897,
           0.5344827586206897,
           0.5344827586206897,
           0.5344827586206897,
           0.5344827586206897,
           0.5344827586206897,
           0.5344827586206897,
           0.5344827586206897,
           0.5344827586206897,
           0.5344827586206897
          ],
          [
           0.5586206896551725,
           0.5586206896551725,
           0.5586206896551725,
           0.5586206896551725,
           0.5586206896551725,
           0.5586206896551725,
           0.5586206896551725,
           0.5586206896551725,
           0.5586206896551725,
           0.5586206896551725,
           0.5586206896551725,
           0.5586206896551725,
           0.5586206896551725,
           0.5586206896551725,
           0.5586206896551725,
           0.5586206896551725,
           0.5586206896551725,
           0.5586206896551725,
           0.5586206896551725,
           0.5586206896551725,
           0.5586206896551725,
           0.5586206896551725,
           0.5586206896551725,
           0.5586206896551725,
           0.5586206896551725,
           0.5586206896551725,
           0.5586206896551725,
           0.5586206896551725,
           0.5586206896551725,
           0.5586206896551725
          ],
          [
           0.5827586206896552,
           0.5827586206896552,
           0.5827586206896552,
           0.5827586206896552,
           0.5827586206896552,
           0.5827586206896552,
           0.5827586206896552,
           0.5827586206896552,
           0.5827586206896552,
           0.5827586206896552,
           0.5827586206896552,
           0.5827586206896552,
           0.5827586206896552,
           0.5827586206896552,
           0.5827586206896552,
           0.5827586206896552,
           0.5827586206896552,
           0.5827586206896552,
           0.5827586206896552,
           0.5827586206896552,
           0.5827586206896552,
           0.5827586206896552,
           0.5827586206896552,
           0.5827586206896552,
           0.5827586206896552,
           0.5827586206896552,
           0.5827586206896552,
           0.5827586206896552,
           0.5827586206896552,
           0.5827586206896552
          ],
          [
           0.6068965517241379,
           0.6068965517241379,
           0.6068965517241379,
           0.6068965517241379,
           0.6068965517241379,
           0.6068965517241379,
           0.6068965517241379,
           0.6068965517241379,
           0.6068965517241379,
           0.6068965517241379,
           0.6068965517241379,
           0.6068965517241379,
           0.6068965517241379,
           0.6068965517241379,
           0.6068965517241379,
           0.6068965517241379,
           0.6068965517241379,
           0.6068965517241379,
           0.6068965517241379,
           0.6068965517241379,
           0.6068965517241379,
           0.6068965517241379,
           0.6068965517241379,
           0.6068965517241379,
           0.6068965517241379,
           0.6068965517241379,
           0.6068965517241379,
           0.6068965517241379,
           0.6068965517241379,
           0.6068965517241379
          ],
          [
           0.6310344827586207,
           0.6310344827586207,
           0.6310344827586207,
           0.6310344827586207,
           0.6310344827586207,
           0.6310344827586207,
           0.6310344827586207,
           0.6310344827586207,
           0.6310344827586207,
           0.6310344827586207,
           0.6310344827586207,
           0.6310344827586207,
           0.6310344827586207,
           0.6310344827586207,
           0.6310344827586207,
           0.6310344827586207,
           0.6310344827586207,
           0.6310344827586207,
           0.6310344827586207,
           0.6310344827586207,
           0.6310344827586207,
           0.6310344827586207,
           0.6310344827586207,
           0.6310344827586207,
           0.6310344827586207,
           0.6310344827586207,
           0.6310344827586207,
           0.6310344827586207,
           0.6310344827586207,
           0.6310344827586207
          ],
          [
           0.6551724137931035,
           0.6551724137931035,
           0.6551724137931035,
           0.6551724137931035,
           0.6551724137931035,
           0.6551724137931035,
           0.6551724137931035,
           0.6551724137931035,
           0.6551724137931035,
           0.6551724137931035,
           0.6551724137931035,
           0.6551724137931035,
           0.6551724137931035,
           0.6551724137931035,
           0.6551724137931035,
           0.6551724137931035,
           0.6551724137931035,
           0.6551724137931035,
           0.6551724137931035,
           0.6551724137931035,
           0.6551724137931035,
           0.6551724137931035,
           0.6551724137931035,
           0.6551724137931035,
           0.6551724137931035,
           0.6551724137931035,
           0.6551724137931035,
           0.6551724137931035,
           0.6551724137931035,
           0.6551724137931035
          ],
          [
           0.6793103448275862,
           0.6793103448275862,
           0.6793103448275862,
           0.6793103448275862,
           0.6793103448275862,
           0.6793103448275862,
           0.6793103448275862,
           0.6793103448275862,
           0.6793103448275862,
           0.6793103448275862,
           0.6793103448275862,
           0.6793103448275862,
           0.6793103448275862,
           0.6793103448275862,
           0.6793103448275862,
           0.6793103448275862,
           0.6793103448275862,
           0.6793103448275862,
           0.6793103448275862,
           0.6793103448275862,
           0.6793103448275862,
           0.6793103448275862,
           0.6793103448275862,
           0.6793103448275862,
           0.6793103448275862,
           0.6793103448275862,
           0.6793103448275862,
           0.6793103448275862,
           0.6793103448275862,
           0.6793103448275862
          ],
          [
           0.703448275862069,
           0.703448275862069,
           0.703448275862069,
           0.703448275862069,
           0.703448275862069,
           0.703448275862069,
           0.703448275862069,
           0.703448275862069,
           0.703448275862069,
           0.703448275862069,
           0.703448275862069,
           0.703448275862069,
           0.703448275862069,
           0.703448275862069,
           0.703448275862069,
           0.703448275862069,
           0.703448275862069,
           0.703448275862069,
           0.703448275862069,
           0.703448275862069,
           0.703448275862069,
           0.703448275862069,
           0.703448275862069,
           0.703448275862069,
           0.703448275862069,
           0.703448275862069,
           0.703448275862069,
           0.703448275862069,
           0.703448275862069,
           0.703448275862069
          ],
          [
           0.7275862068965517,
           0.7275862068965517,
           0.7275862068965517,
           0.7275862068965517,
           0.7275862068965517,
           0.7275862068965517,
           0.7275862068965517,
           0.7275862068965517,
           0.7275862068965517,
           0.7275862068965517,
           0.7275862068965517,
           0.7275862068965517,
           0.7275862068965517,
           0.7275862068965517,
           0.7275862068965517,
           0.7275862068965517,
           0.7275862068965517,
           0.7275862068965517,
           0.7275862068965517,
           0.7275862068965517,
           0.7275862068965517,
           0.7275862068965517,
           0.7275862068965517,
           0.7275862068965517,
           0.7275862068965517,
           0.7275862068965517,
           0.7275862068965517,
           0.7275862068965517,
           0.7275862068965517,
           0.7275862068965517
          ],
          [
           0.7517241379310345,
           0.7517241379310345,
           0.7517241379310345,
           0.7517241379310345,
           0.7517241379310345,
           0.7517241379310345,
           0.7517241379310345,
           0.7517241379310345,
           0.7517241379310345,
           0.7517241379310345,
           0.7517241379310345,
           0.7517241379310345,
           0.7517241379310345,
           0.7517241379310345,
           0.7517241379310345,
           0.7517241379310345,
           0.7517241379310345,
           0.7517241379310345,
           0.7517241379310345,
           0.7517241379310345,
           0.7517241379310345,
           0.7517241379310345,
           0.7517241379310345,
           0.7517241379310345,
           0.7517241379310345,
           0.7517241379310345,
           0.7517241379310345,
           0.7517241379310345,
           0.7517241379310345,
           0.7517241379310345
          ],
          [
           0.7758620689655173,
           0.7758620689655173,
           0.7758620689655173,
           0.7758620689655173,
           0.7758620689655173,
           0.7758620689655173,
           0.7758620689655173,
           0.7758620689655173,
           0.7758620689655173,
           0.7758620689655173,
           0.7758620689655173,
           0.7758620689655173,
           0.7758620689655173,
           0.7758620689655173,
           0.7758620689655173,
           0.7758620689655173,
           0.7758620689655173,
           0.7758620689655173,
           0.7758620689655173,
           0.7758620689655173,
           0.7758620689655173,
           0.7758620689655173,
           0.7758620689655173,
           0.7758620689655173,
           0.7758620689655173,
           0.7758620689655173,
           0.7758620689655173,
           0.7758620689655173,
           0.7758620689655173,
           0.7758620689655173
          ],
          [
           0.8,
           0.8,
           0.8,
           0.8,
           0.8,
           0.8,
           0.8,
           0.8,
           0.8,
           0.8,
           0.8,
           0.8,
           0.8,
           0.8,
           0.8,
           0.8,
           0.8,
           0.8,
           0.8,
           0.8,
           0.8,
           0.8,
           0.8,
           0.8,
           0.8,
           0.8,
           0.8,
           0.8,
           0.8,
           0.8
          ]
         ],
         "z": [
          [
           0.03938147600552176,
           0.05263141198160295,
           0.062167902389856027,
           0.06957664320420878,
           0.0755475169972725,
           0.0804576041657137,
           0.0845407335020796,
           0.08795420837936582,
           0.09080989866534492,
           0.09319166638646281,
           0.09516295100828036,
           0.09677442284038978,
           0.09806676875993221,
           0.09907337251796318,
           0.09982204358463684,
           0.10033625254713585,
           0.10063602418943254,
           0.10073862815523514,
           0.10065907245306628,
           0.10041050855652173,
           0.10000454012299048,
           0.09945146610799091,
           0.0987604865200945,
           0.097939851622665,
           0.09699700332690968,
           0.09593867819534349,
           0.09477100159168028,
           0.09349955884013414,
           0.09212947369017971,
           0.09066543611396738
          ],
          [
           0.03938147599294942,
           0.052631412179095824,
           0.06216790201459792,
           0.06957664327238011,
           0.07554751710079766,
           0.08045760386520236,
           0.08454073351178285,
           0.0879542082611898,
           0.09081008652070748,
           0.09319166636007506,
           0.09516295128600083,
           0.09677442348245449,
           0.09806658057417501,
           0.09907337249895123,
           0.09982204522848284,
           0.10033625079643424,
           0.10063602429596508,
           0.10073862830840803,
           0.1006590728849836,
           0.10041050722248147,
           0.1000045994484347,
           0.09945146573263361,
           0.0987604865571407,
           0.09793985162712451,
           0.09699700452035193,
           0.09593867819967322,
           0.09477100138633683,
           0.09349956149864622,
           0.09212947368960041,
           0.09066543576724223
          ],
          [
           0.03938147608999425,
           0.052631411993501444,
           0.062167901962353,
           0.06957664323340673,
           0.07554751722222085,
           0.08045760527340393,
           0.08454076052385529,
           0.08795420857091524,
           0.09081008678844962,
           0.09319166638637869,
           0.0951629540574917,
           0.09677442089817014,
           0.09806676918518514,
           0.0990733723247279,
           0.09982204306035389,
           0.10033625062945863,
           0.10063602423926532,
           0.10073862822189611,
           0.10065907277498787,
           0.10041050912573433,
           0.10000453959584157,
           0.09945146692217124,
           0.09876048678201552,
           0.09793985186648532,
           0.096997003084832,
           0.09593867821491381,
           0.09477100155624262,
           0.09349956159392006,
           0.09212947281252368,
           0.09066543578681138
          ],
          [
           0.03938147606326659,
           0.052631484458869796,
           0.06216790202059695,
           0.06957664553233056,
           0.07554751693740401,
           0.08045760376160928,
           0.08454073358420286,
           0.0879542088346907,
           0.09081008563037307,
           0.09319166636890627,
           0.09516295097490755,
           0.0967744228124763,
           0.09806676877579382,
           0.09907337177047763,
           0.09982204342530879,
           0.10033625078488666,
           0.10063602420950982,
           0.10073863947161031,
           0.1006590724040995,
           0.10041050864524685,
           0.10000453974632553,
           0.09945146703739655,
           0.09876049752420547,
           0.09793985192883728,
           0.09699700314702424,
           0.09593867829259761,
           0.09477100179260727,
           0.09349956195641561,
           0.09212947363946379,
           0.09066543610365041
          ],
          [
           0.039381476008611756,
           0.05263141196756041,
           0.062167901996707534,
           0.06957664454194419,
           0.07554751698592502,
           0.08045760434559904,
           0.08454073366616496,
           0.08795421538995682,
           0.09081008553752577,
           0.09319166657222919,
           0.09516295095014306,
           0.09677442329612991,
           0.09806676914849301,
           0.09907337195296874,
           0.09982204326710803,
           0.10033625056860954,
           0.10063602422421508,
           0.10073862803598935,
           0.10065907239189321,
           0.10041050869175283,
           0.10000453978597015,
           0.09945146701543986,
           0.09876048654344724,
           0.09793984874808934,
           0.09699707759818042,
           0.0959386781739381,
           0.09477100286172024,
           0.09349956159688687,
           0.09212947364316994,
           0.09066543568688537
          ],
          [
           0.03938147599101703,
           0.0526314120590001,
           0.062167902099468236,
           0.06957664320280514,
           0.07554751364800985,
           0.08045760378300787,
           0.08454073355981792,
           0.08795420845034088,
           0.09081008560838374,
           0.09319167318309761,
           0.09516295126972961,
           0.09677442307623854,
           0.09806676906733129,
           0.09907337239585949,
           0.09982204331685963,
           0.10033625123194119,
           0.1006360241878972,
           0.10073862821159942,
           0.10065907244319841,
           0.10041050684895138,
           0.10000453993801536,
           0.09945146684032595,
           0.09876048757906095,
           0.09793985166967323,
           0.09699700119773945,
           0.09593872463071461,
           0.09477100100081891,
           0.0934995615585733,
           0.09212947359612901,
           0.09066543660588942
          ],
          [
           0.03938147599397762,
           0.05263141200262237,
           0.062167902014020684,
           0.06957664319491594,
           0.07554751700109025,
           0.0804576039176702,
           0.08454073364636466,
           0.08795420857172082,
           0.09081008561317298,
           0.09319166635905654,
           0.09516295097800871,
           0.09677442299738907,
           0.09806676877121673,
           0.09907337196186435,
           0.09982204732736091,
           0.10033625077875527,
           0.10063602381920844,
           0.10073862814353154,
           0.10065907244131503,
           0.10041050860997769,
           0.10000454013249922,
           0.09945146708685428,
           0.09876048541402827,
           0.0979398516400497,
           0.09699700314985615,
           0.09593868124552855,
           0.09477100619300124,
           0.0934995616943532,
           0.09212947205637341,
           0.090665435896321
          ],
          [
           0.03938147598867686,
           0.05263141189082742,
           0.062167902005622715,
           0.06957664318316441,
           0.07554751668396023,
           0.08045760368123937,
           0.08454073335879327,
           0.08795420879252835,
           0.09081009055965232,
           0.0931916663750273,
           0.09516295040931745,
           0.09677442279957864,
           0.09806676900947552,
           0.09907337248688725,
           0.0998220978199777,
           0.1003362505851583,
           0.10063602443267339,
           0.1007386281697776,
           0.10065907280948895,
           0.10041050898318064,
           0.10000453973596354,
           0.09945146689750976,
           0.09876048662345575,
           0.09793985194958042,
           0.09699700316423583,
           0.09593867826481546,
           0.09477100167367349,
           0.09349956058908492,
           0.09212947431664704,
           0.09066543581614542
          ],
          [
           0.03938147588808791,
           0.0526314119743029,
           0.06216790250337012,
           0.06957664321290583,
           0.07554751715655864,
           0.0804576036472397,
           0.08454073361432973,
           0.08795420851798388,
           0.09081008561712825,
           0.09319166655745657,
           0.09516295092031227,
           0.09677442290143157,
           0.09806676879179112,
           0.09907337263980742,
           0.09982204346211324,
           0.1003362501084479,
           0.10063602540897165,
           0.10073861353949351,
           0.10065907248080792,
           0.100410508665729,
           0.10000454009745377,
           0.09945146693307934,
           0.09876048662286663,
           0.09793985171363556,
           0.09699700310531126,
           0.09593867840440726,
           0.09477100186484627,
           0.09349956155409019,
           0.09212947305340634,
           0.09066543574448087
          ],
          [
           0.039381476056631046,
           0.05263141199003273,
           0.06216790204172768,
           0.06957664383402881,
           0.0755475166587086,
           0.0804576037641897,
           0.08454073348954579,
           0.08795420827989173,
           0.09081008449722855,
           0.09319166669360343,
           0.09516295090728201,
           0.09677442276552994,
           0.09806676650419348,
           0.09907337236259546,
           0.09982204320687742,
           0.10033625112926417,
           0.10063602436339703,
           0.10073862814952235,
           0.10065907232594729,
           0.1004105089244518,
           0.10000453991119362,
           0.09945146686481798,
           0.09876048650444041,
           0.09793985185268672,
           0.09699700315592213,
           0.09593867822055305,
           0.09477100254529483,
           0.09349956186495467,
           0.09212947464497867,
           0.09066543588817996
          ],
          [
           0.039381476116885764,
           0.05263141212224695,
           0.06216790195182914,
           0.06957664318615167,
           0.07554751717674787,
           0.08045760376262182,
           0.08454073371900084,
           0.08795420827833528,
           0.09081008587992084,
           0.09319160139799545,
           0.09516295125397894,
           0.09677442632260161,
           0.09806676920143796,
           0.09907337272267298,
           0.09982204358817255,
           0.10033625067918833,
           0.10063602414648987,
           0.10073862863379739,
           0.10065907249866958,
           0.10041050862236289,
           0.10000453972744933,
           0.09945146734400434,
           0.0987604871779797,
           0.0979398516660008,
           0.09699700274555836,
           0.0959386782538851,
           0.09477100173257591,
           0.09349956178093774,
           0.09212947365230895,
           0.09066543726863471
          ],
          [
           0.03938147644790461,
           0.052631412014760834,
           0.0621679019603778,
           0.06957664308494918,
           0.07554751699067333,
           0.08045760375373429,
           0.08454073357638825,
           0.08795420826814582,
           0.09081008562059738,
           0.09319166638109175,
           0.0951629509956603,
           0.09677442277248696,
           0.09806676836209156,
           0.09907337252409407,
           0.09982204328411465,
           0.10033625233402695,
           0.10063603238490545,
           0.10073862898574819,
           0.10065907407507053,
           0.1004105086963382,
           0.10000453991497157,
           0.09945146696550511,
           0.09876048669347365,
           0.09793985190238921,
           0.09699700351989043,
           0.09593870223010212,
           0.09477100204207672,
           0.09349956166049231,
           0.09212947366034804,
           0.09066543576163069
          ],
          [
           0.03938147609381928,
           0.05263141196704819,
           0.06216790211824274,
           0.0695766423721383,
           0.07554751699811238,
           0.08045760397280188,
           0.08454073347601876,
           0.08795420826383102,
           0.0908100855129297,
           0.09319166651370832,
           0.0951629509623779,
           0.09677442299344417,
           0.09806676884405424,
           0.09907337217319169,
           0.09982204335768852,
           0.10033625042665459,
           0.10063602440371142,
           0.10073862862373878,
           0.10065907260459117,
           0.10041050884472578,
           0.10000453976968804,
           0.09945146726267362,
           0.09876048752701622,
           0.09793985167332026,
           0.09699700314491796,
           0.09593867439078438,
           0.09477104496229422,
           0.09349956165689668,
           0.09212947655174286,
           0.09066543621946516
          ],
          [
           0.039381476128734924,
           0.052631412466639944,
           0.06216790199661551,
           0.06957664353526116,
           0.07554751702395177,
           0.08045760425253924,
           0.08454073352766464,
           0.08795420833301962,
           0.09081008562574765,
           0.09319166634082837,
           0.09516295111461345,
           0.09677442284618583,
           0.09806676877461068,
           0.09907337069703484,
           0.09982204329162576,
           0.1003362507929469,
           0.10063602595254374,
           0.10073862821467888,
           0.10065907236735165,
           0.10041050859954162,
           0.10000453973768397,
           0.09945146693810328,
           0.09876048659075466,
           0.09793985226979846,
           0.09699700249333654,
           0.09593867833183414,
           0.09477100183677598,
           0.09349956158862885,
           0.09212948956470604,
           0.09066543580640316
          ],
          [
           0.03938147599128513,
           0.05263141197028282,
           0.06216790201329141,
           0.06957664320701137,
           0.07554751700515647,
           0.08045760374549199,
           0.08454073353232866,
           0.08795420838120746,
           0.09081008649938561,
           0.09319166589289062,
           0.09516295114449684,
           0.09677442283176563,
           0.09806676871035591,
           0.09907337235658714,
           0.09982204333391992,
           0.10033625058552947,
           0.10063602448869988,
           0.10073862809011387,
           0.10065907269506551,
           0.1004105085671576,
           0.10000454020383255,
           0.09945146688652043,
           0.09876048713784229,
           0.09793985215196269,
           0.0969970367987398,
           0.09593867822613189,
           0.09477100170170624,
           0.09349956208289609,
           0.0921294732193321,
           0.0906654357556883
          ],
          [
           0.039381476010028345,
           0.05263141197955125,
           0.06216790211978161,
           0.06957664321704063,
           0.0755475171672611,
           0.08045760375265978,
           0.08454073356188144,
           0.08795420829858777,
           0.09081008581239801,
           0.09319166635471922,
           0.09516295099796086,
           0.09677442299646315,
           0.0980667687452161,
           0.09907337221065556,
           0.09982204334727243,
           0.1003362506562703,
           0.10063602344768424,
           0.10073862956192448,
           0.10065907307436066,
           0.10041050863108938,
           0.10000453995121196,
           0.09945147890599587,
           0.0987604864302594,
           0.09793985170360342,
           0.096997004489361,
           0.09593867906458578,
           0.09477100183973841,
           0.09349956180322017,
           0.09212947437045055,
           0.09066543489774673
          ],
          [
           0.03938147597629312,
           0.05263141190686314,
           0.06216790279743771,
           0.06957664343692463,
           0.07554751702648049,
           0.08045760400475685,
           0.08454073348985093,
           0.08795420826969884,
           0.09081008561614748,
           0.09319166636747703,
           0.0951629670065674,
           0.09677442282489773,
           0.0980667686764172,
           0.0990733897729616,
           0.09982204329187186,
           0.10033625060225523,
           0.1006360244466115,
           0.10073862834628394,
           0.10065907220555402,
           0.1004105095747138,
           0.10000454010476495,
           0.09945146754873505,
           0.0987604882845083,
           0.0979398517331549,
           0.09699700326827441,
           0.09593867876028903,
           0.09477100115270351,
           0.09349956165375753,
           0.09212947444135952,
           0.09066543608918354
          ],
          [
           0.03938147599474628,
           0.052631411977757545,
           0.06216790203982492,
           0.06957664314973043,
           0.07554751707411678,
           0.08045760407324193,
           0.08454073354975762,
           0.08795420824638142,
           0.0908100856435395,
           0.09319166639775617,
           0.09516295287426049,
           0.09677442282013637,
           0.0980667686525219,
           0.09907337226910506,
           0.09982204329307329,
           0.10033624898503621,
           0.10063602416717862,
           0.10073862814320182,
           0.10065907247530514,
           0.10041050869575033,
           0.10000453944409665,
           0.09945146701696093,
           0.09876048648964134,
           0.09793985394005124,
           0.09699700378003429,
           0.09593869154323811,
           0.09477100178061536,
           0.09349956203985732,
           0.09212947388306797,
           0.09066543620117196
          ],
          [
           0.03938147598126447,
           0.05263141254466622,
           0.06216790199542379,
           0.06957664404945907,
           0.07554751701173229,
           0.08045760447636091,
           0.08454073352136368,
           0.08795420833766732,
           0.09081008561995796,
           0.09319166708604355,
           0.09516295178336207,
           0.09677442291763819,
           0.09806676871506213,
           0.09907337230891419,
           0.09982204329992311,
           0.1003362516268175,
           0.10063602418119218,
           0.10073862810180377,
           0.10065907360161856,
           0.10041050978416155,
           0.10000454007344162,
           0.09945146741658763,
           0.09876048823989896,
           0.09793985172921553,
           0.09699700383598664,
           0.09593867817051506,
           0.09477100251957571,
           0.09349956140036461,
           0.09212947365618311,
           0.09066543602030608
          ],
          [
           0.03938147599192257,
           0.05263142125424297,
           0.062167902227018054,
           0.06957664320235507,
           0.0755475169932994,
           0.08045760376680497,
           0.08454073352242113,
           0.08795420830952604,
           0.09081008566570596,
           0.09319166634806632,
           0.09516295077910117,
           0.09677442304939682,
           0.09806676872502147,
           0.0990733723032757,
           0.09982204329757063,
           0.1003362505753436,
           0.100636024193656,
           0.10073862823546122,
           0.1006590724950078,
           0.10041050862597052,
           0.1000045399975898,
           0.09945146685605168,
           0.09876030011953062,
           0.09793985180474654,
           0.09699700583996027,
           0.09593867831036222,
           0.09477100209193742,
           0.09349956158223277,
           0.0921294737454966,
           0.09066543661101589
          ],
          [
           0.03938147614767159,
           0.05263141197282201,
           0.062167901968093964,
           0.06957664308790971,
           0.07554751697770928,
           0.08045754930478172,
           0.08454073353849086,
           0.08795420830291005,
           0.09081008561525646,
           0.09319166639175294,
           0.0951629500957989,
           0.09677442505833043,
           0.09806676987191916,
           0.09907337262011948,
           0.09982204351922849,
           0.10033625165090965,
           0.10063602425622097,
           0.10073863436579365,
           0.10065907244537112,
           0.10041050863909465,
           0.10000453967346203,
           0.09945146683610877,
           0.09876048635708878,
           0.09793985169617024,
           0.09699700301355549,
           0.09593867844170886,
           0.09477100375792705,
           0.09349956166049173,
           0.09212947371727973,
           0.09066543613284603
          ],
          [
           0.039381476005017124,
           0.05263141203054129,
           0.062167900205061744,
           0.06957664656407833,
           0.0755475171829978,
           0.08045760379033487,
           0.08454073345332119,
           0.08795420863232585,
           0.09081008558022899,
           0.09319166603177058,
           0.09516295078833883,
           0.09677442287087117,
           0.09806676900259695,
           0.09907337238965194,
           0.09982204356013541,
           0.10033625059116276,
           0.10063602423165108,
           0.1007386281551393,
           0.10065907250980188,
           0.10041050894943648,
           0.1000045399184844,
           0.0994514668678613,
           0.09876048642032022,
           0.09793985175519065,
           0.0969970072854687,
           0.09593867818946036,
           0.09477100521315943,
           0.09349956159282724,
           0.09212947586502052,
           0.09066543570874527
          ],
          [
           0.03938147598521474,
           0.052631411935671446,
           0.06216790197726782,
           0.06957664313608652,
           0.07554751706620491,
           0.08045760376002117,
           0.08454073351041042,
           0.0879542082648181,
           0.09081008560397061,
           0.09319166642342601,
           0.09516295101831979,
           0.0967744230243174,
           0.09806676877183734,
           0.09907337269025362,
           0.09982204330008225,
           0.10033625039919003,
           0.10063602426782454,
           0.10073862833911777,
           0.10065907275350237,
           0.10041050846605676,
           0.10000453980134577,
           0.09945147704113952,
           0.09876048621976674,
           0.09793985169320199,
           0.09699700398108888,
           0.09593867957976623,
           0.09477100231250385,
           0.09349786162862539,
           0.09212948505684185,
           0.09066543546020522
          ],
          [
           0.03938147599072197,
           0.052631412005080806,
           0.06216790196591321,
           0.06957664392817134,
           0.07554751665717213,
           0.08045760379494185,
           0.08454073376875083,
           0.08795420828127036,
           0.09081008561575396,
           0.09319166645363228,
           0.09516295100487568,
           0.09677442288893946,
           0.09806676876085597,
           0.099073373274774,
           0.09982204329565297,
           0.10033625092929206,
           0.10063602425516219,
           0.10073862821281146,
           0.1006590724567264,
           0.10041050861111878,
           0.10000453958297806,
           0.09945146681071343,
           0.09876048653288144,
           0.09793985259075746,
           0.09699700310159798,
           0.09593867814789839,
           0.09477100170726457,
           0.09349956195466205,
           0.09212947356603093,
           0.090665435747173
          ],
          [
           0.039381475928580253,
           0.05263141281070512,
           0.06216790200694916,
           0.06957664320493842,
           0.07554751705997372,
           0.08045760375813349,
           0.08454073408340901,
           0.0879542082820159,
           0.09081008562610285,
           0.09319166635597506,
           0.09516295107210986,
           0.0967744203967645,
           0.0980667693302775,
           0.09907337244215278,
           0.09982204323029721,
           0.10033625061694539,
           0.10063602420803412,
           0.10073862813717271,
           0.10065907247764783,
           0.10041050863318127,
           0.10000453985394023,
           0.09945146718436867,
           0.09876048656793968,
           0.0979398516412262,
           0.09699700315449153,
           0.09593867575944223,
           0.09477100174083822,
           0.09349956240822155,
           0.09212947338714947,
           0.09066543582645573
          ],
          [
           0.0393814761933135,
           0.0526314121896121,
           0.062167902000153916,
           0.06957664340912635,
           0.07554751700748144,
           0.08045760375278121,
           0.08454073349777093,
           0.08795420832836374,
           0.0908100894572819,
           0.09319166634616388,
           0.09516295119458901,
           0.09677442280666797,
           0.0980667685677301,
           0.09907337231557321,
           0.09982204197546687,
           0.10033625060346348,
           0.1006360248098348,
           0.10073862836424963,
           0.10065907234178775,
           0.10041050861178621,
           0.10000453974516088,
           0.09945146695230983,
           0.09876048743994054,
           0.09793985168716193,
           0.09699700312622003,
           0.09593867824830526,
           0.09477100192740001,
           0.09349956144370847,
           0.09212947464777133,
           0.09066543583683684
          ],
          [
           0.03938147620053718,
           0.05263141219439259,
           0.06216790188063111,
           0.06957664325322147,
           0.07554751701610687,
           0.08045760355384421,
           0.0845407334948309,
           0.0879542082936494,
           0.09081008565040274,
           0.09319166660015812,
           0.09516294934235822,
           0.09677442279645788,
           0.09806676867323888,
           0.09907337225371463,
           0.09982204320102021,
           0.10033625054143734,
           0.10063602508332534,
           0.10073862794315319,
           0.10065907250782669,
           0.10041050862484416,
           0.10000453975726076,
           0.09945146716207307,
           0.09876048661729861,
           0.0979398516685927,
           0.09699700259137423,
           0.09593867821537588,
           0.09477100168728023,
           0.0934995616079431,
           0.09212947376595546,
           0.09066543575002828
          ],
          [
           0.039381475448603036,
           0.05263141227161144,
           0.06216790207636063,
           0.06957664320111837,
           0.07554751707019039,
           0.08045760385611381,
           0.08454073444118582,
           0.08795420823512766,
           0.09081008594167699,
           0.09319166638376981,
           0.0951629513095654,
           0.0967744230982455,
           0.0980667691804282,
           0.09907337229689382,
           0.0998220432915613,
           0.10033625058190522,
           0.1006360242208658,
           0.100738628127649,
           0.10065907350317893,
           0.10041050860524245,
           0.10000453979405438,
           0.09945146687952311,
           0.09876048653665195,
           0.09794003918057265,
           0.0969970030946034,
           0.0959386782623195,
           0.09477100163406874,
           0.09349956163545714,
           0.09212947370160254,
           0.09066543578009276
          ],
          [
           0.039381475939897645,
           0.052631411989242705,
           0.06216790201860694,
           0.06957664323817371,
           0.07554751706170268,
           0.08045760382086689,
           0.08454073341798882,
           0.08795420828162528,
           0.09081008594132489,
           0.09319166634827522,
           0.09516295035903492,
           0.09677442314388914,
           0.09806676853619513,
           0.09907337244050074,
           0.0998220432955982,
           0.10033625062497419,
           0.10063602417724621,
           0.10073863078606593,
           0.10065907238305802,
           0.10041050871942137,
           0.10000453995105671,
           0.09945146686184472,
           0.09876048671943322,
           0.09793985186910917,
           0.09699700455692206,
           0.09593867834506595,
           0.09477100169048053,
           0.09349956613335472,
           0.09212947415934958,
           0.09066543584712017
          ],
          [
           0.03938147604435875,
           0.05263141200448421,
           0.06216790277962683,
           0.06957664237112096,
           0.07554751717968136,
           0.08045762293104278,
           0.08454073350867379,
           0.08795420722001568,
           0.09081008561466132,
           0.09319166636741566,
           0.09516295098117714,
           0.09677442282687772,
           0.09806676830141796,
           0.09907337267713749,
           0.09982204328670688,
           0.10033625059652147,
           0.10063602417980691,
           0.10073862847919707,
           0.10065907242004885,
           0.10041050874186958,
           0.1000045398667821,
           0.09945146661725349,
           0.09876048656770925,
           0.09793985171988787,
           0.09699700309547526,
           0.09593867829275915,
           0.09477100169065922,
           0.09349956161524509,
           0.09212947366888208,
           0.09066543587733722
          ]
         ]
        }
       ],
       "layout": {
        "height": 700,
        "margin": {
         "b": 65,
         "l": 50,
         "r": 50,
         "t": 90
        },
        "scene": {
         "aspectratio": {
          "x": 1,
          "y": 1,
          "z": 1
         },
         "camera": {
          "eye": {
           "x": 1.5,
           "y": -1.5,
           "z": 2
          }
         },
         "xaxis": {
          "title": {
           "text": "x - Capital k"
          }
         },
         "yaxis": {
          "title": {
           "text": "y - Debt b"
          }
         },
         "zaxis": {
          "title": {
           "text": "z - Firm Value V"
          }
         }
        },
        "template": {
         "data": {
          "bar": [
           {
            "error_x": {
             "color": "#2a3f5f"
            },
            "error_y": {
             "color": "#2a3f5f"
            },
            "marker": {
             "line": {
              "color": "#E5ECF6",
              "width": 0.5
             },
             "pattern": {
              "fillmode": "overlay",
              "size": 10,
              "solidity": 0.2
             }
            },
            "type": "bar"
           }
          ],
          "barpolar": [
           {
            "marker": {
             "line": {
              "color": "#E5ECF6",
              "width": 0.5
             },
             "pattern": {
              "fillmode": "overlay",
              "size": 10,
              "solidity": 0.2
             }
            },
            "type": "barpolar"
           }
          ],
          "carpet": [
           {
            "aaxis": {
             "endlinecolor": "#2a3f5f",
             "gridcolor": "white",
             "linecolor": "white",
             "minorgridcolor": "white",
             "startlinecolor": "#2a3f5f"
            },
            "baxis": {
             "endlinecolor": "#2a3f5f",
             "gridcolor": "white",
             "linecolor": "white",
             "minorgridcolor": "white",
             "startlinecolor": "#2a3f5f"
            },
            "type": "carpet"
           }
          ],
          "choropleth": [
           {
            "colorbar": {
             "outlinewidth": 0,
             "ticks": ""
            },
            "type": "choropleth"
           }
          ],
          "contour": [
           {
            "colorbar": {
             "outlinewidth": 0,
             "ticks": ""
            },
            "colorscale": [
             [
              0,
              "#0d0887"
             ],
             [
              0.1111111111111111,
              "#46039f"
             ],
             [
              0.2222222222222222,
              "#7201a8"
             ],
             [
              0.3333333333333333,
              "#9c179e"
             ],
             [
              0.4444444444444444,
              "#bd3786"
             ],
             [
              0.5555555555555556,
              "#d8576b"
             ],
             [
              0.6666666666666666,
              "#ed7953"
             ],
             [
              0.7777777777777778,
              "#fb9f3a"
             ],
             [
              0.8888888888888888,
              "#fdca26"
             ],
             [
              1,
              "#f0f921"
             ]
            ],
            "type": "contour"
           }
          ],
          "contourcarpet": [
           {
            "colorbar": {
             "outlinewidth": 0,
             "ticks": ""
            },
            "type": "contourcarpet"
           }
          ],
          "heatmap": [
           {
            "colorbar": {
             "outlinewidth": 0,
             "ticks": ""
            },
            "colorscale": [
             [
              0,
              "#0d0887"
             ],
             [
              0.1111111111111111,
              "#46039f"
             ],
             [
              0.2222222222222222,
              "#7201a8"
             ],
             [
              0.3333333333333333,
              "#9c179e"
             ],
             [
              0.4444444444444444,
              "#bd3786"
             ],
             [
              0.5555555555555556,
              "#d8576b"
             ],
             [
              0.6666666666666666,
              "#ed7953"
             ],
             [
              0.7777777777777778,
              "#fb9f3a"
             ],
             [
              0.8888888888888888,
              "#fdca26"
             ],
             [
              1,
              "#f0f921"
             ]
            ],
            "type": "heatmap"
           }
          ],
          "heatmapgl": [
           {
            "colorbar": {
             "outlinewidth": 0,
             "ticks": ""
            },
            "colorscale": [
             [
              0,
              "#0d0887"
             ],
             [
              0.1111111111111111,
              "#46039f"
             ],
             [
              0.2222222222222222,
              "#7201a8"
             ],
             [
              0.3333333333333333,
              "#9c179e"
             ],
             [
              0.4444444444444444,
              "#bd3786"
             ],
             [
              0.5555555555555556,
              "#d8576b"
             ],
             [
              0.6666666666666666,
              "#ed7953"
             ],
             [
              0.7777777777777778,
              "#fb9f3a"
             ],
             [
              0.8888888888888888,
              "#fdca26"
             ],
             [
              1,
              "#f0f921"
             ]
            ],
            "type": "heatmapgl"
           }
          ],
          "histogram": [
           {
            "marker": {
             "pattern": {
              "fillmode": "overlay",
              "size": 10,
              "solidity": 0.2
             }
            },
            "type": "histogram"
           }
          ],
          "histogram2d": [
           {
            "colorbar": {
             "outlinewidth": 0,
             "ticks": ""
            },
            "colorscale": [
             [
              0,
              "#0d0887"
             ],
             [
              0.1111111111111111,
              "#46039f"
             ],
             [
              0.2222222222222222,
              "#7201a8"
             ],
             [
              0.3333333333333333,
              "#9c179e"
             ],
             [
              0.4444444444444444,
              "#bd3786"
             ],
             [
              0.5555555555555556,
              "#d8576b"
             ],
             [
              0.6666666666666666,
              "#ed7953"
             ],
             [
              0.7777777777777778,
              "#fb9f3a"
             ],
             [
              0.8888888888888888,
              "#fdca26"
             ],
             [
              1,
              "#f0f921"
             ]
            ],
            "type": "histogram2d"
           }
          ],
          "histogram2dcontour": [
           {
            "colorbar": {
             "outlinewidth": 0,
             "ticks": ""
            },
            "colorscale": [
             [
              0,
              "#0d0887"
             ],
             [
              0.1111111111111111,
              "#46039f"
             ],
             [
              0.2222222222222222,
              "#7201a8"
             ],
             [
              0.3333333333333333,
              "#9c179e"
             ],
             [
              0.4444444444444444,
              "#bd3786"
             ],
             [
              0.5555555555555556,
              "#d8576b"
             ],
             [
              0.6666666666666666,
              "#ed7953"
             ],
             [
              0.7777777777777778,
              "#fb9f3a"
             ],
             [
              0.8888888888888888,
              "#fdca26"
             ],
             [
              1,
              "#f0f921"
             ]
            ],
            "type": "histogram2dcontour"
           }
          ],
          "mesh3d": [
           {
            "colorbar": {
             "outlinewidth": 0,
             "ticks": ""
            },
            "type": "mesh3d"
           }
          ],
          "parcoords": [
           {
            "line": {
             "colorbar": {
              "outlinewidth": 0,
              "ticks": ""
             }
            },
            "type": "parcoords"
           }
          ],
          "pie": [
           {
            "automargin": true,
            "type": "pie"
           }
          ],
          "scatter": [
           {
            "marker": {
             "colorbar": {
              "outlinewidth": 0,
              "ticks": ""
             }
            },
            "type": "scatter"
           }
          ],
          "scatter3d": [
           {
            "line": {
             "colorbar": {
              "outlinewidth": 0,
              "ticks": ""
             }
            },
            "marker": {
             "colorbar": {
              "outlinewidth": 0,
              "ticks": ""
             }
            },
            "type": "scatter3d"
           }
          ],
          "scattercarpet": [
           {
            "marker": {
             "colorbar": {
              "outlinewidth": 0,
              "ticks": ""
             }
            },
            "type": "scattercarpet"
           }
          ],
          "scattergeo": [
           {
            "marker": {
             "colorbar": {
              "outlinewidth": 0,
              "ticks": ""
             }
            },
            "type": "scattergeo"
           }
          ],
          "scattergl": [
           {
            "marker": {
             "colorbar": {
              "outlinewidth": 0,
              "ticks": ""
             }
            },
            "type": "scattergl"
           }
          ],
          "scattermapbox": [
           {
            "marker": {
             "colorbar": {
              "outlinewidth": 0,
              "ticks": ""
             }
            },
            "type": "scattermapbox"
           }
          ],
          "scatterpolar": [
           {
            "marker": {
             "colorbar": {
              "outlinewidth": 0,
              "ticks": ""
             }
            },
            "type": "scatterpolar"
           }
          ],
          "scatterpolargl": [
           {
            "marker": {
             "colorbar": {
              "outlinewidth": 0,
              "ticks": ""
             }
            },
            "type": "scatterpolargl"
           }
          ],
          "scatterternary": [
           {
            "marker": {
             "colorbar": {
              "outlinewidth": 0,
              "ticks": ""
             }
            },
            "type": "scatterternary"
           }
          ],
          "surface": [
           {
            "colorbar": {
             "outlinewidth": 0,
             "ticks": ""
            },
            "colorscale": [
             [
              0,
              "#0d0887"
             ],
             [
              0.1111111111111111,
              "#46039f"
             ],
             [
              0.2222222222222222,
              "#7201a8"
             ],
             [
              0.3333333333333333,
              "#9c179e"
             ],
             [
              0.4444444444444444,
              "#bd3786"
             ],
             [
              0.5555555555555556,
              "#d8576b"
             ],
             [
              0.6666666666666666,
              "#ed7953"
             ],
             [
              0.7777777777777778,
              "#fb9f3a"
             ],
             [
              0.8888888888888888,
              "#fdca26"
             ],
             [
              1,
              "#f0f921"
             ]
            ],
            "type": "surface"
           }
          ],
          "table": [
           {
            "cells": {
             "fill": {
              "color": "#EBF0F8"
             },
             "line": {
              "color": "white"
             }
            },
            "header": {
             "fill": {
              "color": "#C8D4E3"
             },
             "line": {
              "color": "white"
             }
            },
            "type": "table"
           }
          ]
         },
         "layout": {
          "annotationdefaults": {
           "arrowcolor": "#2a3f5f",
           "arrowhead": 0,
           "arrowwidth": 1
          },
          "autotypenumbers": "strict",
          "coloraxis": {
           "colorbar": {
            "outlinewidth": 0,
            "ticks": ""
           }
          },
          "colorscale": {
           "diverging": [
            [
             0,
             "#8e0152"
            ],
            [
             0.1,
             "#c51b7d"
            ],
            [
             0.2,
             "#de77ae"
            ],
            [
             0.3,
             "#f1b6da"
            ],
            [
             0.4,
             "#fde0ef"
            ],
            [
             0.5,
             "#f7f7f7"
            ],
            [
             0.6,
             "#e6f5d0"
            ],
            [
             0.7,
             "#b8e186"
            ],
            [
             0.8,
             "#7fbc41"
            ],
            [
             0.9,
             "#4d9221"
            ],
            [
             1,
             "#276419"
            ]
           ],
           "sequential": [
            [
             0,
             "#0d0887"
            ],
            [
             0.1111111111111111,
             "#46039f"
            ],
            [
             0.2222222222222222,
             "#7201a8"
            ],
            [
             0.3333333333333333,
             "#9c179e"
            ],
            [
             0.4444444444444444,
             "#bd3786"
            ],
            [
             0.5555555555555556,
             "#d8576b"
            ],
            [
             0.6666666666666666,
             "#ed7953"
            ],
            [
             0.7777777777777778,
             "#fb9f3a"
            ],
            [
             0.8888888888888888,
             "#fdca26"
            ],
            [
             1,
             "#f0f921"
            ]
           ],
           "sequentialminus": [
            [
             0,
             "#0d0887"
            ],
            [
             0.1111111111111111,
             "#46039f"
            ],
            [
             0.2222222222222222,
             "#7201a8"
            ],
            [
             0.3333333333333333,
             "#9c179e"
            ],
            [
             0.4444444444444444,
             "#bd3786"
            ],
            [
             0.5555555555555556,
             "#d8576b"
            ],
            [
             0.6666666666666666,
             "#ed7953"
            ],
            [
             0.7777777777777778,
             "#fb9f3a"
            ],
            [
             0.8888888888888888,
             "#fdca26"
            ],
            [
             1,
             "#f0f921"
            ]
           ]
          },
          "colorway": [
           "#636efa",
           "#EF553B",
           "#00cc96",
           "#ab63fa",
           "#FFA15A",
           "#19d3f3",
           "#FF6692",
           "#B6E880",
           "#FF97FF",
           "#FECB52"
          ],
          "font": {
           "color": "#2a3f5f"
          },
          "geo": {
           "bgcolor": "white",
           "lakecolor": "white",
           "landcolor": "#E5ECF6",
           "showlakes": true,
           "showland": true,
           "subunitcolor": "white"
          },
          "hoverlabel": {
           "align": "left"
          },
          "hovermode": "closest",
          "mapbox": {
           "style": "light"
          },
          "paper_bgcolor": "white",
          "plot_bgcolor": "#E5ECF6",
          "polar": {
           "angularaxis": {
            "gridcolor": "white",
            "linecolor": "white",
            "ticks": ""
           },
           "bgcolor": "#E5ECF6",
           "radialaxis": {
            "gridcolor": "white",
            "linecolor": "white",
            "ticks": ""
           }
          },
          "scene": {
           "xaxis": {
            "backgroundcolor": "#E5ECF6",
            "gridcolor": "white",
            "gridwidth": 2,
            "linecolor": "white",
            "showbackground": true,
            "ticks": "",
            "zerolinecolor": "white"
           },
           "yaxis": {
            "backgroundcolor": "#E5ECF6",
            "gridcolor": "white",
            "gridwidth": 2,
            "linecolor": "white",
            "showbackground": true,
            "ticks": "",
            "zerolinecolor": "white"
           },
           "zaxis": {
            "backgroundcolor": "#E5ECF6",
            "gridcolor": "white",
            "gridwidth": 2,
            "linecolor": "white",
            "showbackground": true,
            "ticks": "",
            "zerolinecolor": "white"
           }
          },
          "shapedefaults": {
           "line": {
            "color": "#2a3f5f"
           }
          },
          "ternary": {
           "aaxis": {
            "gridcolor": "white",
            "linecolor": "white",
            "ticks": ""
           },
           "baxis": {
            "gridcolor": "white",
            "linecolor": "white",
            "ticks": ""
           },
           "bgcolor": "#E5ECF6",
           "caxis": {
            "gridcolor": "white",
            "linecolor": "white",
            "ticks": ""
           }
          },
          "title": {
           "x": 0.05
          },
          "xaxis": {
           "automargin": true,
           "gridcolor": "white",
           "linecolor": "white",
           "ticks": "",
           "title": {
            "standoff": 15
           },
           "zerolinecolor": "white",
           "zerolinewidth": 2
          },
          "yaxis": {
           "automargin": true,
           "gridcolor": "white",
           "linecolor": "white",
           "ticks": "",
           "title": {
            "standoff": 15
           },
           "zerolinecolor": "white",
           "zerolinewidth": 2
          }
         }
        },
        "title": {
         "text": "Equilibrium firm valuation for the grid of (k,b)"
        },
        "width": 700
       }
      }
     },
     "metadata": {},
     "output_type": "display_data"
    }
   ],
   "source": [
    "fig = go.Figure(data=[go.Scatter3d(x=[kss],\n",
    "y=[bss],\n",
    "z=[Vss],\n",
    "mode='markers',\n",
    "marker=dict(size=3, color='red')),\n",
    "go.Surface(x=kgrid,\n",
    "y=bgrid,\n",
    "z=Vgrid,\n",
    "colorscale='Blues',opacity=0.6)])\n",
    "fig.update_layout(scene = dict(\n",
    "xaxis_title='x - Capital k',\n",
    "yaxis_title='y - Debt b',\n",
    "zaxis_title='z - Firm Value V',\n",
    "aspectratio = dict(x=1,y=1,z=1)),\n",
    "width=700,\n",
    "height=700,\n",
    "margin=dict(l=50, r=50, b=65, t=90))\n",
    "fig.update_layout(scene_camera=dict(eye=dict(x=1.5, y=-1.5, z=2)))\n",
    "fig.update_layout(title='Equilibrium firm valuation for the grid of (k,b)')\n",
    "# Export to PNG file\n",
    "# Image(fig.to_image(format=\"png\"))\n",
    "# fig.show() will provide interactive plot when running\n",
    "# code locally"
   ]
  },
  {
   "cell_type": "code",
   "execution_count": 19,
   "metadata": {},
   "outputs": [],
   "source": [
    "def off_eq_check(mdl,kss,bss,e=0.1):\n",
    "    # Big K and big B\n",
    "    k       = kss\n",
    "    b       = bss + e\n",
    "    # Load parameters\n",
    "    psi1    = mdl.psi1\n",
    "    psi2    = mdl.psi2\n",
    "    alpha   = mdl.alpha\n",
    "    A       = mdl.A\n",
    "    beta    = mdl.beta\n",
    "    bound   = mdl.bound\n",
    "    Vl      = mdl.Vl\n",
    "    Vh      = mdl.Vh\n",
    "    kbot    = mdl.kbot\n",
    "    ktop    = mdl.ktop\n",
    "    bbot    = mdl.bbot\n",
    "    btop    = mdl.btop\n",
    "    w10     = mdl.w10\n",
    "    w20     = mdl.w20\n",
    "    theta10 = mdl.theta10\n",
    "    theta20 = mdl.theta20\n",
    "    w11     = mdl.w11\n",
    "    w21     = mdl.w21\n",
    "    g       = mdl.g\n",
    "    Y = njit(lambda epsilon , fk: np.exp(epsilon)*fk)\n",
    "    intqq1  = njit(lambda epsilon, fk, theta1, psi1, xi1, b: (w11(epsilon) + theta1*(Y(epsilon, fk) - b) + xi1)**(-psi1)*(Y(epsilon, fk) - b)*g(epsilon))\n",
    "    intpp1a = njit(lambda epsilon, fk, psi1, xi1, b: (Y(epsilon, fk)/b)*(w11(epsilon) + Y(epsilon, fk)/b*xi1)**(-psi1)*g(epsilon))\n",
    "    intpp1b = njit(lambda epsilon, fk, theta1, psi1, xi1, b: (w11(epsilon) + theta1*(Y(epsilon, fk)-b) + xi1)**(-psi1)*g(epsilon))\n",
    "    intpp2a = njit(lambda epsilon, fk, psi2, xi2, b: (Y(epsilon, fk)/b)*(w21(epsilon) + Y(epsilon, fk)/b*xi2)**(-psi2)*g(epsilon))\n",
    "    intpp2b = njit(lambda epsilon, fk, theta2, psi2, xi2, b: (w21(epsilon) + theta2*(Y(epsilon, fk)-b) + xi2)**(-psi2)*g(epsilon))\n",
    "    intqq2  = njit(lambda epsilon, fk, theta2, psi2, b: (w21(epsilon) + theta2*(Y(epsilon, fk)-b) + b)**(-psi2)*(Y(epsilon, fk) - b)*g(epsilon))\n",
    "    # Loop: Find fixed points V, q and p\n",
    "    V_crit = 1\n",
    "    while V_crit>1e-5:\n",
    "        # We begin by adding the guess for the value of the firm to endowment\n",
    "        V = (Vl+Vh)/2\n",
    "        ww10 = w10 + theta10*V\n",
    "        ww20 = w20 + theta20*V\n",
    "        # Production\n",
    "        fk = A*(k**alpha)\n",
    "        # Y = lambda : np.exp()*fk\n",
    "        # Compute integration threshold\n",
    "        epstar = np.log(b/fk)\n",
    "        #**************************************************************\n",
    "        # Compute the prices and allocations consistent with consumers'\n",
    "        # Euler equations\n",
    "        #**************************************************************\n",
    "        # We impose the following:\n",
    "        # Agent 1 buys equity\n",
    "        # Agent 2 buys equity and all debt\n",
    "        # Agents trade such that prices converge\n",
    "        #========\n",
    "        # Agent 1\n",
    "        #========\n",
    "        # Holdings\n",
    "        xi1a = 0\n",
    "        xi1b = b/2\n",
    "        p = 0.3\n",
    "        while abs(xi1b - xi1a) > 0.001:\n",
    "            xi1 = (xi1a + xi1b) / 2\n",
    "            theta1a = 0.3\n",
    "            theta1b = 1\n",
    "            while abs(theta1b - theta1a) > (0.001/b):\n",
    "                theta1 = (theta1a + theta1b) / 2\n",
    "                # qq1 is the equity price consistent with agent-1 Euler Equation\n",
    "                ## Note: Price is in the date-0 budget constraint of the agent\n",
    "                ## First, compute the constant term that is not influenced by q\n",
    "                ## that is, E[u'(c^{1}_{1})d^{e}(k,B)]\n",
    "                # intqq1 = lambda : (w11() + 1*(Y(, fk) - b) + 1)**(-1)*(Y(,fk) - b)*g()\n",
    "                # const_qq1 =  * quad(intqq1,epstar,bound)[0]\n",
    "                const_qq1 = beta * quad(intqq1,epstar,bound, args=(fk, theta1, psi1, xi1, b))[0]\n",
    "                ## Second, iterate to get the equity price q\n",
    "                qq1l = 0\n",
    "                qq1h = ww10\n",
    "                diff = 1\n",
    "                while diff > 1e-7:\n",
    "                    qq1 = (qq1l+qq1h)/2\n",
    "                    rhs = const_qq1/((ww10-qq1*theta1-p*xi1)**(-psi1));\n",
    "                    if (rhs > qq1):\n",
    "                        qq1l = qq1\n",
    "                    else:\n",
    "                        qq1h = qq1\n",
    "                    diff = abs(qq1l-qq1h)\n",
    "                # pp1 is the bond price consistent with agent-2 Euler Equation\n",
    "                ## Note: Price is in the date-0 budget constraint of the agent\n",
    "                ## First, compute the constant term that is not influenced by p\n",
    "                ## that is, E[u'(c^{1}_{1})d^{b}(k,B)]\n",
    "                # intpp1a = lambda : (Y(, fk)/b)*(w11() + Y(, fk)/b*1)**(-1)*g()\n",
    "                # intpp1b = lambda : (w11() + 1*(Y(, fk)-b) + 1)**(-1)*g()\n",
    "                # const_pp1 =  * (quad(intpp1a,-bound,epstar)[0] + quad(intpp1b,epstar,bound)[0])\n",
    "                const_pp1 = beta * (quad(intpp1a,-bound,epstar, args=(fk, psi1, xi1, b))[0] \\\n",
    "                                    + quad(intpp1b,epstar,bound, args=(fk, theta1, psi1, xi1,b))[0])\n",
    "                ## iterate to get the bond price p\n",
    "                pp1l = 0\n",
    "                pp1h = ww10/b\n",
    "                diff = 1\n",
    "                while diff > 1e-7:\n",
    "                    pp1 = (pp1l+pp1h)/2\n",
    "                    rhs = const_pp1/((ww10-qq1*theta1-pp1*xi1)**(-psi1))\n",
    "                    if (rhs > pp1):\n",
    "                        pp1l = pp1\n",
    "                    else:\n",
    "                        pp1h = pp1\n",
    "                    diff = abs(pp1l-pp1h)\n",
    "                #========\n",
    "                # Agent 2\n",
    "                #========\n",
    "                xi2 = b - xi1\n",
    "                theta2 = 1 - theta1\n",
    "                # pp2 is the bond price consistent with agent-2 Euler Equation\n",
    "                ## Note: Price is in the date-0 budget constraint of the agent\n",
    "                ## First, compute the constant term that is not influenced by p\n",
    "                ## that is, E[u'(c^{2}_{1})d^{b}(k,B)]\n",
    "                # intpp2a = lambda : (Y(, fk)/b)*(w21() + Y(, fk)/b*2)**(-2)*g()\n",
    "                # intpp2b = lambda : (w21() + 2*(Y(, fk)-b) + 2)**(-2)*g()\n",
    "                # const_pp2 =  * (quad(intpp2a,-bound,epstar)[0] + quad(intpp2b,epstar,bound)[0])\n",
    "                const_pp2 = beta * (quad(intpp2a,-bound,epstar, args=(fk, psi2, xi2, b))[0]\\\n",
    "                                    + quad(intpp2b,epstar,bound, args=(fk, theta2, psi2, xi2,b))[0])\n",
    "                ## iterate to get the bond price p\n",
    "                pp2l = 0\n",
    "                pp2h = ww20/b\n",
    "                diff = 1\n",
    "                while diff > 1e-7:\n",
    "                    pp2 = (pp2l+pp2h)/2\n",
    "                    rhs = const_pp2/((ww20-qq1*theta2-pp2*xi2)**(-psi2))\n",
    "                    if (rhs > pp2):\n",
    "                        pp2l = pp2\n",
    "                    else:\n",
    "                        pp2h = pp2\n",
    "                    diff = abs(pp2l-pp2h)\n",
    "                # p be the maximum valuation for the bond among agents\n",
    "                ## This will be the equity price based on Makowski's criterion\n",
    "                p = max(pp1,pp2)\n",
    "                # qq2 is the equity price consistent with agent-2 Euler Equation\n",
    "                # intqq2 = lambda : (w21() + 2*(Y(, fk)-b) + b)**(-2)*(Y(, fk)- b)*g()\n",
    "                # const_qq2 =  * quad(intqq2,epstar,bound)[0]\n",
    "                const_qq2 = beta * quad(intqq2,epstar,bound, args=(fk, theta2, psi2, b))[0]\n",
    "                qq2l = 0\n",
    "                qq2h = ww20\n",
    "                diff = 1\n",
    "                while diff > 1e-7:\n",
    "                    qq2 = (qq2l+qq2h)/2\n",
    "                    rhs = const_qq2/((ww20-qq2*theta2-p*xi2)**(-psi2))\n",
    "                    if (rhs > qq2):\n",
    "                        qq2l = qq2\n",
    "                    else:\n",
    "                        qq2h = qq2\n",
    "                    diff = abs(qq2l-qq2h)\n",
    "                # q be the maximum valuation for the equity among agents\n",
    "                ## This will be the equity price based on Makowski's criterion\n",
    "                q = max(qq1,qq2)\n",
    "                #================\n",
    "                # Update holdings\n",
    "                #================\n",
    "                if qq1 > qq2:\n",
    "                    theta1a = theta1\n",
    "                else:\n",
    "                    theta1b = theta1\n",
    "            #print(p,q,1,1)\n",
    "            if pp1 > pp2:\n",
    "                xi1a = xi1\n",
    "            else:\n",
    "                xi1b = xi1\n",
    "        #================\n",
    "        # Get consumption\n",
    "        #================\n",
    "        c10 = ww10 - q*theta1 - p*xi1\n",
    "        c11 = lambda epsilon: w11(epsilon) + theta1*max(Y(epsilon, fk)-b,0) + xi1*min(Y(epsilon, fk)/b,1)\n",
    "        c20 = ww20 - q*(1-theta1) - p*(b-xi1)\n",
    "        c21 = lambda epsilon: w21(epsilon) + (1-theta1)*max(Y(epsilon, fk)-b,0) + (b-xi1)*min(Y(epsilon, fk)/b,1)\n",
    "        # Compute the value of the firm\n",
    "        value_x = -k + q + p*b\n",
    "        if (value_x > V):\n",
    "            Vl = V\n",
    "        else:\n",
    "            Vh = V\n",
    "        V_crit = abs(value_x-V)\n",
    "    return V,k,b,p,q,c10,c11,c20,c21,xi1"
   ]
  },
  {
   "cell_type": "code",
   "execution_count": 22,
   "metadata": {},
   "outputs": [
    {
     "name": "stdout",
     "output_type": "stream",
     "text": [
      "Maximum valuation of the firm value in the (k,b) grid: 0.1191\n",
      "Equilibrium firm value: 0.1118\n"
     ]
    },
    {
     "data": {
      "application/vnd.plotly.v1+json": {
       "config": {
        "plotlyServerURL": "https://plot.ly"
       },
       "data": [
        {
         "marker": {
          "color": "red",
          "size": 3
         },
         "mode": "markers",
         "type": "scatter3d",
         "x": [
          0.15111572265625
         ],
         "y": [
          0.3843666076660157
         ],
         "z": [
          0.11175537109375
         ]
        },
        {
         "colorscale": [
          [
           0,
           "rgb(247,252,245)"
          ],
          [
           0.125,
           "rgb(229,245,224)"
          ],
          [
           0.25,
           "rgb(199,233,192)"
          ],
          [
           0.375,
           "rgb(161,217,155)"
          ],
          [
           0.5,
           "rgb(116,196,118)"
          ],
          [
           0.625,
           "rgb(65,171,93)"
          ],
          [
           0.75,
           "rgb(35,139,69)"
          ],
          [
           0.875,
           "rgb(0,109,44)"
          ],
          [
           1,
           "rgb(0,68,27)"
          ]
         ],
         "opacity": 0.6,
         "type": "surface",
         "x": [
          [
           0.01,
           0.02263157894736842,
           0.035263157894736843,
           0.04789473684210526,
           0.060526315789473685,
           0.0731578947368421,
           0.08578947368421051,
           0.09842105263157894,
           0.11105263157894736,
           0.12368421052631579,
           0.13631578947368422,
           0.14894736842105263,
           0.16157894736842104,
           0.17421052631578948,
           0.1868421052631579,
           0.19947368421052633,
           0.21210526315789474,
           0.22473684210526315,
           0.2373684210526316,
           0.25
          ],
          [
           0.01,
           0.02263157894736842,
           0.035263157894736843,
           0.04789473684210526,
           0.060526315789473685,
           0.0731578947368421,
           0.08578947368421051,
           0.09842105263157894,
           0.11105263157894736,
           0.12368421052631579,
           0.13631578947368422,
           0.14894736842105263,
           0.16157894736842104,
           0.17421052631578948,
           0.1868421052631579,
           0.19947368421052633,
           0.21210526315789474,
           0.22473684210526315,
           0.2373684210526316,
           0.25
          ],
          [
           0.01,
           0.02263157894736842,
           0.035263157894736843,
           0.04789473684210526,
           0.060526315789473685,
           0.0731578947368421,
           0.08578947368421051,
           0.09842105263157894,
           0.11105263157894736,
           0.12368421052631579,
           0.13631578947368422,
           0.14894736842105263,
           0.16157894736842104,
           0.17421052631578948,
           0.1868421052631579,
           0.19947368421052633,
           0.21210526315789474,
           0.22473684210526315,
           0.2373684210526316,
           0.25
          ],
          [
           0.01,
           0.02263157894736842,
           0.035263157894736843,
           0.04789473684210526,
           0.060526315789473685,
           0.0731578947368421,
           0.08578947368421051,
           0.09842105263157894,
           0.11105263157894736,
           0.12368421052631579,
           0.13631578947368422,
           0.14894736842105263,
           0.16157894736842104,
           0.17421052631578948,
           0.1868421052631579,
           0.19947368421052633,
           0.21210526315789474,
           0.22473684210526315,
           0.2373684210526316,
           0.25
          ],
          [
           0.01,
           0.02263157894736842,
           0.035263157894736843,
           0.04789473684210526,
           0.060526315789473685,
           0.0731578947368421,
           0.08578947368421051,
           0.09842105263157894,
           0.11105263157894736,
           0.12368421052631579,
           0.13631578947368422,
           0.14894736842105263,
           0.16157894736842104,
           0.17421052631578948,
           0.1868421052631579,
           0.19947368421052633,
           0.21210526315789474,
           0.22473684210526315,
           0.2373684210526316,
           0.25
          ],
          [
           0.01,
           0.02263157894736842,
           0.035263157894736843,
           0.04789473684210526,
           0.060526315789473685,
           0.0731578947368421,
           0.08578947368421051,
           0.09842105263157894,
           0.11105263157894736,
           0.12368421052631579,
           0.13631578947368422,
           0.14894736842105263,
           0.16157894736842104,
           0.17421052631578948,
           0.1868421052631579,
           0.19947368421052633,
           0.21210526315789474,
           0.22473684210526315,
           0.2373684210526316,
           0.25
          ],
          [
           0.01,
           0.02263157894736842,
           0.035263157894736843,
           0.04789473684210526,
           0.060526315789473685,
           0.0731578947368421,
           0.08578947368421051,
           0.09842105263157894,
           0.11105263157894736,
           0.12368421052631579,
           0.13631578947368422,
           0.14894736842105263,
           0.16157894736842104,
           0.17421052631578948,
           0.1868421052631579,
           0.19947368421052633,
           0.21210526315789474,
           0.22473684210526315,
           0.2373684210526316,
           0.25
          ],
          [
           0.01,
           0.02263157894736842,
           0.035263157894736843,
           0.04789473684210526,
           0.060526315789473685,
           0.0731578947368421,
           0.08578947368421051,
           0.09842105263157894,
           0.11105263157894736,
           0.12368421052631579,
           0.13631578947368422,
           0.14894736842105263,
           0.16157894736842104,
           0.17421052631578948,
           0.1868421052631579,
           0.19947368421052633,
           0.21210526315789474,
           0.22473684210526315,
           0.2373684210526316,
           0.25
          ],
          [
           0.01,
           0.02263157894736842,
           0.035263157894736843,
           0.04789473684210526,
           0.060526315789473685,
           0.0731578947368421,
           0.08578947368421051,
           0.09842105263157894,
           0.11105263157894736,
           0.12368421052631579,
           0.13631578947368422,
           0.14894736842105263,
           0.16157894736842104,
           0.17421052631578948,
           0.1868421052631579,
           0.19947368421052633,
           0.21210526315789474,
           0.22473684210526315,
           0.2373684210526316,
           0.25
          ],
          [
           0.01,
           0.02263157894736842,
           0.035263157894736843,
           0.04789473684210526,
           0.060526315789473685,
           0.0731578947368421,
           0.08578947368421051,
           0.09842105263157894,
           0.11105263157894736,
           0.12368421052631579,
           0.13631578947368422,
           0.14894736842105263,
           0.16157894736842104,
           0.17421052631578948,
           0.1868421052631579,
           0.19947368421052633,
           0.21210526315789474,
           0.22473684210526315,
           0.2373684210526316,
           0.25
          ],
          [
           0.01,
           0.02263157894736842,
           0.035263157894736843,
           0.04789473684210526,
           0.060526315789473685,
           0.0731578947368421,
           0.08578947368421051,
           0.09842105263157894,
           0.11105263157894736,
           0.12368421052631579,
           0.13631578947368422,
           0.14894736842105263,
           0.16157894736842104,
           0.17421052631578948,
           0.1868421052631579,
           0.19947368421052633,
           0.21210526315789474,
           0.22473684210526315,
           0.2373684210526316,
           0.25
          ],
          [
           0.01,
           0.02263157894736842,
           0.035263157894736843,
           0.04789473684210526,
           0.060526315789473685,
           0.0731578947368421,
           0.08578947368421051,
           0.09842105263157894,
           0.11105263157894736,
           0.12368421052631579,
           0.13631578947368422,
           0.14894736842105263,
           0.16157894736842104,
           0.17421052631578948,
           0.1868421052631579,
           0.19947368421052633,
           0.21210526315789474,
           0.22473684210526315,
           0.2373684210526316,
           0.25
          ],
          [
           0.01,
           0.02263157894736842,
           0.035263157894736843,
           0.04789473684210526,
           0.060526315789473685,
           0.0731578947368421,
           0.08578947368421051,
           0.09842105263157894,
           0.11105263157894736,
           0.12368421052631579,
           0.13631578947368422,
           0.14894736842105263,
           0.16157894736842104,
           0.17421052631578948,
           0.1868421052631579,
           0.19947368421052633,
           0.21210526315789474,
           0.22473684210526315,
           0.2373684210526316,
           0.25
          ],
          [
           0.01,
           0.02263157894736842,
           0.035263157894736843,
           0.04789473684210526,
           0.060526315789473685,
           0.0731578947368421,
           0.08578947368421051,
           0.09842105263157894,
           0.11105263157894736,
           0.12368421052631579,
           0.13631578947368422,
           0.14894736842105263,
           0.16157894736842104,
           0.17421052631578948,
           0.1868421052631579,
           0.19947368421052633,
           0.21210526315789474,
           0.22473684210526315,
           0.2373684210526316,
           0.25
          ],
          [
           0.01,
           0.02263157894736842,
           0.035263157894736843,
           0.04789473684210526,
           0.060526315789473685,
           0.0731578947368421,
           0.08578947368421051,
           0.09842105263157894,
           0.11105263157894736,
           0.12368421052631579,
           0.13631578947368422,
           0.14894736842105263,
           0.16157894736842104,
           0.17421052631578948,
           0.1868421052631579,
           0.19947368421052633,
           0.21210526315789474,
           0.22473684210526315,
           0.2373684210526316,
           0.25
          ],
          [
           0.01,
           0.02263157894736842,
           0.035263157894736843,
           0.04789473684210526,
           0.060526315789473685,
           0.0731578947368421,
           0.08578947368421051,
           0.09842105263157894,
           0.11105263157894736,
           0.12368421052631579,
           0.13631578947368422,
           0.14894736842105263,
           0.16157894736842104,
           0.17421052631578948,
           0.1868421052631579,
           0.19947368421052633,
           0.21210526315789474,
           0.22473684210526315,
           0.2373684210526316,
           0.25
          ],
          [
           0.01,
           0.02263157894736842,
           0.035263157894736843,
           0.04789473684210526,
           0.060526315789473685,
           0.0731578947368421,
           0.08578947368421051,
           0.09842105263157894,
           0.11105263157894736,
           0.12368421052631579,
           0.13631578947368422,
           0.14894736842105263,
           0.16157894736842104,
           0.17421052631578948,
           0.1868421052631579,
           0.19947368421052633,
           0.21210526315789474,
           0.22473684210526315,
           0.2373684210526316,
           0.25
          ],
          [
           0.01,
           0.02263157894736842,
           0.035263157894736843,
           0.04789473684210526,
           0.060526315789473685,
           0.0731578947368421,
           0.08578947368421051,
           0.09842105263157894,
           0.11105263157894736,
           0.12368421052631579,
           0.13631578947368422,
           0.14894736842105263,
           0.16157894736842104,
           0.17421052631578948,
           0.1868421052631579,
           0.19947368421052633,
           0.21210526315789474,
           0.22473684210526315,
           0.2373684210526316,
           0.25
          ],
          [
           0.01,
           0.02263157894736842,
           0.035263157894736843,
           0.04789473684210526,
           0.060526315789473685,
           0.0731578947368421,
           0.08578947368421051,
           0.09842105263157894,
           0.11105263157894736,
           0.12368421052631579,
           0.13631578947368422,
           0.14894736842105263,
           0.16157894736842104,
           0.17421052631578948,
           0.1868421052631579,
           0.19947368421052633,
           0.21210526315789474,
           0.22473684210526315,
           0.2373684210526316,
           0.25
          ],
          [
           0.01,
           0.02263157894736842,
           0.035263157894736843,
           0.04789473684210526,
           0.060526315789473685,
           0.0731578947368421,
           0.08578947368421051,
           0.09842105263157894,
           0.11105263157894736,
           0.12368421052631579,
           0.13631578947368422,
           0.14894736842105263,
           0.16157894736842104,
           0.17421052631578948,
           0.1868421052631579,
           0.19947368421052633,
           0.21210526315789474,
           0.22473684210526315,
           0.2373684210526316,
           0.25
          ]
         ],
         "y": [
          [
           0.1,
           0.1,
           0.1,
           0.1,
           0.1,
           0.1,
           0.1,
           0.1,
           0.1,
           0.1,
           0.1,
           0.1,
           0.1,
           0.1,
           0.1,
           0.1,
           0.1,
           0.1,
           0.1,
           0.1
          ],
          [
           0.1368421052631579,
           0.1368421052631579,
           0.1368421052631579,
           0.1368421052631579,
           0.1368421052631579,
           0.1368421052631579,
           0.1368421052631579,
           0.1368421052631579,
           0.1368421052631579,
           0.1368421052631579,
           0.1368421052631579,
           0.1368421052631579,
           0.1368421052631579,
           0.1368421052631579,
           0.1368421052631579,
           0.1368421052631579,
           0.1368421052631579,
           0.1368421052631579,
           0.1368421052631579,
           0.1368421052631579
          ],
          [
           0.1736842105263158,
           0.1736842105263158,
           0.1736842105263158,
           0.1736842105263158,
           0.1736842105263158,
           0.1736842105263158,
           0.1736842105263158,
           0.1736842105263158,
           0.1736842105263158,
           0.1736842105263158,
           0.1736842105263158,
           0.1736842105263158,
           0.1736842105263158,
           0.1736842105263158,
           0.1736842105263158,
           0.1736842105263158,
           0.1736842105263158,
           0.1736842105263158,
           0.1736842105263158,
           0.1736842105263158
          ],
          [
           0.2105263157894737,
           0.2105263157894737,
           0.2105263157894737,
           0.2105263157894737,
           0.2105263157894737,
           0.2105263157894737,
           0.2105263157894737,
           0.2105263157894737,
           0.2105263157894737,
           0.2105263157894737,
           0.2105263157894737,
           0.2105263157894737,
           0.2105263157894737,
           0.2105263157894737,
           0.2105263157894737,
           0.2105263157894737,
           0.2105263157894737,
           0.2105263157894737,
           0.2105263157894737,
           0.2105263157894737
          ],
          [
           0.2473684210526316,
           0.2473684210526316,
           0.2473684210526316,
           0.2473684210526316,
           0.2473684210526316,
           0.2473684210526316,
           0.2473684210526316,
           0.2473684210526316,
           0.2473684210526316,
           0.2473684210526316,
           0.2473684210526316,
           0.2473684210526316,
           0.2473684210526316,
           0.2473684210526316,
           0.2473684210526316,
           0.2473684210526316,
           0.2473684210526316,
           0.2473684210526316,
           0.2473684210526316,
           0.2473684210526316
          ],
          [
           0.28421052631578947,
           0.28421052631578947,
           0.28421052631578947,
           0.28421052631578947,
           0.28421052631578947,
           0.28421052631578947,
           0.28421052631578947,
           0.28421052631578947,
           0.28421052631578947,
           0.28421052631578947,
           0.28421052631578947,
           0.28421052631578947,
           0.28421052631578947,
           0.28421052631578947,
           0.28421052631578947,
           0.28421052631578947,
           0.28421052631578947,
           0.28421052631578947,
           0.28421052631578947,
           0.28421052631578947
          ],
          [
           0.32105263157894737,
           0.32105263157894737,
           0.32105263157894737,
           0.32105263157894737,
           0.32105263157894737,
           0.32105263157894737,
           0.32105263157894737,
           0.32105263157894737,
           0.32105263157894737,
           0.32105263157894737,
           0.32105263157894737,
           0.32105263157894737,
           0.32105263157894737,
           0.32105263157894737,
           0.32105263157894737,
           0.32105263157894737,
           0.32105263157894737,
           0.32105263157894737,
           0.32105263157894737,
           0.32105263157894737
          ],
          [
           0.35789473684210527,
           0.35789473684210527,
           0.35789473684210527,
           0.35789473684210527,
           0.35789473684210527,
           0.35789473684210527,
           0.35789473684210527,
           0.35789473684210527,
           0.35789473684210527,
           0.35789473684210527,
           0.35789473684210527,
           0.35789473684210527,
           0.35789473684210527,
           0.35789473684210527,
           0.35789473684210527,
           0.35789473684210527,
           0.35789473684210527,
           0.35789473684210527,
           0.35789473684210527,
           0.35789473684210527
          ],
          [
           0.39473684210526316,
           0.39473684210526316,
           0.39473684210526316,
           0.39473684210526316,
           0.39473684210526316,
           0.39473684210526316,
           0.39473684210526316,
           0.39473684210526316,
           0.39473684210526316,
           0.39473684210526316,
           0.39473684210526316,
           0.39473684210526316,
           0.39473684210526316,
           0.39473684210526316,
           0.39473684210526316,
           0.39473684210526316,
           0.39473684210526316,
           0.39473684210526316,
           0.39473684210526316,
           0.39473684210526316
          ],
          [
           0.43157894736842106,
           0.43157894736842106,
           0.43157894736842106,
           0.43157894736842106,
           0.43157894736842106,
           0.43157894736842106,
           0.43157894736842106,
           0.43157894736842106,
           0.43157894736842106,
           0.43157894736842106,
           0.43157894736842106,
           0.43157894736842106,
           0.43157894736842106,
           0.43157894736842106,
           0.43157894736842106,
           0.43157894736842106,
           0.43157894736842106,
           0.43157894736842106,
           0.43157894736842106,
           0.43157894736842106
          ],
          [
           0.46842105263157896,
           0.46842105263157896,
           0.46842105263157896,
           0.46842105263157896,
           0.46842105263157896,
           0.46842105263157896,
           0.46842105263157896,
           0.46842105263157896,
           0.46842105263157896,
           0.46842105263157896,
           0.46842105263157896,
           0.46842105263157896,
           0.46842105263157896,
           0.46842105263157896,
           0.46842105263157896,
           0.46842105263157896,
           0.46842105263157896,
           0.46842105263157896,
           0.46842105263157896,
           0.46842105263157896
          ],
          [
           0.5052631578947369,
           0.5052631578947369,
           0.5052631578947369,
           0.5052631578947369,
           0.5052631578947369,
           0.5052631578947369,
           0.5052631578947369,
           0.5052631578947369,
           0.5052631578947369,
           0.5052631578947369,
           0.5052631578947369,
           0.5052631578947369,
           0.5052631578947369,
           0.5052631578947369,
           0.5052631578947369,
           0.5052631578947369,
           0.5052631578947369,
           0.5052631578947369,
           0.5052631578947369,
           0.5052631578947369
          ],
          [
           0.5421052631578948,
           0.5421052631578948,
           0.5421052631578948,
           0.5421052631578948,
           0.5421052631578948,
           0.5421052631578948,
           0.5421052631578948,
           0.5421052631578948,
           0.5421052631578948,
           0.5421052631578948,
           0.5421052631578948,
           0.5421052631578948,
           0.5421052631578948,
           0.5421052631578948,
           0.5421052631578948,
           0.5421052631578948,
           0.5421052631578948,
           0.5421052631578948,
           0.5421052631578948,
           0.5421052631578948
          ],
          [
           0.5789473684210527,
           0.5789473684210527,
           0.5789473684210527,
           0.5789473684210527,
           0.5789473684210527,
           0.5789473684210527,
           0.5789473684210527,
           0.5789473684210527,
           0.5789473684210527,
           0.5789473684210527,
           0.5789473684210527,
           0.5789473684210527,
           0.5789473684210527,
           0.5789473684210527,
           0.5789473684210527,
           0.5789473684210527,
           0.5789473684210527,
           0.5789473684210527,
           0.5789473684210527,
           0.5789473684210527
          ],
          [
           0.6157894736842106,
           0.6157894736842106,
           0.6157894736842106,
           0.6157894736842106,
           0.6157894736842106,
           0.6157894736842106,
           0.6157894736842106,
           0.6157894736842106,
           0.6157894736842106,
           0.6157894736842106,
           0.6157894736842106,
           0.6157894736842106,
           0.6157894736842106,
           0.6157894736842106,
           0.6157894736842106,
           0.6157894736842106,
           0.6157894736842106,
           0.6157894736842106,
           0.6157894736842106,
           0.6157894736842106
          ],
          [
           0.6526315789473685,
           0.6526315789473685,
           0.6526315789473685,
           0.6526315789473685,
           0.6526315789473685,
           0.6526315789473685,
           0.6526315789473685,
           0.6526315789473685,
           0.6526315789473685,
           0.6526315789473685,
           0.6526315789473685,
           0.6526315789473685,
           0.6526315789473685,
           0.6526315789473685,
           0.6526315789473685,
           0.6526315789473685,
           0.6526315789473685,
           0.6526315789473685,
           0.6526315789473685,
           0.6526315789473685
          ],
          [
           0.6894736842105263,
           0.6894736842105263,
           0.6894736842105263,
           0.6894736842105263,
           0.6894736842105263,
           0.6894736842105263,
           0.6894736842105263,
           0.6894736842105263,
           0.6894736842105263,
           0.6894736842105263,
           0.6894736842105263,
           0.6894736842105263,
           0.6894736842105263,
           0.6894736842105263,
           0.6894736842105263,
           0.6894736842105263,
           0.6894736842105263,
           0.6894736842105263,
           0.6894736842105263,
           0.6894736842105263
          ],
          [
           0.7263157894736842,
           0.7263157894736842,
           0.7263157894736842,
           0.7263157894736842,
           0.7263157894736842,
           0.7263157894736842,
           0.7263157894736842,
           0.7263157894736842,
           0.7263157894736842,
           0.7263157894736842,
           0.7263157894736842,
           0.7263157894736842,
           0.7263157894736842,
           0.7263157894736842,
           0.7263157894736842,
           0.7263157894736842,
           0.7263157894736842,
           0.7263157894736842,
           0.7263157894736842,
           0.7263157894736842
          ],
          [
           0.7631578947368421,
           0.7631578947368421,
           0.7631578947368421,
           0.7631578947368421,
           0.7631578947368421,
           0.7631578947368421,
           0.7631578947368421,
           0.7631578947368421,
           0.7631578947368421,
           0.7631578947368421,
           0.7631578947368421,
           0.7631578947368421,
           0.7631578947368421,
           0.7631578947368421,
           0.7631578947368421,
           0.7631578947368421,
           0.7631578947368421,
           0.7631578947368421,
           0.7631578947368421,
           0.7631578947368421
          ],
          [
           0.8,
           0.8,
           0.8,
           0.8,
           0.8,
           0.8,
           0.8,
           0.8,
           0.8,
           0.8,
           0.8,
           0.8,
           0.8,
           0.8,
           0.8,
           0.8,
           0.8,
           0.8,
           0.8,
           0.8
          ]
         ],
         "z": [
          [
           0.04259012091972689,
           0.06155135618038504,
           0.07458375933274797,
           0.08410341076235892,
           0.09137505568297322,
           0.09703909694103599,
           0.10147506869347599,
           0.10493071626551218,
           0.10757873235620664,
           0.10954541120646924,
           0.11092655294371688,
           0.11179695787691668,
           0.11221636978070258,
           0.11223351142766708,
           0.11188869514644714,
           0.11121577320615181,
           0.11024350809127445,
           0.10899659116527911,
           0.10749641674282162,
           0.10576167080792226
          ],
          [
           0.04274251594521968,
           0.0622591216452334,
           0.07458375907746706,
           0.0841034075353885,
           0.09137505430255424,
           0.09703909883552572,
           0.10147506862195238,
           0.10493071656808647,
           0.10757885134963667,
           0.10954541122245792,
           0.1109265525952341,
           0.11179695009913698,
           0.11221636989967858,
           0.11223351203639619,
           0.11188869637921778,
           0.11121577319143292,
           0.11024350757432234,
           0.10899659071130313,
           0.10749641637178747,
           0.10576167106464504
          ],
          [
           0.042326830267495195,
           0.06341636948247217,
           0.07525370802462625,
           0.08410340759942483,
           0.09137505570473156,
           0.09703909398920721,
           0.10147506853933136,
           0.1049307171455731,
           0.1075787319244972,
           0.10954541123537088,
           0.11092655271357327,
           0.11179694909834045,
           0.11221636991765817,
           0.11223351149564381,
           0.11188870377402871,
           0.11121577323021897,
           0.11024350756632213,
           0.10899659075777622,
           0.10749641814131852,
           0.10576167090860267
          ],
          [
           0.041970905854302305,
           0.06355247537792531,
           0.07669682190590628,
           0.08500554832211035,
           0.09137505575684676,
           0.09703909360599307,
           0.10147506866016216,
           0.10493071754916446,
           0.10757873216916555,
           0.10954541945539895,
           0.11092655498244702,
           0.11179694918006272,
           0.11221636994225676,
           0.11223351142921753,
           0.11188869245519052,
           0.11121577369660907,
           0.11024350847673747,
           0.10899659061469275,
           0.10749641707411027,
           0.10576167245879828
          ],
          [
           0.04176502680551017,
           0.06321876274592628,
           0.07721223519952185,
           0.08649200672531485,
           0.09267448260975383,
           0.09703909582748477,
           0.10147507350177903,
           0.10493071664186195,
           0.1075787322522666,
           0.10954541126660808,
           0.11092655271000208,
           0.11179694876517925,
           0.112216369415565,
           0.11223351154250286,
           0.11188869508101355,
           0.11121577328183997,
           0.11024350828469508,
           0.10899659093674771,
           0.10749641681088849,
           0.10576167102782359
          ],
          [
           0.04166146895157015,
           0.06277923970055119,
           0.07713798205163547,
           0.08717203579076108,
           0.09411073648618955,
           0.09883213013576253,
           0.10194042696660885,
           0.10493071648949207,
           0.10757873196850733,
           0.10954541163994633,
           0.11092655259638728,
           0.11179694886652963,
           0.11221637023003314,
           0.11223351169649626,
           0.11188869526470045,
           0.11121577317295624,
           0.1102435074779021,
           0.10899658936719885,
           0.10749641650339098,
           0.10576167148306231
          ],
          [
           0.04161235091972619,
           0.06239445970395879,
           0.07677948392286404,
           0.08727605999416843,
           0.09484237813187069,
           0.10017770335982804,
           0.1038145346897467,
           0.10614513727571832,
           0.10757774587461638,
           0.10954541135002298,
           0.11092655621868205,
           0.11179694892847859,
           0.11221636979560276,
           0.11223351137028098,
           0.11188869473844895,
           0.11121577335634758,
           0.1102435092195875,
           0.1089965927069686,
           0.10749641638906565,
           0.1057616711833178
          ],
          [
           0.04158957804934578,
           0.06210651738294372,
           0.0763385603699232,
           0.0870374508615745,
           0.09504303672702846,
           0.10090189347295202,
           0.10505182787091345,
           0.10784127607023264,
           0.10954063244187802,
           0.11035681722873891,
           0.11092654706092181,
           0.11179694880918951,
           0.11221636974950752,
           0.11223351149279864,
           0.11188869541857802,
           0.11121577449357728,
           0.1102435074604032,
           0.1089965837617489,
           0.10749641593055384,
           0.10576167293056235
          ],
          [
           0.04157906734433026,
           0.06190777143843096,
           0.07592185229286823,
           0.08663730253028065,
           0.09489485683056294,
           0.10114469538501744,
           0.10573693437172468,
           0.10896389705141578,
           0.11106645340480203,
           0.11223925199466712,
           0.1126376972173857,
           0.11238526071739639,
           0.11221638969837025,
           0.11223351165141221,
           0.11188869513267238,
           0.11121577326805612,
           0.11024350754452253,
           0.10899659066224773,
           0.10749641658346121,
           0.10576167195735711
          ],
          [
           0.04157419008337547,
           0.06177678170995245,
           0.07557254062197152,
           0.0861940262919417,
           0.09455057656252208,
           0.1010530801929134,
           0.10598766055289235,
           0.1095930267263093,
           0.11207395014635954,
           0.11360394663908892,
           0.11432781108412017,
           0.11436509190718286,
           0.11381394769385395,
           0.11275484896966075,
           0.11188869600232512,
           0.11121577319045081,
           0.11024350775718969,
           0.1089965906737356,
           0.10749641659219467,
           0.10576167143037718
          ],
          [
           0.04157190240348099,
           0.06169277815624137,
           0.07529896933898955,
           0.08577414812663751,
           0.09412128012274418,
           0.10075518026593518,
           0.10592603034831474,
           0.10983048872778112,
           0.11263856953401943,
           0.11449914331963826,
           0.11554126706575205,
           0.11587545194874473,
           0.1155954481925932,
           0.11478032940770184,
           0.11349660917658301,
           0.11180021650786835,
           0.11024351253037709,
           0.10899659428055161,
           0.10749641660494469,
           0.10576169154631324
          ],
          [
           0.04157081435309753,
           0.06163976366612804,
           0.07509362156249849,
           0.08540846890848097,
           0.09367897490685487,
           0.10035003065330281,
           0.10566047257503285,
           0.10977984493516757,
           0.11284983024439355,
           0.11499565772335743,
           0.1163288063119251,
           0.11694774275100014,
           0.11693857786591012,
           0.11637601350667078,
           0.11532443301160669,
           0.11383923921145679,
           0.11196794613282611,
           0.10975134493868163,
           0.10749598785665157,
           0.10576167937597172
          ],
          [
           0.04157028871254229,
           0.0616065999141915,
           0.07494370894274466,
           0.08510609814755399,
           0.09326892949810955,
           0.09990724547180664,
           0.10527794604609492,
           0.10953389654739033,
           0.11279708564400584,
           0.11517306831022436,
           0.11675661489136412,
           0.11763323862975014,
           0.11787964775818037,
           0.11756409874262412,
           0.11674689454929778,
           0.11548102245373741,
           0.11381287101063847,
           0.11178296546216682,
           0.10942667724117339,
           0.10677488643640687
          ],
          [
           0.04157003096772162,
           0.0615859365174677,
           0.07483628454280761,
           0.08486457050701311,
           0.092899725182539,
           0.09947154487622656,
           0.10484278884691851,
           0.10916882021317736,
           0.11256061609942666,
           0.11510942572842785,
           0.11689596550497519,
           0.11799357657410663,
           0.11846917560944084,
           0.11838356994529309,
           0.11779165146136818,
           0.11674266543248706,
           0.11528056942778162,
           0.11344445693207214,
           0.1112690021314244,
           0.10878492016908228
          ],
          [
           0.041569902060068505,
           0.06157307575811716,
           0.07476025907616834,
           0.0846762166466177,
           0.09258946737028798,
           0.09906874173370792,
           0.10439922040725491,
           0.10874294359984027,
           0.11220731558187284,
           0.11487482439452354,
           0.11681567637389695,
           0.11809292233310353,
           0.11876439379048825,
           0.11888335087539526,
           0.11849871226254244,
           0.11765516994982528,
           0.116393345281805,
           0.11474998547617266,
           0.1127582078736003,
           0.11044778703958535
          ],
          [
           0.04156983681724727,
           0.061565057494389314,
           0.07470689328177857,
           0.08453181060641629,
           0.09233306825297838,
           0.09871140843943353,
           0.10397529271505468,
           0.10829821408913769,
           0.1117896426493564,
           0.11452824705394231,
           0.11657742450066365,
           0.11799239259348401,
           0.11882329363484875,
           0.1191164650349306,
           0.11891491775576421,
           0.11825850993303291,
           0.11718402895590235,
           0.1157252770583016,
           0.11391318441214854,
           0.11177595706251786
          ],
          [
           0.04156980800320466,
           0.06156004271568288,
           0.07466962580393122,
           0.08442244237383273,
           0.09212531739780902,
           0.09840349148566159,
           0.10358699294079404,
           0.10786290308416625,
           0.11134655631074686,
           0.11411674816825644,
           0.11623344891222787,
           0.11774661147460119,
           0.11870045478135238,
           0.11913546937005143,
           0.11908930633022613,
           0.11859714118192627,
           0.11769181277453264,
           0.11640389448362348,
           0.1147617385117051,
           0.11279154392867777
          ],
          [
           0.04156973998512749,
           0.06155689579176743,
           0.07464367549987919,
           0.08434033231989013,
           0.09195942064069595,
           0.09814374254229734,
           0.10324181693821083,
           0.10745460506967405,
           0.11090544128913468,
           0.11367610854352617,
           0.11582595168965466,
           0.1174020430620135,
           0.11844451636116704,
           0.11898933003744241,
           0.11906962017343631,
           0.11871635562340682,
           0.1179586231944755,
           0.11682375445133864,
           0.11533737318496823,
           0.11352343259453479
          ],
          [
           0.0415697805608215,
           0.06155490853432679,
           0.07462562998170676,
           0.08427906837800125,
           0.09182838106422112,
           0.09792809852318682,
           0.10294168696224487,
           0.10708302885143031,
           0.11048435683796776,
           0.113232266758206,
           0.11538760612650902,
           0.11699657685828294,
           0.11809696765512631,
           0.11872155122309269,
           0.11889994853629843,
           0.11865960028351463,
           0.1180262571035027,
           0.11702421434948962,
           0.11567641867667877,
           0.11400451517276464
          ],
          [
           0.04156977115686705,
           0.06155364857736459,
           0.0746130776301551,
           0.08423354928405181,
           0.09172571718867908,
           0.09775123834111106,
           0.10268504894995709,
           0.10675234121397467,
           0.11009421150049649,
           0.11280304190184379,
           0.11494264673767059,
           0.11655995978280789,
           0.11769189212054501,
           0.1183693118801859,
           0.11861935092835985,
           0.11846669646148178,
           0.11793431159711909,
           0.11704381835145,
           0.11581569010391071,
           0.11426935008388966
          ]
         ]
        }
       ],
       "layout": {
        "height": 700,
        "margin": {
         "b": 65,
         "l": 50,
         "r": 50,
         "t": 90
        },
        "scene": {
         "aspectratio": {
          "x": 1,
          "y": 1,
          "z": 1
         },
         "camera": {
          "eye": {
           "x": 1.5,
           "y": -1.5,
           "z": 2
          }
         },
         "xaxis": {
          "title": {
           "text": "x - Capital k"
          }
         },
         "yaxis": {
          "title": {
           "text": "y - Debt b"
          }
         },
         "zaxis": {
          "title": {
           "text": "z - Firm Value V"
          }
         }
        },
        "template": {
         "data": {
          "bar": [
           {
            "error_x": {
             "color": "#2a3f5f"
            },
            "error_y": {
             "color": "#2a3f5f"
            },
            "marker": {
             "line": {
              "color": "#E5ECF6",
              "width": 0.5
             },
             "pattern": {
              "fillmode": "overlay",
              "size": 10,
              "solidity": 0.2
             }
            },
            "type": "bar"
           }
          ],
          "barpolar": [
           {
            "marker": {
             "line": {
              "color": "#E5ECF6",
              "width": 0.5
             },
             "pattern": {
              "fillmode": "overlay",
              "size": 10,
              "solidity": 0.2
             }
            },
            "type": "barpolar"
           }
          ],
          "carpet": [
           {
            "aaxis": {
             "endlinecolor": "#2a3f5f",
             "gridcolor": "white",
             "linecolor": "white",
             "minorgridcolor": "white",
             "startlinecolor": "#2a3f5f"
            },
            "baxis": {
             "endlinecolor": "#2a3f5f",
             "gridcolor": "white",
             "linecolor": "white",
             "minorgridcolor": "white",
             "startlinecolor": "#2a3f5f"
            },
            "type": "carpet"
           }
          ],
          "choropleth": [
           {
            "colorbar": {
             "outlinewidth": 0,
             "ticks": ""
            },
            "type": "choropleth"
           }
          ],
          "contour": [
           {
            "colorbar": {
             "outlinewidth": 0,
             "ticks": ""
            },
            "colorscale": [
             [
              0,
              "#0d0887"
             ],
             [
              0.1111111111111111,
              "#46039f"
             ],
             [
              0.2222222222222222,
              "#7201a8"
             ],
             [
              0.3333333333333333,
              "#9c179e"
             ],
             [
              0.4444444444444444,
              "#bd3786"
             ],
             [
              0.5555555555555556,
              "#d8576b"
             ],
             [
              0.6666666666666666,
              "#ed7953"
             ],
             [
              0.7777777777777778,
              "#fb9f3a"
             ],
             [
              0.8888888888888888,
              "#fdca26"
             ],
             [
              1,
              "#f0f921"
             ]
            ],
            "type": "contour"
           }
          ],
          "contourcarpet": [
           {
            "colorbar": {
             "outlinewidth": 0,
             "ticks": ""
            },
            "type": "contourcarpet"
           }
          ],
          "heatmap": [
           {
            "colorbar": {
             "outlinewidth": 0,
             "ticks": ""
            },
            "colorscale": [
             [
              0,
              "#0d0887"
             ],
             [
              0.1111111111111111,
              "#46039f"
             ],
             [
              0.2222222222222222,
              "#7201a8"
             ],
             [
              0.3333333333333333,
              "#9c179e"
             ],
             [
              0.4444444444444444,
              "#bd3786"
             ],
             [
              0.5555555555555556,
              "#d8576b"
             ],
             [
              0.6666666666666666,
              "#ed7953"
             ],
             [
              0.7777777777777778,
              "#fb9f3a"
             ],
             [
              0.8888888888888888,
              "#fdca26"
             ],
             [
              1,
              "#f0f921"
             ]
            ],
            "type": "heatmap"
           }
          ],
          "heatmapgl": [
           {
            "colorbar": {
             "outlinewidth": 0,
             "ticks": ""
            },
            "colorscale": [
             [
              0,
              "#0d0887"
             ],
             [
              0.1111111111111111,
              "#46039f"
             ],
             [
              0.2222222222222222,
              "#7201a8"
             ],
             [
              0.3333333333333333,
              "#9c179e"
             ],
             [
              0.4444444444444444,
              "#bd3786"
             ],
             [
              0.5555555555555556,
              "#d8576b"
             ],
             [
              0.6666666666666666,
              "#ed7953"
             ],
             [
              0.7777777777777778,
              "#fb9f3a"
             ],
             [
              0.8888888888888888,
              "#fdca26"
             ],
             [
              1,
              "#f0f921"
             ]
            ],
            "type": "heatmapgl"
           }
          ],
          "histogram": [
           {
            "marker": {
             "pattern": {
              "fillmode": "overlay",
              "size": 10,
              "solidity": 0.2
             }
            },
            "type": "histogram"
           }
          ],
          "histogram2d": [
           {
            "colorbar": {
             "outlinewidth": 0,
             "ticks": ""
            },
            "colorscale": [
             [
              0,
              "#0d0887"
             ],
             [
              0.1111111111111111,
              "#46039f"
             ],
             [
              0.2222222222222222,
              "#7201a8"
             ],
             [
              0.3333333333333333,
              "#9c179e"
             ],
             [
              0.4444444444444444,
              "#bd3786"
             ],
             [
              0.5555555555555556,
              "#d8576b"
             ],
             [
              0.6666666666666666,
              "#ed7953"
             ],
             [
              0.7777777777777778,
              "#fb9f3a"
             ],
             [
              0.8888888888888888,
              "#fdca26"
             ],
             [
              1,
              "#f0f921"
             ]
            ],
            "type": "histogram2d"
           }
          ],
          "histogram2dcontour": [
           {
            "colorbar": {
             "outlinewidth": 0,
             "ticks": ""
            },
            "colorscale": [
             [
              0,
              "#0d0887"
             ],
             [
              0.1111111111111111,
              "#46039f"
             ],
             [
              0.2222222222222222,
              "#7201a8"
             ],
             [
              0.3333333333333333,
              "#9c179e"
             ],
             [
              0.4444444444444444,
              "#bd3786"
             ],
             [
              0.5555555555555556,
              "#d8576b"
             ],
             [
              0.6666666666666666,
              "#ed7953"
             ],
             [
              0.7777777777777778,
              "#fb9f3a"
             ],
             [
              0.8888888888888888,
              "#fdca26"
             ],
             [
              1,
              "#f0f921"
             ]
            ],
            "type": "histogram2dcontour"
           }
          ],
          "mesh3d": [
           {
            "colorbar": {
             "outlinewidth": 0,
             "ticks": ""
            },
            "type": "mesh3d"
           }
          ],
          "parcoords": [
           {
            "line": {
             "colorbar": {
              "outlinewidth": 0,
              "ticks": ""
             }
            },
            "type": "parcoords"
           }
          ],
          "pie": [
           {
            "automargin": true,
            "type": "pie"
           }
          ],
          "scatter": [
           {
            "marker": {
             "colorbar": {
              "outlinewidth": 0,
              "ticks": ""
             }
            },
            "type": "scatter"
           }
          ],
          "scatter3d": [
           {
            "line": {
             "colorbar": {
              "outlinewidth": 0,
              "ticks": ""
             }
            },
            "marker": {
             "colorbar": {
              "outlinewidth": 0,
              "ticks": ""
             }
            },
            "type": "scatter3d"
           }
          ],
          "scattercarpet": [
           {
            "marker": {
             "colorbar": {
              "outlinewidth": 0,
              "ticks": ""
             }
            },
            "type": "scattercarpet"
           }
          ],
          "scattergeo": [
           {
            "marker": {
             "colorbar": {
              "outlinewidth": 0,
              "ticks": ""
             }
            },
            "type": "scattergeo"
           }
          ],
          "scattergl": [
           {
            "marker": {
             "colorbar": {
              "outlinewidth": 0,
              "ticks": ""
             }
            },
            "type": "scattergl"
           }
          ],
          "scattermapbox": [
           {
            "marker": {
             "colorbar": {
              "outlinewidth": 0,
              "ticks": ""
             }
            },
            "type": "scattermapbox"
           }
          ],
          "scatterpolar": [
           {
            "marker": {
             "colorbar": {
              "outlinewidth": 0,
              "ticks": ""
             }
            },
            "type": "scatterpolar"
           }
          ],
          "scatterpolargl": [
           {
            "marker": {
             "colorbar": {
              "outlinewidth": 0,
              "ticks": ""
             }
            },
            "type": "scatterpolargl"
           }
          ],
          "scatterternary": [
           {
            "marker": {
             "colorbar": {
              "outlinewidth": 0,
              "ticks": ""
             }
            },
            "type": "scatterternary"
           }
          ],
          "surface": [
           {
            "colorbar": {
             "outlinewidth": 0,
             "ticks": ""
            },
            "colorscale": [
             [
              0,
              "#0d0887"
             ],
             [
              0.1111111111111111,
              "#46039f"
             ],
             [
              0.2222222222222222,
              "#7201a8"
             ],
             [
              0.3333333333333333,
              "#9c179e"
             ],
             [
              0.4444444444444444,
              "#bd3786"
             ],
             [
              0.5555555555555556,
              "#d8576b"
             ],
             [
              0.6666666666666666,
              "#ed7953"
             ],
             [
              0.7777777777777778,
              "#fb9f3a"
             ],
             [
              0.8888888888888888,
              "#fdca26"
             ],
             [
              1,
              "#f0f921"
             ]
            ],
            "type": "surface"
           }
          ],
          "table": [
           {
            "cells": {
             "fill": {
              "color": "#EBF0F8"
             },
             "line": {
              "color": "white"
             }
            },
            "header": {
             "fill": {
              "color": "#C8D4E3"
             },
             "line": {
              "color": "white"
             }
            },
            "type": "table"
           }
          ]
         },
         "layout": {
          "annotationdefaults": {
           "arrowcolor": "#2a3f5f",
           "arrowhead": 0,
           "arrowwidth": 1
          },
          "autotypenumbers": "strict",
          "coloraxis": {
           "colorbar": {
            "outlinewidth": 0,
            "ticks": ""
           }
          },
          "colorscale": {
           "diverging": [
            [
             0,
             "#8e0152"
            ],
            [
             0.1,
             "#c51b7d"
            ],
            [
             0.2,
             "#de77ae"
            ],
            [
             0.3,
             "#f1b6da"
            ],
            [
             0.4,
             "#fde0ef"
            ],
            [
             0.5,
             "#f7f7f7"
            ],
            [
             0.6,
             "#e6f5d0"
            ],
            [
             0.7,
             "#b8e186"
            ],
            [
             0.8,
             "#7fbc41"
            ],
            [
             0.9,
             "#4d9221"
            ],
            [
             1,
             "#276419"
            ]
           ],
           "sequential": [
            [
             0,
             "#0d0887"
            ],
            [
             0.1111111111111111,
             "#46039f"
            ],
            [
             0.2222222222222222,
             "#7201a8"
            ],
            [
             0.3333333333333333,
             "#9c179e"
            ],
            [
             0.4444444444444444,
             "#bd3786"
            ],
            [
             0.5555555555555556,
             "#d8576b"
            ],
            [
             0.6666666666666666,
             "#ed7953"
            ],
            [
             0.7777777777777778,
             "#fb9f3a"
            ],
            [
             0.8888888888888888,
             "#fdca26"
            ],
            [
             1,
             "#f0f921"
            ]
           ],
           "sequentialminus": [
            [
             0,
             "#0d0887"
            ],
            [
             0.1111111111111111,
             "#46039f"
            ],
            [
             0.2222222222222222,
             "#7201a8"
            ],
            [
             0.3333333333333333,
             "#9c179e"
            ],
            [
             0.4444444444444444,
             "#bd3786"
            ],
            [
             0.5555555555555556,
             "#d8576b"
            ],
            [
             0.6666666666666666,
             "#ed7953"
            ],
            [
             0.7777777777777778,
             "#fb9f3a"
            ],
            [
             0.8888888888888888,
             "#fdca26"
            ],
            [
             1,
             "#f0f921"
            ]
           ]
          },
          "colorway": [
           "#636efa",
           "#EF553B",
           "#00cc96",
           "#ab63fa",
           "#FFA15A",
           "#19d3f3",
           "#FF6692",
           "#B6E880",
           "#FF97FF",
           "#FECB52"
          ],
          "font": {
           "color": "#2a3f5f"
          },
          "geo": {
           "bgcolor": "white",
           "lakecolor": "white",
           "landcolor": "#E5ECF6",
           "showlakes": true,
           "showland": true,
           "subunitcolor": "white"
          },
          "hoverlabel": {
           "align": "left"
          },
          "hovermode": "closest",
          "mapbox": {
           "style": "light"
          },
          "paper_bgcolor": "white",
          "plot_bgcolor": "#E5ECF6",
          "polar": {
           "angularaxis": {
            "gridcolor": "white",
            "linecolor": "white",
            "ticks": ""
           },
           "bgcolor": "#E5ECF6",
           "radialaxis": {
            "gridcolor": "white",
            "linecolor": "white",
            "ticks": ""
           }
          },
          "scene": {
           "xaxis": {
            "backgroundcolor": "#E5ECF6",
            "gridcolor": "white",
            "gridwidth": 2,
            "linecolor": "white",
            "showbackground": true,
            "ticks": "",
            "zerolinecolor": "white"
           },
           "yaxis": {
            "backgroundcolor": "#E5ECF6",
            "gridcolor": "white",
            "gridwidth": 2,
            "linecolor": "white",
            "showbackground": true,
            "ticks": "",
            "zerolinecolor": "white"
           },
           "zaxis": {
            "backgroundcolor": "#E5ECF6",
            "gridcolor": "white",
            "gridwidth": 2,
            "linecolor": "white",
            "showbackground": true,
            "ticks": "",
            "zerolinecolor": "white"
           }
          },
          "shapedefaults": {
           "line": {
            "color": "#2a3f5f"
           }
          },
          "ternary": {
           "aaxis": {
            "gridcolor": "white",
            "linecolor": "white",
            "ticks": ""
           },
           "baxis": {
            "gridcolor": "white",
            "linecolor": "white",
            "ticks": ""
           },
           "bgcolor": "#E5ECF6",
           "caxis": {
            "gridcolor": "white",
            "linecolor": "white",
            "ticks": ""
           }
          },
          "title": {
           "x": 0.05
          },
          "xaxis": {
           "automargin": true,
           "gridcolor": "white",
           "linecolor": "white",
           "ticks": "",
           "title": {
            "standoff": 15
           },
           "zerolinecolor": "white",
           "zerolinewidth": 2
          },
          "yaxis": {
           "automargin": true,
           "gridcolor": "white",
           "linecolor": "white",
           "ticks": "",
           "title": {
            "standoff": 15
           },
           "zerolinecolor": "white",
           "zerolinewidth": 2
          }
         }
        },
        "title": {
         "text": "Equilibrium firm valuation for the grid of (k,b)"
        },
        "width": 700
       }
      }
     },
     "metadata": {},
     "output_type": "display_data"
    }
   ],
   "source": [
    "#====================== Experiment 1 ======================#\n",
    "Ve1,ke1,be1,pe1,qe1,c10e1,c11e1,c20e1,c21e1,xi1e1 = off_eq_check(mdl,\n",
    "                                                                kss,\n",
    "                                                                bss,\n",
    "                                                                e=-0.1)\n",
    "# Firm Valuation\n",
    "kgride1, bgride1, Vgride1, Qgride1, Pgride1 = mdl.eq_valuation(c10e1, c11e1, c20e1,c21e1,N=20)\n",
    "print('Maximum valuation of the firm value in the (k,b) grid: {:.4f}'.format(Vgride1.max()))\n",
    "print('Equilibrium firm value: {:.4f}'.format(Ve1))\n",
    "fig = go.Figure(data=[go.Scatter3d(x=[ke1],\n",
    "                y=[be1],\n",
    "                z=[Ve1],\n",
    "                mode='markers',\n",
    "                marker=dict(size=3, color='red')),\n",
    "                go.Surface(x=kgride1,\n",
    "                y=bgride1,\n",
    "                z=Vgride1,\n",
    "                colorscale='Greens',opacity=0.6)])\n",
    "fig.update_layout(scene = dict(\n",
    "                    xaxis_title='x - Capital k',\n",
    "                    yaxis_title='y - Debt b',\n",
    "                    zaxis_title='z - Firm Value V',\n",
    "                    aspectratio = dict(x=1,y=1,z=1)),\n",
    "                width=700,\n",
    "                height=700,\n",
    "                margin=dict(l=50, r=50, b=65, t=90))\n",
    "fig.update_layout(scene_camera=dict(eye=dict(x=1.5, y=-1.5, z=2)))\n",
    "fig.update_layout(title='Equilibrium firm valuation for the grid of (k,b)')\n",
    "# Export to PNG file\n",
    "# Image(fig.to_image(format=\"png\"))\n",
    "# fig.show() will provide interactive plot when running\n",
    "# code locally"
   ]
  },
  {
   "cell_type": "code",
   "execution_count": 24,
   "metadata": {},
   "outputs": [
    {
     "name": "stdout",
     "output_type": "stream",
     "text": [
      "Maximum valuation of the firm value in the (k,b) grid: 0.1082\n",
      "Equilibrium firm value: 0.0974\n"
     ]
    },
    {
     "data": {
      "application/vnd.plotly.v1+json": {
       "config": {
        "plotlyServerURL": "https://plot.ly"
       },
       "data": [
        {
         "marker": {
          "color": "red",
          "size": 3
         },
         "mode": "markers",
         "type": "scatter3d",
         "x": [
          0.15111572265625
         ],
         "y": [
          0.5843666076660157
         ],
         "z": [
          0.097381591796875
         ]
        },
        {
         "colorscale": [
          [
           0,
           "rgb(247,251,255)"
          ],
          [
           0.125,
           "rgb(222,235,247)"
          ],
          [
           0.25,
           "rgb(198,219,239)"
          ],
          [
           0.375,
           "rgb(158,202,225)"
          ],
          [
           0.5,
           "rgb(107,174,214)"
          ],
          [
           0.625,
           "rgb(66,146,198)"
          ],
          [
           0.75,
           "rgb(33,113,181)"
          ],
          [
           0.875,
           "rgb(8,81,156)"
          ],
          [
           1,
           "rgb(8,48,107)"
          ]
         ],
         "opacity": 0.6,
         "type": "surface",
         "x": [
          [
           0.01,
           0.02263157894736842,
           0.035263157894736843,
           0.04789473684210526,
           0.060526315789473685,
           0.0731578947368421,
           0.08578947368421051,
           0.09842105263157894,
           0.11105263157894736,
           0.12368421052631579,
           0.13631578947368422,
           0.14894736842105263,
           0.16157894736842104,
           0.17421052631578948,
           0.1868421052631579,
           0.19947368421052633,
           0.21210526315789474,
           0.22473684210526315,
           0.2373684210526316,
           0.25
          ],
          [
           0.01,
           0.02263157894736842,
           0.035263157894736843,
           0.04789473684210526,
           0.060526315789473685,
           0.0731578947368421,
           0.08578947368421051,
           0.09842105263157894,
           0.11105263157894736,
           0.12368421052631579,
           0.13631578947368422,
           0.14894736842105263,
           0.16157894736842104,
           0.17421052631578948,
           0.1868421052631579,
           0.19947368421052633,
           0.21210526315789474,
           0.22473684210526315,
           0.2373684210526316,
           0.25
          ],
          [
           0.01,
           0.02263157894736842,
           0.035263157894736843,
           0.04789473684210526,
           0.060526315789473685,
           0.0731578947368421,
           0.08578947368421051,
           0.09842105263157894,
           0.11105263157894736,
           0.12368421052631579,
           0.13631578947368422,
           0.14894736842105263,
           0.16157894736842104,
           0.17421052631578948,
           0.1868421052631579,
           0.19947368421052633,
           0.21210526315789474,
           0.22473684210526315,
           0.2373684210526316,
           0.25
          ],
          [
           0.01,
           0.02263157894736842,
           0.035263157894736843,
           0.04789473684210526,
           0.060526315789473685,
           0.0731578947368421,
           0.08578947368421051,
           0.09842105263157894,
           0.11105263157894736,
           0.12368421052631579,
           0.13631578947368422,
           0.14894736842105263,
           0.16157894736842104,
           0.17421052631578948,
           0.1868421052631579,
           0.19947368421052633,
           0.21210526315789474,
           0.22473684210526315,
           0.2373684210526316,
           0.25
          ],
          [
           0.01,
           0.02263157894736842,
           0.035263157894736843,
           0.04789473684210526,
           0.060526315789473685,
           0.0731578947368421,
           0.08578947368421051,
           0.09842105263157894,
           0.11105263157894736,
           0.12368421052631579,
           0.13631578947368422,
           0.14894736842105263,
           0.16157894736842104,
           0.17421052631578948,
           0.1868421052631579,
           0.19947368421052633,
           0.21210526315789474,
           0.22473684210526315,
           0.2373684210526316,
           0.25
          ],
          [
           0.01,
           0.02263157894736842,
           0.035263157894736843,
           0.04789473684210526,
           0.060526315789473685,
           0.0731578947368421,
           0.08578947368421051,
           0.09842105263157894,
           0.11105263157894736,
           0.12368421052631579,
           0.13631578947368422,
           0.14894736842105263,
           0.16157894736842104,
           0.17421052631578948,
           0.1868421052631579,
           0.19947368421052633,
           0.21210526315789474,
           0.22473684210526315,
           0.2373684210526316,
           0.25
          ],
          [
           0.01,
           0.02263157894736842,
           0.035263157894736843,
           0.04789473684210526,
           0.060526315789473685,
           0.0731578947368421,
           0.08578947368421051,
           0.09842105263157894,
           0.11105263157894736,
           0.12368421052631579,
           0.13631578947368422,
           0.14894736842105263,
           0.16157894736842104,
           0.17421052631578948,
           0.1868421052631579,
           0.19947368421052633,
           0.21210526315789474,
           0.22473684210526315,
           0.2373684210526316,
           0.25
          ],
          [
           0.01,
           0.02263157894736842,
           0.035263157894736843,
           0.04789473684210526,
           0.060526315789473685,
           0.0731578947368421,
           0.08578947368421051,
           0.09842105263157894,
           0.11105263157894736,
           0.12368421052631579,
           0.13631578947368422,
           0.14894736842105263,
           0.16157894736842104,
           0.17421052631578948,
           0.1868421052631579,
           0.19947368421052633,
           0.21210526315789474,
           0.22473684210526315,
           0.2373684210526316,
           0.25
          ],
          [
           0.01,
           0.02263157894736842,
           0.035263157894736843,
           0.04789473684210526,
           0.060526315789473685,
           0.0731578947368421,
           0.08578947368421051,
           0.09842105263157894,
           0.11105263157894736,
           0.12368421052631579,
           0.13631578947368422,
           0.14894736842105263,
           0.16157894736842104,
           0.17421052631578948,
           0.1868421052631579,
           0.19947368421052633,
           0.21210526315789474,
           0.22473684210526315,
           0.2373684210526316,
           0.25
          ],
          [
           0.01,
           0.02263157894736842,
           0.035263157894736843,
           0.04789473684210526,
           0.060526315789473685,
           0.0731578947368421,
           0.08578947368421051,
           0.09842105263157894,
           0.11105263157894736,
           0.12368421052631579,
           0.13631578947368422,
           0.14894736842105263,
           0.16157894736842104,
           0.17421052631578948,
           0.1868421052631579,
           0.19947368421052633,
           0.21210526315789474,
           0.22473684210526315,
           0.2373684210526316,
           0.25
          ],
          [
           0.01,
           0.02263157894736842,
           0.035263157894736843,
           0.04789473684210526,
           0.060526315789473685,
           0.0731578947368421,
           0.08578947368421051,
           0.09842105263157894,
           0.11105263157894736,
           0.12368421052631579,
           0.13631578947368422,
           0.14894736842105263,
           0.16157894736842104,
           0.17421052631578948,
           0.1868421052631579,
           0.19947368421052633,
           0.21210526315789474,
           0.22473684210526315,
           0.2373684210526316,
           0.25
          ],
          [
           0.01,
           0.02263157894736842,
           0.035263157894736843,
           0.04789473684210526,
           0.060526315789473685,
           0.0731578947368421,
           0.08578947368421051,
           0.09842105263157894,
           0.11105263157894736,
           0.12368421052631579,
           0.13631578947368422,
           0.14894736842105263,
           0.16157894736842104,
           0.17421052631578948,
           0.1868421052631579,
           0.19947368421052633,
           0.21210526315789474,
           0.22473684210526315,
           0.2373684210526316,
           0.25
          ],
          [
           0.01,
           0.02263157894736842,
           0.035263157894736843,
           0.04789473684210526,
           0.060526315789473685,
           0.0731578947368421,
           0.08578947368421051,
           0.09842105263157894,
           0.11105263157894736,
           0.12368421052631579,
           0.13631578947368422,
           0.14894736842105263,
           0.16157894736842104,
           0.17421052631578948,
           0.1868421052631579,
           0.19947368421052633,
           0.21210526315789474,
           0.22473684210526315,
           0.2373684210526316,
           0.25
          ],
          [
           0.01,
           0.02263157894736842,
           0.035263157894736843,
           0.04789473684210526,
           0.060526315789473685,
           0.0731578947368421,
           0.08578947368421051,
           0.09842105263157894,
           0.11105263157894736,
           0.12368421052631579,
           0.13631578947368422,
           0.14894736842105263,
           0.16157894736842104,
           0.17421052631578948,
           0.1868421052631579,
           0.19947368421052633,
           0.21210526315789474,
           0.22473684210526315,
           0.2373684210526316,
           0.25
          ],
          [
           0.01,
           0.02263157894736842,
           0.035263157894736843,
           0.04789473684210526,
           0.060526315789473685,
           0.0731578947368421,
           0.08578947368421051,
           0.09842105263157894,
           0.11105263157894736,
           0.12368421052631579,
           0.13631578947368422,
           0.14894736842105263,
           0.16157894736842104,
           0.17421052631578948,
           0.1868421052631579,
           0.19947368421052633,
           0.21210526315789474,
           0.22473684210526315,
           0.2373684210526316,
           0.25
          ],
          [
           0.01,
           0.02263157894736842,
           0.035263157894736843,
           0.04789473684210526,
           0.060526315789473685,
           0.0731578947368421,
           0.08578947368421051,
           0.09842105263157894,
           0.11105263157894736,
           0.12368421052631579,
           0.13631578947368422,
           0.14894736842105263,
           0.16157894736842104,
           0.17421052631578948,
           0.1868421052631579,
           0.19947368421052633,
           0.21210526315789474,
           0.22473684210526315,
           0.2373684210526316,
           0.25
          ],
          [
           0.01,
           0.02263157894736842,
           0.035263157894736843,
           0.04789473684210526,
           0.060526315789473685,
           0.0731578947368421,
           0.08578947368421051,
           0.09842105263157894,
           0.11105263157894736,
           0.12368421052631579,
           0.13631578947368422,
           0.14894736842105263,
           0.16157894736842104,
           0.17421052631578948,
           0.1868421052631579,
           0.19947368421052633,
           0.21210526315789474,
           0.22473684210526315,
           0.2373684210526316,
           0.25
          ],
          [
           0.01,
           0.02263157894736842,
           0.035263157894736843,
           0.04789473684210526,
           0.060526315789473685,
           0.0731578947368421,
           0.08578947368421051,
           0.09842105263157894,
           0.11105263157894736,
           0.12368421052631579,
           0.13631578947368422,
           0.14894736842105263,
           0.16157894736842104,
           0.17421052631578948,
           0.1868421052631579,
           0.19947368421052633,
           0.21210526315789474,
           0.22473684210526315,
           0.2373684210526316,
           0.25
          ],
          [
           0.01,
           0.02263157894736842,
           0.035263157894736843,
           0.04789473684210526,
           0.060526315789473685,
           0.0731578947368421,
           0.08578947368421051,
           0.09842105263157894,
           0.11105263157894736,
           0.12368421052631579,
           0.13631578947368422,
           0.14894736842105263,
           0.16157894736842104,
           0.17421052631578948,
           0.1868421052631579,
           0.19947368421052633,
           0.21210526315789474,
           0.22473684210526315,
           0.2373684210526316,
           0.25
          ],
          [
           0.01,
           0.02263157894736842,
           0.035263157894736843,
           0.04789473684210526,
           0.060526315789473685,
           0.0731578947368421,
           0.08578947368421051,
           0.09842105263157894,
           0.11105263157894736,
           0.12368421052631579,
           0.13631578947368422,
           0.14894736842105263,
           0.16157894736842104,
           0.17421052631578948,
           0.1868421052631579,
           0.19947368421052633,
           0.21210526315789474,
           0.22473684210526315,
           0.2373684210526316,
           0.25
          ]
         ],
         "y": [
          [
           0.1,
           0.1,
           0.1,
           0.1,
           0.1,
           0.1,
           0.1,
           0.1,
           0.1,
           0.1,
           0.1,
           0.1,
           0.1,
           0.1,
           0.1,
           0.1,
           0.1,
           0.1,
           0.1,
           0.1
          ],
          [
           0.1368421052631579,
           0.1368421052631579,
           0.1368421052631579,
           0.1368421052631579,
           0.1368421052631579,
           0.1368421052631579,
           0.1368421052631579,
           0.1368421052631579,
           0.1368421052631579,
           0.1368421052631579,
           0.1368421052631579,
           0.1368421052631579,
           0.1368421052631579,
           0.1368421052631579,
           0.1368421052631579,
           0.1368421052631579,
           0.1368421052631579,
           0.1368421052631579,
           0.1368421052631579,
           0.1368421052631579
          ],
          [
           0.1736842105263158,
           0.1736842105263158,
           0.1736842105263158,
           0.1736842105263158,
           0.1736842105263158,
           0.1736842105263158,
           0.1736842105263158,
           0.1736842105263158,
           0.1736842105263158,
           0.1736842105263158,
           0.1736842105263158,
           0.1736842105263158,
           0.1736842105263158,
           0.1736842105263158,
           0.1736842105263158,
           0.1736842105263158,
           0.1736842105263158,
           0.1736842105263158,
           0.1736842105263158,
           0.1736842105263158
          ],
          [
           0.2105263157894737,
           0.2105263157894737,
           0.2105263157894737,
           0.2105263157894737,
           0.2105263157894737,
           0.2105263157894737,
           0.2105263157894737,
           0.2105263157894737,
           0.2105263157894737,
           0.2105263157894737,
           0.2105263157894737,
           0.2105263157894737,
           0.2105263157894737,
           0.2105263157894737,
           0.2105263157894737,
           0.2105263157894737,
           0.2105263157894737,
           0.2105263157894737,
           0.2105263157894737,
           0.2105263157894737
          ],
          [
           0.2473684210526316,
           0.2473684210526316,
           0.2473684210526316,
           0.2473684210526316,
           0.2473684210526316,
           0.2473684210526316,
           0.2473684210526316,
           0.2473684210526316,
           0.2473684210526316,
           0.2473684210526316,
           0.2473684210526316,
           0.2473684210526316,
           0.2473684210526316,
           0.2473684210526316,
           0.2473684210526316,
           0.2473684210526316,
           0.2473684210526316,
           0.2473684210526316,
           0.2473684210526316,
           0.2473684210526316
          ],
          [
           0.28421052631578947,
           0.28421052631578947,
           0.28421052631578947,
           0.28421052631578947,
           0.28421052631578947,
           0.28421052631578947,
           0.28421052631578947,
           0.28421052631578947,
           0.28421052631578947,
           0.28421052631578947,
           0.28421052631578947,
           0.28421052631578947,
           0.28421052631578947,
           0.28421052631578947,
           0.28421052631578947,
           0.28421052631578947,
           0.28421052631578947,
           0.28421052631578947,
           0.28421052631578947,
           0.28421052631578947
          ],
          [
           0.32105263157894737,
           0.32105263157894737,
           0.32105263157894737,
           0.32105263157894737,
           0.32105263157894737,
           0.32105263157894737,
           0.32105263157894737,
           0.32105263157894737,
           0.32105263157894737,
           0.32105263157894737,
           0.32105263157894737,
           0.32105263157894737,
           0.32105263157894737,
           0.32105263157894737,
           0.32105263157894737,
           0.32105263157894737,
           0.32105263157894737,
           0.32105263157894737,
           0.32105263157894737,
           0.32105263157894737
          ],
          [
           0.35789473684210527,
           0.35789473684210527,
           0.35789473684210527,
           0.35789473684210527,
           0.35789473684210527,
           0.35789473684210527,
           0.35789473684210527,
           0.35789473684210527,
           0.35789473684210527,
           0.35789473684210527,
           0.35789473684210527,
           0.35789473684210527,
           0.35789473684210527,
           0.35789473684210527,
           0.35789473684210527,
           0.35789473684210527,
           0.35789473684210527,
           0.35789473684210527,
           0.35789473684210527,
           0.35789473684210527
          ],
          [
           0.39473684210526316,
           0.39473684210526316,
           0.39473684210526316,
           0.39473684210526316,
           0.39473684210526316,
           0.39473684210526316,
           0.39473684210526316,
           0.39473684210526316,
           0.39473684210526316,
           0.39473684210526316,
           0.39473684210526316,
           0.39473684210526316,
           0.39473684210526316,
           0.39473684210526316,
           0.39473684210526316,
           0.39473684210526316,
           0.39473684210526316,
           0.39473684210526316,
           0.39473684210526316,
           0.39473684210526316
          ],
          [
           0.43157894736842106,
           0.43157894736842106,
           0.43157894736842106,
           0.43157894736842106,
           0.43157894736842106,
           0.43157894736842106,
           0.43157894736842106,
           0.43157894736842106,
           0.43157894736842106,
           0.43157894736842106,
           0.43157894736842106,
           0.43157894736842106,
           0.43157894736842106,
           0.43157894736842106,
           0.43157894736842106,
           0.43157894736842106,
           0.43157894736842106,
           0.43157894736842106,
           0.43157894736842106,
           0.43157894736842106
          ],
          [
           0.46842105263157896,
           0.46842105263157896,
           0.46842105263157896,
           0.46842105263157896,
           0.46842105263157896,
           0.46842105263157896,
           0.46842105263157896,
           0.46842105263157896,
           0.46842105263157896,
           0.46842105263157896,
           0.46842105263157896,
           0.46842105263157896,
           0.46842105263157896,
           0.46842105263157896,
           0.46842105263157896,
           0.46842105263157896,
           0.46842105263157896,
           0.46842105263157896,
           0.46842105263157896,
           0.46842105263157896
          ],
          [
           0.5052631578947369,
           0.5052631578947369,
           0.5052631578947369,
           0.5052631578947369,
           0.5052631578947369,
           0.5052631578947369,
           0.5052631578947369,
           0.5052631578947369,
           0.5052631578947369,
           0.5052631578947369,
           0.5052631578947369,
           0.5052631578947369,
           0.5052631578947369,
           0.5052631578947369,
           0.5052631578947369,
           0.5052631578947369,
           0.5052631578947369,
           0.5052631578947369,
           0.5052631578947369,
           0.5052631578947369
          ],
          [
           0.5421052631578948,
           0.5421052631578948,
           0.5421052631578948,
           0.5421052631578948,
           0.5421052631578948,
           0.5421052631578948,
           0.5421052631578948,
           0.5421052631578948,
           0.5421052631578948,
           0.5421052631578948,
           0.5421052631578948,
           0.5421052631578948,
           0.5421052631578948,
           0.5421052631578948,
           0.5421052631578948,
           0.5421052631578948,
           0.5421052631578948,
           0.5421052631578948,
           0.5421052631578948,
           0.5421052631578948
          ],
          [
           0.5789473684210527,
           0.5789473684210527,
           0.5789473684210527,
           0.5789473684210527,
           0.5789473684210527,
           0.5789473684210527,
           0.5789473684210527,
           0.5789473684210527,
           0.5789473684210527,
           0.5789473684210527,
           0.5789473684210527,
           0.5789473684210527,
           0.5789473684210527,
           0.5789473684210527,
           0.5789473684210527,
           0.5789473684210527,
           0.5789473684210527,
           0.5789473684210527,
           0.5789473684210527,
           0.5789473684210527
          ],
          [
           0.6157894736842106,
           0.6157894736842106,
           0.6157894736842106,
           0.6157894736842106,
           0.6157894736842106,
           0.6157894736842106,
           0.6157894736842106,
           0.6157894736842106,
           0.6157894736842106,
           0.6157894736842106,
           0.6157894736842106,
           0.6157894736842106,
           0.6157894736842106,
           0.6157894736842106,
           0.6157894736842106,
           0.6157894736842106,
           0.6157894736842106,
           0.6157894736842106,
           0.6157894736842106,
           0.6157894736842106
          ],
          [
           0.6526315789473685,
           0.6526315789473685,
           0.6526315789473685,
           0.6526315789473685,
           0.6526315789473685,
           0.6526315789473685,
           0.6526315789473685,
           0.6526315789473685,
           0.6526315789473685,
           0.6526315789473685,
           0.6526315789473685,
           0.6526315789473685,
           0.6526315789473685,
           0.6526315789473685,
           0.6526315789473685,
           0.6526315789473685,
           0.6526315789473685,
           0.6526315789473685,
           0.6526315789473685,
           0.6526315789473685
          ],
          [
           0.6894736842105263,
           0.6894736842105263,
           0.6894736842105263,
           0.6894736842105263,
           0.6894736842105263,
           0.6894736842105263,
           0.6894736842105263,
           0.6894736842105263,
           0.6894736842105263,
           0.6894736842105263,
           0.6894736842105263,
           0.6894736842105263,
           0.6894736842105263,
           0.6894736842105263,
           0.6894736842105263,
           0.6894736842105263,
           0.6894736842105263,
           0.6894736842105263,
           0.6894736842105263,
           0.6894736842105263
          ],
          [
           0.7263157894736842,
           0.7263157894736842,
           0.7263157894736842,
           0.7263157894736842,
           0.7263157894736842,
           0.7263157894736842,
           0.7263157894736842,
           0.7263157894736842,
           0.7263157894736842,
           0.7263157894736842,
           0.7263157894736842,
           0.7263157894736842,
           0.7263157894736842,
           0.7263157894736842,
           0.7263157894736842,
           0.7263157894736842,
           0.7263157894736842,
           0.7263157894736842,
           0.7263157894736842,
           0.7263157894736842
          ],
          [
           0.7631578947368421,
           0.7631578947368421,
           0.7631578947368421,
           0.7631578947368421,
           0.7631578947368421,
           0.7631578947368421,
           0.7631578947368421,
           0.7631578947368421,
           0.7631578947368421,
           0.7631578947368421,
           0.7631578947368421,
           0.7631578947368421,
           0.7631578947368421,
           0.7631578947368421,
           0.7631578947368421,
           0.7631578947368421,
           0.7631578947368421,
           0.7631578947368421,
           0.7631578947368421,
           0.7631578947368421
          ],
          [
           0.8,
           0.8,
           0.8,
           0.8,
           0.8,
           0.8,
           0.8,
           0.8,
           0.8,
           0.8,
           0.8,
           0.8,
           0.8,
           0.8,
           0.8,
           0.8,
           0.8,
           0.8,
           0.8,
           0.8
          ]
         ],
         "z": [
          [
           0.03953600409908414,
           0.06032939662262156,
           0.07240739472797889,
           0.08079239514870754,
           0.08697825420147573,
           0.09162687607726122,
           0.09511026867311197,
           0.09766622973901423,
           0.09945894124765708,
           0.10060819088299494,
           0.10120455911071902,
           0.10131872327496237,
           0.10100713867085694,
           0.10031579132635036,
           0.09928275167986064,
           0.09793998003006071,
           0.09631462937635796,
           0.09443001006162938,
           0.09230631627221017,
           0.08996119457506907
          ],
          [
           0.03868111484640362,
           0.059603325550036626,
           0.0730020094376427,
           0.08192104525275858,
           0.08832100400657877,
           0.09306121846218789,
           0.09658653972174891,
           0.09916286261188612,
           0.10096606350845502,
           0.10212091869410037,
           0.10272041031930458,
           0.10283637577047702,
           0.1025258627756179,
           0.10183516930013557,
           0.10080253828826277,
           0.09946002762119266,
           0.09783484638050292,
           0.09595033999020494,
           0.09382672421306285,
           0.09148165210347353
          ],
          [
           0.038681115199070144,
           0.057631061032135236,
           0.0722397639358758,
           0.08215210791549585,
           0.08911756394070458,
           0.09416577957683556,
           0.0978609882088675,
           0.10053352590631613,
           0.10239282924576656,
           0.1035813297927947,
           0.1042015340995921,
           0.10433055812106591,
           0.10402845828038988,
           0.10334330377968913,
           0.10231436248261391,
           0.10097436766080901,
           0.09935092418454688,
           0.09746763365189062,
           0.09534487975200544,
           0.09300042656963822
          ],
          [
           0.03868111519925051,
           0.05683589923610699,
           0.07039404497755641,
           0.0812154078496462,
           0.08898294736637122,
           0.09458957072577251,
           0.09865167127106302,
           0.10156263480944404,
           0.10357772975953117,
           0.10486922751580222,
           0.10555848540635862,
           0.10573448352509673,
           0.10546479743136644,
           0.10480231212503346,
           0.10378944055858645,
           0.10246096891219361,
           0.10084588246145959,
           0.09896872044015814,
           0.09685050384598329,
           0.09450944085512113
          ],
          [
           0.038681115182944974,
           0.05683589924024071,
           0.06843074940266441,
           0.07938776662969901,
           0.08784089717259744,
           0.094109073537223,
           0.09869721148234693,
           0.10200038605517155,
           0.1043011519108009,
           0.10579937806777874,
           0.10663842517299085,
           0.10692351409837285,
           0.1067338325857343,
           0.10613048143403353,
           0.10516168498235297,
           0.10386632099446134,
           0.10227630713627593,
           0.10041827647084413,
           0.09831476829164788,
           0.0959850923118192
          ],
          [
           0.038681115193337307,
           0.05683589917254629,
           0.06843074915464034,
           0.07729591334842992,
           0.08597411807015744,
           0.09276620007649816,
           0.09790176594545744,
           0.10168427173024314,
           0.10437682518982554,
           0.10618549767157806,
           0.10726709632210557,
           0.10774064344470602,
           0.10769726676216047,
           0.10720769139087685,
           0.1063276751174772,
           0.10510187405133953,
           0.10356662089102232,
           0.101751907796,
           0.09968284229734539,
           0.09738068266082543
          ],
          [
           0.03868111400266194,
           0.05683589934735492,
           0.06843074943869276,
           0.07670961014309358,
           0.08387083176344715,
           0.090840200963596,
           0.09637661179027726,
           0.10060979534672906,
           0.10372812081087568,
           0.10591051364206529,
           0.10730831638630599,
           0.10804422548181822,
           0.10821627965140548,
           0.10790268727678701,
           0.10716613808002481,
           0.10605730871342448,
           0.10461750708671758,
           0.10288087810906976,
           0.1008758379278902,
           0.09862633481899005
          ],
          [
           0.03868111515201393,
           0.05683589919444229,
           0.06843074973686833,
           0.076709609948168,
           0.08286639079354276,
           0.08873277008993197,
           0.0943900632937516,
           0.09892653444191175,
           0.10241193875328117,
           0.1049644580633348,
           0.10670673690056719,
           0.10775033426035985,
           0.10819046376690872,
           0.10810718953849657,
           0.10756683989479243,
           0.10662429781366684,
           0.10532510524023692,
           0.10370720907858502,
           0.10180244358049895,
           0.09963768405875709
          ],
          [
           0.03868139972328423,
           0.05683590121079893,
           0.06843074916856756,
           0.07670960988304446,
           0.08286639041228536,
           0.08750560901018634,
           0.0922826751361928,
           0.09688734644963673,
           0.10059652055054291,
           0.10344325487334145,
           0.10550092518865792,
           0.10685355872040254,
           0.10758265732916761,
           0.10776197890915273,
           0.10745606793203497,
           0.10672045955115031,
           0.10560256527184544,
           0.10414275575016796,
           0.10237542454879872,
           0.10032994765919487
          ],
          [
           0.03868139186860245,
           0.05683589923597382,
           0.06843074949814916,
           0.07670961011037858,
           0.08286639070135304,
           0.08750561319875819,
           0.0909855566714876,
           0.0947859987038942,
           0.09851700233004437,
           0.10152146955339453,
           0.10380960240631792,
           0.10542520796508878,
           0.10642504744398744,
           0.10686824239613792,
           0.10681118870676662,
           0.106305375391434,
           0.10539670330913556,
           0.1041255562540134,
           0.1025272166173932,
           0.10063241677985599
          ],
          [
           0.03868130834942826,
           0.05683589929983412,
           0.06843074957285503,
           0.07670961024128234,
           0.08286639071334556,
           0.08750561062421185,
           0.09098555671741299,
           0.09354008755942131,
           0.09642949240329207,
           0.09941578063049883,
           0.10180613258452877,
           0.10359629316390848,
           0.10481018796358785,
           0.10548503054636292,
           0.10566298719506809,
           0.10538659355814683,
           0.10469638377637974,
           0.10362978309521748,
           0.10222070843107733,
           0.10049955645153666
          ],
          [
           0.038681236059299046,
           0.05683589922532348,
           0.06843074970468255,
           0.07670961011209593,
           0.08286639078271268,
           0.08750561047010529,
           0.09098555661705175,
           0.09354008807557376,
           0.09533222666403071,
           0.09735097581302161,
           0.09968884960642724,
           0.10153417260746063,
           0.10287358946403097,
           0.10371738962317857,
           0.10408864731842603,
           0.10401661001777414,
           0.10353275263837947,
           0.10266848152583094,
           0.10145386117791863,
           0.09991696647149387
          ],
          [
           0.03868118724900238,
           0.056835899259365774,
           0.06843074944911134,
           0.07670961023232857,
           0.08286639079927913,
           0.08750561049676595,
           0.09098555670139784,
           0.09354008830072252,
           0.09533222698818511,
           0.09648119279355732,
           0.09765601565920945,
           0.0994195807940911,
           0.10077402517083145,
           0.10170032867898715,
           0.10219938884673058,
           0.10228395544650021,
           0.10197339163333087,
           0.10129038250451392,
           0.10025874385363212,
           0.09890222447489125
          ],
          [
           0.03868115700209662,
           0.05683589720013618,
           0.06843074942143536,
           0.07670961011420105,
           0.08286639069809115,
           0.08750561093466266,
           0.09098555065614042,
           0.09354008797868857,
           0.09533222656910881,
           0.09648119291290819,
           0.09707742015119906,
           0.09742789984047594,
           0.09867565912483381,
           0.09958264622667047,
           0.1001264738107193,
           0.10030156181280774,
           0.10011308998758617,
           0.09957287127016412,
           0.09869654211004927,
           0.09750170945001965
          ],
          [
           0.03868113937375431,
           0.05683619373913616,
           0.06843074948801517,
           0.07670961011209446,
           0.0828663907899511,
           0.08750561053192181,
           0.09098555671921046,
           0.09354008792965272,
           0.09533222673438978,
           0.09648119288304335,
           0.09707742019099719,
           0.09719151099259724,
           0.09687988816523535,
           0.09751309081792263,
           0.09800814495985977,
           0.09819491628963264,
           0.09806338126675303,
           0.09761317983392359,
           0.09685030959140131,
           0.09578487085939993
          ],
          [
           0.03868112914865219,
           0.05683638232674469,
           0.06843074963396649,
           0.07670960994831984,
           0.08286639065415415,
           0.08750561061743467,
           0.09098555674638678,
           0.09354008803020603,
           0.09533222644465415,
           0.09648119290634802,
           0.09707742015586826,
           0.09713412315309597,
           0.09687988816391888,
           0.09618851922719676,
           0.09597894186709638,
           0.0960916441678914,
           0.09594281448212238,
           0.09551942773904426,
           0.09481707610977985,
           0.09383734058873022
          ],
          [
           0.03868112309114103,
           0.05683637644974636,
           0.06843074933053933,
           0.07670960957336005,
           0.08286639078126723,
           0.08750561060847664,
           0.0909855552049009,
           0.09354008805954522,
           0.09533222658214015,
           0.09648119289869159,
           0.09707742174113895,
           0.09719149995792453,
           0.09687988816531258,
           0.09618851919937646,
           0.09515546709569389,
           0.09411306945649386,
           0.09386854372236228,
           0.09340260790515428,
           0.09270016044609694,
           0.0917539668884455
          ],
          [
           0.03868111990671782,
           0.05683630359658908,
           0.06843074726944928,
           0.07670961002194195,
           0.08286639076069915,
           0.0875056106120322,
           0.09098555748578377,
           0.09354008804132247,
           0.09533222652556757,
           0.09648119283036109,
           0.09707742007676315,
           0.09719151116332528,
           0.09687988747761972,
           0.09618851869768905,
           0.09515546722178675,
           0.0938126850751487,
           0.09218733313015398,
           0.0913700625522908,
           0.0906027989370918,
           0.08963254055620781
          ],
          [
           0.03868111810717241,
           0.0568362180160009,
           0.06843074941819885,
           0.07670961013442598,
           0.08286639077028653,
           0.08750561059300474,
           0.09098555679101476,
           0.0935400880335453,
           0.09533217920575252,
           0.09648119272452062,
           0.09707742017791118,
           0.09719150555833214,
           0.09687988802854744,
           0.09618851915968729,
           0.09515546706929787,
           0.09381268817698415,
           0.09218733322932071,
           0.09030271144060895,
           0.08862298053147333,
           0.08756857078742292
          ],
          [
           0.03868111651926806,
           0.056836140757718416,
           0.06843109722345955,
           0.07670961013856281,
           0.0828663907419462,
           0.08750561045416208,
           0.09098555673466197,
           0.09354008773746456,
           0.09533222638906835,
           0.09648119254865929,
           0.09707742004292873,
           0.09719151123384806,
           0.09687988834263417,
           0.09618851332943212,
           0.09515546724668986,
           0.09381268827325301,
           0.09218733300972223,
           0.09030271120607833,
           0.08817901860217336,
           0.08583389292734797
          ]
         ]
        }
       ],
       "layout": {
        "height": 700,
        "margin": {
         "b": 65,
         "l": 50,
         "r": 50,
         "t": 90
        },
        "scene": {
         "aspectratio": {
          "x": 1,
          "y": 1,
          "z": 1
         },
         "camera": {
          "eye": {
           "x": 1.5,
           "y": -1.5,
           "z": 2
          }
         },
         "xaxis": {
          "title": {
           "text": "x - Capital k"
          }
         },
         "yaxis": {
          "title": {
           "text": "y - Debt b"
          }
         },
         "zaxis": {
          "title": {
           "text": "z - Firm Value V"
          }
         }
        },
        "template": {
         "data": {
          "bar": [
           {
            "error_x": {
             "color": "#2a3f5f"
            },
            "error_y": {
             "color": "#2a3f5f"
            },
            "marker": {
             "line": {
              "color": "#E5ECF6",
              "width": 0.5
             },
             "pattern": {
              "fillmode": "overlay",
              "size": 10,
              "solidity": 0.2
             }
            },
            "type": "bar"
           }
          ],
          "barpolar": [
           {
            "marker": {
             "line": {
              "color": "#E5ECF6",
              "width": 0.5
             },
             "pattern": {
              "fillmode": "overlay",
              "size": 10,
              "solidity": 0.2
             }
            },
            "type": "barpolar"
           }
          ],
          "carpet": [
           {
            "aaxis": {
             "endlinecolor": "#2a3f5f",
             "gridcolor": "white",
             "linecolor": "white",
             "minorgridcolor": "white",
             "startlinecolor": "#2a3f5f"
            },
            "baxis": {
             "endlinecolor": "#2a3f5f",
             "gridcolor": "white",
             "linecolor": "white",
             "minorgridcolor": "white",
             "startlinecolor": "#2a3f5f"
            },
            "type": "carpet"
           }
          ],
          "choropleth": [
           {
            "colorbar": {
             "outlinewidth": 0,
             "ticks": ""
            },
            "type": "choropleth"
           }
          ],
          "contour": [
           {
            "colorbar": {
             "outlinewidth": 0,
             "ticks": ""
            },
            "colorscale": [
             [
              0,
              "#0d0887"
             ],
             [
              0.1111111111111111,
              "#46039f"
             ],
             [
              0.2222222222222222,
              "#7201a8"
             ],
             [
              0.3333333333333333,
              "#9c179e"
             ],
             [
              0.4444444444444444,
              "#bd3786"
             ],
             [
              0.5555555555555556,
              "#d8576b"
             ],
             [
              0.6666666666666666,
              "#ed7953"
             ],
             [
              0.7777777777777778,
              "#fb9f3a"
             ],
             [
              0.8888888888888888,
              "#fdca26"
             ],
             [
              1,
              "#f0f921"
             ]
            ],
            "type": "contour"
           }
          ],
          "contourcarpet": [
           {
            "colorbar": {
             "outlinewidth": 0,
             "ticks": ""
            },
            "type": "contourcarpet"
           }
          ],
          "heatmap": [
           {
            "colorbar": {
             "outlinewidth": 0,
             "ticks": ""
            },
            "colorscale": [
             [
              0,
              "#0d0887"
             ],
             [
              0.1111111111111111,
              "#46039f"
             ],
             [
              0.2222222222222222,
              "#7201a8"
             ],
             [
              0.3333333333333333,
              "#9c179e"
             ],
             [
              0.4444444444444444,
              "#bd3786"
             ],
             [
              0.5555555555555556,
              "#d8576b"
             ],
             [
              0.6666666666666666,
              "#ed7953"
             ],
             [
              0.7777777777777778,
              "#fb9f3a"
             ],
             [
              0.8888888888888888,
              "#fdca26"
             ],
             [
              1,
              "#f0f921"
             ]
            ],
            "type": "heatmap"
           }
          ],
          "heatmapgl": [
           {
            "colorbar": {
             "outlinewidth": 0,
             "ticks": ""
            },
            "colorscale": [
             [
              0,
              "#0d0887"
             ],
             [
              0.1111111111111111,
              "#46039f"
             ],
             [
              0.2222222222222222,
              "#7201a8"
             ],
             [
              0.3333333333333333,
              "#9c179e"
             ],
             [
              0.4444444444444444,
              "#bd3786"
             ],
             [
              0.5555555555555556,
              "#d8576b"
             ],
             [
              0.6666666666666666,
              "#ed7953"
             ],
             [
              0.7777777777777778,
              "#fb9f3a"
             ],
             [
              0.8888888888888888,
              "#fdca26"
             ],
             [
              1,
              "#f0f921"
             ]
            ],
            "type": "heatmapgl"
           }
          ],
          "histogram": [
           {
            "marker": {
             "pattern": {
              "fillmode": "overlay",
              "size": 10,
              "solidity": 0.2
             }
            },
            "type": "histogram"
           }
          ],
          "histogram2d": [
           {
            "colorbar": {
             "outlinewidth": 0,
             "ticks": ""
            },
            "colorscale": [
             [
              0,
              "#0d0887"
             ],
             [
              0.1111111111111111,
              "#46039f"
             ],
             [
              0.2222222222222222,
              "#7201a8"
             ],
             [
              0.3333333333333333,
              "#9c179e"
             ],
             [
              0.4444444444444444,
              "#bd3786"
             ],
             [
              0.5555555555555556,
              "#d8576b"
             ],
             [
              0.6666666666666666,
              "#ed7953"
             ],
             [
              0.7777777777777778,
              "#fb9f3a"
             ],
             [
              0.8888888888888888,
              "#fdca26"
             ],
             [
              1,
              "#f0f921"
             ]
            ],
            "type": "histogram2d"
           }
          ],
          "histogram2dcontour": [
           {
            "colorbar": {
             "outlinewidth": 0,
             "ticks": ""
            },
            "colorscale": [
             [
              0,
              "#0d0887"
             ],
             [
              0.1111111111111111,
              "#46039f"
             ],
             [
              0.2222222222222222,
              "#7201a8"
             ],
             [
              0.3333333333333333,
              "#9c179e"
             ],
             [
              0.4444444444444444,
              "#bd3786"
             ],
             [
              0.5555555555555556,
              "#d8576b"
             ],
             [
              0.6666666666666666,
              "#ed7953"
             ],
             [
              0.7777777777777778,
              "#fb9f3a"
             ],
             [
              0.8888888888888888,
              "#fdca26"
             ],
             [
              1,
              "#f0f921"
             ]
            ],
            "type": "histogram2dcontour"
           }
          ],
          "mesh3d": [
           {
            "colorbar": {
             "outlinewidth": 0,
             "ticks": ""
            },
            "type": "mesh3d"
           }
          ],
          "parcoords": [
           {
            "line": {
             "colorbar": {
              "outlinewidth": 0,
              "ticks": ""
             }
            },
            "type": "parcoords"
           }
          ],
          "pie": [
           {
            "automargin": true,
            "type": "pie"
           }
          ],
          "scatter": [
           {
            "marker": {
             "colorbar": {
              "outlinewidth": 0,
              "ticks": ""
             }
            },
            "type": "scatter"
           }
          ],
          "scatter3d": [
           {
            "line": {
             "colorbar": {
              "outlinewidth": 0,
              "ticks": ""
             }
            },
            "marker": {
             "colorbar": {
              "outlinewidth": 0,
              "ticks": ""
             }
            },
            "type": "scatter3d"
           }
          ],
          "scattercarpet": [
           {
            "marker": {
             "colorbar": {
              "outlinewidth": 0,
              "ticks": ""
             }
            },
            "type": "scattercarpet"
           }
          ],
          "scattergeo": [
           {
            "marker": {
             "colorbar": {
              "outlinewidth": 0,
              "ticks": ""
             }
            },
            "type": "scattergeo"
           }
          ],
          "scattergl": [
           {
            "marker": {
             "colorbar": {
              "outlinewidth": 0,
              "ticks": ""
             }
            },
            "type": "scattergl"
           }
          ],
          "scattermapbox": [
           {
            "marker": {
             "colorbar": {
              "outlinewidth": 0,
              "ticks": ""
             }
            },
            "type": "scattermapbox"
           }
          ],
          "scatterpolar": [
           {
            "marker": {
             "colorbar": {
              "outlinewidth": 0,
              "ticks": ""
             }
            },
            "type": "scatterpolar"
           }
          ],
          "scatterpolargl": [
           {
            "marker": {
             "colorbar": {
              "outlinewidth": 0,
              "ticks": ""
             }
            },
            "type": "scatterpolargl"
           }
          ],
          "scatterternary": [
           {
            "marker": {
             "colorbar": {
              "outlinewidth": 0,
              "ticks": ""
             }
            },
            "type": "scatterternary"
           }
          ],
          "surface": [
           {
            "colorbar": {
             "outlinewidth": 0,
             "ticks": ""
            },
            "colorscale": [
             [
              0,
              "#0d0887"
             ],
             [
              0.1111111111111111,
              "#46039f"
             ],
             [
              0.2222222222222222,
              "#7201a8"
             ],
             [
              0.3333333333333333,
              "#9c179e"
             ],
             [
              0.4444444444444444,
              "#bd3786"
             ],
             [
              0.5555555555555556,
              "#d8576b"
             ],
             [
              0.6666666666666666,
              "#ed7953"
             ],
             [
              0.7777777777777778,
              "#fb9f3a"
             ],
             [
              0.8888888888888888,
              "#fdca26"
             ],
             [
              1,
              "#f0f921"
             ]
            ],
            "type": "surface"
           }
          ],
          "table": [
           {
            "cells": {
             "fill": {
              "color": "#EBF0F8"
             },
             "line": {
              "color": "white"
             }
            },
            "header": {
             "fill": {
              "color": "#C8D4E3"
             },
             "line": {
              "color": "white"
             }
            },
            "type": "table"
           }
          ]
         },
         "layout": {
          "annotationdefaults": {
           "arrowcolor": "#2a3f5f",
           "arrowhead": 0,
           "arrowwidth": 1
          },
          "autotypenumbers": "strict",
          "coloraxis": {
           "colorbar": {
            "outlinewidth": 0,
            "ticks": ""
           }
          },
          "colorscale": {
           "diverging": [
            [
             0,
             "#8e0152"
            ],
            [
             0.1,
             "#c51b7d"
            ],
            [
             0.2,
             "#de77ae"
            ],
            [
             0.3,
             "#f1b6da"
            ],
            [
             0.4,
             "#fde0ef"
            ],
            [
             0.5,
             "#f7f7f7"
            ],
            [
             0.6,
             "#e6f5d0"
            ],
            [
             0.7,
             "#b8e186"
            ],
            [
             0.8,
             "#7fbc41"
            ],
            [
             0.9,
             "#4d9221"
            ],
            [
             1,
             "#276419"
            ]
           ],
           "sequential": [
            [
             0,
             "#0d0887"
            ],
            [
             0.1111111111111111,
             "#46039f"
            ],
            [
             0.2222222222222222,
             "#7201a8"
            ],
            [
             0.3333333333333333,
             "#9c179e"
            ],
            [
             0.4444444444444444,
             "#bd3786"
            ],
            [
             0.5555555555555556,
             "#d8576b"
            ],
            [
             0.6666666666666666,
             "#ed7953"
            ],
            [
             0.7777777777777778,
             "#fb9f3a"
            ],
            [
             0.8888888888888888,
             "#fdca26"
            ],
            [
             1,
             "#f0f921"
            ]
           ],
           "sequentialminus": [
            [
             0,
             "#0d0887"
            ],
            [
             0.1111111111111111,
             "#46039f"
            ],
            [
             0.2222222222222222,
             "#7201a8"
            ],
            [
             0.3333333333333333,
             "#9c179e"
            ],
            [
             0.4444444444444444,
             "#bd3786"
            ],
            [
             0.5555555555555556,
             "#d8576b"
            ],
            [
             0.6666666666666666,
             "#ed7953"
            ],
            [
             0.7777777777777778,
             "#fb9f3a"
            ],
            [
             0.8888888888888888,
             "#fdca26"
            ],
            [
             1,
             "#f0f921"
            ]
           ]
          },
          "colorway": [
           "#636efa",
           "#EF553B",
           "#00cc96",
           "#ab63fa",
           "#FFA15A",
           "#19d3f3",
           "#FF6692",
           "#B6E880",
           "#FF97FF",
           "#FECB52"
          ],
          "font": {
           "color": "#2a3f5f"
          },
          "geo": {
           "bgcolor": "white",
           "lakecolor": "white",
           "landcolor": "#E5ECF6",
           "showlakes": true,
           "showland": true,
           "subunitcolor": "white"
          },
          "hoverlabel": {
           "align": "left"
          },
          "hovermode": "closest",
          "mapbox": {
           "style": "light"
          },
          "paper_bgcolor": "white",
          "plot_bgcolor": "#E5ECF6",
          "polar": {
           "angularaxis": {
            "gridcolor": "white",
            "linecolor": "white",
            "ticks": ""
           },
           "bgcolor": "#E5ECF6",
           "radialaxis": {
            "gridcolor": "white",
            "linecolor": "white",
            "ticks": ""
           }
          },
          "scene": {
           "xaxis": {
            "backgroundcolor": "#E5ECF6",
            "gridcolor": "white",
            "gridwidth": 2,
            "linecolor": "white",
            "showbackground": true,
            "ticks": "",
            "zerolinecolor": "white"
           },
           "yaxis": {
            "backgroundcolor": "#E5ECF6",
            "gridcolor": "white",
            "gridwidth": 2,
            "linecolor": "white",
            "showbackground": true,
            "ticks": "",
            "zerolinecolor": "white"
           },
           "zaxis": {
            "backgroundcolor": "#E5ECF6",
            "gridcolor": "white",
            "gridwidth": 2,
            "linecolor": "white",
            "showbackground": true,
            "ticks": "",
            "zerolinecolor": "white"
           }
          },
          "shapedefaults": {
           "line": {
            "color": "#2a3f5f"
           }
          },
          "ternary": {
           "aaxis": {
            "gridcolor": "white",
            "linecolor": "white",
            "ticks": ""
           },
           "baxis": {
            "gridcolor": "white",
            "linecolor": "white",
            "ticks": ""
           },
           "bgcolor": "#E5ECF6",
           "caxis": {
            "gridcolor": "white",
            "linecolor": "white",
            "ticks": ""
           }
          },
          "title": {
           "x": 0.05
          },
          "xaxis": {
           "automargin": true,
           "gridcolor": "white",
           "linecolor": "white",
           "ticks": "",
           "title": {
            "standoff": 15
           },
           "zerolinecolor": "white",
           "zerolinewidth": 2
          },
          "yaxis": {
           "automargin": true,
           "gridcolor": "white",
           "linecolor": "white",
           "ticks": "",
           "title": {
            "standoff": 15
           },
           "zerolinecolor": "white",
           "zerolinewidth": 2
          }
         }
        },
        "title": {
         "text": "Equilibrium firm valuation for the grid of (k,b)"
        },
        "width": 700
       }
      }
     },
     "metadata": {},
     "output_type": "display_data"
    }
   ],
   "source": [
    "#====================== Experiment 2 ======================#\n",
    "Ve2,ke2,be2,pe2,qe2,c10e2,c11e2,c20e2,c21e2,xi1e2 = off_eq_check(mdl,\n",
    "                                                                kss,bss,\n",
    "                                                                e=0.1)\n",
    "# Firm Valuation\n",
    "kgride2, bgride2, Vgride2, Qgride2, Pgride2 = mdl.eq_valuation(c10e2, c11e2, c20e2,c21e2,N=20)\n",
    "print('Maximum valuation of the firm value in the (k,b) grid: {:.4f}'.format(Vgride2.max()))\n",
    "print('Equilibrium firm value: {:.4f}'.format(Ve2))\n",
    "fig = go.Figure(data=[go.Scatter3d(x=[ke2],\n",
    "                y=[be2],\n",
    "                z=[Ve2],\n",
    "                mode='markers',\n",
    "                marker=dict(size=3, color='red')),\n",
    "                go.Surface(x=kgride2,\n",
    "                y=bgride2,\n",
    "                z=Vgride2,\n",
    "                colorscale='blues',opacity=0.6)])\n",
    "fig.update_layout(scene = dict(\n",
    "                    xaxis_title='x - Capital k',\n",
    "                    yaxis_title='y - Debt b',\n",
    "                    zaxis_title='z - Firm Value V',\n",
    "                    aspectratio = dict(x=1,y=1,z=1)),\n",
    "                    width=700,\n",
    "                    height=700,\n",
    "                    margin=dict(l=50, r=50, b=65, t=90))\n",
    "fig.update_layout(scene_camera=dict(eye=dict(x=1.5, y=-1.5, z=2)))\n",
    "fig.update_layout(title='Equilibrium firm valuation for the grid of (k,b)')\n",
    "# Export to PNG file\n",
    "# Image(fig.to_image(format=\"png\"))\n",
    "# fig.show() will provide interactive plot when running\n",
    "# code locally"
   ]
  },
  {
   "cell_type": "code",
   "execution_count": 26,
   "metadata": {},
   "outputs": [
    {
     "name": "stdout",
     "output_type": "stream",
     "text": [
      "Bond holdings of agent 1: 0.039\n"
     ]
    }
   ],
   "source": [
    "print('Bond holdings of agent 1: {:.3f}'.format(xi1e2))"
   ]
  },
  {
   "cell_type": "code",
   "execution_count": 29,
   "metadata": {},
   "outputs": [
    {
     "data": {
      "application/vnd.plotly.v1+json": {
       "config": {
        "plotlyServerURL": "https://plot.ly"
       },
       "data": [
        {
         "marker": {
          "color": "red",
          "size": 3
         },
         "mode": "markers",
         "type": "scatter3d",
         "x": [
          0.15111572265625
         ],
         "y": [
          0.4843666076660157
         ],
         "z": [
          0.06988669384882087
         ]
        },
        {
         "colorscale": [
          [
           0,
           "rgb(252,251,253)"
          ],
          [
           0.125,
           "rgb(239,237,245)"
          ],
          [
           0.25,
           "rgb(218,218,235)"
          ],
          [
           0.375,
           "rgb(188,189,220)"
          ],
          [
           0.5,
           "rgb(158,154,200)"
          ],
          [
           0.625,
           "rgb(128,125,186)"
          ],
          [
           0.75,
           "rgb(106,81,163)"
          ],
          [
           0.875,
           "rgb(84,39,143)"
          ],
          [
           1,
           "rgb(63,0,125)"
          ]
         ],
         "opacity": 0.6,
         "type": "surface",
         "x": [
          [
           0.01,
           0.018275862068965518,
           0.026551724137931033,
           0.034827586206896556,
           0.04310344827586207,
           0.05137931034482759,
           0.05965517241379311,
           0.06793103448275863,
           0.07620689655172413,
           0.08448275862068966,
           0.09275862068965517,
           0.10103448275862069,
           0.10931034482758621,
           0.11758620689655172,
           0.12586206896551724,
           0.13413793103448277,
           0.1424137931034483,
           0.1506896551724138,
           0.15896551724137933,
           0.16724137931034483,
           0.17551724137931035,
           0.18379310344827587,
           0.1920689655172414,
           0.20034482758620692,
           0.20862068965517244,
           0.21689655172413794,
           0.22517241379310346,
           0.23344827586206898,
           0.2417241379310345,
           0.25
          ],
          [
           0.01,
           0.018275862068965518,
           0.026551724137931033,
           0.034827586206896556,
           0.04310344827586207,
           0.05137931034482759,
           0.05965517241379311,
           0.06793103448275863,
           0.07620689655172413,
           0.08448275862068966,
           0.09275862068965517,
           0.10103448275862069,
           0.10931034482758621,
           0.11758620689655172,
           0.12586206896551724,
           0.13413793103448277,
           0.1424137931034483,
           0.1506896551724138,
           0.15896551724137933,
           0.16724137931034483,
           0.17551724137931035,
           0.18379310344827587,
           0.1920689655172414,
           0.20034482758620692,
           0.20862068965517244,
           0.21689655172413794,
           0.22517241379310346,
           0.23344827586206898,
           0.2417241379310345,
           0.25
          ],
          [
           0.01,
           0.018275862068965518,
           0.026551724137931033,
           0.034827586206896556,
           0.04310344827586207,
           0.05137931034482759,
           0.05965517241379311,
           0.06793103448275863,
           0.07620689655172413,
           0.08448275862068966,
           0.09275862068965517,
           0.10103448275862069,
           0.10931034482758621,
           0.11758620689655172,
           0.12586206896551724,
           0.13413793103448277,
           0.1424137931034483,
           0.1506896551724138,
           0.15896551724137933,
           0.16724137931034483,
           0.17551724137931035,
           0.18379310344827587,
           0.1920689655172414,
           0.20034482758620692,
           0.20862068965517244,
           0.21689655172413794,
           0.22517241379310346,
           0.23344827586206898,
           0.2417241379310345,
           0.25
          ],
          [
           0.01,
           0.018275862068965518,
           0.026551724137931033,
           0.034827586206896556,
           0.04310344827586207,
           0.05137931034482759,
           0.05965517241379311,
           0.06793103448275863,
           0.07620689655172413,
           0.08448275862068966,
           0.09275862068965517,
           0.10103448275862069,
           0.10931034482758621,
           0.11758620689655172,
           0.12586206896551724,
           0.13413793103448277,
           0.1424137931034483,
           0.1506896551724138,
           0.15896551724137933,
           0.16724137931034483,
           0.17551724137931035,
           0.18379310344827587,
           0.1920689655172414,
           0.20034482758620692,
           0.20862068965517244,
           0.21689655172413794,
           0.22517241379310346,
           0.23344827586206898,
           0.2417241379310345,
           0.25
          ],
          [
           0.01,
           0.018275862068965518,
           0.026551724137931033,
           0.034827586206896556,
           0.04310344827586207,
           0.05137931034482759,
           0.05965517241379311,
           0.06793103448275863,
           0.07620689655172413,
           0.08448275862068966,
           0.09275862068965517,
           0.10103448275862069,
           0.10931034482758621,
           0.11758620689655172,
           0.12586206896551724,
           0.13413793103448277,
           0.1424137931034483,
           0.1506896551724138,
           0.15896551724137933,
           0.16724137931034483,
           0.17551724137931035,
           0.18379310344827587,
           0.1920689655172414,
           0.20034482758620692,
           0.20862068965517244,
           0.21689655172413794,
           0.22517241379310346,
           0.23344827586206898,
           0.2417241379310345,
           0.25
          ],
          [
           0.01,
           0.018275862068965518,
           0.026551724137931033,
           0.034827586206896556,
           0.04310344827586207,
           0.05137931034482759,
           0.05965517241379311,
           0.06793103448275863,
           0.07620689655172413,
           0.08448275862068966,
           0.09275862068965517,
           0.10103448275862069,
           0.10931034482758621,
           0.11758620689655172,
           0.12586206896551724,
           0.13413793103448277,
           0.1424137931034483,
           0.1506896551724138,
           0.15896551724137933,
           0.16724137931034483,
           0.17551724137931035,
           0.18379310344827587,
           0.1920689655172414,
           0.20034482758620692,
           0.20862068965517244,
           0.21689655172413794,
           0.22517241379310346,
           0.23344827586206898,
           0.2417241379310345,
           0.25
          ],
          [
           0.01,
           0.018275862068965518,
           0.026551724137931033,
           0.034827586206896556,
           0.04310344827586207,
           0.05137931034482759,
           0.05965517241379311,
           0.06793103448275863,
           0.07620689655172413,
           0.08448275862068966,
           0.09275862068965517,
           0.10103448275862069,
           0.10931034482758621,
           0.11758620689655172,
           0.12586206896551724,
           0.13413793103448277,
           0.1424137931034483,
           0.1506896551724138,
           0.15896551724137933,
           0.16724137931034483,
           0.17551724137931035,
           0.18379310344827587,
           0.1920689655172414,
           0.20034482758620692,
           0.20862068965517244,
           0.21689655172413794,
           0.22517241379310346,
           0.23344827586206898,
           0.2417241379310345,
           0.25
          ],
          [
           0.01,
           0.018275862068965518,
           0.026551724137931033,
           0.034827586206896556,
           0.04310344827586207,
           0.05137931034482759,
           0.05965517241379311,
           0.06793103448275863,
           0.07620689655172413,
           0.08448275862068966,
           0.09275862068965517,
           0.10103448275862069,
           0.10931034482758621,
           0.11758620689655172,
           0.12586206896551724,
           0.13413793103448277,
           0.1424137931034483,
           0.1506896551724138,
           0.15896551724137933,
           0.16724137931034483,
           0.17551724137931035,
           0.18379310344827587,
           0.1920689655172414,
           0.20034482758620692,
           0.20862068965517244,
           0.21689655172413794,
           0.22517241379310346,
           0.23344827586206898,
           0.2417241379310345,
           0.25
          ],
          [
           0.01,
           0.018275862068965518,
           0.026551724137931033,
           0.034827586206896556,
           0.04310344827586207,
           0.05137931034482759,
           0.05965517241379311,
           0.06793103448275863,
           0.07620689655172413,
           0.08448275862068966,
           0.09275862068965517,
           0.10103448275862069,
           0.10931034482758621,
           0.11758620689655172,
           0.12586206896551724,
           0.13413793103448277,
           0.1424137931034483,
           0.1506896551724138,
           0.15896551724137933,
           0.16724137931034483,
           0.17551724137931035,
           0.18379310344827587,
           0.1920689655172414,
           0.20034482758620692,
           0.20862068965517244,
           0.21689655172413794,
           0.22517241379310346,
           0.23344827586206898,
           0.2417241379310345,
           0.25
          ],
          [
           0.01,
           0.018275862068965518,
           0.026551724137931033,
           0.034827586206896556,
           0.04310344827586207,
           0.05137931034482759,
           0.05965517241379311,
           0.06793103448275863,
           0.07620689655172413,
           0.08448275862068966,
           0.09275862068965517,
           0.10103448275862069,
           0.10931034482758621,
           0.11758620689655172,
           0.12586206896551724,
           0.13413793103448277,
           0.1424137931034483,
           0.1506896551724138,
           0.15896551724137933,
           0.16724137931034483,
           0.17551724137931035,
           0.18379310344827587,
           0.1920689655172414,
           0.20034482758620692,
           0.20862068965517244,
           0.21689655172413794,
           0.22517241379310346,
           0.23344827586206898,
           0.2417241379310345,
           0.25
          ],
          [
           0.01,
           0.018275862068965518,
           0.026551724137931033,
           0.034827586206896556,
           0.04310344827586207,
           0.05137931034482759,
           0.05965517241379311,
           0.06793103448275863,
           0.07620689655172413,
           0.08448275862068966,
           0.09275862068965517,
           0.10103448275862069,
           0.10931034482758621,
           0.11758620689655172,
           0.12586206896551724,
           0.13413793103448277,
           0.1424137931034483,
           0.1506896551724138,
           0.15896551724137933,
           0.16724137931034483,
           0.17551724137931035,
           0.18379310344827587,
           0.1920689655172414,
           0.20034482758620692,
           0.20862068965517244,
           0.21689655172413794,
           0.22517241379310346,
           0.23344827586206898,
           0.2417241379310345,
           0.25
          ],
          [
           0.01,
           0.018275862068965518,
           0.026551724137931033,
           0.034827586206896556,
           0.04310344827586207,
           0.05137931034482759,
           0.05965517241379311,
           0.06793103448275863,
           0.07620689655172413,
           0.08448275862068966,
           0.09275862068965517,
           0.10103448275862069,
           0.10931034482758621,
           0.11758620689655172,
           0.12586206896551724,
           0.13413793103448277,
           0.1424137931034483,
           0.1506896551724138,
           0.15896551724137933,
           0.16724137931034483,
           0.17551724137931035,
           0.18379310344827587,
           0.1920689655172414,
           0.20034482758620692,
           0.20862068965517244,
           0.21689655172413794,
           0.22517241379310346,
           0.23344827586206898,
           0.2417241379310345,
           0.25
          ],
          [
           0.01,
           0.018275862068965518,
           0.026551724137931033,
           0.034827586206896556,
           0.04310344827586207,
           0.05137931034482759,
           0.05965517241379311,
           0.06793103448275863,
           0.07620689655172413,
           0.08448275862068966,
           0.09275862068965517,
           0.10103448275862069,
           0.10931034482758621,
           0.11758620689655172,
           0.12586206896551724,
           0.13413793103448277,
           0.1424137931034483,
           0.1506896551724138,
           0.15896551724137933,
           0.16724137931034483,
           0.17551724137931035,
           0.18379310344827587,
           0.1920689655172414,
           0.20034482758620692,
           0.20862068965517244,
           0.21689655172413794,
           0.22517241379310346,
           0.23344827586206898,
           0.2417241379310345,
           0.25
          ],
          [
           0.01,
           0.018275862068965518,
           0.026551724137931033,
           0.034827586206896556,
           0.04310344827586207,
           0.05137931034482759,
           0.05965517241379311,
           0.06793103448275863,
           0.07620689655172413,
           0.08448275862068966,
           0.09275862068965517,
           0.10103448275862069,
           0.10931034482758621,
           0.11758620689655172,
           0.12586206896551724,
           0.13413793103448277,
           0.1424137931034483,
           0.1506896551724138,
           0.15896551724137933,
           0.16724137931034483,
           0.17551724137931035,
           0.18379310344827587,
           0.1920689655172414,
           0.20034482758620692,
           0.20862068965517244,
           0.21689655172413794,
           0.22517241379310346,
           0.23344827586206898,
           0.2417241379310345,
           0.25
          ],
          [
           0.01,
           0.018275862068965518,
           0.026551724137931033,
           0.034827586206896556,
           0.04310344827586207,
           0.05137931034482759,
           0.05965517241379311,
           0.06793103448275863,
           0.07620689655172413,
           0.08448275862068966,
           0.09275862068965517,
           0.10103448275862069,
           0.10931034482758621,
           0.11758620689655172,
           0.12586206896551724,
           0.13413793103448277,
           0.1424137931034483,
           0.1506896551724138,
           0.15896551724137933,
           0.16724137931034483,
           0.17551724137931035,
           0.18379310344827587,
           0.1920689655172414,
           0.20034482758620692,
           0.20862068965517244,
           0.21689655172413794,
           0.22517241379310346,
           0.23344827586206898,
           0.2417241379310345,
           0.25
          ],
          [
           0.01,
           0.018275862068965518,
           0.026551724137931033,
           0.034827586206896556,
           0.04310344827586207,
           0.05137931034482759,
           0.05965517241379311,
           0.06793103448275863,
           0.07620689655172413,
           0.08448275862068966,
           0.09275862068965517,
           0.10103448275862069,
           0.10931034482758621,
           0.11758620689655172,
           0.12586206896551724,
           0.13413793103448277,
           0.1424137931034483,
           0.1506896551724138,
           0.15896551724137933,
           0.16724137931034483,
           0.17551724137931035,
           0.18379310344827587,
           0.1920689655172414,
           0.20034482758620692,
           0.20862068965517244,
           0.21689655172413794,
           0.22517241379310346,
           0.23344827586206898,
           0.2417241379310345,
           0.25
          ],
          [
           0.01,
           0.018275862068965518,
           0.026551724137931033,
           0.034827586206896556,
           0.04310344827586207,
           0.05137931034482759,
           0.05965517241379311,
           0.06793103448275863,
           0.07620689655172413,
           0.08448275862068966,
           0.09275862068965517,
           0.10103448275862069,
           0.10931034482758621,
           0.11758620689655172,
           0.12586206896551724,
           0.13413793103448277,
           0.1424137931034483,
           0.1506896551724138,
           0.15896551724137933,
           0.16724137931034483,
           0.17551724137931035,
           0.18379310344827587,
           0.1920689655172414,
           0.20034482758620692,
           0.20862068965517244,
           0.21689655172413794,
           0.22517241379310346,
           0.23344827586206898,
           0.2417241379310345,
           0.25
          ],
          [
           0.01,
           0.018275862068965518,
           0.026551724137931033,
           0.034827586206896556,
           0.04310344827586207,
           0.05137931034482759,
           0.05965517241379311,
           0.06793103448275863,
           0.07620689655172413,
           0.08448275862068966,
           0.09275862068965517,
           0.10103448275862069,
           0.10931034482758621,
           0.11758620689655172,
           0.12586206896551724,
           0.13413793103448277,
           0.1424137931034483,
           0.1506896551724138,
           0.15896551724137933,
           0.16724137931034483,
           0.17551724137931035,
           0.18379310344827587,
           0.1920689655172414,
           0.20034482758620692,
           0.20862068965517244,
           0.21689655172413794,
           0.22517241379310346,
           0.23344827586206898,
           0.2417241379310345,
           0.25
          ],
          [
           0.01,
           0.018275862068965518,
           0.026551724137931033,
           0.034827586206896556,
           0.04310344827586207,
           0.05137931034482759,
           0.05965517241379311,
           0.06793103448275863,
           0.07620689655172413,
           0.08448275862068966,
           0.09275862068965517,
           0.10103448275862069,
           0.10931034482758621,
           0.11758620689655172,
           0.12586206896551724,
           0.13413793103448277,
           0.1424137931034483,
           0.1506896551724138,
           0.15896551724137933,
           0.16724137931034483,
           0.17551724137931035,
           0.18379310344827587,
           0.1920689655172414,
           0.20034482758620692,
           0.20862068965517244,
           0.21689655172413794,
           0.22517241379310346,
           0.23344827586206898,
           0.2417241379310345,
           0.25
          ],
          [
           0.01,
           0.018275862068965518,
           0.026551724137931033,
           0.034827586206896556,
           0.04310344827586207,
           0.05137931034482759,
           0.05965517241379311,
           0.06793103448275863,
           0.07620689655172413,
           0.08448275862068966,
           0.09275862068965517,
           0.10103448275862069,
           0.10931034482758621,
           0.11758620689655172,
           0.12586206896551724,
           0.13413793103448277,
           0.1424137931034483,
           0.1506896551724138,
           0.15896551724137933,
           0.16724137931034483,
           0.17551724137931035,
           0.18379310344827587,
           0.1920689655172414,
           0.20034482758620692,
           0.20862068965517244,
           0.21689655172413794,
           0.22517241379310346,
           0.23344827586206898,
           0.2417241379310345,
           0.25
          ],
          [
           0.01,
           0.018275862068965518,
           0.026551724137931033,
           0.034827586206896556,
           0.04310344827586207,
           0.05137931034482759,
           0.05965517241379311,
           0.06793103448275863,
           0.07620689655172413,
           0.08448275862068966,
           0.09275862068965517,
           0.10103448275862069,
           0.10931034482758621,
           0.11758620689655172,
           0.12586206896551724,
           0.13413793103448277,
           0.1424137931034483,
           0.1506896551724138,
           0.15896551724137933,
           0.16724137931034483,
           0.17551724137931035,
           0.18379310344827587,
           0.1920689655172414,
           0.20034482758620692,
           0.20862068965517244,
           0.21689655172413794,
           0.22517241379310346,
           0.23344827586206898,
           0.2417241379310345,
           0.25
          ],
          [
           0.01,
           0.018275862068965518,
           0.026551724137931033,
           0.034827586206896556,
           0.04310344827586207,
           0.05137931034482759,
           0.05965517241379311,
           0.06793103448275863,
           0.07620689655172413,
           0.08448275862068966,
           0.09275862068965517,
           0.10103448275862069,
           0.10931034482758621,
           0.11758620689655172,
           0.12586206896551724,
           0.13413793103448277,
           0.1424137931034483,
           0.1506896551724138,
           0.15896551724137933,
           0.16724137931034483,
           0.17551724137931035,
           0.18379310344827587,
           0.1920689655172414,
           0.20034482758620692,
           0.20862068965517244,
           0.21689655172413794,
           0.22517241379310346,
           0.23344827586206898,
           0.2417241379310345,
           0.25
          ],
          [
           0.01,
           0.018275862068965518,
           0.026551724137931033,
           0.034827586206896556,
           0.04310344827586207,
           0.05137931034482759,
           0.05965517241379311,
           0.06793103448275863,
           0.07620689655172413,
           0.08448275862068966,
           0.09275862068965517,
           0.10103448275862069,
           0.10931034482758621,
           0.11758620689655172,
           0.12586206896551724,
           0.13413793103448277,
           0.1424137931034483,
           0.1506896551724138,
           0.15896551724137933,
           0.16724137931034483,
           0.17551724137931035,
           0.18379310344827587,
           0.1920689655172414,
           0.20034482758620692,
           0.20862068965517244,
           0.21689655172413794,
           0.22517241379310346,
           0.23344827586206898,
           0.2417241379310345,
           0.25
          ],
          [
           0.01,
           0.018275862068965518,
           0.026551724137931033,
           0.034827586206896556,
           0.04310344827586207,
           0.05137931034482759,
           0.05965517241379311,
           0.06793103448275863,
           0.07620689655172413,
           0.08448275862068966,
           0.09275862068965517,
           0.10103448275862069,
           0.10931034482758621,
           0.11758620689655172,
           0.12586206896551724,
           0.13413793103448277,
           0.1424137931034483,
           0.1506896551724138,
           0.15896551724137933,
           0.16724137931034483,
           0.17551724137931035,
           0.18379310344827587,
           0.1920689655172414,
           0.20034482758620692,
           0.20862068965517244,
           0.21689655172413794,
           0.22517241379310346,
           0.23344827586206898,
           0.2417241379310345,
           0.25
          ],
          [
           0.01,
           0.018275862068965518,
           0.026551724137931033,
           0.034827586206896556,
           0.04310344827586207,
           0.05137931034482759,
           0.05965517241379311,
           0.06793103448275863,
           0.07620689655172413,
           0.08448275862068966,
           0.09275862068965517,
           0.10103448275862069,
           0.10931034482758621,
           0.11758620689655172,
           0.12586206896551724,
           0.13413793103448277,
           0.1424137931034483,
           0.1506896551724138,
           0.15896551724137933,
           0.16724137931034483,
           0.17551724137931035,
           0.18379310344827587,
           0.1920689655172414,
           0.20034482758620692,
           0.20862068965517244,
           0.21689655172413794,
           0.22517241379310346,
           0.23344827586206898,
           0.2417241379310345,
           0.25
          ],
          [
           0.01,
           0.018275862068965518,
           0.026551724137931033,
           0.034827586206896556,
           0.04310344827586207,
           0.05137931034482759,
           0.05965517241379311,
           0.06793103448275863,
           0.07620689655172413,
           0.08448275862068966,
           0.09275862068965517,
           0.10103448275862069,
           0.10931034482758621,
           0.11758620689655172,
           0.12586206896551724,
           0.13413793103448277,
           0.1424137931034483,
           0.1506896551724138,
           0.15896551724137933,
           0.16724137931034483,
           0.17551724137931035,
           0.18379310344827587,
           0.1920689655172414,
           0.20034482758620692,
           0.20862068965517244,
           0.21689655172413794,
           0.22517241379310346,
           0.23344827586206898,
           0.2417241379310345,
           0.25
          ],
          [
           0.01,
           0.018275862068965518,
           0.026551724137931033,
           0.034827586206896556,
           0.04310344827586207,
           0.05137931034482759,
           0.05965517241379311,
           0.06793103448275863,
           0.07620689655172413,
           0.08448275862068966,
           0.09275862068965517,
           0.10103448275862069,
           0.10931034482758621,
           0.11758620689655172,
           0.12586206896551724,
           0.13413793103448277,
           0.1424137931034483,
           0.1506896551724138,
           0.15896551724137933,
           0.16724137931034483,
           0.17551724137931035,
           0.18379310344827587,
           0.1920689655172414,
           0.20034482758620692,
           0.20862068965517244,
           0.21689655172413794,
           0.22517241379310346,
           0.23344827586206898,
           0.2417241379310345,
           0.25
          ],
          [
           0.01,
           0.018275862068965518,
           0.026551724137931033,
           0.034827586206896556,
           0.04310344827586207,
           0.05137931034482759,
           0.05965517241379311,
           0.06793103448275863,
           0.07620689655172413,
           0.08448275862068966,
           0.09275862068965517,
           0.10103448275862069,
           0.10931034482758621,
           0.11758620689655172,
           0.12586206896551724,
           0.13413793103448277,
           0.1424137931034483,
           0.1506896551724138,
           0.15896551724137933,
           0.16724137931034483,
           0.17551724137931035,
           0.18379310344827587,
           0.1920689655172414,
           0.20034482758620692,
           0.20862068965517244,
           0.21689655172413794,
           0.22517241379310346,
           0.23344827586206898,
           0.2417241379310345,
           0.25
          ],
          [
           0.01,
           0.018275862068965518,
           0.026551724137931033,
           0.034827586206896556,
           0.04310344827586207,
           0.05137931034482759,
           0.05965517241379311,
           0.06793103448275863,
           0.07620689655172413,
           0.08448275862068966,
           0.09275862068965517,
           0.10103448275862069,
           0.10931034482758621,
           0.11758620689655172,
           0.12586206896551724,
           0.13413793103448277,
           0.1424137931034483,
           0.1506896551724138,
           0.15896551724137933,
           0.16724137931034483,
           0.17551724137931035,
           0.18379310344827587,
           0.1920689655172414,
           0.20034482758620692,
           0.20862068965517244,
           0.21689655172413794,
           0.22517241379310346,
           0.23344827586206898,
           0.2417241379310345,
           0.25
          ],
          [
           0.01,
           0.018275862068965518,
           0.026551724137931033,
           0.034827586206896556,
           0.04310344827586207,
           0.05137931034482759,
           0.05965517241379311,
           0.06793103448275863,
           0.07620689655172413,
           0.08448275862068966,
           0.09275862068965517,
           0.10103448275862069,
           0.10931034482758621,
           0.11758620689655172,
           0.12586206896551724,
           0.13413793103448277,
           0.1424137931034483,
           0.1506896551724138,
           0.15896551724137933,
           0.16724137931034483,
           0.17551724137931035,
           0.18379310344827587,
           0.1920689655172414,
           0.20034482758620692,
           0.20862068965517244,
           0.21689655172413794,
           0.22517241379310346,
           0.23344827586206898,
           0.2417241379310345,
           0.25
          ]
         ],
         "y": [
          [
           0.1,
           0.1,
           0.1,
           0.1,
           0.1,
           0.1,
           0.1,
           0.1,
           0.1,
           0.1,
           0.1,
           0.1,
           0.1,
           0.1,
           0.1,
           0.1,
           0.1,
           0.1,
           0.1,
           0.1,
           0.1,
           0.1,
           0.1,
           0.1,
           0.1,
           0.1,
           0.1,
           0.1,
           0.1,
           0.1
          ],
          [
           0.12413793103448277,
           0.12413793103448277,
           0.12413793103448277,
           0.12413793103448277,
           0.12413793103448277,
           0.12413793103448277,
           0.12413793103448277,
           0.12413793103448277,
           0.12413793103448277,
           0.12413793103448277,
           0.12413793103448277,
           0.12413793103448277,
           0.12413793103448277,
           0.12413793103448277,
           0.12413793103448277,
           0.12413793103448277,
           0.12413793103448277,
           0.12413793103448277,
           0.12413793103448277,
           0.12413793103448277,
           0.12413793103448277,
           0.12413793103448277,
           0.12413793103448277,
           0.12413793103448277,
           0.12413793103448277,
           0.12413793103448277,
           0.12413793103448277,
           0.12413793103448277,
           0.12413793103448277,
           0.12413793103448277
          ],
          [
           0.14827586206896554,
           0.14827586206896554,
           0.14827586206896554,
           0.14827586206896554,
           0.14827586206896554,
           0.14827586206896554,
           0.14827586206896554,
           0.14827586206896554,
           0.14827586206896554,
           0.14827586206896554,
           0.14827586206896554,
           0.14827586206896554,
           0.14827586206896554,
           0.14827586206896554,
           0.14827586206896554,
           0.14827586206896554,
           0.14827586206896554,
           0.14827586206896554,
           0.14827586206896554,
           0.14827586206896554,
           0.14827586206896554,
           0.14827586206896554,
           0.14827586206896554,
           0.14827586206896554,
           0.14827586206896554,
           0.14827586206896554,
           0.14827586206896554,
           0.14827586206896554,
           0.14827586206896554,
           0.14827586206896554
          ],
          [
           0.1724137931034483,
           0.1724137931034483,
           0.1724137931034483,
           0.1724137931034483,
           0.1724137931034483,
           0.1724137931034483,
           0.1724137931034483,
           0.1724137931034483,
           0.1724137931034483,
           0.1724137931034483,
           0.1724137931034483,
           0.1724137931034483,
           0.1724137931034483,
           0.1724137931034483,
           0.1724137931034483,
           0.1724137931034483,
           0.1724137931034483,
           0.1724137931034483,
           0.1724137931034483,
           0.1724137931034483,
           0.1724137931034483,
           0.1724137931034483,
           0.1724137931034483,
           0.1724137931034483,
           0.1724137931034483,
           0.1724137931034483,
           0.1724137931034483,
           0.1724137931034483,
           0.1724137931034483,
           0.1724137931034483
          ],
          [
           0.19655172413793104,
           0.19655172413793104,
           0.19655172413793104,
           0.19655172413793104,
           0.19655172413793104,
           0.19655172413793104,
           0.19655172413793104,
           0.19655172413793104,
           0.19655172413793104,
           0.19655172413793104,
           0.19655172413793104,
           0.19655172413793104,
           0.19655172413793104,
           0.19655172413793104,
           0.19655172413793104,
           0.19655172413793104,
           0.19655172413793104,
           0.19655172413793104,
           0.19655172413793104,
           0.19655172413793104,
           0.19655172413793104,
           0.19655172413793104,
           0.19655172413793104,
           0.19655172413793104,
           0.19655172413793104,
           0.19655172413793104,
           0.19655172413793104,
           0.19655172413793104,
           0.19655172413793104,
           0.19655172413793104
          ],
          [
           0.22068965517241382,
           0.22068965517241382,
           0.22068965517241382,
           0.22068965517241382,
           0.22068965517241382,
           0.22068965517241382,
           0.22068965517241382,
           0.22068965517241382,
           0.22068965517241382,
           0.22068965517241382,
           0.22068965517241382,
           0.22068965517241382,
           0.22068965517241382,
           0.22068965517241382,
           0.22068965517241382,
           0.22068965517241382,
           0.22068965517241382,
           0.22068965517241382,
           0.22068965517241382,
           0.22068965517241382,
           0.22068965517241382,
           0.22068965517241382,
           0.22068965517241382,
           0.22068965517241382,
           0.22068965517241382,
           0.22068965517241382,
           0.22068965517241382,
           0.22068965517241382,
           0.22068965517241382,
           0.22068965517241382
          ],
          [
           0.24482758620689657,
           0.24482758620689657,
           0.24482758620689657,
           0.24482758620689657,
           0.24482758620689657,
           0.24482758620689657,
           0.24482758620689657,
           0.24482758620689657,
           0.24482758620689657,
           0.24482758620689657,
           0.24482758620689657,
           0.24482758620689657,
           0.24482758620689657,
           0.24482758620689657,
           0.24482758620689657,
           0.24482758620689657,
           0.24482758620689657,
           0.24482758620689657,
           0.24482758620689657,
           0.24482758620689657,
           0.24482758620689657,
           0.24482758620689657,
           0.24482758620689657,
           0.24482758620689657,
           0.24482758620689657,
           0.24482758620689657,
           0.24482758620689657,
           0.24482758620689657,
           0.24482758620689657,
           0.24482758620689657
          ],
          [
           0.26896551724137935,
           0.26896551724137935,
           0.26896551724137935,
           0.26896551724137935,
           0.26896551724137935,
           0.26896551724137935,
           0.26896551724137935,
           0.26896551724137935,
           0.26896551724137935,
           0.26896551724137935,
           0.26896551724137935,
           0.26896551724137935,
           0.26896551724137935,
           0.26896551724137935,
           0.26896551724137935,
           0.26896551724137935,
           0.26896551724137935,
           0.26896551724137935,
           0.26896551724137935,
           0.26896551724137935,
           0.26896551724137935,
           0.26896551724137935,
           0.26896551724137935,
           0.26896551724137935,
           0.26896551724137935,
           0.26896551724137935,
           0.26896551724137935,
           0.26896551724137935,
           0.26896551724137935,
           0.26896551724137935
          ],
          [
           0.2931034482758621,
           0.2931034482758621,
           0.2931034482758621,
           0.2931034482758621,
           0.2931034482758621,
           0.2931034482758621,
           0.2931034482758621,
           0.2931034482758621,
           0.2931034482758621,
           0.2931034482758621,
           0.2931034482758621,
           0.2931034482758621,
           0.2931034482758621,
           0.2931034482758621,
           0.2931034482758621,
           0.2931034482758621,
           0.2931034482758621,
           0.2931034482758621,
           0.2931034482758621,
           0.2931034482758621,
           0.2931034482758621,
           0.2931034482758621,
           0.2931034482758621,
           0.2931034482758621,
           0.2931034482758621,
           0.2931034482758621,
           0.2931034482758621,
           0.2931034482758621,
           0.2931034482758621,
           0.2931034482758621
          ],
          [
           0.31724137931034485,
           0.31724137931034485,
           0.31724137931034485,
           0.31724137931034485,
           0.31724137931034485,
           0.31724137931034485,
           0.31724137931034485,
           0.31724137931034485,
           0.31724137931034485,
           0.31724137931034485,
           0.31724137931034485,
           0.31724137931034485,
           0.31724137931034485,
           0.31724137931034485,
           0.31724137931034485,
           0.31724137931034485,
           0.31724137931034485,
           0.31724137931034485,
           0.31724137931034485,
           0.31724137931034485,
           0.31724137931034485,
           0.31724137931034485,
           0.31724137931034485,
           0.31724137931034485,
           0.31724137931034485,
           0.31724137931034485,
           0.31724137931034485,
           0.31724137931034485,
           0.31724137931034485,
           0.31724137931034485
          ],
          [
           0.3413793103448276,
           0.3413793103448276,
           0.3413793103448276,
           0.3413793103448276,
           0.3413793103448276,
           0.3413793103448276,
           0.3413793103448276,
           0.3413793103448276,
           0.3413793103448276,
           0.3413793103448276,
           0.3413793103448276,
           0.3413793103448276,
           0.3413793103448276,
           0.3413793103448276,
           0.3413793103448276,
           0.3413793103448276,
           0.3413793103448276,
           0.3413793103448276,
           0.3413793103448276,
           0.3413793103448276,
           0.3413793103448276,
           0.3413793103448276,
           0.3413793103448276,
           0.3413793103448276,
           0.3413793103448276,
           0.3413793103448276,
           0.3413793103448276,
           0.3413793103448276,
           0.3413793103448276,
           0.3413793103448276
          ],
          [
           0.3655172413793104,
           0.3655172413793104,
           0.3655172413793104,
           0.3655172413793104,
           0.3655172413793104,
           0.3655172413793104,
           0.3655172413793104,
           0.3655172413793104,
           0.3655172413793104,
           0.3655172413793104,
           0.3655172413793104,
           0.3655172413793104,
           0.3655172413793104,
           0.3655172413793104,
           0.3655172413793104,
           0.3655172413793104,
           0.3655172413793104,
           0.3655172413793104,
           0.3655172413793104,
           0.3655172413793104,
           0.3655172413793104,
           0.3655172413793104,
           0.3655172413793104,
           0.3655172413793104,
           0.3655172413793104,
           0.3655172413793104,
           0.3655172413793104,
           0.3655172413793104,
           0.3655172413793104,
           0.3655172413793104
          ],
          [
           0.3896551724137931,
           0.3896551724137931,
           0.3896551724137931,
           0.3896551724137931,
           0.3896551724137931,
           0.3896551724137931,
           0.3896551724137931,
           0.3896551724137931,
           0.3896551724137931,
           0.3896551724137931,
           0.3896551724137931,
           0.3896551724137931,
           0.3896551724137931,
           0.3896551724137931,
           0.3896551724137931,
           0.3896551724137931,
           0.3896551724137931,
           0.3896551724137931,
           0.3896551724137931,
           0.3896551724137931,
           0.3896551724137931,
           0.3896551724137931,
           0.3896551724137931,
           0.3896551724137931,
           0.3896551724137931,
           0.3896551724137931,
           0.3896551724137931,
           0.3896551724137931,
           0.3896551724137931,
           0.3896551724137931
          ],
          [
           0.4137931034482759,
           0.4137931034482759,
           0.4137931034482759,
           0.4137931034482759,
           0.4137931034482759,
           0.4137931034482759,
           0.4137931034482759,
           0.4137931034482759,
           0.4137931034482759,
           0.4137931034482759,
           0.4137931034482759,
           0.4137931034482759,
           0.4137931034482759,
           0.4137931034482759,
           0.4137931034482759,
           0.4137931034482759,
           0.4137931034482759,
           0.4137931034482759,
           0.4137931034482759,
           0.4137931034482759,
           0.4137931034482759,
           0.4137931034482759,
           0.4137931034482759,
           0.4137931034482759,
           0.4137931034482759,
           0.4137931034482759,
           0.4137931034482759,
           0.4137931034482759,
           0.4137931034482759,
           0.4137931034482759
          ],
          [
           0.4379310344827587,
           0.4379310344827587,
           0.4379310344827587,
           0.4379310344827587,
           0.4379310344827587,
           0.4379310344827587,
           0.4379310344827587,
           0.4379310344827587,
           0.4379310344827587,
           0.4379310344827587,
           0.4379310344827587,
           0.4379310344827587,
           0.4379310344827587,
           0.4379310344827587,
           0.4379310344827587,
           0.4379310344827587,
           0.4379310344827587,
           0.4379310344827587,
           0.4379310344827587,
           0.4379310344827587,
           0.4379310344827587,
           0.4379310344827587,
           0.4379310344827587,
           0.4379310344827587,
           0.4379310344827587,
           0.4379310344827587,
           0.4379310344827587,
           0.4379310344827587,
           0.4379310344827587,
           0.4379310344827587
          ],
          [
           0.4620689655172414,
           0.4620689655172414,
           0.4620689655172414,
           0.4620689655172414,
           0.4620689655172414,
           0.4620689655172414,
           0.4620689655172414,
           0.4620689655172414,
           0.4620689655172414,
           0.4620689655172414,
           0.4620689655172414,
           0.4620689655172414,
           0.4620689655172414,
           0.4620689655172414,
           0.4620689655172414,
           0.4620689655172414,
           0.4620689655172414,
           0.4620689655172414,
           0.4620689655172414,
           0.4620689655172414,
           0.4620689655172414,
           0.4620689655172414,
           0.4620689655172414,
           0.4620689655172414,
           0.4620689655172414,
           0.4620689655172414,
           0.4620689655172414,
           0.4620689655172414,
           0.4620689655172414,
           0.4620689655172414
          ],
          [
           0.4862068965517242,
           0.4862068965517242,
           0.4862068965517242,
           0.4862068965517242,
           0.4862068965517242,
           0.4862068965517242,
           0.4862068965517242,
           0.4862068965517242,
           0.4862068965517242,
           0.4862068965517242,
           0.4862068965517242,
           0.4862068965517242,
           0.4862068965517242,
           0.4862068965517242,
           0.4862068965517242,
           0.4862068965517242,
           0.4862068965517242,
           0.4862068965517242,
           0.4862068965517242,
           0.4862068965517242,
           0.4862068965517242,
           0.4862068965517242,
           0.4862068965517242,
           0.4862068965517242,
           0.4862068965517242,
           0.4862068965517242,
           0.4862068965517242,
           0.4862068965517242,
           0.4862068965517242,
           0.4862068965517242
          ],
          [
           0.5103448275862069,
           0.5103448275862069,
           0.5103448275862069,
           0.5103448275862069,
           0.5103448275862069,
           0.5103448275862069,
           0.5103448275862069,
           0.5103448275862069,
           0.5103448275862069,
           0.5103448275862069,
           0.5103448275862069,
           0.5103448275862069,
           0.5103448275862069,
           0.5103448275862069,
           0.5103448275862069,
           0.5103448275862069,
           0.5103448275862069,
           0.5103448275862069,
           0.5103448275862069,
           0.5103448275862069,
           0.5103448275862069,
           0.5103448275862069,
           0.5103448275862069,
           0.5103448275862069,
           0.5103448275862069,
           0.5103448275862069,
           0.5103448275862069,
           0.5103448275862069,
           0.5103448275862069,
           0.5103448275862069
          ],
          [
           0.5344827586206897,
           0.5344827586206897,
           0.5344827586206897,
           0.5344827586206897,
           0.5344827586206897,
           0.5344827586206897,
           0.5344827586206897,
           0.5344827586206897,
           0.5344827586206897,
           0.5344827586206897,
           0.5344827586206897,
           0.5344827586206897,
           0.5344827586206897,
           0.5344827586206897,
           0.5344827586206897,
           0.5344827586206897,
           0.5344827586206897,
           0.5344827586206897,
           0.5344827586206897,
           0.5344827586206897,
           0.5344827586206897,
           0.5344827586206897,
           0.5344827586206897,
           0.5344827586206897,
           0.5344827586206897,
           0.5344827586206897,
           0.5344827586206897,
           0.5344827586206897,
           0.5344827586206897,
           0.5344827586206897
          ],
          [
           0.5586206896551725,
           0.5586206896551725,
           0.5586206896551725,
           0.5586206896551725,
           0.5586206896551725,
           0.5586206896551725,
           0.5586206896551725,
           0.5586206896551725,
           0.5586206896551725,
           0.5586206896551725,
           0.5586206896551725,
           0.5586206896551725,
           0.5586206896551725,
           0.5586206896551725,
           0.5586206896551725,
           0.5586206896551725,
           0.5586206896551725,
           0.5586206896551725,
           0.5586206896551725,
           0.5586206896551725,
           0.5586206896551725,
           0.5586206896551725,
           0.5586206896551725,
           0.5586206896551725,
           0.5586206896551725,
           0.5586206896551725,
           0.5586206896551725,
           0.5586206896551725,
           0.5586206896551725,
           0.5586206896551725
          ],
          [
           0.5827586206896552,
           0.5827586206896552,
           0.5827586206896552,
           0.5827586206896552,
           0.5827586206896552,
           0.5827586206896552,
           0.5827586206896552,
           0.5827586206896552,
           0.5827586206896552,
           0.5827586206896552,
           0.5827586206896552,
           0.5827586206896552,
           0.5827586206896552,
           0.5827586206896552,
           0.5827586206896552,
           0.5827586206896552,
           0.5827586206896552,
           0.5827586206896552,
           0.5827586206896552,
           0.5827586206896552,
           0.5827586206896552,
           0.5827586206896552,
           0.5827586206896552,
           0.5827586206896552,
           0.5827586206896552,
           0.5827586206896552,
           0.5827586206896552,
           0.5827586206896552,
           0.5827586206896552,
           0.5827586206896552
          ],
          [
           0.6068965517241379,
           0.6068965517241379,
           0.6068965517241379,
           0.6068965517241379,
           0.6068965517241379,
           0.6068965517241379,
           0.6068965517241379,
           0.6068965517241379,
           0.6068965517241379,
           0.6068965517241379,
           0.6068965517241379,
           0.6068965517241379,
           0.6068965517241379,
           0.6068965517241379,
           0.6068965517241379,
           0.6068965517241379,
           0.6068965517241379,
           0.6068965517241379,
           0.6068965517241379,
           0.6068965517241379,
           0.6068965517241379,
           0.6068965517241379,
           0.6068965517241379,
           0.6068965517241379,
           0.6068965517241379,
           0.6068965517241379,
           0.6068965517241379,
           0.6068965517241379,
           0.6068965517241379,
           0.6068965517241379
          ],
          [
           0.6310344827586207,
           0.6310344827586207,
           0.6310344827586207,
           0.6310344827586207,
           0.6310344827586207,
           0.6310344827586207,
           0.6310344827586207,
           0.6310344827586207,
           0.6310344827586207,
           0.6310344827586207,
           0.6310344827586207,
           0.6310344827586207,
           0.6310344827586207,
           0.6310344827586207,
           0.6310344827586207,
           0.6310344827586207,
           0.6310344827586207,
           0.6310344827586207,
           0.6310344827586207,
           0.6310344827586207,
           0.6310344827586207,
           0.6310344827586207,
           0.6310344827586207,
           0.6310344827586207,
           0.6310344827586207,
           0.6310344827586207,
           0.6310344827586207,
           0.6310344827586207,
           0.6310344827586207,
           0.6310344827586207
          ],
          [
           0.6551724137931035,
           0.6551724137931035,
           0.6551724137931035,
           0.6551724137931035,
           0.6551724137931035,
           0.6551724137931035,
           0.6551724137931035,
           0.6551724137931035,
           0.6551724137931035,
           0.6551724137931035,
           0.6551724137931035,
           0.6551724137931035,
           0.6551724137931035,
           0.6551724137931035,
           0.6551724137931035,
           0.6551724137931035,
           0.6551724137931035,
           0.6551724137931035,
           0.6551724137931035,
           0.6551724137931035,
           0.6551724137931035,
           0.6551724137931035,
           0.6551724137931035,
           0.6551724137931035,
           0.6551724137931035,
           0.6551724137931035,
           0.6551724137931035,
           0.6551724137931035,
           0.6551724137931035,
           0.6551724137931035
          ],
          [
           0.6793103448275862,
           0.6793103448275862,
           0.6793103448275862,
           0.6793103448275862,
           0.6793103448275862,
           0.6793103448275862,
           0.6793103448275862,
           0.6793103448275862,
           0.6793103448275862,
           0.6793103448275862,
           0.6793103448275862,
           0.6793103448275862,
           0.6793103448275862,
           0.6793103448275862,
           0.6793103448275862,
           0.6793103448275862,
           0.6793103448275862,
           0.6793103448275862,
           0.6793103448275862,
           0.6793103448275862,
           0.6793103448275862,
           0.6793103448275862,
           0.6793103448275862,
           0.6793103448275862,
           0.6793103448275862,
           0.6793103448275862,
           0.6793103448275862,
           0.6793103448275862,
           0.6793103448275862,
           0.6793103448275862
          ],
          [
           0.703448275862069,
           0.703448275862069,
           0.703448275862069,
           0.703448275862069,
           0.703448275862069,
           0.703448275862069,
           0.703448275862069,
           0.703448275862069,
           0.703448275862069,
           0.703448275862069,
           0.703448275862069,
           0.703448275862069,
           0.703448275862069,
           0.703448275862069,
           0.703448275862069,
           0.703448275862069,
           0.703448275862069,
           0.703448275862069,
           0.703448275862069,
           0.703448275862069,
           0.703448275862069,
           0.703448275862069,
           0.703448275862069,
           0.703448275862069,
           0.703448275862069,
           0.703448275862069,
           0.703448275862069,
           0.703448275862069,
           0.703448275862069,
           0.703448275862069
          ],
          [
           0.7275862068965517,
           0.7275862068965517,
           0.7275862068965517,
           0.7275862068965517,
           0.7275862068965517,
           0.7275862068965517,
           0.7275862068965517,
           0.7275862068965517,
           0.7275862068965517,
           0.7275862068965517,
           0.7275862068965517,
           0.7275862068965517,
           0.7275862068965517,
           0.7275862068965517,
           0.7275862068965517,
           0.7275862068965517,
           0.7275862068965517,
           0.7275862068965517,
           0.7275862068965517,
           0.7275862068965517,
           0.7275862068965517,
           0.7275862068965517,
           0.7275862068965517,
           0.7275862068965517,
           0.7275862068965517,
           0.7275862068965517,
           0.7275862068965517,
           0.7275862068965517,
           0.7275862068965517,
           0.7275862068965517
          ],
          [
           0.7517241379310345,
           0.7517241379310345,
           0.7517241379310345,
           0.7517241379310345,
           0.7517241379310345,
           0.7517241379310345,
           0.7517241379310345,
           0.7517241379310345,
           0.7517241379310345,
           0.7517241379310345,
           0.7517241379310345,
           0.7517241379310345,
           0.7517241379310345,
           0.7517241379310345,
           0.7517241379310345,
           0.7517241379310345,
           0.7517241379310345,
           0.7517241379310345,
           0.7517241379310345,
           0.7517241379310345,
           0.7517241379310345,
           0.7517241379310345,
           0.7517241379310345,
           0.7517241379310345,
           0.7517241379310345,
           0.7517241379310345,
           0.7517241379310345,
           0.7517241379310345,
           0.7517241379310345,
           0.7517241379310345
          ],
          [
           0.7758620689655173,
           0.7758620689655173,
           0.7758620689655173,
           0.7758620689655173,
           0.7758620689655173,
           0.7758620689655173,
           0.7758620689655173,
           0.7758620689655173,
           0.7758620689655173,
           0.7758620689655173,
           0.7758620689655173,
           0.7758620689655173,
           0.7758620689655173,
           0.7758620689655173,
           0.7758620689655173,
           0.7758620689655173,
           0.7758620689655173,
           0.7758620689655173,
           0.7758620689655173,
           0.7758620689655173,
           0.7758620689655173,
           0.7758620689655173,
           0.7758620689655173,
           0.7758620689655173,
           0.7758620689655173,
           0.7758620689655173,
           0.7758620689655173,
           0.7758620689655173,
           0.7758620689655173,
           0.7758620689655173
          ],
          [
           0.8,
           0.8,
           0.8,
           0.8,
           0.8,
           0.8,
           0.8,
           0.8,
           0.8,
           0.8,
           0.8,
           0.8,
           0.8,
           0.8,
           0.8,
           0.8,
           0.8,
           0.8,
           0.8,
           0.8,
           0.8,
           0.8,
           0.8,
           0.8,
           0.8,
           0.8,
           0.8,
           0.8,
           0.8,
           0.8
          ]
         ],
         "z": [
          [
           0.012434325595060646,
           0.03077721046588401,
           0.04779397243587108,
           0.06323338371436958,
           0.07739203942677868,
           0.09054249904837715,
           0.1028858587379494,
           0.11456780160964164,
           0.12569570380141945,
           0.1363513223874641,
           0.1465973966825639,
           0.15648412018671498,
           0.16605196992170582,
           0.17533421898201296,
           0.1843586182105422,
           0.19314860449976023,
           0.20172418352297466,
           0.21010261362519864,
           0.21829889599889854,
           0.2263261779131884,
           0.23419606028486162,
           0.2419188407949677,
           0.24950371761141116,
           0.2569589408837097,
           0.2642919517978097,
           0.27150948673770764,
           0.27861767069190185,
           0.28562208890336527,
           0.29252786498987865,
           0.2993396888697371
          ],
          [
           0.007541911831285071,
           0.0230460157734691,
           0.03885261512360854,
           0.05376228467715496,
           0.06767714588744117,
           0.08070871311178651,
           0.09299092052058183,
           0.10463990545755027,
           0.11574943959466265,
           0.12639417275887949,
           0.13663379651462634,
           0.14651654448307952,
           0.15608175274979313,
           0.1653625112427584,
           0.1743858456500115,
           0.18317511411018608,
           0.19175020874743182,
           0.20012830294415931,
           0.20832435038216002,
           0.2163514637449555,
           0.22422128726643992,
           0.23194392149042756,
           0.23952873509122558,
           0.2469839114397639,
           0.2543168883447507,
           0.261534396090455,
           0.2686425599667721,
           0.2756469659036382,
           0.2825527276621542,
           0.2893645422035173
          ],
          [
           0.004393138348529453,
           0.016739847133463492,
           0.030931863003077504,
           0.04495584776969539,
           0.05838648974558311,
           0.0711470690041639,
           0.0832729880325059,
           0.0948290453312131,
           0.10588176354943296,
           0.11649084840990373,
           0.126707581250052,
           0.1365753081389153,
           0.14613061102997466,
           0.15540441182666123,
           0.16442302662779668,
           0.17320898995022405,
           0.18178173549002552,
           0.19015814055308908,
           0.1983529596768201,
           0.20637917237125775,
           0.21424826464464994,
           0.2219704582151668,
           0.22955489262942386,
           0.23700978099009665,
           0.24434253567831413,
           0.25155987406094277,
           0.25866790560727176,
           0.26567220780376166,
           0.2725778873573941,
           0.27938963806345596
          ],
          [
           0.002499597149848213,
           0.011820653903406166,
           0.024155309707296548,
           0.03703601081769976,
           0.04974375982092172,
           0.06204973543926532,
           0.07388665136044244,
           0.08525598636096947,
           0.09618587605078696,
           0.10671273520324842,
           0.11687348564808442,
           0.12670250292689794,
           0.13623063461272536,
           0.14548510865071512,
           0.15448980276855903,
           0.1632656206945066,
           0.1718308926047064,
           0.18020174809963782,
           0.18839237915267673,
           0.19641542767950546,
           0.20428210372328645,
           0.21200243692741327,
           0.2195854398596567,
           0.22703919194590463,
           0.23437106259364596,
           0.24158770243139183,
           0.24869517899838486,
           0.25569903777486847,
           0.2626043614021175,
           0.26941582429668043
          ],
          [
           0.0014058503607621694,
           0.008172310917878827,
           0.018499642849383362,
           0.030090767035548627,
           0.04190196665331077,
           0.05358431254587126,
           0.06498994118764238,
           0.07605970429976934,
           0.08677965676213528,
           0.09715783757783537,
           0.10721210613171885,
           0.11696400942853287,
           0.1264356892666032,
           0.13564840980293166,
           0.1446219187209425,
           0.1533742296562645,
           0.16192162817603786,
           0.17027877074755962,
           0.17845882894854348,
           0.18647364203448988,
           0.19433386614601272,
           0.20204911236797796,
           0.20962806911450282,
           0.21707860950362068,
           0.22440795019902357,
           0.23162245785582083,
           0.23872824777444537,
           0.24573073178091523,
           0.2526349324081094,
           0.25944547251494365
          ],
          [
           0.0007878724099894697,
           0.005566816499641507,
           0.013937096691603057,
           0.024102440957802583,
           0.034920148958260545,
           0.04585732690231907,
           0.05670794565485865,
           0.06736682262395538,
           0.07778232568605564,
           0.08793390773910237,
           0.09781845357017041,
           0.10744234391543266,
           0.11681674970542115,
           0.125955002328916,
           0.13487108387325925,
           0.14357879537425747,
           0.152091319289318,
           0.16042101445546147,
           0.16857933548389348,
           0.1765768298320466,
           0.1844231824743077,
           0.19212725408321324,
           0.19969716544564645,
           0.20714034817495042,
           0.21446361956987461,
           0.22167328737957853,
           0.2287749590790619,
           0.2357740752410826,
           0.24267547649492496,
           0.2494836831182809
          ],
          [
           0.0004422929381724068,
           0.0037550534439390972,
           0.010366581969741353,
           0.01905796715493424,
           0.028782355700748406,
           0.03890629924854005,
           0.04911457310943883,
           0.05927008519436921,
           0.06929352955216736,
           0.079140052722566,
           0.08878681428588982,
           0.09822470026509818,
           0.10745296898952972,
           0.11647584606707927,
           0.12530037505078073,
           0.13393505065421898,
           0.14238901967138232,
           0.150671529828947,
           0.1587916409504666,
           0.1667580478289903,
           0.17457898736902658,
           0.18226219640522567,
           0.18981490483015068,
           0.19724385068677758,
           0.20455529027696204,
           0.21175504145824942,
           0.21884849548382815,
           0.2258406659054179,
           0.23273621394650393,
           0.23953947337006634
          ],
          [
           0.0002495699884777717,
           0.0025180186932734555,
           0.007637263763153211,
           0.014910882799311222,
           0.02347786706584583,
           0.03271482181057717,
           0.04223159467169787,
           0.05181989470645378,
           0.061381208108214194,
           0.07085343959280099,
           0.08019770660964935,
           0.0893910672999046,
           0.09842133927013094,
           0.10728348089122082,
           0.11597716474757495,
           0.12450482534260061,
           0.1328710680164295,
           0.1410813609444929,
           0.14914180172624178,
           0.1570587221045234,
           0.16483847167451185,
           0.1724872756370165,
           0.18001114764144457,
           0.18741584000130398,
           0.19470681694602804,
           0.2018892460607381,
           0.20896799724845033,
           0.2159476508332988,
           0.2228325121944149,
           0.2296266171959563
          ],
          [
           0.00014185982056646345,
           0.0016834974842766578,
           0.005587699334381632,
           0.011568407681938467,
           0.01898354062824183,
           0.027273770140056608,
           0.036041675874217464,
           0.045026507346871934,
           0.0540785271685812,
           0.06312293594800272,
           0.07210986027573917,
           0.0810055669299427,
           0.0897881025488386,
           0.0984439551174735,
           0.10696557948807245,
           0.11534960394832125,
           0.12359553779505644,
           0.13170483985433637,
           0.13968029689865527,
           0.14752549505256496,
           0.15524455129565015,
           0.1628418521239446,
           0.17032190049973633,
           0.1776892027244148,
           0.18494819448359504,
           0.19210319074959745,
           0.1991583539503581,
           0.20611767597995517,
           0.2129849684738367,
           0.21976386021280853
          ],
          [
           0.00008134096004642517,
           0.0011246947276876919,
           0.00406875628766426,
           0.008916642855048963,
           0.015238647244552058,
           0.022570237143974672,
           0.030537968403277153,
           0.038872089571405595,
           0.04738732669074818,
           0.055968938862772426,
           0.06455743900377646,
           0.07311200728461481,
           0.08160334640467645,
           0.09001099742943604,
           0.09832113061127785,
           0.10652486326403424,
           0.11461694592033925,
           0.12259478432178726,
           0.13045770429449122,
           0.1382064046696423,
           0.14584254823395484,
           0.15336846507375654,
           0.16078692653781973,
           0.16810098310119911,
           0.17531384361192107,
           0.182428789266015,
           0.18944910996617192,
           0.19637805788142693,
           0.20321881970637343,
           0.20997449085624667
          ],
          [
           0.00004708676019132729,
           0.0007520378811738782,
           0.0029537919960392874,
           0.006838810597635955,
           0.012160843665786123,
           0.01856150186004802,
           0.02571213793747064,
           0.033352613958199454,
           0.04129021248023585,
           0.0493871030684222,
           0.057551284105873665,
           0.06573317610109779,
           0.07389887653624191,
           0.08202290635501298,
           0.09008647425390161,
           0.09807603914414562,
           0.10598212461711692,
           0.11379837137365599,
           0.12152079772100023,
           0.12914722260543365,
           0.1366768170186856,
           0.1441097608074759,
           0.151446975315222,
           0.15868992236296683,
           0.16584044742540108,
           0.17290066133634632,
           0.17987284683071383,
           0.1867593933261424,
           0.19356274290992953,
           0.2002853536152865
          ],
          [
           0.000027530962810182952,
           0.0005039149212535709,
           0.0021408734675614272,
           0.005226292214531258,
           0.009659478141538416,
           0.015185550417034122,
           0.021531917815226096,
           0.028461617205671398,
           0.03578605430920369,
           0.043361793328614374,
           0.05108258539844053,
           0.05887272708907711,
           0.0666886472679715,
           0.07450185221032529,
           0.08229011474209272,
           0.09003634770934994,
           0.09772762916666436,
           0.105354349741994,
           0.11290958841869107,
           0.12038848641293852,
           0.12778783301800895,
           0.13510569703124878,
           0.14234114182950405,
           0.14949399721745615,
           0.15656467943142083,
           0.1635540708220539,
           0.17046329788540124,
           0.17729386263451816,
           0.18404735367442393,
           0.19072550037447766
          ],
          [
           0.00001626146491659843,
           0.0003386703968030843,
           0.001550864350909674,
           0.00398405257882955,
           0.007644863564922045,
           0.012370737431580769,
           0.01794856781560722,
           0.02417310945047712,
           0.030868832868433716,
           0.03789424319760272,
           0.04513902754897083,
           0.052518948011067906,
           0.05997093491804696,
           0.06745495924399779,
           0.07494653169408458,
           0.08242622379012937,
           0.08987858228402104,
           0.0972914700023279,
           0.10465548404307501,
           0.11196345806461823,
           0.11921004062481258,
           0.12639134830707616,
           0.13350467907924043,
           0.14054827281474958,
           0.14752112976368956,
           0.15442284098738826,
           0.1612535021122924,
           0.168013492433924,
           0.17470359185416592,
           0.18132472215524814
          ],
          [
           0.000009703335192559979,
           0.0002284464337359081,
           0.00112384664688948,
           0.00303231960119636,
           0.006033924481098429,
           0.010043096575797269,
           0.014904011918524794,
           0.020447243417967536,
           0.026516450530299236,
           0.03297812094278868,
           0.039723005790497666,
           0.046663991203995364,
           0.05373277555308185,
           0.0608764524891699,
           0.06805755066840051,
           0.07525402418826037,
           0.08244884968446083,
           0.08962810224311413,
           0.0967805088912307,
           0.10389703929829583,
           0.11097054179542246,
           0.1179954296777811,
           0.12496741214328637,
           0.13188326779568174,
           0.13874065308987685,
           0.1455379460018811,
           0.1522741095074694,
           0.15894858544899795,
           0.16556121791607373,
           0.17211209825047574
          ],
          [
           0.000005848738503167784,
           0.00015473315118934912,
           0.0008152469964415398,
           0.002306072003649352,
           0.004753064111850597,
           0.008131310806179563,
           0.012336529058645174,
           0.01723570740392998,
           0.022695194991784778,
           0.028593820750458705,
           0.03482758953430265,
           0.04131010723791583,
           0.04797107787200634,
           0.05475410525483811,
           0.061614406252224814,
           0.06851747928187193,
           0.0754419082074714,
           0.08237271602062883,
           0.08929738249910486,
           0.0962055132120055,
           0.10308855665041942,
           0.10993953372575041,
           0.11675280942766454,
           0.12352387896587752,
           0.130249205459716,
           0.13692601855729622,
           0.14355227139618384,
           0.15012644418775037,
           0.15664749020591495,
           0.16311475407975395
          ],
          [
           0.0000035604596727191236,
           0.00010527329800358233,
           0.0005923175969884441,
           0.0017534325264592719,
           0.0037391242180697865,
           0.006569714868757114,
           0.010184894268638769,
           0.014486175816704762,
           0.019363904892662143,
           0.024711991438398518,
           0.030434822810272905,
           0.03644970157110547,
           0.04268692606335339,
           0.049088750428122815,
           0.05560790738314228,
           0.06220605118338487,
           0.06885234308529806,
           0.07552494766757409,
           0.0822102214629838,
           0.08889692042431066,
           0.09557551299115156,
           0.10223798835730716,
           0.10887760852025703,
           0.11548885093608222,
           0.1220671309706034,
           0.12860872233200699,
           0.1351106212592618,
           0.14157044484196102,
           0.14798633315010412,
           0.1543568703157441
          ],
          [
           0.0000021885349521023085,
           0.00007195927625774035,
           0.000431207644321535,
           0.001333659092478917,
           0.002939161772046817,
           0.005299810330929875,
           0.008391129519301885,
           0.012145698686804759,
           0.016477487932771838,
           0.021296818822779676,
           0.02651854839465283,
           0.032065952574926775,
           0.037872085696305,
           0.043879757892902944,
           0.05004082103366685,
           0.0563151625267889,
           0.06266962761137419,
           0.06907698469587631,
           0.07551562969326393,
           0.08197186967436047,
           0.08843560136261955,
           0.09489811317478014,
           0.10135193669058724,
           0.10779070044343227,
           0.11420901574655308,
           0.12060234019600813,
           0.12696687546858001,
           0.13329947485000845,
           0.13959754814910497,
           0.14585898990212065
          ],
          [
           0.0000013579741496495924,
           0.00004942556337868368,
           0.00031464930293660263,
           0.0010151281135244539,
           0.002309574774407107,
           0.00427074694048306,
           0.0069021314148604105,
           0.010163094258075782,
           0.013989686993329184,
           0.018308841409269548,
           0.023047039588358836,
           0.02813511182369306,
           0.03351054969146443,
           0.0391183192858063,
           0.044910821258538965,
           0.050847402310943916,
           0.05689366214768133,
           0.06302069738502673,
           0.06920436057653037,
           0.07542459698139248,
           0.08166661618084331,
           0.08792098075532302,
           0.09417974699577181,
           0.10043599703583601,
           0.10668372688239652,
           0.11291778143766693,
           0.11913368390364891,
           0.1253276869648224,
           0.13149656364364387,
           0.1376376073407167
          ],
          [
           8.503528009240048e-7,
           0.00003411523954867145,
           0.0002301891650155059,
           0.0007735070170177425,
           0.0018149359110194087,
           0.0034391422007950113,
           0.005670458930395904,
           0.008490496943079335,
           0.011855116550517858,
           0.015707215501779576,
           0.019985281503406376,
           0.024628646049387574,
           0.029580439063954994,
           0.03478904203825522,
           0.04020860858843211,
           0.04579903468815688,
           0.0515256256858911,
           0.05735861475829128,
           0.06327262661838413,
           0.06924614110926225,
           0.07526098653407659,
           0.08130213602334206,
           0.08735951873733895,
           0.09342587882820032,
           0.09949483428611042,
           0.10556076507595051,
           0.11161875714416306,
           0.11766452442393141,
           0.12369434893588442,
           0.1297050187717224
          ],
          [
           5.372191428299159e-7,
           0.00002366422570868157,
           0.00016886656965665626,
           0.0005901935072529895,
           0.0014267574803408743,
           0.0027685177950873487,
           0.004654534043765795,
           0.007084240090650034,
           0.010030659046406468,
           0.013451434400948467,
           0.017296837270167773,
           0.021515106669101124,
           0.02605576870320178,
           0.030871538734771185,
           0.03591927940952561,
           0.0411603556098114,
           0.04656062097220829,
           0.05209019220509063,
           0.05772311248481993,
           0.06343696778164847,
           0.06921249506088951,
           0.07503320508737148,
           0.0808850319975515,
           0.08675675167664909,
           0.09264116807478864,
           0.09853239517590094,
           0.10442520740826927,
           0.11031495933248078,
           0.1161975519235196,
           0.12206937634656298
          ],
          [
           3.4231224509748454e-7,
           0.000016496154118881132,
           0.00012424099492119373,
           0.00045103248154238873,
           0.00112231486087034,
           0.0022285476604805197,
           0.003818459961277562,
           0.005905245455873119,
           0.008476337661689889,
           0.011502556512535785,
           0.014945297098112624,
           0.018761678236971117,
           0.022907995367216157,
           0.027341898794934958,
           0.032023668104877855,
           0.036916871679747255,
           0.041988622792077754,
           0.0472095810042502,
           0.05255380080653099,
           0.05799849554499981,
           0.06352376117216076,
           0.06911228807500282,
           0.07474907835448485,
           0.08042117854543991,
           0.08611745866215378,
           0.09182958943775539,
           0.09755201291985306,
           0.10327986875972686,
           0.10900879839656616,
           0.11473490519893323
          ],
          [
           2.1993117302810355e-7,
           0.000011555991057628515,
           0.00009168394262485261,
           0.000345288330145084,
           0.0008835920397614332,
           0.0017942455958497973,
           0.003131611727672524,
           0.0049190672678989765,
           0.007155783834414424,
           0.009824020105836119,
           0.012895345205233659,
           0.01633540186344751,
           0.020107311773166332,
           0.024173982158601205,
           0.028499585233326106,
           0.033050442965232005,
           0.03779549886459283,
           0.04270651177979788,
           0.047758068824412865,
           0.05292748561164559,
           0.05819464068846487,
           0.06354177578980683,
           0.06895328277871067,
           0.07441549057578407,
           0.07991646030727792,
           0.08544579338697109,
           0.09099457010464221,
           0.09655650896504345,
           0.10212709279275915,
           0.10770223984197112
          ],
          [
           1.4243657570672524e-7,
           0.000008134752337365318,
           0.00006786716513607375,
           0.0002648368435407355,
           0.0006963730407712658,
           0.0014451706669514287,
           0.00256810991192383,
           0.004095709449357949,
           0.0060364064237529965,
           0.0083821277021597,
           0.011113498093507387,
           0.014204097039565438,
           0.017623682917920665,
           0.021340508310777915,
           0.025322907593319635,
           0.029540333234960033,
           0.03396398982734815,
           0.03856718306495237,
           0.04332547224140394,
           0.04821669123263353,
           0.05322088466216293,
           0.0583201921987742,
           0.0634987038809087,
           0.06874230199933407,
           0.07403849989770575,
           0.07937628434305019,
           0.08474596557569782,
           0.09013903731189536,
           0.09554829050945746,
           0.1009688247263693
          ],
          [
           9.296227094887287e-8,
           0.000005753948236479444,
           0.000050394608573474755,
           0.00020353823292425425,
           0.0005494800717166322,
           0.0011646940139854046,
           0.0021062524601888105,
           0.003409306078815878,
           0.005089352240222978,
           0.007146278062330363,
           0.009568573583205887,
           0.012337019802366624,
           0.015427641133364808,
           0.01881393768164974,
           0.022468500654478304,
           0.026364135143630608,
           0.030474606336619362,
           0.03477510674252232,
           0.039242521954049925,
           0.04385555436622534,
           0.04859474932787881,
           0.05344245632434907,
           0.05838274883787415,
           0.06340131960435541,
           0.06848536308365359,
           0.07362345314954068,
           0.07880542145817607,
           0.08402223996466475,
           0.08926590975905616,
           0.0945293573844168
          ],
          [
           6.112602832760791e-8,
           0.000004089205177579805,
           0.00003753853561964074,
           0.000156755401711333,
           0.00043414707952077746,
           0.0009393476243157909,
           0.0017279527947166554,
           0.0028377304482438094,
           0.004289329321778084,
           0.006089013666586824,
           0.008231948230921212,
           0.010705300707485241,
           0.013490867595756148,
           0.01656715758876345,
           0.019910971431356856,
           0.02349855626718215,
           0.027306419415965327,
           0.03131187907787402,
           0.035493417250706434,
           0.039830887216218094,
           0.04430561629069853,
           0.04890043491883903,
           0.05359965527594999,
           0.05838901659919539,
           0.06325560964302218,
           0.06818778931196812,
           0.07317508174370231,
           0.07820809027280318,
           0.08327840322657903,
           0.0883785054642938
          ],
          [
           4.0482538191796116e-8,
           0.0000029196208191564764,
           0.000028050668102943138,
           0.00012098645526701199,
           0.0003435120467694055,
           0.0007582611245420366,
           0.0014182126800446988,
           0.0023621780422525577,
           0.00361434735188433,
           0.005185939695991604,
           0.007077654821994149,
           0.00928220584342385,
           0.011786592771468849,
           0.014573993594934597,
           0.01762526119392968,
           0.02092006496800473,
           0.024437733951441193,
           0.028157859766887082,
           0.03206071207176034,
           0.036127510978731625,
           0.04034059248071446,
           0.04468349534831558,
           0.04914099153457557,
           0.0536990768569564,
           0.05834493461610128,
           0.06306688154851078,
           0.06785430300921859,
           0.07269758240162001,
           0.07758802841215881,
           0.08251780256597367
          ],
          [
           2.6997496746921977e-8,
           0.000002094061037129705,
           0.000021027115049604765,
           0.00009358581078947632,
           0.00027220997208816277,
           0.0006126840750085213,
           0.001164644857457888,
           0.0019667533266130876,
           0.0030454150580305223,
           0.004415558839588605,
           0.006082363839143001,
           0.008043260611803462,
           0.010289848762068355,
           0.012809571017915964,
           0.01558709412741603,
           0.018605403654685954,
           0.021846645068936056,
           0.025292751901070578,
           0.028925901446203724,
           0.032728834344807466,
           0.03668506889161763,
           0.04077903532049266,
           0.044996150291706054,
           0.049322847468089195,
           0.053746576481039636,
           0.0582557797481442,
           0.06283985428928857,
           0.06748910385595193,
           0.07219468545311375,
           0.07694855303050324
          ],
          [
           1.8125496214955228e-8,
           0.000001508643430202825,
           0.000015811755706806582,
           0.00007255332532336792,
           0.00021604924670221964,
           0.0004955866582335162,
           0.0009570514355164678,
           0.001638078810646809,
           0.002566222639828634,
           0.003759055752790689,
           0.0052252847218114285,
           0.006966270820685786,
           0.008977604398787514,
           0.01125055215287769,
           0.013773301188493842,
           0.016531982176029757,
           0.019511483714124075,
           0.022696083164019717,
           0.026069923172363355,
           0.02961736226682015,
           0.03332322500062586,
           0.03717297336861109,
           0.04115281747793115,
           0.04524978005897123,
           0.04945172643586825,
           0.05374736911722098,
           0.058126254101961546,
           0.06257873443410325,
           0.06709593517062967,
           0.07166971296245292
          ],
          [
           1.224807174356429e-8,
           0.00000109163205622549,
           0.0000119270775253835,
           0.00005637525698705983,
           0.0001717559498637711,
           0.0004013296018971507,
           0.0007870583704646528,
           0.0013649367004002003,
           0.0021628280994734845,
           0.0032000560973509075,
           0.004488015120278377,
           0.006031269967070731,
           0.00782881044610897,
           0.00987527341227313,
           0.012162039218031903,
           0.014678166578232246,
           0.017411161683383452,
           0.020347593668523397,
           0.023473575564615722,
           0.02677513173631824,
           0.030238471974106697,
           0.03385019033309193,
           0.037597404235098275,
           0.04146784686362184,
           0.0454499234796789,
           0.04953274029960325,
           0.053706112771936085,
           0.05796055872826055,
           0.062287280637950714,
           0.06667814029205564
          ],
          [
           8.328407618645722e-9,
           7.93260556547383e-7,
           0.000009024605035464673,
           0.000043904511263124764,
           0.0001367727649320366,
           0.0003253936809075429,
           0.000647803012861081,
           0.0011379478608107992,
           0.0018233594413151,
           0.0027243779078943388,
           0.00385435969047975,
           0.005220416044648007,
           0.006824378255725956,
           0.008663804241430827,
           0.010732924566240259,
           0.013023479200269075,
           0.015525428378447344,
           0.018227538843566662,
           0.021117855915898178,
           0.024184075701054283,
           0.02741383264575346,
           0.030794916918787687,
           0.03431543464204161,
           0.0379639222323461,
           0.041729424369221016,
           0.04560154347845877,
           0.04957046718128598,
           0.05362697894615412,
           0.0577624561013385,
           0.06196885855336348
          ]
         ]
        }
       ],
       "layout": {
        "height": 700,
        "margin": {
         "b": 65,
         "l": 50,
         "r": 50,
         "t": 90
        },
        "scene": {
         "aspectratio": {
          "x": 1,
          "y": 1,
          "z": 1
         },
         "camera": {
          "eye": {
           "x": 1.5,
           "y": -1.5,
           "z": 2
          }
         },
         "xaxis": {
          "title": {
           "text": "x - Capital k"
          }
         },
         "yaxis": {
          "title": {
           "text": "y - Debt b"
          }
         },
         "zaxis": {
          "title": {
           "text": "z - Equity price q"
          }
         }
        },
        "template": {
         "data": {
          "bar": [
           {
            "error_x": {
             "color": "#2a3f5f"
            },
            "error_y": {
             "color": "#2a3f5f"
            },
            "marker": {
             "line": {
              "color": "#E5ECF6",
              "width": 0.5
             },
             "pattern": {
              "fillmode": "overlay",
              "size": 10,
              "solidity": 0.2
             }
            },
            "type": "bar"
           }
          ],
          "barpolar": [
           {
            "marker": {
             "line": {
              "color": "#E5ECF6",
              "width": 0.5
             },
             "pattern": {
              "fillmode": "overlay",
              "size": 10,
              "solidity": 0.2
             }
            },
            "type": "barpolar"
           }
          ],
          "carpet": [
           {
            "aaxis": {
             "endlinecolor": "#2a3f5f",
             "gridcolor": "white",
             "linecolor": "white",
             "minorgridcolor": "white",
             "startlinecolor": "#2a3f5f"
            },
            "baxis": {
             "endlinecolor": "#2a3f5f",
             "gridcolor": "white",
             "linecolor": "white",
             "minorgridcolor": "white",
             "startlinecolor": "#2a3f5f"
            },
            "type": "carpet"
           }
          ],
          "choropleth": [
           {
            "colorbar": {
             "outlinewidth": 0,
             "ticks": ""
            },
            "type": "choropleth"
           }
          ],
          "contour": [
           {
            "colorbar": {
             "outlinewidth": 0,
             "ticks": ""
            },
            "colorscale": [
             [
              0,
              "#0d0887"
             ],
             [
              0.1111111111111111,
              "#46039f"
             ],
             [
              0.2222222222222222,
              "#7201a8"
             ],
             [
              0.3333333333333333,
              "#9c179e"
             ],
             [
              0.4444444444444444,
              "#bd3786"
             ],
             [
              0.5555555555555556,
              "#d8576b"
             ],
             [
              0.6666666666666666,
              "#ed7953"
             ],
             [
              0.7777777777777778,
              "#fb9f3a"
             ],
             [
              0.8888888888888888,
              "#fdca26"
             ],
             [
              1,
              "#f0f921"
             ]
            ],
            "type": "contour"
           }
          ],
          "contourcarpet": [
           {
            "colorbar": {
             "outlinewidth": 0,
             "ticks": ""
            },
            "type": "contourcarpet"
           }
          ],
          "heatmap": [
           {
            "colorbar": {
             "outlinewidth": 0,
             "ticks": ""
            },
            "colorscale": [
             [
              0,
              "#0d0887"
             ],
             [
              0.1111111111111111,
              "#46039f"
             ],
             [
              0.2222222222222222,
              "#7201a8"
             ],
             [
              0.3333333333333333,
              "#9c179e"
             ],
             [
              0.4444444444444444,
              "#bd3786"
             ],
             [
              0.5555555555555556,
              "#d8576b"
             ],
             [
              0.6666666666666666,
              "#ed7953"
             ],
             [
              0.7777777777777778,
              "#fb9f3a"
             ],
             [
              0.8888888888888888,
              "#fdca26"
             ],
             [
              1,
              "#f0f921"
             ]
            ],
            "type": "heatmap"
           }
          ],
          "heatmapgl": [
           {
            "colorbar": {
             "outlinewidth": 0,
             "ticks": ""
            },
            "colorscale": [
             [
              0,
              "#0d0887"
             ],
             [
              0.1111111111111111,
              "#46039f"
             ],
             [
              0.2222222222222222,
              "#7201a8"
             ],
             [
              0.3333333333333333,
              "#9c179e"
             ],
             [
              0.4444444444444444,
              "#bd3786"
             ],
             [
              0.5555555555555556,
              "#d8576b"
             ],
             [
              0.6666666666666666,
              "#ed7953"
             ],
             [
              0.7777777777777778,
              "#fb9f3a"
             ],
             [
              0.8888888888888888,
              "#fdca26"
             ],
             [
              1,
              "#f0f921"
             ]
            ],
            "type": "heatmapgl"
           }
          ],
          "histogram": [
           {
            "marker": {
             "pattern": {
              "fillmode": "overlay",
              "size": 10,
              "solidity": 0.2
             }
            },
            "type": "histogram"
           }
          ],
          "histogram2d": [
           {
            "colorbar": {
             "outlinewidth": 0,
             "ticks": ""
            },
            "colorscale": [
             [
              0,
              "#0d0887"
             ],
             [
              0.1111111111111111,
              "#46039f"
             ],
             [
              0.2222222222222222,
              "#7201a8"
             ],
             [
              0.3333333333333333,
              "#9c179e"
             ],
             [
              0.4444444444444444,
              "#bd3786"
             ],
             [
              0.5555555555555556,
              "#d8576b"
             ],
             [
              0.6666666666666666,
              "#ed7953"
             ],
             [
              0.7777777777777778,
              "#fb9f3a"
             ],
             [
              0.8888888888888888,
              "#fdca26"
             ],
             [
              1,
              "#f0f921"
             ]
            ],
            "type": "histogram2d"
           }
          ],
          "histogram2dcontour": [
           {
            "colorbar": {
             "outlinewidth": 0,
             "ticks": ""
            },
            "colorscale": [
             [
              0,
              "#0d0887"
             ],
             [
              0.1111111111111111,
              "#46039f"
             ],
             [
              0.2222222222222222,
              "#7201a8"
             ],
             [
              0.3333333333333333,
              "#9c179e"
             ],
             [
              0.4444444444444444,
              "#bd3786"
             ],
             [
              0.5555555555555556,
              "#d8576b"
             ],
             [
              0.6666666666666666,
              "#ed7953"
             ],
             [
              0.7777777777777778,
              "#fb9f3a"
             ],
             [
              0.8888888888888888,
              "#fdca26"
             ],
             [
              1,
              "#f0f921"
             ]
            ],
            "type": "histogram2dcontour"
           }
          ],
          "mesh3d": [
           {
            "colorbar": {
             "outlinewidth": 0,
             "ticks": ""
            },
            "type": "mesh3d"
           }
          ],
          "parcoords": [
           {
            "line": {
             "colorbar": {
              "outlinewidth": 0,
              "ticks": ""
             }
            },
            "type": "parcoords"
           }
          ],
          "pie": [
           {
            "automargin": true,
            "type": "pie"
           }
          ],
          "scatter": [
           {
            "marker": {
             "colorbar": {
              "outlinewidth": 0,
              "ticks": ""
             }
            },
            "type": "scatter"
           }
          ],
          "scatter3d": [
           {
            "line": {
             "colorbar": {
              "outlinewidth": 0,
              "ticks": ""
             }
            },
            "marker": {
             "colorbar": {
              "outlinewidth": 0,
              "ticks": ""
             }
            },
            "type": "scatter3d"
           }
          ],
          "scattercarpet": [
           {
            "marker": {
             "colorbar": {
              "outlinewidth": 0,
              "ticks": ""
             }
            },
            "type": "scattercarpet"
           }
          ],
          "scattergeo": [
           {
            "marker": {
             "colorbar": {
              "outlinewidth": 0,
              "ticks": ""
             }
            },
            "type": "scattergeo"
           }
          ],
          "scattergl": [
           {
            "marker": {
             "colorbar": {
              "outlinewidth": 0,
              "ticks": ""
             }
            },
            "type": "scattergl"
           }
          ],
          "scattermapbox": [
           {
            "marker": {
             "colorbar": {
              "outlinewidth": 0,
              "ticks": ""
             }
            },
            "type": "scattermapbox"
           }
          ],
          "scatterpolar": [
           {
            "marker": {
             "colorbar": {
              "outlinewidth": 0,
              "ticks": ""
             }
            },
            "type": "scatterpolar"
           }
          ],
          "scatterpolargl": [
           {
            "marker": {
             "colorbar": {
              "outlinewidth": 0,
              "ticks": ""
             }
            },
            "type": "scatterpolargl"
           }
          ],
          "scatterternary": [
           {
            "marker": {
             "colorbar": {
              "outlinewidth": 0,
              "ticks": ""
             }
            },
            "type": "scatterternary"
           }
          ],
          "surface": [
           {
            "colorbar": {
             "outlinewidth": 0,
             "ticks": ""
            },
            "colorscale": [
             [
              0,
              "#0d0887"
             ],
             [
              0.1111111111111111,
              "#46039f"
             ],
             [
              0.2222222222222222,
              "#7201a8"
             ],
             [
              0.3333333333333333,
              "#9c179e"
             ],
             [
              0.4444444444444444,
              "#bd3786"
             ],
             [
              0.5555555555555556,
              "#d8576b"
             ],
             [
              0.6666666666666666,
              "#ed7953"
             ],
             [
              0.7777777777777778,
              "#fb9f3a"
             ],
             [
              0.8888888888888888,
              "#fdca26"
             ],
             [
              1,
              "#f0f921"
             ]
            ],
            "type": "surface"
           }
          ],
          "table": [
           {
            "cells": {
             "fill": {
              "color": "#EBF0F8"
             },
             "line": {
              "color": "white"
             }
            },
            "header": {
             "fill": {
              "color": "#C8D4E3"
             },
             "line": {
              "color": "white"
             }
            },
            "type": "table"
           }
          ]
         },
         "layout": {
          "annotationdefaults": {
           "arrowcolor": "#2a3f5f",
           "arrowhead": 0,
           "arrowwidth": 1
          },
          "autotypenumbers": "strict",
          "coloraxis": {
           "colorbar": {
            "outlinewidth": 0,
            "ticks": ""
           }
          },
          "colorscale": {
           "diverging": [
            [
             0,
             "#8e0152"
            ],
            [
             0.1,
             "#c51b7d"
            ],
            [
             0.2,
             "#de77ae"
            ],
            [
             0.3,
             "#f1b6da"
            ],
            [
             0.4,
             "#fde0ef"
            ],
            [
             0.5,
             "#f7f7f7"
            ],
            [
             0.6,
             "#e6f5d0"
            ],
            [
             0.7,
             "#b8e186"
            ],
            [
             0.8,
             "#7fbc41"
            ],
            [
             0.9,
             "#4d9221"
            ],
            [
             1,
             "#276419"
            ]
           ],
           "sequential": [
            [
             0,
             "#0d0887"
            ],
            [
             0.1111111111111111,
             "#46039f"
            ],
            [
             0.2222222222222222,
             "#7201a8"
            ],
            [
             0.3333333333333333,
             "#9c179e"
            ],
            [
             0.4444444444444444,
             "#bd3786"
            ],
            [
             0.5555555555555556,
             "#d8576b"
            ],
            [
             0.6666666666666666,
             "#ed7953"
            ],
            [
             0.7777777777777778,
             "#fb9f3a"
            ],
            [
             0.8888888888888888,
             "#fdca26"
            ],
            [
             1,
             "#f0f921"
            ]
           ],
           "sequentialminus": [
            [
             0,
             "#0d0887"
            ],
            [
             0.1111111111111111,
             "#46039f"
            ],
            [
             0.2222222222222222,
             "#7201a8"
            ],
            [
             0.3333333333333333,
             "#9c179e"
            ],
            [
             0.4444444444444444,
             "#bd3786"
            ],
            [
             0.5555555555555556,
             "#d8576b"
            ],
            [
             0.6666666666666666,
             "#ed7953"
            ],
            [
             0.7777777777777778,
             "#fb9f3a"
            ],
            [
             0.8888888888888888,
             "#fdca26"
            ],
            [
             1,
             "#f0f921"
            ]
           ]
          },
          "colorway": [
           "#636efa",
           "#EF553B",
           "#00cc96",
           "#ab63fa",
           "#FFA15A",
           "#19d3f3",
           "#FF6692",
           "#B6E880",
           "#FF97FF",
           "#FECB52"
          ],
          "font": {
           "color": "#2a3f5f"
          },
          "geo": {
           "bgcolor": "white",
           "lakecolor": "white",
           "landcolor": "#E5ECF6",
           "showlakes": true,
           "showland": true,
           "subunitcolor": "white"
          },
          "hoverlabel": {
           "align": "left"
          },
          "hovermode": "closest",
          "mapbox": {
           "style": "light"
          },
          "paper_bgcolor": "white",
          "plot_bgcolor": "#E5ECF6",
          "polar": {
           "angularaxis": {
            "gridcolor": "white",
            "linecolor": "white",
            "ticks": ""
           },
           "bgcolor": "#E5ECF6",
           "radialaxis": {
            "gridcolor": "white",
            "linecolor": "white",
            "ticks": ""
           }
          },
          "scene": {
           "xaxis": {
            "backgroundcolor": "#E5ECF6",
            "gridcolor": "white",
            "gridwidth": 2,
            "linecolor": "white",
            "showbackground": true,
            "ticks": "",
            "zerolinecolor": "white"
           },
           "yaxis": {
            "backgroundcolor": "#E5ECF6",
            "gridcolor": "white",
            "gridwidth": 2,
            "linecolor": "white",
            "showbackground": true,
            "ticks": "",
            "zerolinecolor": "white"
           },
           "zaxis": {
            "backgroundcolor": "#E5ECF6",
            "gridcolor": "white",
            "gridwidth": 2,
            "linecolor": "white",
            "showbackground": true,
            "ticks": "",
            "zerolinecolor": "white"
           }
          },
          "shapedefaults": {
           "line": {
            "color": "#2a3f5f"
           }
          },
          "ternary": {
           "aaxis": {
            "gridcolor": "white",
            "linecolor": "white",
            "ticks": ""
           },
           "baxis": {
            "gridcolor": "white",
            "linecolor": "white",
            "ticks": ""
           },
           "bgcolor": "#E5ECF6",
           "caxis": {
            "gridcolor": "white",
            "linecolor": "white",
            "ticks": ""
           }
          },
          "title": {
           "x": 0.05
          },
          "xaxis": {
           "automargin": true,
           "gridcolor": "white",
           "linecolor": "white",
           "ticks": "",
           "title": {
            "standoff": 15
           },
           "zerolinecolor": "white",
           "zerolinewidth": 2
          },
          "yaxis": {
           "automargin": true,
           "gridcolor": "white",
           "linecolor": "white",
           "ticks": "",
           "title": {
            "standoff": 15
           },
           "zerolinecolor": "white",
           "zerolinewidth": 2
          }
         }
        },
        "title": {
         "text": "Equilibrium equity valuation for the grid of (k,b)"
        },
        "width": 700
       }
      }
     },
     "metadata": {},
     "output_type": "display_data"
    }
   ],
   "source": [
    "# Equity Valuation\n",
    "fig = go.Figure(data=[go.Scatter3d(x=[kss],\n",
    "                y=[bss],\n",
    "                z=[qss],\n",
    "                mode='markers',\n",
    "                marker=dict(size=3, color='red')),\n",
    "                go.Surface(x=kgrid,\n",
    "                y=bgrid,\n",
    "                z=Qgrid,\n",
    "                colorscale='Purples',opacity=0.6)])\n",
    "fig.update_layout(scene = dict(\n",
    "                xaxis_title='x - Capital k',\n",
    "                yaxis_title='y - Debt b',\n",
    "                zaxis_title='z - Equity price q',\n",
    "                aspectratio = dict(x=1,y=1,z=1)),\n",
    "                width=700,\n",
    "                height=700,\n",
    "                margin=dict(l=50, r=50, b=65, t=90))\n",
    "fig.update_layout(scene_camera=dict(eye=dict(x=1.5, y=-1.5, z=2)))\n",
    "fig.update_layout(title='Equilibrium equity valuation for the grid of (k,b)')\n",
    "# Export to PNG file\n",
    "# Image(fig.to_image(format=\"png\"))\n",
    "# fig.show() will provide interactive plot when running\n",
    "# code locally"
   ]
  },
  {
   "cell_type": "code",
   "execution_count": 28,
   "metadata": {},
   "outputs": [
    {
     "data": {
      "application/vnd.plotly.v1+json": {
       "config": {
        "plotlyServerURL": "https://plot.ly"
       },
       "data": [
        {
         "marker": {
          "color": "red",
          "size": 3
         },
         "mode": "markers",
         "type": "scatter3d",
         "x": [
          0.15111572265625
         ],
         "y": [
          0.4843666076660157
         ],
         "z": [
          0.37568270565214357
         ]
        },
        {
         "colorscale": [
          [
           0,
           "rgb(255,245,235)"
          ],
          [
           0.125,
           "rgb(254,230,206)"
          ],
          [
           0.25,
           "rgb(253,208,162)"
          ],
          [
           0.375,
           "rgb(253,174,107)"
          ],
          [
           0.5,
           "rgb(253,141,60)"
          ],
          [
           0.625,
           "rgb(241,105,19)"
          ],
          [
           0.75,
           "rgb(217,72,1)"
          ],
          [
           0.875,
           "rgb(166,54,3)"
          ],
          [
           1,
           "rgb(127,39,4)"
          ]
         ],
         "opacity": 0.6,
         "type": "surface",
         "x": [
          [
           0.01,
           0.018275862068965518,
           0.026551724137931033,
           0.034827586206896556,
           0.04310344827586207,
           0.05137931034482759,
           0.05965517241379311,
           0.06793103448275863,
           0.07620689655172413,
           0.08448275862068966,
           0.09275862068965517,
           0.10103448275862069,
           0.10931034482758621,
           0.11758620689655172,
           0.12586206896551724,
           0.13413793103448277,
           0.1424137931034483,
           0.1506896551724138,
           0.15896551724137933,
           0.16724137931034483,
           0.17551724137931035,
           0.18379310344827587,
           0.1920689655172414,
           0.20034482758620692,
           0.20862068965517244,
           0.21689655172413794,
           0.22517241379310346,
           0.23344827586206898,
           0.2417241379310345,
           0.25
          ],
          [
           0.01,
           0.018275862068965518,
           0.026551724137931033,
           0.034827586206896556,
           0.04310344827586207,
           0.05137931034482759,
           0.05965517241379311,
           0.06793103448275863,
           0.07620689655172413,
           0.08448275862068966,
           0.09275862068965517,
           0.10103448275862069,
           0.10931034482758621,
           0.11758620689655172,
           0.12586206896551724,
           0.13413793103448277,
           0.1424137931034483,
           0.1506896551724138,
           0.15896551724137933,
           0.16724137931034483,
           0.17551724137931035,
           0.18379310344827587,
           0.1920689655172414,
           0.20034482758620692,
           0.20862068965517244,
           0.21689655172413794,
           0.22517241379310346,
           0.23344827586206898,
           0.2417241379310345,
           0.25
          ],
          [
           0.01,
           0.018275862068965518,
           0.026551724137931033,
           0.034827586206896556,
           0.04310344827586207,
           0.05137931034482759,
           0.05965517241379311,
           0.06793103448275863,
           0.07620689655172413,
           0.08448275862068966,
           0.09275862068965517,
           0.10103448275862069,
           0.10931034482758621,
           0.11758620689655172,
           0.12586206896551724,
           0.13413793103448277,
           0.1424137931034483,
           0.1506896551724138,
           0.15896551724137933,
           0.16724137931034483,
           0.17551724137931035,
           0.18379310344827587,
           0.1920689655172414,
           0.20034482758620692,
           0.20862068965517244,
           0.21689655172413794,
           0.22517241379310346,
           0.23344827586206898,
           0.2417241379310345,
           0.25
          ],
          [
           0.01,
           0.018275862068965518,
           0.026551724137931033,
           0.034827586206896556,
           0.04310344827586207,
           0.05137931034482759,
           0.05965517241379311,
           0.06793103448275863,
           0.07620689655172413,
           0.08448275862068966,
           0.09275862068965517,
           0.10103448275862069,
           0.10931034482758621,
           0.11758620689655172,
           0.12586206896551724,
           0.13413793103448277,
           0.1424137931034483,
           0.1506896551724138,
           0.15896551724137933,
           0.16724137931034483,
           0.17551724137931035,
           0.18379310344827587,
           0.1920689655172414,
           0.20034482758620692,
           0.20862068965517244,
           0.21689655172413794,
           0.22517241379310346,
           0.23344827586206898,
           0.2417241379310345,
           0.25
          ],
          [
           0.01,
           0.018275862068965518,
           0.026551724137931033,
           0.034827586206896556,
           0.04310344827586207,
           0.05137931034482759,
           0.05965517241379311,
           0.06793103448275863,
           0.07620689655172413,
           0.08448275862068966,
           0.09275862068965517,
           0.10103448275862069,
           0.10931034482758621,
           0.11758620689655172,
           0.12586206896551724,
           0.13413793103448277,
           0.1424137931034483,
           0.1506896551724138,
           0.15896551724137933,
           0.16724137931034483,
           0.17551724137931035,
           0.18379310344827587,
           0.1920689655172414,
           0.20034482758620692,
           0.20862068965517244,
           0.21689655172413794,
           0.22517241379310346,
           0.23344827586206898,
           0.2417241379310345,
           0.25
          ],
          [
           0.01,
           0.018275862068965518,
           0.026551724137931033,
           0.034827586206896556,
           0.04310344827586207,
           0.05137931034482759,
           0.05965517241379311,
           0.06793103448275863,
           0.07620689655172413,
           0.08448275862068966,
           0.09275862068965517,
           0.10103448275862069,
           0.10931034482758621,
           0.11758620689655172,
           0.12586206896551724,
           0.13413793103448277,
           0.1424137931034483,
           0.1506896551724138,
           0.15896551724137933,
           0.16724137931034483,
           0.17551724137931035,
           0.18379310344827587,
           0.1920689655172414,
           0.20034482758620692,
           0.20862068965517244,
           0.21689655172413794,
           0.22517241379310346,
           0.23344827586206898,
           0.2417241379310345,
           0.25
          ],
          [
           0.01,
           0.018275862068965518,
           0.026551724137931033,
           0.034827586206896556,
           0.04310344827586207,
           0.05137931034482759,
           0.05965517241379311,
           0.06793103448275863,
           0.07620689655172413,
           0.08448275862068966,
           0.09275862068965517,
           0.10103448275862069,
           0.10931034482758621,
           0.11758620689655172,
           0.12586206896551724,
           0.13413793103448277,
           0.1424137931034483,
           0.1506896551724138,
           0.15896551724137933,
           0.16724137931034483,
           0.17551724137931035,
           0.18379310344827587,
           0.1920689655172414,
           0.20034482758620692,
           0.20862068965517244,
           0.21689655172413794,
           0.22517241379310346,
           0.23344827586206898,
           0.2417241379310345,
           0.25
          ],
          [
           0.01,
           0.018275862068965518,
           0.026551724137931033,
           0.034827586206896556,
           0.04310344827586207,
           0.05137931034482759,
           0.05965517241379311,
           0.06793103448275863,
           0.07620689655172413,
           0.08448275862068966,
           0.09275862068965517,
           0.10103448275862069,
           0.10931034482758621,
           0.11758620689655172,
           0.12586206896551724,
           0.13413793103448277,
           0.1424137931034483,
           0.1506896551724138,
           0.15896551724137933,
           0.16724137931034483,
           0.17551724137931035,
           0.18379310344827587,
           0.1920689655172414,
           0.20034482758620692,
           0.20862068965517244,
           0.21689655172413794,
           0.22517241379310346,
           0.23344827586206898,
           0.2417241379310345,
           0.25
          ],
          [
           0.01,
           0.018275862068965518,
           0.026551724137931033,
           0.034827586206896556,
           0.04310344827586207,
           0.05137931034482759,
           0.05965517241379311,
           0.06793103448275863,
           0.07620689655172413,
           0.08448275862068966,
           0.09275862068965517,
           0.10103448275862069,
           0.10931034482758621,
           0.11758620689655172,
           0.12586206896551724,
           0.13413793103448277,
           0.1424137931034483,
           0.1506896551724138,
           0.15896551724137933,
           0.16724137931034483,
           0.17551724137931035,
           0.18379310344827587,
           0.1920689655172414,
           0.20034482758620692,
           0.20862068965517244,
           0.21689655172413794,
           0.22517241379310346,
           0.23344827586206898,
           0.2417241379310345,
           0.25
          ],
          [
           0.01,
           0.018275862068965518,
           0.026551724137931033,
           0.034827586206896556,
           0.04310344827586207,
           0.05137931034482759,
           0.05965517241379311,
           0.06793103448275863,
           0.07620689655172413,
           0.08448275862068966,
           0.09275862068965517,
           0.10103448275862069,
           0.10931034482758621,
           0.11758620689655172,
           0.12586206896551724,
           0.13413793103448277,
           0.1424137931034483,
           0.1506896551724138,
           0.15896551724137933,
           0.16724137931034483,
           0.17551724137931035,
           0.18379310344827587,
           0.1920689655172414,
           0.20034482758620692,
           0.20862068965517244,
           0.21689655172413794,
           0.22517241379310346,
           0.23344827586206898,
           0.2417241379310345,
           0.25
          ],
          [
           0.01,
           0.018275862068965518,
           0.026551724137931033,
           0.034827586206896556,
           0.04310344827586207,
           0.05137931034482759,
           0.05965517241379311,
           0.06793103448275863,
           0.07620689655172413,
           0.08448275862068966,
           0.09275862068965517,
           0.10103448275862069,
           0.10931034482758621,
           0.11758620689655172,
           0.12586206896551724,
           0.13413793103448277,
           0.1424137931034483,
           0.1506896551724138,
           0.15896551724137933,
           0.16724137931034483,
           0.17551724137931035,
           0.18379310344827587,
           0.1920689655172414,
           0.20034482758620692,
           0.20862068965517244,
           0.21689655172413794,
           0.22517241379310346,
           0.23344827586206898,
           0.2417241379310345,
           0.25
          ],
          [
           0.01,
           0.018275862068965518,
           0.026551724137931033,
           0.034827586206896556,
           0.04310344827586207,
           0.05137931034482759,
           0.05965517241379311,
           0.06793103448275863,
           0.07620689655172413,
           0.08448275862068966,
           0.09275862068965517,
           0.10103448275862069,
           0.10931034482758621,
           0.11758620689655172,
           0.12586206896551724,
           0.13413793103448277,
           0.1424137931034483,
           0.1506896551724138,
           0.15896551724137933,
           0.16724137931034483,
           0.17551724137931035,
           0.18379310344827587,
           0.1920689655172414,
           0.20034482758620692,
           0.20862068965517244,
           0.21689655172413794,
           0.22517241379310346,
           0.23344827586206898,
           0.2417241379310345,
           0.25
          ],
          [
           0.01,
           0.018275862068965518,
           0.026551724137931033,
           0.034827586206896556,
           0.04310344827586207,
           0.05137931034482759,
           0.05965517241379311,
           0.06793103448275863,
           0.07620689655172413,
           0.08448275862068966,
           0.09275862068965517,
           0.10103448275862069,
           0.10931034482758621,
           0.11758620689655172,
           0.12586206896551724,
           0.13413793103448277,
           0.1424137931034483,
           0.1506896551724138,
           0.15896551724137933,
           0.16724137931034483,
           0.17551724137931035,
           0.18379310344827587,
           0.1920689655172414,
           0.20034482758620692,
           0.20862068965517244,
           0.21689655172413794,
           0.22517241379310346,
           0.23344827586206898,
           0.2417241379310345,
           0.25
          ],
          [
           0.01,
           0.018275862068965518,
           0.026551724137931033,
           0.034827586206896556,
           0.04310344827586207,
           0.05137931034482759,
           0.05965517241379311,
           0.06793103448275863,
           0.07620689655172413,
           0.08448275862068966,
           0.09275862068965517,
           0.10103448275862069,
           0.10931034482758621,
           0.11758620689655172,
           0.12586206896551724,
           0.13413793103448277,
           0.1424137931034483,
           0.1506896551724138,
           0.15896551724137933,
           0.16724137931034483,
           0.17551724137931035,
           0.18379310344827587,
           0.1920689655172414,
           0.20034482758620692,
           0.20862068965517244,
           0.21689655172413794,
           0.22517241379310346,
           0.23344827586206898,
           0.2417241379310345,
           0.25
          ],
          [
           0.01,
           0.018275862068965518,
           0.026551724137931033,
           0.034827586206896556,
           0.04310344827586207,
           0.05137931034482759,
           0.05965517241379311,
           0.06793103448275863,
           0.07620689655172413,
           0.08448275862068966,
           0.09275862068965517,
           0.10103448275862069,
           0.10931034482758621,
           0.11758620689655172,
           0.12586206896551724,
           0.13413793103448277,
           0.1424137931034483,
           0.1506896551724138,
           0.15896551724137933,
           0.16724137931034483,
           0.17551724137931035,
           0.18379310344827587,
           0.1920689655172414,
           0.20034482758620692,
           0.20862068965517244,
           0.21689655172413794,
           0.22517241379310346,
           0.23344827586206898,
           0.2417241379310345,
           0.25
          ],
          [
           0.01,
           0.018275862068965518,
           0.026551724137931033,
           0.034827586206896556,
           0.04310344827586207,
           0.05137931034482759,
           0.05965517241379311,
           0.06793103448275863,
           0.07620689655172413,
           0.08448275862068966,
           0.09275862068965517,
           0.10103448275862069,
           0.10931034482758621,
           0.11758620689655172,
           0.12586206896551724,
           0.13413793103448277,
           0.1424137931034483,
           0.1506896551724138,
           0.15896551724137933,
           0.16724137931034483,
           0.17551724137931035,
           0.18379310344827587,
           0.1920689655172414,
           0.20034482758620692,
           0.20862068965517244,
           0.21689655172413794,
           0.22517241379310346,
           0.23344827586206898,
           0.2417241379310345,
           0.25
          ],
          [
           0.01,
           0.018275862068965518,
           0.026551724137931033,
           0.034827586206896556,
           0.04310344827586207,
           0.05137931034482759,
           0.05965517241379311,
           0.06793103448275863,
           0.07620689655172413,
           0.08448275862068966,
           0.09275862068965517,
           0.10103448275862069,
           0.10931034482758621,
           0.11758620689655172,
           0.12586206896551724,
           0.13413793103448277,
           0.1424137931034483,
           0.1506896551724138,
           0.15896551724137933,
           0.16724137931034483,
           0.17551724137931035,
           0.18379310344827587,
           0.1920689655172414,
           0.20034482758620692,
           0.20862068965517244,
           0.21689655172413794,
           0.22517241379310346,
           0.23344827586206898,
           0.2417241379310345,
           0.25
          ],
          [
           0.01,
           0.018275862068965518,
           0.026551724137931033,
           0.034827586206896556,
           0.04310344827586207,
           0.05137931034482759,
           0.05965517241379311,
           0.06793103448275863,
           0.07620689655172413,
           0.08448275862068966,
           0.09275862068965517,
           0.10103448275862069,
           0.10931034482758621,
           0.11758620689655172,
           0.12586206896551724,
           0.13413793103448277,
           0.1424137931034483,
           0.1506896551724138,
           0.15896551724137933,
           0.16724137931034483,
           0.17551724137931035,
           0.18379310344827587,
           0.1920689655172414,
           0.20034482758620692,
           0.20862068965517244,
           0.21689655172413794,
           0.22517241379310346,
           0.23344827586206898,
           0.2417241379310345,
           0.25
          ],
          [
           0.01,
           0.018275862068965518,
           0.026551724137931033,
           0.034827586206896556,
           0.04310344827586207,
           0.05137931034482759,
           0.05965517241379311,
           0.06793103448275863,
           0.07620689655172413,
           0.08448275862068966,
           0.09275862068965517,
           0.10103448275862069,
           0.10931034482758621,
           0.11758620689655172,
           0.12586206896551724,
           0.13413793103448277,
           0.1424137931034483,
           0.1506896551724138,
           0.15896551724137933,
           0.16724137931034483,
           0.17551724137931035,
           0.18379310344827587,
           0.1920689655172414,
           0.20034482758620692,
           0.20862068965517244,
           0.21689655172413794,
           0.22517241379310346,
           0.23344827586206898,
           0.2417241379310345,
           0.25
          ],
          [
           0.01,
           0.018275862068965518,
           0.026551724137931033,
           0.034827586206896556,
           0.04310344827586207,
           0.05137931034482759,
           0.05965517241379311,
           0.06793103448275863,
           0.07620689655172413,
           0.08448275862068966,
           0.09275862068965517,
           0.10103448275862069,
           0.10931034482758621,
           0.11758620689655172,
           0.12586206896551724,
           0.13413793103448277,
           0.1424137931034483,
           0.1506896551724138,
           0.15896551724137933,
           0.16724137931034483,
           0.17551724137931035,
           0.18379310344827587,
           0.1920689655172414,
           0.20034482758620692,
           0.20862068965517244,
           0.21689655172413794,
           0.22517241379310346,
           0.23344827586206898,
           0.2417241379310345,
           0.25
          ],
          [
           0.01,
           0.018275862068965518,
           0.026551724137931033,
           0.034827586206896556,
           0.04310344827586207,
           0.05137931034482759,
           0.05965517241379311,
           0.06793103448275863,
           0.07620689655172413,
           0.08448275862068966,
           0.09275862068965517,
           0.10103448275862069,
           0.10931034482758621,
           0.11758620689655172,
           0.12586206896551724,
           0.13413793103448277,
           0.1424137931034483,
           0.1506896551724138,
           0.15896551724137933,
           0.16724137931034483,
           0.17551724137931035,
           0.18379310344827587,
           0.1920689655172414,
           0.20034482758620692,
           0.20862068965517244,
           0.21689655172413794,
           0.22517241379310346,
           0.23344827586206898,
           0.2417241379310345,
           0.25
          ],
          [
           0.01,
           0.018275862068965518,
           0.026551724137931033,
           0.034827586206896556,
           0.04310344827586207,
           0.05137931034482759,
           0.05965517241379311,
           0.06793103448275863,
           0.07620689655172413,
           0.08448275862068966,
           0.09275862068965517,
           0.10103448275862069,
           0.10931034482758621,
           0.11758620689655172,
           0.12586206896551724,
           0.13413793103448277,
           0.1424137931034483,
           0.1506896551724138,
           0.15896551724137933,
           0.16724137931034483,
           0.17551724137931035,
           0.18379310344827587,
           0.1920689655172414,
           0.20034482758620692,
           0.20862068965517244,
           0.21689655172413794,
           0.22517241379310346,
           0.23344827586206898,
           0.2417241379310345,
           0.25
          ],
          [
           0.01,
           0.018275862068965518,
           0.026551724137931033,
           0.034827586206896556,
           0.04310344827586207,
           0.05137931034482759,
           0.05965517241379311,
           0.06793103448275863,
           0.07620689655172413,
           0.08448275862068966,
           0.09275862068965517,
           0.10103448275862069,
           0.10931034482758621,
           0.11758620689655172,
           0.12586206896551724,
           0.13413793103448277,
           0.1424137931034483,
           0.1506896551724138,
           0.15896551724137933,
           0.16724137931034483,
           0.17551724137931035,
           0.18379310344827587,
           0.1920689655172414,
           0.20034482758620692,
           0.20862068965517244,
           0.21689655172413794,
           0.22517241379310346,
           0.23344827586206898,
           0.2417241379310345,
           0.25
          ],
          [
           0.01,
           0.018275862068965518,
           0.026551724137931033,
           0.034827586206896556,
           0.04310344827586207,
           0.05137931034482759,
           0.05965517241379311,
           0.06793103448275863,
           0.07620689655172413,
           0.08448275862068966,
           0.09275862068965517,
           0.10103448275862069,
           0.10931034482758621,
           0.11758620689655172,
           0.12586206896551724,
           0.13413793103448277,
           0.1424137931034483,
           0.1506896551724138,
           0.15896551724137933,
           0.16724137931034483,
           0.17551724137931035,
           0.18379310344827587,
           0.1920689655172414,
           0.20034482758620692,
           0.20862068965517244,
           0.21689655172413794,
           0.22517241379310346,
           0.23344827586206898,
           0.2417241379310345,
           0.25
          ],
          [
           0.01,
           0.018275862068965518,
           0.026551724137931033,
           0.034827586206896556,
           0.04310344827586207,
           0.05137931034482759,
           0.05965517241379311,
           0.06793103448275863,
           0.07620689655172413,
           0.08448275862068966,
           0.09275862068965517,
           0.10103448275862069,
           0.10931034482758621,
           0.11758620689655172,
           0.12586206896551724,
           0.13413793103448277,
           0.1424137931034483,
           0.1506896551724138,
           0.15896551724137933,
           0.16724137931034483,
           0.17551724137931035,
           0.18379310344827587,
           0.1920689655172414,
           0.20034482758620692,
           0.20862068965517244,
           0.21689655172413794,
           0.22517241379310346,
           0.23344827586206898,
           0.2417241379310345,
           0.25
          ],
          [
           0.01,
           0.018275862068965518,
           0.026551724137931033,
           0.034827586206896556,
           0.04310344827586207,
           0.05137931034482759,
           0.05965517241379311,
           0.06793103448275863,
           0.07620689655172413,
           0.08448275862068966,
           0.09275862068965517,
           0.10103448275862069,
           0.10931034482758621,
           0.11758620689655172,
           0.12586206896551724,
           0.13413793103448277,
           0.1424137931034483,
           0.1506896551724138,
           0.15896551724137933,
           0.16724137931034483,
           0.17551724137931035,
           0.18379310344827587,
           0.1920689655172414,
           0.20034482758620692,
           0.20862068965517244,
           0.21689655172413794,
           0.22517241379310346,
           0.23344827586206898,
           0.2417241379310345,
           0.25
          ],
          [
           0.01,
           0.018275862068965518,
           0.026551724137931033,
           0.034827586206896556,
           0.04310344827586207,
           0.05137931034482759,
           0.05965517241379311,
           0.06793103448275863,
           0.07620689655172413,
           0.08448275862068966,
           0.09275862068965517,
           0.10103448275862069,
           0.10931034482758621,
           0.11758620689655172,
           0.12586206896551724,
           0.13413793103448277,
           0.1424137931034483,
           0.1506896551724138,
           0.15896551724137933,
           0.16724137931034483,
           0.17551724137931035,
           0.18379310344827587,
           0.1920689655172414,
           0.20034482758620692,
           0.20862068965517244,
           0.21689655172413794,
           0.22517241379310346,
           0.23344827586206898,
           0.2417241379310345,
           0.25
          ],
          [
           0.01,
           0.018275862068965518,
           0.026551724137931033,
           0.034827586206896556,
           0.04310344827586207,
           0.05137931034482759,
           0.05965517241379311,
           0.06793103448275863,
           0.07620689655172413,
           0.08448275862068966,
           0.09275862068965517,
           0.10103448275862069,
           0.10931034482758621,
           0.11758620689655172,
           0.12586206896551724,
           0.13413793103448277,
           0.1424137931034483,
           0.1506896551724138,
           0.15896551724137933,
           0.16724137931034483,
           0.17551724137931035,
           0.18379310344827587,
           0.1920689655172414,
           0.20034482758620692,
           0.20862068965517244,
           0.21689655172413794,
           0.22517241379310346,
           0.23344827586206898,
           0.2417241379310345,
           0.25
          ],
          [
           0.01,
           0.018275862068965518,
           0.026551724137931033,
           0.034827586206896556,
           0.04310344827586207,
           0.05137931034482759,
           0.05965517241379311,
           0.06793103448275863,
           0.07620689655172413,
           0.08448275862068966,
           0.09275862068965517,
           0.10103448275862069,
           0.10931034482758621,
           0.11758620689655172,
           0.12586206896551724,
           0.13413793103448277,
           0.1424137931034483,
           0.1506896551724138,
           0.15896551724137933,
           0.16724137931034483,
           0.17551724137931035,
           0.18379310344827587,
           0.1920689655172414,
           0.20034482758620692,
           0.20862068965517244,
           0.21689655172413794,
           0.22517241379310346,
           0.23344827586206898,
           0.2417241379310345,
           0.25
          ],
          [
           0.01,
           0.018275862068965518,
           0.026551724137931033,
           0.034827586206896556,
           0.04310344827586207,
           0.05137931034482759,
           0.05965517241379311,
           0.06793103448275863,
           0.07620689655172413,
           0.08448275862068966,
           0.09275862068965517,
           0.10103448275862069,
           0.10931034482758621,
           0.11758620689655172,
           0.12586206896551724,
           0.13413793103448277,
           0.1424137931034483,
           0.1506896551724138,
           0.15896551724137933,
           0.16724137931034483,
           0.17551724137931035,
           0.18379310344827587,
           0.1920689655172414,
           0.20034482758620692,
           0.20862068965517244,
           0.21689655172413794,
           0.22517241379310346,
           0.23344827586206898,
           0.2417241379310345,
           0.25
          ]
         ],
         "y": [
          [
           0.1,
           0.1,
           0.1,
           0.1,
           0.1,
           0.1,
           0.1,
           0.1,
           0.1,
           0.1,
           0.1,
           0.1,
           0.1,
           0.1,
           0.1,
           0.1,
           0.1,
           0.1,
           0.1,
           0.1,
           0.1,
           0.1,
           0.1,
           0.1,
           0.1,
           0.1,
           0.1,
           0.1,
           0.1,
           0.1
          ],
          [
           0.12413793103448277,
           0.12413793103448277,
           0.12413793103448277,
           0.12413793103448277,
           0.12413793103448277,
           0.12413793103448277,
           0.12413793103448277,
           0.12413793103448277,
           0.12413793103448277,
           0.12413793103448277,
           0.12413793103448277,
           0.12413793103448277,
           0.12413793103448277,
           0.12413793103448277,
           0.12413793103448277,
           0.12413793103448277,
           0.12413793103448277,
           0.12413793103448277,
           0.12413793103448277,
           0.12413793103448277,
           0.12413793103448277,
           0.12413793103448277,
           0.12413793103448277,
           0.12413793103448277,
           0.12413793103448277,
           0.12413793103448277,
           0.12413793103448277,
           0.12413793103448277,
           0.12413793103448277,
           0.12413793103448277
          ],
          [
           0.14827586206896554,
           0.14827586206896554,
           0.14827586206896554,
           0.14827586206896554,
           0.14827586206896554,
           0.14827586206896554,
           0.14827586206896554,
           0.14827586206896554,
           0.14827586206896554,
           0.14827586206896554,
           0.14827586206896554,
           0.14827586206896554,
           0.14827586206896554,
           0.14827586206896554,
           0.14827586206896554,
           0.14827586206896554,
           0.14827586206896554,
           0.14827586206896554,
           0.14827586206896554,
           0.14827586206896554,
           0.14827586206896554,
           0.14827586206896554,
           0.14827586206896554,
           0.14827586206896554,
           0.14827586206896554,
           0.14827586206896554,
           0.14827586206896554,
           0.14827586206896554,
           0.14827586206896554,
           0.14827586206896554
          ],
          [
           0.1724137931034483,
           0.1724137931034483,
           0.1724137931034483,
           0.1724137931034483,
           0.1724137931034483,
           0.1724137931034483,
           0.1724137931034483,
           0.1724137931034483,
           0.1724137931034483,
           0.1724137931034483,
           0.1724137931034483,
           0.1724137931034483,
           0.1724137931034483,
           0.1724137931034483,
           0.1724137931034483,
           0.1724137931034483,
           0.1724137931034483,
           0.1724137931034483,
           0.1724137931034483,
           0.1724137931034483,
           0.1724137931034483,
           0.1724137931034483,
           0.1724137931034483,
           0.1724137931034483,
           0.1724137931034483,
           0.1724137931034483,
           0.1724137931034483,
           0.1724137931034483,
           0.1724137931034483,
           0.1724137931034483
          ],
          [
           0.19655172413793104,
           0.19655172413793104,
           0.19655172413793104,
           0.19655172413793104,
           0.19655172413793104,
           0.19655172413793104,
           0.19655172413793104,
           0.19655172413793104,
           0.19655172413793104,
           0.19655172413793104,
           0.19655172413793104,
           0.19655172413793104,
           0.19655172413793104,
           0.19655172413793104,
           0.19655172413793104,
           0.19655172413793104,
           0.19655172413793104,
           0.19655172413793104,
           0.19655172413793104,
           0.19655172413793104,
           0.19655172413793104,
           0.19655172413793104,
           0.19655172413793104,
           0.19655172413793104,
           0.19655172413793104,
           0.19655172413793104,
           0.19655172413793104,
           0.19655172413793104,
           0.19655172413793104,
           0.19655172413793104
          ],
          [
           0.22068965517241382,
           0.22068965517241382,
           0.22068965517241382,
           0.22068965517241382,
           0.22068965517241382,
           0.22068965517241382,
           0.22068965517241382,
           0.22068965517241382,
           0.22068965517241382,
           0.22068965517241382,
           0.22068965517241382,
           0.22068965517241382,
           0.22068965517241382,
           0.22068965517241382,
           0.22068965517241382,
           0.22068965517241382,
           0.22068965517241382,
           0.22068965517241382,
           0.22068965517241382,
           0.22068965517241382,
           0.22068965517241382,
           0.22068965517241382,
           0.22068965517241382,
           0.22068965517241382,
           0.22068965517241382,
           0.22068965517241382,
           0.22068965517241382,
           0.22068965517241382,
           0.22068965517241382,
           0.22068965517241382
          ],
          [
           0.24482758620689657,
           0.24482758620689657,
           0.24482758620689657,
           0.24482758620689657,
           0.24482758620689657,
           0.24482758620689657,
           0.24482758620689657,
           0.24482758620689657,
           0.24482758620689657,
           0.24482758620689657,
           0.24482758620689657,
           0.24482758620689657,
           0.24482758620689657,
           0.24482758620689657,
           0.24482758620689657,
           0.24482758620689657,
           0.24482758620689657,
           0.24482758620689657,
           0.24482758620689657,
           0.24482758620689657,
           0.24482758620689657,
           0.24482758620689657,
           0.24482758620689657,
           0.24482758620689657,
           0.24482758620689657,
           0.24482758620689657,
           0.24482758620689657,
           0.24482758620689657,
           0.24482758620689657,
           0.24482758620689657
          ],
          [
           0.26896551724137935,
           0.26896551724137935,
           0.26896551724137935,
           0.26896551724137935,
           0.26896551724137935,
           0.26896551724137935,
           0.26896551724137935,
           0.26896551724137935,
           0.26896551724137935,
           0.26896551724137935,
           0.26896551724137935,
           0.26896551724137935,
           0.26896551724137935,
           0.26896551724137935,
           0.26896551724137935,
           0.26896551724137935,
           0.26896551724137935,
           0.26896551724137935,
           0.26896551724137935,
           0.26896551724137935,
           0.26896551724137935,
           0.26896551724137935,
           0.26896551724137935,
           0.26896551724137935,
           0.26896551724137935,
           0.26896551724137935,
           0.26896551724137935,
           0.26896551724137935,
           0.26896551724137935,
           0.26896551724137935
          ],
          [
           0.2931034482758621,
           0.2931034482758621,
           0.2931034482758621,
           0.2931034482758621,
           0.2931034482758621,
           0.2931034482758621,
           0.2931034482758621,
           0.2931034482758621,
           0.2931034482758621,
           0.2931034482758621,
           0.2931034482758621,
           0.2931034482758621,
           0.2931034482758621,
           0.2931034482758621,
           0.2931034482758621,
           0.2931034482758621,
           0.2931034482758621,
           0.2931034482758621,
           0.2931034482758621,
           0.2931034482758621,
           0.2931034482758621,
           0.2931034482758621,
           0.2931034482758621,
           0.2931034482758621,
           0.2931034482758621,
           0.2931034482758621,
           0.2931034482758621,
           0.2931034482758621,
           0.2931034482758621,
           0.2931034482758621
          ],
          [
           0.31724137931034485,
           0.31724137931034485,
           0.31724137931034485,
           0.31724137931034485,
           0.31724137931034485,
           0.31724137931034485,
           0.31724137931034485,
           0.31724137931034485,
           0.31724137931034485,
           0.31724137931034485,
           0.31724137931034485,
           0.31724137931034485,
           0.31724137931034485,
           0.31724137931034485,
           0.31724137931034485,
           0.31724137931034485,
           0.31724137931034485,
           0.31724137931034485,
           0.31724137931034485,
           0.31724137931034485,
           0.31724137931034485,
           0.31724137931034485,
           0.31724137931034485,
           0.31724137931034485,
           0.31724137931034485,
           0.31724137931034485,
           0.31724137931034485,
           0.31724137931034485,
           0.31724137931034485,
           0.31724137931034485
          ],
          [
           0.3413793103448276,
           0.3413793103448276,
           0.3413793103448276,
           0.3413793103448276,
           0.3413793103448276,
           0.3413793103448276,
           0.3413793103448276,
           0.3413793103448276,
           0.3413793103448276,
           0.3413793103448276,
           0.3413793103448276,
           0.3413793103448276,
           0.3413793103448276,
           0.3413793103448276,
           0.3413793103448276,
           0.3413793103448276,
           0.3413793103448276,
           0.3413793103448276,
           0.3413793103448276,
           0.3413793103448276,
           0.3413793103448276,
           0.3413793103448276,
           0.3413793103448276,
           0.3413793103448276,
           0.3413793103448276,
           0.3413793103448276,
           0.3413793103448276,
           0.3413793103448276,
           0.3413793103448276,
           0.3413793103448276
          ],
          [
           0.3655172413793104,
           0.3655172413793104,
           0.3655172413793104,
           0.3655172413793104,
           0.3655172413793104,
           0.3655172413793104,
           0.3655172413793104,
           0.3655172413793104,
           0.3655172413793104,
           0.3655172413793104,
           0.3655172413793104,
           0.3655172413793104,
           0.3655172413793104,
           0.3655172413793104,
           0.3655172413793104,
           0.3655172413793104,
           0.3655172413793104,
           0.3655172413793104,
           0.3655172413793104,
           0.3655172413793104,
           0.3655172413793104,
           0.3655172413793104,
           0.3655172413793104,
           0.3655172413793104,
           0.3655172413793104,
           0.3655172413793104,
           0.3655172413793104,
           0.3655172413793104,
           0.3655172413793104,
           0.3655172413793104
          ],
          [
           0.3896551724137931,
           0.3896551724137931,
           0.3896551724137931,
           0.3896551724137931,
           0.3896551724137931,
           0.3896551724137931,
           0.3896551724137931,
           0.3896551724137931,
           0.3896551724137931,
           0.3896551724137931,
           0.3896551724137931,
           0.3896551724137931,
           0.3896551724137931,
           0.3896551724137931,
           0.3896551724137931,
           0.3896551724137931,
           0.3896551724137931,
           0.3896551724137931,
           0.3896551724137931,
           0.3896551724137931,
           0.3896551724137931,
           0.3896551724137931,
           0.3896551724137931,
           0.3896551724137931,
           0.3896551724137931,
           0.3896551724137931,
           0.3896551724137931,
           0.3896551724137931,
           0.3896551724137931,
           0.3896551724137931
          ],
          [
           0.4137931034482759,
           0.4137931034482759,
           0.4137931034482759,
           0.4137931034482759,
           0.4137931034482759,
           0.4137931034482759,
           0.4137931034482759,
           0.4137931034482759,
           0.4137931034482759,
           0.4137931034482759,
           0.4137931034482759,
           0.4137931034482759,
           0.4137931034482759,
           0.4137931034482759,
           0.4137931034482759,
           0.4137931034482759,
           0.4137931034482759,
           0.4137931034482759,
           0.4137931034482759,
           0.4137931034482759,
           0.4137931034482759,
           0.4137931034482759,
           0.4137931034482759,
           0.4137931034482759,
           0.4137931034482759,
           0.4137931034482759,
           0.4137931034482759,
           0.4137931034482759,
           0.4137931034482759,
           0.4137931034482759
          ],
          [
           0.4379310344827587,
           0.4379310344827587,
           0.4379310344827587,
           0.4379310344827587,
           0.4379310344827587,
           0.4379310344827587,
           0.4379310344827587,
           0.4379310344827587,
           0.4379310344827587,
           0.4379310344827587,
           0.4379310344827587,
           0.4379310344827587,
           0.4379310344827587,
           0.4379310344827587,
           0.4379310344827587,
           0.4379310344827587,
           0.4379310344827587,
           0.4379310344827587,
           0.4379310344827587,
           0.4379310344827587,
           0.4379310344827587,
           0.4379310344827587,
           0.4379310344827587,
           0.4379310344827587,
           0.4379310344827587,
           0.4379310344827587,
           0.4379310344827587,
           0.4379310344827587,
           0.4379310344827587,
           0.4379310344827587
          ],
          [
           0.4620689655172414,
           0.4620689655172414,
           0.4620689655172414,
           0.4620689655172414,
           0.4620689655172414,
           0.4620689655172414,
           0.4620689655172414,
           0.4620689655172414,
           0.4620689655172414,
           0.4620689655172414,
           0.4620689655172414,
           0.4620689655172414,
           0.4620689655172414,
           0.4620689655172414,
           0.4620689655172414,
           0.4620689655172414,
           0.4620689655172414,
           0.4620689655172414,
           0.4620689655172414,
           0.4620689655172414,
           0.4620689655172414,
           0.4620689655172414,
           0.4620689655172414,
           0.4620689655172414,
           0.4620689655172414,
           0.4620689655172414,
           0.4620689655172414,
           0.4620689655172414,
           0.4620689655172414,
           0.4620689655172414
          ],
          [
           0.4862068965517242,
           0.4862068965517242,
           0.4862068965517242,
           0.4862068965517242,
           0.4862068965517242,
           0.4862068965517242,
           0.4862068965517242,
           0.4862068965517242,
           0.4862068965517242,
           0.4862068965517242,
           0.4862068965517242,
           0.4862068965517242,
           0.4862068965517242,
           0.4862068965517242,
           0.4862068965517242,
           0.4862068965517242,
           0.4862068965517242,
           0.4862068965517242,
           0.4862068965517242,
           0.4862068965517242,
           0.4862068965517242,
           0.4862068965517242,
           0.4862068965517242,
           0.4862068965517242,
           0.4862068965517242,
           0.4862068965517242,
           0.4862068965517242,
           0.4862068965517242,
           0.4862068965517242,
           0.4862068965517242
          ],
          [
           0.5103448275862069,
           0.5103448275862069,
           0.5103448275862069,
           0.5103448275862069,
           0.5103448275862069,
           0.5103448275862069,
           0.5103448275862069,
           0.5103448275862069,
           0.5103448275862069,
           0.5103448275862069,
           0.5103448275862069,
           0.5103448275862069,
           0.5103448275862069,
           0.5103448275862069,
           0.5103448275862069,
           0.5103448275862069,
           0.5103448275862069,
           0.5103448275862069,
           0.5103448275862069,
           0.5103448275862069,
           0.5103448275862069,
           0.5103448275862069,
           0.5103448275862069,
           0.5103448275862069,
           0.5103448275862069,
           0.5103448275862069,
           0.5103448275862069,
           0.5103448275862069,
           0.5103448275862069,
           0.5103448275862069
          ],
          [
           0.5344827586206897,
           0.5344827586206897,
           0.5344827586206897,
           0.5344827586206897,
           0.5344827586206897,
           0.5344827586206897,
           0.5344827586206897,
           0.5344827586206897,
           0.5344827586206897,
           0.5344827586206897,
           0.5344827586206897,
           0.5344827586206897,
           0.5344827586206897,
           0.5344827586206897,
           0.5344827586206897,
           0.5344827586206897,
           0.5344827586206897,
           0.5344827586206897,
           0.5344827586206897,
           0.5344827586206897,
           0.5344827586206897,
           0.5344827586206897,
           0.5344827586206897,
           0.5344827586206897,
           0.5344827586206897,
           0.5344827586206897,
           0.5344827586206897,
           0.5344827586206897,
           0.5344827586206897,
           0.5344827586206897
          ],
          [
           0.5586206896551725,
           0.5586206896551725,
           0.5586206896551725,
           0.5586206896551725,
           0.5586206896551725,
           0.5586206896551725,
           0.5586206896551725,
           0.5586206896551725,
           0.5586206896551725,
           0.5586206896551725,
           0.5586206896551725,
           0.5586206896551725,
           0.5586206896551725,
           0.5586206896551725,
           0.5586206896551725,
           0.5586206896551725,
           0.5586206896551725,
           0.5586206896551725,
           0.5586206896551725,
           0.5586206896551725,
           0.5586206896551725,
           0.5586206896551725,
           0.5586206896551725,
           0.5586206896551725,
           0.5586206896551725,
           0.5586206896551725,
           0.5586206896551725,
           0.5586206896551725,
           0.5586206896551725,
           0.5586206896551725
          ],
          [
           0.5827586206896552,
           0.5827586206896552,
           0.5827586206896552,
           0.5827586206896552,
           0.5827586206896552,
           0.5827586206896552,
           0.5827586206896552,
           0.5827586206896552,
           0.5827586206896552,
           0.5827586206896552,
           0.5827586206896552,
           0.5827586206896552,
           0.5827586206896552,
           0.5827586206896552,
           0.5827586206896552,
           0.5827586206896552,
           0.5827586206896552,
           0.5827586206896552,
           0.5827586206896552,
           0.5827586206896552,
           0.5827586206896552,
           0.5827586206896552,
           0.5827586206896552,
           0.5827586206896552,
           0.5827586206896552,
           0.5827586206896552,
           0.5827586206896552,
           0.5827586206896552,
           0.5827586206896552,
           0.5827586206896552
          ],
          [
           0.6068965517241379,
           0.6068965517241379,
           0.6068965517241379,
           0.6068965517241379,
           0.6068965517241379,
           0.6068965517241379,
           0.6068965517241379,
           0.6068965517241379,
           0.6068965517241379,
           0.6068965517241379,
           0.6068965517241379,
           0.6068965517241379,
           0.6068965517241379,
           0.6068965517241379,
           0.6068965517241379,
           0.6068965517241379,
           0.6068965517241379,
           0.6068965517241379,
           0.6068965517241379,
           0.6068965517241379,
           0.6068965517241379,
           0.6068965517241379,
           0.6068965517241379,
           0.6068965517241379,
           0.6068965517241379,
           0.6068965517241379,
           0.6068965517241379,
           0.6068965517241379,
           0.6068965517241379,
           0.6068965517241379
          ],
          [
           0.6310344827586207,
           0.6310344827586207,
           0.6310344827586207,
           0.6310344827586207,
           0.6310344827586207,
           0.6310344827586207,
           0.6310344827586207,
           0.6310344827586207,
           0.6310344827586207,
           0.6310344827586207,
           0.6310344827586207,
           0.6310344827586207,
           0.6310344827586207,
           0.6310344827586207,
           0.6310344827586207,
           0.6310344827586207,
           0.6310344827586207,
           0.6310344827586207,
           0.6310344827586207,
           0.6310344827586207,
           0.6310344827586207,
           0.6310344827586207,
           0.6310344827586207,
           0.6310344827586207,
           0.6310344827586207,
           0.6310344827586207,
           0.6310344827586207,
           0.6310344827586207,
           0.6310344827586207,
           0.6310344827586207
          ],
          [
           0.6551724137931035,
           0.6551724137931035,
           0.6551724137931035,
           0.6551724137931035,
           0.6551724137931035,
           0.6551724137931035,
           0.6551724137931035,
           0.6551724137931035,
           0.6551724137931035,
           0.6551724137931035,
           0.6551724137931035,
           0.6551724137931035,
           0.6551724137931035,
           0.6551724137931035,
           0.6551724137931035,
           0.6551724137931035,
           0.6551724137931035,
           0.6551724137931035,
           0.6551724137931035,
           0.6551724137931035,
           0.6551724137931035,
           0.6551724137931035,
           0.6551724137931035,
           0.6551724137931035,
           0.6551724137931035,
           0.6551724137931035,
           0.6551724137931035,
           0.6551724137931035,
           0.6551724137931035,
           0.6551724137931035
          ],
          [
           0.6793103448275862,
           0.6793103448275862,
           0.6793103448275862,
           0.6793103448275862,
           0.6793103448275862,
           0.6793103448275862,
           0.6793103448275862,
           0.6793103448275862,
           0.6793103448275862,
           0.6793103448275862,
           0.6793103448275862,
           0.6793103448275862,
           0.6793103448275862,
           0.6793103448275862,
           0.6793103448275862,
           0.6793103448275862,
           0.6793103448275862,
           0.6793103448275862,
           0.6793103448275862,
           0.6793103448275862,
           0.6793103448275862,
           0.6793103448275862,
           0.6793103448275862,
           0.6793103448275862,
           0.6793103448275862,
           0.6793103448275862,
           0.6793103448275862,
           0.6793103448275862,
           0.6793103448275862,
           0.6793103448275862
          ],
          [
           0.703448275862069,
           0.703448275862069,
           0.703448275862069,
           0.703448275862069,
           0.703448275862069,
           0.703448275862069,
           0.703448275862069,
           0.703448275862069,
           0.703448275862069,
           0.703448275862069,
           0.703448275862069,
           0.703448275862069,
           0.703448275862069,
           0.703448275862069,
           0.703448275862069,
           0.703448275862069,
           0.703448275862069,
           0.703448275862069,
           0.703448275862069,
           0.703448275862069,
           0.703448275862069,
           0.703448275862069,
           0.703448275862069,
           0.703448275862069,
           0.703448275862069,
           0.703448275862069,
           0.703448275862069,
           0.703448275862069,
           0.703448275862069,
           0.703448275862069
          ],
          [
           0.7275862068965517,
           0.7275862068965517,
           0.7275862068965517,
           0.7275862068965517,
           0.7275862068965517,
           0.7275862068965517,
           0.7275862068965517,
           0.7275862068965517,
           0.7275862068965517,
           0.7275862068965517,
           0.7275862068965517,
           0.7275862068965517,
           0.7275862068965517,
           0.7275862068965517,
           0.7275862068965517,
           0.7275862068965517,
           0.7275862068965517,
           0.7275862068965517,
           0.7275862068965517,
           0.7275862068965517,
           0.7275862068965517,
           0.7275862068965517,
           0.7275862068965517,
           0.7275862068965517,
           0.7275862068965517,
           0.7275862068965517,
           0.7275862068965517,
           0.7275862068965517,
           0.7275862068965517,
           0.7275862068965517
          ],
          [
           0.7517241379310345,
           0.7517241379310345,
           0.7517241379310345,
           0.7517241379310345,
           0.7517241379310345,
           0.7517241379310345,
           0.7517241379310345,
           0.7517241379310345,
           0.7517241379310345,
           0.7517241379310345,
           0.7517241379310345,
           0.7517241379310345,
           0.7517241379310345,
           0.7517241379310345,
           0.7517241379310345,
           0.7517241379310345,
           0.7517241379310345,
           0.7517241379310345,
           0.7517241379310345,
           0.7517241379310345,
           0.7517241379310345,
           0.7517241379310345,
           0.7517241379310345,
           0.7517241379310345,
           0.7517241379310345,
           0.7517241379310345,
           0.7517241379310345,
           0.7517241379310345,
           0.7517241379310345,
           0.7517241379310345
          ],
          [
           0.7758620689655173,
           0.7758620689655173,
           0.7758620689655173,
           0.7758620689655173,
           0.7758620689655173,
           0.7758620689655173,
           0.7758620689655173,
           0.7758620689655173,
           0.7758620689655173,
           0.7758620689655173,
           0.7758620689655173,
           0.7758620689655173,
           0.7758620689655173,
           0.7758620689655173,
           0.7758620689655173,
           0.7758620689655173,
           0.7758620689655173,
           0.7758620689655173,
           0.7758620689655173,
           0.7758620689655173,
           0.7758620689655173,
           0.7758620689655173,
           0.7758620689655173,
           0.7758620689655173,
           0.7758620689655173,
           0.7758620689655173,
           0.7758620689655173,
           0.7758620689655173,
           0.7758620689655173,
           0.7758620689655173
          ],
          [
           0.8,
           0.8,
           0.8,
           0.8,
           0.8,
           0.8,
           0.8,
           0.8,
           0.8,
           0.8,
           0.8,
           0.8,
           0.8,
           0.8,
           0.8,
           0.8,
           0.8,
           0.8,
           0.8,
           0.8,
           0.8,
           0.8,
           0.8,
           0.8,
           0.8,
           0.8,
           0.8,
           0.8,
           0.8,
           0.8
          ]
         ],
         "z": [
          [
           0.36947150410461116,
           0.4013006358468445,
           0.40925654091915975,
           0.4117084569673576,
           0.4125892584635589,
           0.4129441546216413,
           0.41310047177923304,
           0.413174412524828,
           0.413210914156496,
           0.41323102619688346,
           0.4132417501537161,
           0.4132478541229549,
           0.413251436658126,
           0.4132536043250194,
           0.41325494339611873,
           0.41325579081858377,
           0.4132563376990616,
           0.41325669702450313,
           0.4132569369554707,
           0.4132570995367816,
           0.4132572121743921,
           0.4132572876129908,
           0.4132573442592475,
           0.41325738325162237,
           0.4132574118427244,
           0.41325743181773794,
           0.4132574469288188,
           0.41325745798837843,
           0.4132574663133556,
           0.4132574724423026
          ],
          [
           0.33704093352451836,
           0.38554902660088186,
           0.4017064777329699,
           0.4079489997948693,
           0.4106224347742606,
           0.4118660644025165,
           0.4124846046513415,
           0.41280966147376297,
           0.4129885446820277,
           0.41309092067629766,
           0.41315152454718324,
           0.41318846971718715,
           0.4132111130297429,
           0.41322638234155346,
           0.41323605215990805,
           0.41324248997255464,
           0.41324684747429574,
           0.41324984321200364,
           0.41325193127274573,
           0.41325340579118136,
           0.41325445924384685,
           0.41325521750665994,
           0.41325577569764976,
           0.4132561848426274,
           0.4132564914145658,
           0.41325671699092476,
           0.4132568892131603,
           0.41325702007089804,
           0.41325712077664994,
           0.4132571981522284
          ],
          [
           0.3034097196517393,
           0.36531520487002334,
           0.38973142553929985,
           0.40093094615061137,
           0.4064348364703475,
           0.40930361669952575,
           0.4108756749416586,
           0.4117743567328749,
           0.41230729626313556,
           0.41263342356227295,
           0.41283856079436076,
           0.412970760469393,
           0.4130578108142102,
           0.4131162452195194,
           0.4131561573358509,
           0.41318385109251227,
           0.41320334272743126,
           0.4132172424175359,
           0.413227274382992,
           0.4132345967162374,
           0.4132399938568738,
           0.4132440122100299,
           0.41324703033143223,
           0.4132493152128539,
           0.41325105925326017,
           0.41325240010817677,
           0.4132534377953848,
           0.41325424649176595,
           0.4132548786508742,
           0.41325537999472256
          ],
          [
           0.27191489769782656,
           0.34270281722168905,
           0.37447303541714233,
           0.39073568134485864,
           0.3996617912755973,
           0.40476563626959494,
           0.4077936768978105,
           0.40964969034758314,
           0.41082041556159943,
           0.4115778007608155,
           0.4120788988955741,
           0.41241713533635443,
           0.41264957814579706,
           0.4128119260946225,
           0.4129269958091486,
           0.4130096545242044,
           0.4130697633078598,
           0.4131139699574405,
           0.4131468208582522,
           0.4131714696013001,
           0.41319012893362667,
           0.41320437463790305,
           0.41321533445438297,
           0.4132238279010094,
           0.41323045520959417,
           0.41323565999499356,
           0.41323977220648994,
           0.4132430402529735,
           0.4132456509766085,
           0.4132477484804259
          ],
          [
           0.24408651645397159,
           0.3191778825334677,
           0.35725956408287735,
           0.3780860434535914,
           0.3904773613413707,
           0.3981272740687905,
           0.4029777161187992,
           0.40612996870446266,
           0.4082249885063727,
           0.40964579663814393,
           0.4106271052165442,
           0.41131614072987965,
           0.4118072485218955,
           0.4121620881317676,
           0.4124216862875089,
           0.4126137906066678,
           0.41275745357844557,
           0.4128659405902566,
           0.4129486069924812,
           0.4130121286071273,
           0.4130613220278536,
           0.4130996990835782,
           0.41312984305954187,
           0.4131536733490512,
           0.4131727534343069,
           0.41318778758340363,
           0.4131999820229775,
           0.4132098359058207,
           0.4132178413713607,
           0.4132243740326859
          ],
          [
           0.22018976622653114,
           0.2960739486283436,
           0.33885833700438905,
           0.3638674789226678,
           0.3794052462504265,
           0.389595004615621,
           0.39642982019434664,
           0.4010990920258093,
           0.40434453714804913,
           0.40663674966810337,
           0.4082797552011275,
           0.4094734836974016,
           0.41035165023365533,
           0.4110051143658377,
           0.4114965349788142,
           0.4118697218551294,
           0.41215569407168706,
           0.4123766873325001,
           0.4125488080968505,
           0.41268384898284977,
           0.41279052600742533,
           0.412875339055667,
           0.4129431784170345,
           0.4129977502104628,
           0.41304188550126264,
           0.41307776254421036,
           0.41310706495796146,
           0.4131311098761297,
           0.4131509243648309,
           0.4131673204907261
          ],
          [
           0.19989243783357058,
           0.27428371805659363,
           0.3200335607442395,
           0.34859740917739,
           0.36706896869153705,
           0.3795757514654612,
           0.3883603740240633,
           0.3946252926680559,
           0.39915213039002295,
           0.4024643373884825,
           0.40491661465795037,
           0.4067523886248501,
           0.40814087234773566,
           0.40920116210546015,
           0.4100180980311021,
           0.4106527892410637,
           0.4111497352516842,
           0.4115416691722468,
           0.41185288918797247,
           0.412101600373047,
           0.4123015535409446,
           0.4124632182770746,
           0.41259462492006344,
           0.4127019757246327,
           0.4127900948329479,
           0.4128627540607176,
           0.4129229310656366,
           0.4129729546308625,
           0.4130147162234106,
           0.41304970609315284
          ],
          [
           0.1826699069238171,
           0.2542677439396237,
           0.3014600652604635,
           0.33273167322201824,
           0.35384869729811763,
           0.3685308556729748,
           0.3790980797340726,
           0.3869096292943798,
           0.3927484091143212,
           0.39715494572879007,
           0.4005118038705608,
           0.40309196275519826,
           0.4050919823642298,
           0.4066547251633751,
           0.40788500757688195,
           0.4088604271838683,
           0.4096389405219324,
           0.41026419865810987,
           0.41076934120694464,
           0.4111797204462897,
           0.4115148684336024,
           0.41178994186593654,
           0.4120167731382467,
           0.4122046598076945,
           0.4123609487600034,
           0.41249147870746705,
           0.41260091388865017,
           0.412692997809974,
           0.412770756608299,
           0.41283663333147225
          ],
          [
           0.16799398423036727,
           0.2361752376718542,
           0.2836265755177254,
           0.3167339800468298,
           0.34004180227308084,
           0.3567448437303893,
           0.36899678523097124,
           0.3782239216426172,
           0.3853194347068075,
           0.39082272796166606,
           0.3951223092579552,
           0.39850550860860906,
           0.4011860377700733,
           0.40332389507619804,
           0.4050397006173156,
           0.4064250280757262,
           0.40754989891806365,
           0.4084681690434773,
           0.4092217049273444,
           0.40984298762138316,
           0.4103576088532123,
           0.4107857446429302,
           0.41114341147891514,
           0.4114433906691062,
           0.4116959352976201,
           0.41190931082229226,
           0.41209021053178313,
           0.4122440801941077,
           0.4123753685655906,
           0.4124877282845291
          ],
          [
           0.15540259976097326,
           0.21996682615304414,
           0.2668342637899825,
           0.30099348134678433,
           0.32597361010984127,
           0.3444275686941561,
           0.3582695855980207,
           0.36884580897240193,
           0.37709347569434026,
           0.3836368594667499,
           0.38886520056539786,
           0.393066309668102,
           0.39646078074847757,
           0.3992183557675677,
           0.4014702679643899,
           0.4033185052273552,
           0.40484274726616043,
           0.40610559467438234,
           0.40715648618611155,
           0.4080346764553778,
           0.4087714955043396,
           0.4093920708631285,
           0.40991665641652175,
           0.41036165149925447,
           0.41074039421478603,
           0.4110637804001743,
           0.4113407483472352,
           0.4115786538611201,
           0.4117835862195166,
           0.4119605876006593
          ],
          [
           0.14451487791354936,
           0.20550523767587062,
           0.25123325138564706,
           0.2857976914209046,
           0.3119407607896859,
           0.33181686415905454,
           0.347073664410543,
           0.3589339631599938,
           0.3682905382415015,
           0.37579095470279034,
           0.38189276235303565,
           0.38688851074985964,
           0.39099685730208944,
           0.39439025501637776,
           0.3972052031003896,
           0.39955011459759987,
           0.40151142286381974,
           0.403158329347889,
           0.40454646146994055,
           0.40572073681726745,
           0.4067175715711261,
           0.40756661510700254,
           0.40829210545656297,
           0.4089139343220187,
           0.40944849538227895,
           0.4099093424857197,
           0.4103077264802021,
           0.4106530187059662,
           0.4109530496493943,
           0.41121438645930286
          ],
          [
           0.13502494519506963,
           0.19261296374638778,
           0.23686639870676174,
           0.2713358655888792,
           0.2981842572287653,
           0.31914052327965137,
           0.3355901563277077,
           0.3486118057369582,
           0.35902801019154873,
           0.3674590866530041,
           0.3743708115395634,
           0.3801084127187628,
           0.3849024067669322,
           0.3889220838772919,
           0.39230433280364485,
           0.39516011642600307,
           0.3975795937102822,
           0.3996362356668747,
           0.40139010226745325,
           0.4028904383225085,
           0.4041777830199921,
           0.40528559698994654,
           0.40624160387312436,
           0.40706884772293006,
           0.40778654703449235,
           0.4084107840408866,
           0.4089550396739235,
           0.40943068601445753,
           0.4098473093954527,
           0.41021303077617327
          ],
          [
           0.1266894888706352,
           0.1811052659767352,
           0.22370744205775742,
           0.2577154959297304,
           0.2848829158904885,
           0.30659461324738163,
           0.3239975932877818,
           0.3380222889900233,
           0.3494067545743702,
           0.35872790054575776,
           0.3664330777866199,
           0.3728680331406117,
           0.37829904281895677,
           0.38291451105722324,
           0.38684865825172693,
           0.3902115727840028,
           0.39309432048416115,
           0.39557235398415186,
           0.3977083246268999,
           0.3995543781082406,
           0.4011540243541052,
           0.4025436681161351,
           0.4037538446889821,
           0.4048102466281903,
           0.4057345423058075,
           0.4065450591768573,
           0.407257410853987,
           0.40788460243063795,
           0.4084381111707727,
           0.40892749627099945
          ],
          [
           0.11931511758439403,
           0.17080716791285142,
           0.21168980042850455,
           0.2449821161739899,
           0.27215784864522885,
           0.2943350602187931,
           0.31245541055542125,
           0.32730849854470917,
           0.33954295148066693,
           0.34968273471192923,
           0.35814653453327977,
           0.3652668764686269,
           0.3713071502853613,
           0.3764758856690069,
           0.38093085717279435,
           0.38478204762799245,
           0.3881190093145337,
           0.39101710443128146,
           0.39353986173395894,
           0.3957408841446773,
           0.397665495027132,
           0.3993520900457786,
           0.40083326324804835,
           0.40213674581244874,
           0.4032861777250276,
           0.40430176979738647,
           0.40520082312915756,
           0.40599819233744133,
           0.4067066564841948,
           0.4073372324268245
          ],
          [
           0.11274749530162807,
           0.16156092013808743,
           0.2007265350778461,
           0.23313752479507857,
           0.2600818215673913,
           0.28247736182992594,
           0.3010962149399071,
           0.31660130144417686,
           0.32955368926932466,
           0.3404202763094901,
           0.34958468399178194,
           0.3573594608048538,
           0.363998034197806,
           0.36970541306698584,
           0.37464736026528794,
           0.37895624943354866,
           0.38272672221697834,
           0.38603239763898156,
           0.3889361429671542,
           0.3914917216771189,
           0.39374515929519527,
           0.3957359103671126,
           0.3974978467397759,
           0.3990600962516905,
           0.400447803845015,
           0.40168245121230184,
           0.40278292746930305,
           0.403765387319624,
           0.4046438982196139,
           0.40543069044110985
          ],
          [
           0.10686265305673977,
           0.1532282105794688,
           0.19072327993738816,
           0.22215470970349696,
           0.24868980563630955,
           0.271100655047252,
           0.2900238313062714,
           0.306012906117508,
           0.31954770497554774,
           0.3310381024308433,
           0.34082953115245895,
           0.34921021801010244,
           0.35641906252044914,
           0.3626532859472723,
           0.36807536887759507,
           0.37281908841146844,
           0.3769945321275522,
           0.38068632648777323,
           0.3839564699052186,
           0.386857765522133,
           0.3894359538687874,
           0.3917306885008935,
           0.39377637756642303,
           0.39560291210881454,
           0.3972362934361172,
           0.3986991600928944,
           0.4000112714055091,
           0.4011898799907847,
           0.40225008174552584,
           0.4032051024535877
          ],
          [
           0.10156023658148151,
           0.14568965434663522,
           0.1815861105986077,
           0.21198911673680323,
           0.23798881577153022,
           0.26025361819439585,
           0.27931478830822143,
           0.2956345232555977,
           0.3096202363700633,
           0.32162770062384555,
           0.3319636978542923,
           0.34088976150703243,
           0.34862736215767753,
           0.3553627889731702,
           0.36125215925446413,
           0.3664263513608882,
           0.3709947168951689,
           0.37504877062849795,
           0.3786638179330789,
           0.38189507497235786,
           0.3847871789732068,
           0.38737923949253134,
           0.38970553164707167,
           0.3917961267660962,
           0.39367742114396587,
           0.39537261123149964,
           0.39690210247089225,
           0.39828386647579594,
           0.39953374911172923,
           0.4006657403847392
          ],
          [
           0.09675833936468257,
           0.13884308148763425,
           0.17322596820065952,
           0.202586752435809,
           0.22796623828997165,
           0.2499607335709464,
           0.2690215852643256,
           0.2855366422743827,
           0.2998507811389256,
           0.3122704003152778,
           0.3230649652223748,
           0.3324689201957335,
           0.3406844830993694,
           0.34788490111592324,
           0.35421793506766863,
           0.3598092265911268,
           0.3647654390922582,
           0.36917702648561335,
           0.3731207192611128,
           0.3766615837646201,
           0.37985133612394234,
           0.3827286555126689,
           0.38532712468393354,
           0.3876764763663677,
           0.38980304256969567,
           0.39173016169334895,
           0.39347852827243424,
           0.39506651197135223,
           0.3965104322258986,
           0.39782479979413526
          ],
          [
           0.09238955762744792,
           0.13260139495796183,
           0.1655608820697961,
           0.19388974025424505,
           0.2185964420593983,
           0.24022809070912327,
           0.259176642783101,
           0.2757708148672936,
           0.2903028453557266,
           0.30303542554475194,
           0.3142033831044332,
           0.3240146793018882,
           0.33265184257303915,
           0.34027390824832965,
           0.3470186842989186,
           0.35300511556265535,
           0.358335584281531,
           0.3630980894814105,
           0.3673681911299225,
           0.37121075429497286,
           0.374681487267199,
           0.3778277813163949,
           0.38068568487575744,
           0.38328420736318974,
           0.3856492204481555,
           0.3878038374027336,
           0.38976871715399786,
           0.39156232724622986,
           0.3932012010895911,
           0.39470013549735006
          ],
          [
           0.08839797681546989,
           0.12689042924861074,
           0.15851679222614073,
           0.18583994081221972,
           0.20984580406640718,
           0.23104836377653148,
           0.2497962830173459,
           0.2663721653300866,
           0.2810248995036842,
           0.29397942755965534,
           0.3054393389974733,
           0.31558766512522063,
           0.3245875926316525,
           0.33258352922756973,
           0.3397024785650188,
           0.34605561444447114,
           0.35173991934703597,
           0.35683979289387324,
           0.3614285703886079,
           0.36556991879539125,
           0.3693190927879202,
           0.3727240488451682,
           0.3758260972553947,
           0.37866110516758184,
           0.38125427748086277,
           0.3836285315369985,
           0.3858042003596528,
           0.38779959661992636,
           0.3896312180763785,
           0.3913139350413045
          ],
          [
           0.08473685687735906,
           0.12164689696700536,
           0.15202758391846213,
           0.178381225300867,
           0.20167638233067037,
           0.2224047957209902,
           0.2408843747774666,
           0.25736212559550714,
           0.27205199352978876,
           0.2851469932838637,
           0.2968231915344912,
           0.30724080815499527,
           0.3165446426412063,
           0.324864659226648,
           0.3323167388766963,
           0.33900366977300056,
           0.34501625103314515,
           0.35043447026537045,
           0.3553285726346961,
           0.3597602591555473,
           0.36378358441051695,
           0.3674459280516019,
           0.37078880663168723,
           0.37384861073202247,
           0.3766572062834704,
           0.37924044858666567,
           0.3816183866452157,
           0.38380894048060243,
           0.3858283777692718,
           0.38769144361440655
          ],
          [
           0.0813668423944022,
           0.11681680824687649,
           0.14603467452333352,
           0.1714607607263673,
           0.1940485130201054,
           0.21427485157045834,
           0.23243548466158018,
           0.24875108520274883,
           0.26340765628571716,
           0.2765716893097784,
           0.28839548647216195,
           0.2990188414326867,
           0.3085695602075845,
           0.317163767994345,
           0.32490632337940173,
           0.3318913875654541,
           0.3382031383889028,
           0.3439165553911876,
           0.3490982447088797,
           0.35380725436340543,
           0.35809585668582766,
           0.3620102864354307,
           0.3655914150912885,
           0.36887536785243136,
           0.3718940830890644,
           0.37467577609501074,
           0.3772452623947159,
           0.37962207535259834,
           0.3818221084713398,
           0.3838598113713892
          ],
          [
           0.078254572290193,
           0.11235382723042013,
           0.14048639396458035,
           0.16502963838709442,
           0.18692257796380193,
           0.20663172457371706,
           0.22443749094842136,
           0.2405407904725871,
           0.25510583039488033,
           0.2682774110883455,
           0.2801876576404131,
           0.29095844008512606,
           0.3007021579105783,
           0.30952202551938773,
           0.31751229155716476,
           0.3247585572547907,
           0.33133819665430686,
           0.33732086956015284,
           0.342769093707697,
           0.34773883605296574,
           0.3522801092369564,
           0.35643755521467724,
           0.3602509119031084,
           0.36375567984274154,
           0.36698342177148147,
           0.3699622656756702,
           0.3727172713315505,
           0.3752680822505558,
           0.3776423301570572,
           0.37984708804815526
          ],
          [
           0.0753715846223726,
           0.10821810966570974,
           0.13533724807172906,
           0.15904316132432447,
           0.18026016110411627,
           0.19944707282356505,
           0.21687368199727886,
           0.2327264296774305,
           0.24715269831002096,
           0.26027980333409234,
           0.2722229971172854,
           0.28308866786897957,
           0.2929755105893286,
           0.30197492801055803,
           0.3101711966628455,
           0.3176416504096938,
           0.32445690103356534,
           0.33068116434938866,
           0.33637262971461146,
           0.3415838775316794,
           0.3463623114419936,
           0.35075059495287186,
           0.3547870733239585,
           0.35850618192661365,
           0.3619388189747572,
           0.36511271183959854,
           0.36805272774860875,
           0.3707811756689432,
           0.3733180710738036,
           0.37568138276420676
          ],
          [
           0.07269345326263989,
           0.10437524794722328,
           0.13054723556693176,
           0.1534607485428216,
           0.17402475783924545,
           0.19269184913100068,
           0.20972439885137453,
           0.22529836838474063,
           0.23954832146321917,
           0.252587661319404,
           0.26451771991850104,
           0.2754316990349796,
           0.2854163020457421,
           0.29455229597707056,
           0.302914775744633,
           0.31057325564178345,
           0.3175918040086292,
           0.32402922450353616,
           0.3299392894203706,
           0.33537101629908284,
           0.3403689737733,
           0.3449736007969726,
           0.34922152829785286,
           0.3531458993004515,
           0.3567766706514016,
           0.36014089883130707,
           0.3632630294374082,
           0.3661651112653367,
           0.36886705759677885,
           0.3713868518021673
          ],
          [
           0.07019909978492568,
           0.10079540610269584,
           0.12608116120732735,
           0.14824578684617257,
           0.16818216391473767,
           0.18633730079504585,
           0.20296828939774808,
           0.2182435724655502,
           0.232288064757673,
           0.24520421925759783,
           0.2570820389610417,
           0.26800364176147445,
           0.2780453479456655,
           0.2872785285734568,
           0.2957699334639499,
           0.30358183252099524,
           0.31077208014183405,
           0.31739422986879967,
           0.3234976690113135,
           0.3291277907528717,
           0.33432619954259535,
           0.33913094002528593,
           0.3435767343752737,
           0.3476952191213706,
           0.35151519543105114,
           0.3550628482497078,
           0.3583619739523167,
           0.3614341858931649,
           0.36429911474670407,
           0.3669745767085799
          ],
          [
           0.06787023824114562,
           0.09745261733968286,
           0.12190802692899826,
           0.14336533961282122,
           0.16270065897045227,
           0.18035557653489265,
           0.1965832497859629,
           0.21154673905422053,
           0.22536376526913718,
           0.23812829976571165,
           0.24992118386697826,
           0.2608153413912312,
           0.27087823115753296,
           0.28017299695915454,
           0.2887589347457119,
           0.2966916852945872,
           0.3040233185031891,
           0.31080238887300454,
           0.3170740265775861,
           0.3228800262616618,
           0.32825898839353795,
           0.33324647030359394,
           0.3378751541915727,
           0.34217502946988637,
           0.3461735714312656,
           0.3498959268033042,
           0.35336508410150513,
           0.35660205093875563,
           0.3596260123731,
           0.3624544833585889
          ],
          [
           0.06569092946651825,
           0.09432418372556219,
           0.11800048712380554,
           0.138789844330186,
           0.15755103517803473,
           0.17472011462103343,
           0.1905471012460739,
           0.20519118134449285,
           0.2187647722822753,
           0.23135530772010984,
           0.2430363454607736,
           0.2538732300940014,
           0.263925953149889,
           0.2732505405585535,
           0.2818997027976585,
           0.2899231093472655,
           0.2973675080135555,
           0.3042767799974885,
           0.31069198897218586,
           0.31665143320248834,
           0.32219073986281777,
           0.3273429500833233,
           0.33213864232582124,
           0.33660630800580005,
           0.34077123959189537,
           0.3446581635416448,
           0.34828888433170224,
           0.3516836692128102,
           0.35486112923845015,
           0.3578383468675025
          ],
          [
           0.06364721986946449,
           0.0913901906825959,
           0.11433436770183844,
           0.13449278984241833,
           0.1527065365441479,
           0.16940586454889434,
           0.18483807006125336,
           0.19915950559357898,
           0.2124786878850529,
           0.22487807543452465,
           0.2364254720855084,
           0.2471800640945659,
           0.2571955904272221,
           0.2665219943030489,
           0.2752062274777521,
           0.28329264166024515,
           0.29082315610320086,
           0.29783733672927704,
           0.30437241812154786,
           0.3104633747782218,
           0.31614293205918,
           0.32144164530372576,
           0.3263879729798094,
           0.3310083620070725,
           0.3353273489440023,
           0.33936765348081854,
           0.3431503012727906,
           0.34669472065545465,
           0.35001882720535854,
           0.35313918093763863
          ],
          [
           0.061726834644938916,
           0.08863310101611646,
           0.11088825289065299,
           0.130450405083443,
           0.14814274086326423,
           0.1643894244937035,
           0.17943512863700728,
           0.19343411730245436,
           0.20649202840633793,
           0.2186875588502637,
           0.23008401497544068,
           0.24073561192606296,
           0.25069091859159776,
           0.25999471916532296,
           0.2686889846074798,
           0.27681337803841893,
           0.2844054861310098,
           0.29150093101005525,
           0.2981334171819125,
           0.3043347654389501,
           0.3101349357504237,
           0.31556206643342705,
           0.3206425218036363,
           0.32540094634218586,
           0.3298603354767834,
           0.33404210817304786,
           0.33796618537809586,
           0.34165107316394994,
           0.3451139443732226,
           0.3483707216549672
          ]
         ]
        }
       ],
       "layout": {
        "height": 700,
        "margin": {
         "b": 65,
         "l": 50,
         "r": 50,
         "t": 90
        },
        "scene": {
         "aspectratio": {
          "x": 1,
          "y": 1,
          "z": 1
         },
         "camera": {
          "eye": {
           "x": 1.5,
           "y": -1.5,
           "z": 2
          }
         },
         "xaxis": {
          "title": {
           "text": "x - Capital k"
          }
         },
         "yaxis": {
          "title": {
           "text": "y - Debt b"
          }
         },
         "zaxis": {
          "title": {
           "text": "z - Bond price q"
          }
         }
        },
        "template": {
         "data": {
          "bar": [
           {
            "error_x": {
             "color": "#2a3f5f"
            },
            "error_y": {
             "color": "#2a3f5f"
            },
            "marker": {
             "line": {
              "color": "#E5ECF6",
              "width": 0.5
             },
             "pattern": {
              "fillmode": "overlay",
              "size": 10,
              "solidity": 0.2
             }
            },
            "type": "bar"
           }
          ],
          "barpolar": [
           {
            "marker": {
             "line": {
              "color": "#E5ECF6",
              "width": 0.5
             },
             "pattern": {
              "fillmode": "overlay",
              "size": 10,
              "solidity": 0.2
             }
            },
            "type": "barpolar"
           }
          ],
          "carpet": [
           {
            "aaxis": {
             "endlinecolor": "#2a3f5f",
             "gridcolor": "white",
             "linecolor": "white",
             "minorgridcolor": "white",
             "startlinecolor": "#2a3f5f"
            },
            "baxis": {
             "endlinecolor": "#2a3f5f",
             "gridcolor": "white",
             "linecolor": "white",
             "minorgridcolor": "white",
             "startlinecolor": "#2a3f5f"
            },
            "type": "carpet"
           }
          ],
          "choropleth": [
           {
            "colorbar": {
             "outlinewidth": 0,
             "ticks": ""
            },
            "type": "choropleth"
           }
          ],
          "contour": [
           {
            "colorbar": {
             "outlinewidth": 0,
             "ticks": ""
            },
            "colorscale": [
             [
              0,
              "#0d0887"
             ],
             [
              0.1111111111111111,
              "#46039f"
             ],
             [
              0.2222222222222222,
              "#7201a8"
             ],
             [
              0.3333333333333333,
              "#9c179e"
             ],
             [
              0.4444444444444444,
              "#bd3786"
             ],
             [
              0.5555555555555556,
              "#d8576b"
             ],
             [
              0.6666666666666666,
              "#ed7953"
             ],
             [
              0.7777777777777778,
              "#fb9f3a"
             ],
             [
              0.8888888888888888,
              "#fdca26"
             ],
             [
              1,
              "#f0f921"
             ]
            ],
            "type": "contour"
           }
          ],
          "contourcarpet": [
           {
            "colorbar": {
             "outlinewidth": 0,
             "ticks": ""
            },
            "type": "contourcarpet"
           }
          ],
          "heatmap": [
           {
            "colorbar": {
             "outlinewidth": 0,
             "ticks": ""
            },
            "colorscale": [
             [
              0,
              "#0d0887"
             ],
             [
              0.1111111111111111,
              "#46039f"
             ],
             [
              0.2222222222222222,
              "#7201a8"
             ],
             [
              0.3333333333333333,
              "#9c179e"
             ],
             [
              0.4444444444444444,
              "#bd3786"
             ],
             [
              0.5555555555555556,
              "#d8576b"
             ],
             [
              0.6666666666666666,
              "#ed7953"
             ],
             [
              0.7777777777777778,
              "#fb9f3a"
             ],
             [
              0.8888888888888888,
              "#fdca26"
             ],
             [
              1,
              "#f0f921"
             ]
            ],
            "type": "heatmap"
           }
          ],
          "heatmapgl": [
           {
            "colorbar": {
             "outlinewidth": 0,
             "ticks": ""
            },
            "colorscale": [
             [
              0,
              "#0d0887"
             ],
             [
              0.1111111111111111,
              "#46039f"
             ],
             [
              0.2222222222222222,
              "#7201a8"
             ],
             [
              0.3333333333333333,
              "#9c179e"
             ],
             [
              0.4444444444444444,
              "#bd3786"
             ],
             [
              0.5555555555555556,
              "#d8576b"
             ],
             [
              0.6666666666666666,
              "#ed7953"
             ],
             [
              0.7777777777777778,
              "#fb9f3a"
             ],
             [
              0.8888888888888888,
              "#fdca26"
             ],
             [
              1,
              "#f0f921"
             ]
            ],
            "type": "heatmapgl"
           }
          ],
          "histogram": [
           {
            "marker": {
             "pattern": {
              "fillmode": "overlay",
              "size": 10,
              "solidity": 0.2
             }
            },
            "type": "histogram"
           }
          ],
          "histogram2d": [
           {
            "colorbar": {
             "outlinewidth": 0,
             "ticks": ""
            },
            "colorscale": [
             [
              0,
              "#0d0887"
             ],
             [
              0.1111111111111111,
              "#46039f"
             ],
             [
              0.2222222222222222,
              "#7201a8"
             ],
             [
              0.3333333333333333,
              "#9c179e"
             ],
             [
              0.4444444444444444,
              "#bd3786"
             ],
             [
              0.5555555555555556,
              "#d8576b"
             ],
             [
              0.6666666666666666,
              "#ed7953"
             ],
             [
              0.7777777777777778,
              "#fb9f3a"
             ],
             [
              0.8888888888888888,
              "#fdca26"
             ],
             [
              1,
              "#f0f921"
             ]
            ],
            "type": "histogram2d"
           }
          ],
          "histogram2dcontour": [
           {
            "colorbar": {
             "outlinewidth": 0,
             "ticks": ""
            },
            "colorscale": [
             [
              0,
              "#0d0887"
             ],
             [
              0.1111111111111111,
              "#46039f"
             ],
             [
              0.2222222222222222,
              "#7201a8"
             ],
             [
              0.3333333333333333,
              "#9c179e"
             ],
             [
              0.4444444444444444,
              "#bd3786"
             ],
             [
              0.5555555555555556,
              "#d8576b"
             ],
             [
              0.6666666666666666,
              "#ed7953"
             ],
             [
              0.7777777777777778,
              "#fb9f3a"
             ],
             [
              0.8888888888888888,
              "#fdca26"
             ],
             [
              1,
              "#f0f921"
             ]
            ],
            "type": "histogram2dcontour"
           }
          ],
          "mesh3d": [
           {
            "colorbar": {
             "outlinewidth": 0,
             "ticks": ""
            },
            "type": "mesh3d"
           }
          ],
          "parcoords": [
           {
            "line": {
             "colorbar": {
              "outlinewidth": 0,
              "ticks": ""
             }
            },
            "type": "parcoords"
           }
          ],
          "pie": [
           {
            "automargin": true,
            "type": "pie"
           }
          ],
          "scatter": [
           {
            "marker": {
             "colorbar": {
              "outlinewidth": 0,
              "ticks": ""
             }
            },
            "type": "scatter"
           }
          ],
          "scatter3d": [
           {
            "line": {
             "colorbar": {
              "outlinewidth": 0,
              "ticks": ""
             }
            },
            "marker": {
             "colorbar": {
              "outlinewidth": 0,
              "ticks": ""
             }
            },
            "type": "scatter3d"
           }
          ],
          "scattercarpet": [
           {
            "marker": {
             "colorbar": {
              "outlinewidth": 0,
              "ticks": ""
             }
            },
            "type": "scattercarpet"
           }
          ],
          "scattergeo": [
           {
            "marker": {
             "colorbar": {
              "outlinewidth": 0,
              "ticks": ""
             }
            },
            "type": "scattergeo"
           }
          ],
          "scattergl": [
           {
            "marker": {
             "colorbar": {
              "outlinewidth": 0,
              "ticks": ""
             }
            },
            "type": "scattergl"
           }
          ],
          "scattermapbox": [
           {
            "marker": {
             "colorbar": {
              "outlinewidth": 0,
              "ticks": ""
             }
            },
            "type": "scattermapbox"
           }
          ],
          "scatterpolar": [
           {
            "marker": {
             "colorbar": {
              "outlinewidth": 0,
              "ticks": ""
             }
            },
            "type": "scatterpolar"
           }
          ],
          "scatterpolargl": [
           {
            "marker": {
             "colorbar": {
              "outlinewidth": 0,
              "ticks": ""
             }
            },
            "type": "scatterpolargl"
           }
          ],
          "scatterternary": [
           {
            "marker": {
             "colorbar": {
              "outlinewidth": 0,
              "ticks": ""
             }
            },
            "type": "scatterternary"
           }
          ],
          "surface": [
           {
            "colorbar": {
             "outlinewidth": 0,
             "ticks": ""
            },
            "colorscale": [
             [
              0,
              "#0d0887"
             ],
             [
              0.1111111111111111,
              "#46039f"
             ],
             [
              0.2222222222222222,
              "#7201a8"
             ],
             [
              0.3333333333333333,
              "#9c179e"
             ],
             [
              0.4444444444444444,
              "#bd3786"
             ],
             [
              0.5555555555555556,
              "#d8576b"
             ],
             [
              0.6666666666666666,
              "#ed7953"
             ],
             [
              0.7777777777777778,
              "#fb9f3a"
             ],
             [
              0.8888888888888888,
              "#fdca26"
             ],
             [
              1,
              "#f0f921"
             ]
            ],
            "type": "surface"
           }
          ],
          "table": [
           {
            "cells": {
             "fill": {
              "color": "#EBF0F8"
             },
             "line": {
              "color": "white"
             }
            },
            "header": {
             "fill": {
              "color": "#C8D4E3"
             },
             "line": {
              "color": "white"
             }
            },
            "type": "table"
           }
          ]
         },
         "layout": {
          "annotationdefaults": {
           "arrowcolor": "#2a3f5f",
           "arrowhead": 0,
           "arrowwidth": 1
          },
          "autotypenumbers": "strict",
          "coloraxis": {
           "colorbar": {
            "outlinewidth": 0,
            "ticks": ""
           }
          },
          "colorscale": {
           "diverging": [
            [
             0,
             "#8e0152"
            ],
            [
             0.1,
             "#c51b7d"
            ],
            [
             0.2,
             "#de77ae"
            ],
            [
             0.3,
             "#f1b6da"
            ],
            [
             0.4,
             "#fde0ef"
            ],
            [
             0.5,
             "#f7f7f7"
            ],
            [
             0.6,
             "#e6f5d0"
            ],
            [
             0.7,
             "#b8e186"
            ],
            [
             0.8,
             "#7fbc41"
            ],
            [
             0.9,
             "#4d9221"
            ],
            [
             1,
             "#276419"
            ]
           ],
           "sequential": [
            [
             0,
             "#0d0887"
            ],
            [
             0.1111111111111111,
             "#46039f"
            ],
            [
             0.2222222222222222,
             "#7201a8"
            ],
            [
             0.3333333333333333,
             "#9c179e"
            ],
            [
             0.4444444444444444,
             "#bd3786"
            ],
            [
             0.5555555555555556,
             "#d8576b"
            ],
            [
             0.6666666666666666,
             "#ed7953"
            ],
            [
             0.7777777777777778,
             "#fb9f3a"
            ],
            [
             0.8888888888888888,
             "#fdca26"
            ],
            [
             1,
             "#f0f921"
            ]
           ],
           "sequentialminus": [
            [
             0,
             "#0d0887"
            ],
            [
             0.1111111111111111,
             "#46039f"
            ],
            [
             0.2222222222222222,
             "#7201a8"
            ],
            [
             0.3333333333333333,
             "#9c179e"
            ],
            [
             0.4444444444444444,
             "#bd3786"
            ],
            [
             0.5555555555555556,
             "#d8576b"
            ],
            [
             0.6666666666666666,
             "#ed7953"
            ],
            [
             0.7777777777777778,
             "#fb9f3a"
            ],
            [
             0.8888888888888888,
             "#fdca26"
            ],
            [
             1,
             "#f0f921"
            ]
           ]
          },
          "colorway": [
           "#636efa",
           "#EF553B",
           "#00cc96",
           "#ab63fa",
           "#FFA15A",
           "#19d3f3",
           "#FF6692",
           "#B6E880",
           "#FF97FF",
           "#FECB52"
          ],
          "font": {
           "color": "#2a3f5f"
          },
          "geo": {
           "bgcolor": "white",
           "lakecolor": "white",
           "landcolor": "#E5ECF6",
           "showlakes": true,
           "showland": true,
           "subunitcolor": "white"
          },
          "hoverlabel": {
           "align": "left"
          },
          "hovermode": "closest",
          "mapbox": {
           "style": "light"
          },
          "paper_bgcolor": "white",
          "plot_bgcolor": "#E5ECF6",
          "polar": {
           "angularaxis": {
            "gridcolor": "white",
            "linecolor": "white",
            "ticks": ""
           },
           "bgcolor": "#E5ECF6",
           "radialaxis": {
            "gridcolor": "white",
            "linecolor": "white",
            "ticks": ""
           }
          },
          "scene": {
           "xaxis": {
            "backgroundcolor": "#E5ECF6",
            "gridcolor": "white",
            "gridwidth": 2,
            "linecolor": "white",
            "showbackground": true,
            "ticks": "",
            "zerolinecolor": "white"
           },
           "yaxis": {
            "backgroundcolor": "#E5ECF6",
            "gridcolor": "white",
            "gridwidth": 2,
            "linecolor": "white",
            "showbackground": true,
            "ticks": "",
            "zerolinecolor": "white"
           },
           "zaxis": {
            "backgroundcolor": "#E5ECF6",
            "gridcolor": "white",
            "gridwidth": 2,
            "linecolor": "white",
            "showbackground": true,
            "ticks": "",
            "zerolinecolor": "white"
           }
          },
          "shapedefaults": {
           "line": {
            "color": "#2a3f5f"
           }
          },
          "ternary": {
           "aaxis": {
            "gridcolor": "white",
            "linecolor": "white",
            "ticks": ""
           },
           "baxis": {
            "gridcolor": "white",
            "linecolor": "white",
            "ticks": ""
           },
           "bgcolor": "#E5ECF6",
           "caxis": {
            "gridcolor": "white",
            "linecolor": "white",
            "ticks": ""
           }
          },
          "title": {
           "x": 0.05
          },
          "xaxis": {
           "automargin": true,
           "gridcolor": "white",
           "linecolor": "white",
           "ticks": "",
           "title": {
            "standoff": 15
           },
           "zerolinecolor": "white",
           "zerolinewidth": 2
          },
          "yaxis": {
           "automargin": true,
           "gridcolor": "white",
           "linecolor": "white",
           "ticks": "",
           "title": {
            "standoff": 15
           },
           "zerolinecolor": "white",
           "zerolinewidth": 2
          }
         }
        },
        "title": {
         "text": "Equilibrium bond valuation for the grid of (k,b)"
        },
        "width": 700
       }
      }
     },
     "metadata": {},
     "output_type": "display_data"
    }
   ],
   "source": [
    "# Bond Valuation\n",
    "fig = go.Figure(data=[go.Scatter3d(x=[kss],\n",
    "                y=[bss],\n",
    "                z=[pss],\n",
    "                mode='markers',\n",
    "                marker=dict(size=3, color='red')),\n",
    "                go.Surface(x=kgrid,\n",
    "                y=bgrid,\n",
    "                z=Pgrid,\n",
    "                colorscale='Oranges',opacity=0.6)])\n",
    "fig.update_layout(scene = dict(\n",
    "                xaxis_title='x - Capital k',\n",
    "                yaxis_title='y - Debt b',\n",
    "                zaxis_title='z - Bond price q',\n",
    "                aspectratio = dict(x=1,y=1,z=1)),\n",
    "                width=700,\n",
    "                height=700,\n",
    "                margin=dict(l=50, r=50, b=65, t=90))\n",
    "fig.update_layout(scene_camera=dict(eye=dict(x=1.5, y=-1.5, z=2)))\n",
    "fig.update_layout(title='Equilibrium bond valuation for the grid of (k,b)')\n",
    "# Export to PNG file\n",
    "# Image(fig.to_image(format=\"png\"))\n",
    "# fig.show() will provide interactive plot when running\n",
    "# code locally"
   ]
  },
  {
   "cell_type": "code",
   "execution_count": 31,
   "metadata": {},
   "outputs": [
    {
     "name": "stdout",
     "output_type": "stream",
     "text": [
      "0\n",
      "k,b,p,q,kfoc,bfoc,epstar,V,V_crit\n",
      "['0.178', '0.502', '0.407', '0.092', '-0.000', '-0.000', '-0.570', '0.250', '0.131']\n",
      "k,b,p,q,kfoc,bfoc,epstar,V,V_crit\n",
      "['0.155', '0.487', '0.381', '0.073', '-0.001', '0.000', '-0.518', '0.125', '0.022']\n",
      "k,b,p,q,kfoc,bfoc,epstar,V,V_crit\n",
      "['0.145', '0.480', '0.367', '0.065', '0.000', '-0.000', '-0.490', '0.062', '0.034']\n",
      "k,b,p,q,kfoc,bfoc,epstar,V,V_crit\n",
      "['0.150', '0.484', '0.374', '0.069', '0.000', '0.000', '-0.504', '0.094', '0.006']\n",
      "k,b,p,q,kfoc,bfoc,epstar,V,V_crit\n",
      "['0.153', '0.485', '0.378', '0.071', '0.000', '-0.000', '-0.511', '0.109', '0.008']\n",
      "k,b,p,q,kfoc,bfoc,epstar,V,V_crit\n",
      "['0.151', '0.484', '0.376', '0.070', '-0.000', '-0.000', '-0.508', '0.102', '0.001']\n",
      "k,b,p,q,kfoc,bfoc,epstar,V,V_crit\n",
      "['0.151', '0.483', '0.375', '0.070', '0.000', '-0.000', '-0.507', '0.098', '0.003']\n",
      "k,b,p,q,kfoc,bfoc,epstar,V,V_crit\n",
      "['0.151', '0.484', '0.375', '0.070', '-0.000', '0.000', '-0.506', '0.100', '0.001']\n",
      "k,b,p,q,kfoc,bfoc,epstar,V,V_crit\n",
      "['0.151', '0.484', '0.376', '0.070', '0.000', '0.000', '-0.507', '0.101', '0.000']\n",
      "k,b,p,q,kfoc,bfoc,epstar,V,V_crit\n",
      "['0.151', '0.484', '0.376', '0.070', '-0.000', '0.000', '-0.507', '0.101', '0.000']\n",
      "k,b,p,q,kfoc,bfoc,epstar,V,V_crit\n",
      "['0.151', '0.484', '0.376', '0.070', '0.000', '0.000', '-0.507', '0.101', '0.000']\n",
      "finished\n",
      "1\n",
      "k,b,p,q,kfoc,bfoc,epstar,V,V_crit\n",
      "['0.180', '0.544', '0.404', '0.081', '-0.000', '-0.000', '-0.498', '0.250', '0.130']\n",
      "k,b,p,q,kfoc,bfoc,epstar,V,V_crit\n",
      "['0.158', '0.531', '0.378', '0.063', '-0.000', '-0.000', '-0.443', '0.125', '0.020']\n",
      "k,b,p,q,kfoc,bfoc,epstar,V,V_crit\n",
      "['0.148', '0.525', '0.364', '0.055', '0.000', '-0.000', '-0.414', '0.062', '0.036']\n",
      "k,b,p,q,kfoc,bfoc,epstar,V,V_crit\n",
      "['0.153', '0.528', '0.371', '0.059', '0.000', '0.000', '-0.428', '0.094', '0.008']\n",
      "k,b,p,q,kfoc,bfoc,epstar,V,V_crit\n",
      "['0.156', '0.530', '0.374', '0.061', '-0.000', '-0.000', '-0.435', '0.109', '0.006']\n",
      "k,b,p,q,kfoc,bfoc,epstar,V,V_crit\n",
      "['0.154', '0.529', '0.373', '0.060', '0.000', '-0.000', '-0.432', '0.102', '0.001']\n",
      "k,b,p,q,kfoc,bfoc,epstar,V,V_crit\n",
      "['0.155', '0.529', '0.373', '0.061', '0.000', '0.000', '-0.433', '0.105', '0.002']\n",
      "k,b,p,q,kfoc,bfoc,epstar,V,V_crit\n",
      "['0.155', '0.529', '0.373', '0.060', '-0.000', '0.000', '-0.433', '0.104', '0.000']\n",
      "k,b,p,q,kfoc,bfoc,epstar,V,V_crit\n",
      "['0.154', '0.529', '0.373', '0.060', '-0.000', '0.000', '-0.433', '0.103', '0.000']\n",
      "k,b,p,q,kfoc,bfoc,epstar,V,V_crit\n",
      "['0.154', '0.529', '0.373', '0.060', '0.000', '-0.000', '-0.432', '0.103', '0.000']\n",
      "finished\n",
      "2\n",
      "k,b,p,q,kfoc,bfoc,epstar,V,V_crit\n",
      "['0.184', '0.590', '0.400', '0.070', '0.000', '0.000', '-0.427', '0.250', '0.128']\n",
      "k,b,p,q,kfoc,bfoc,epstar,V,V_crit\n",
      "['0.162', '0.581', '0.373', '0.053', '0.000', '-0.000', '-0.366', '0.125', '0.017']\n",
      "k,b,p,q,kfoc,bfoc,epstar,V,V_crit\n",
      "['0.152', '0.577', '0.359', '0.046', '-0.000', '-0.000', '-0.335', '0.062', '0.039']\n",
      "k,b,p,q,kfoc,bfoc,epstar,V,V_crit\n",
      "['0.157', '0.579', '0.366', '0.049', '0.000', '0.000', '-0.351', '0.094', '0.011']\n",
      "k,b,p,q,kfoc,bfoc,epstar,V,V_crit\n",
      "['0.159', '0.580', '0.369', '0.051', '-0.000', '-0.000', '-0.359', '0.109', '0.003']\n",
      "k,b,p,q,kfoc,bfoc,epstar,V,V_crit\n",
      "['0.158', '0.579', '0.368', '0.050', '-0.000', '-0.000', '-0.355', '0.102', '0.004']\n",
      "k,b,p,q,kfoc,bfoc,epstar,V,V_crit\n",
      "['0.159', '0.579', '0.369', '0.051', '-0.000', '-0.000', '-0.357', '0.105', '0.000']\n",
      "k,b,p,q,kfoc,bfoc,epstar,V,V_crit\n",
      "['0.159', '0.580', '0.369', '0.051', '0.000', '0.000', '-0.358', '0.107', '0.001']\n",
      "k,b,p,q,kfoc,bfoc,epstar,V,V_crit\n",
      "['0.159', '0.580', '0.369', '0.051', '-0.000', '-0.000', '-0.358', '0.106', '0.001']\n",
      "k,b,p,q,kfoc,bfoc,epstar,V,V_crit\n",
      "['0.159', '0.580', '0.368', '0.051', '-0.000', '-0.000', '-0.357', '0.106', '0.000']\n",
      "k,b,p,q,kfoc,bfoc,epstar,V,V_crit\n",
      "['0.159', '0.580', '0.368', '0.051', '0.000', '-0.000', '-0.357', '0.106', '0.000']\n",
      "finished\n",
      "3\n",
      "k,b,p,q,kfoc,bfoc,epstar,V,V_crit\n",
      "['0.187', '0.642', '0.395', '0.059', '0.000', '0.000', '-0.354', '0.250', '0.125']\n",
      "k,b,p,q,kfoc,bfoc,epstar,V,V_crit\n",
      "['0.166', '0.638', '0.366', '0.044', '-0.000', '-0.000', '-0.289', '0.125', '0.014']\n",
      "k,b,p,q,kfoc,bfoc,epstar,V,V_crit\n",
      "['0.156', '0.637', '0.351', '0.037', '0.000', '-0.000', '-0.255', '0.062', '0.042']\n",
      "k,b,p,q,kfoc,bfoc,epstar,V,V_crit\n",
      "['0.161', '0.637', '0.359', '0.040', '-0.000', '-0.000', '-0.273', '0.094', '0.014']\n",
      "k,b,p,q,kfoc,bfoc,epstar,V,V_crit\n",
      "['0.164', '0.637', '0.363', '0.042', '-0.000', '-0.000', '-0.282', '0.109', '0.000']\n",
      "finished\n",
      "4\n",
      "k,b,p,q,kfoc,bfoc,epstar,V,V_crit\n",
      "['0.192', '0.702', '0.387', '0.049', '0.000', '-0.000', '-0.281', '0.250', '0.122']\n",
      "k,b,p,q,kfoc,bfoc,epstar,V,V_crit\n",
      "['0.172', '0.704', '0.357', '0.035', '-0.000', '0.000', '-0.211', '0.125', '0.010']\n",
      "k,b,p,q,kfoc,bfoc,epstar,V,V_crit\n",
      "['0.162', '0.706', '0.342', '0.029', '-0.000', '-0.000', '-0.173', '0.062', '0.046']\n",
      "k,b,p,q,kfoc,bfoc,epstar,V,V_crit\n",
      "['0.167', '0.705', '0.350', '0.032', '-0.000', '-0.000', '-0.192', '0.094', '0.018']\n",
      "k,b,p,q,kfoc,bfoc,epstar,V,V_crit\n",
      "['0.170', '0.705', '0.354', '0.033', '-0.000', '-0.000', '-0.202', '0.109', '0.004']\n",
      "k,b,p,q,kfoc,bfoc,epstar,V,V_crit\n",
      "['0.171', '0.704', '0.356', '0.034', '0.000', '0.000', '-0.206', '0.117', '0.003']\n",
      "k,b,p,q,kfoc,bfoc,epstar,V,V_crit\n",
      "['0.170', '0.704', '0.355', '0.034', '-0.000', '-0.000', '-0.204', '0.113', '0.000']\n",
      "k,b,p,q,kfoc,bfoc,epstar,V,V_crit\n",
      "['0.170', '0.704', '0.355', '0.034', '-0.000', '0.000', '-0.205', '0.115', '0.002']\n",
      "k,b,p,q,kfoc,bfoc,epstar,V,V_crit\n",
      "['0.170', '0.704', '0.355', '0.034', '-0.000', '0.000', '-0.205', '0.114', '0.001']\n",
      "k,b,p,q,kfoc,bfoc,epstar,V,V_crit\n",
      "['0.170', '0.704', '0.355', '0.034', '-0.000', '-0.000', '-0.205', '0.114', '0.000']\n",
      "k,b,p,q,kfoc,bfoc,epstar,V,V_crit\n",
      "['0.170', '0.704', '0.355', '0.034', '0.000', '0.000', '-0.204', '0.114', '0.000']\n",
      "finished\n",
      "5\n",
      "k,b,p,q,kfoc,bfoc,epstar,V,V_crit\n",
      "['0.198', '0.771', '0.377', '0.039', '-0.000', '-0.000', '-0.205', '0.250', '0.118']\n",
      "k,b,p,q,kfoc,bfoc,epstar,V,V_crit\n",
      "['0.178', '0.781', '0.346', '0.027', '-0.000', '0.000', '-0.129', '0.125', '0.006']\n",
      "k,b,p,q,kfoc,bfoc,epstar,V,V_crit\n",
      "['0.169', '0.788', '0.330', '0.022', '0.000', '-0.000', '-0.088', '0.062', '0.050']\n",
      "k,b,p,q,kfoc,bfoc,epstar,V,V_crit\n",
      "['0.174', '0.784', '0.338', '0.024', '-0.000', '0.000', '-0.109', '0.094', '0.022']\n",
      "k,b,p,q,kfoc,bfoc,epstar,V,V_crit\n",
      "['0.176', '0.783', '0.342', '0.026', '-0.000', '-0.000', '-0.119', '0.109', '0.008']\n",
      "k,b,p,q,kfoc,bfoc,epstar,V,V_crit\n",
      "['0.177', '0.781', '0.344', '0.026', '0.000', '-0.000', '-0.125', '0.117', '0.001']\n",
      "k,b,p,q,kfoc,bfoc,epstar,V,V_crit\n",
      "['0.178', '0.781', '0.345', '0.027', '0.000', '0.000', '-0.127', '0.121', '0.003']\n",
      "k,b,p,q,kfoc,bfoc,epstar,V,V_crit\n",
      "['0.178', '0.782', '0.345', '0.026', '-0.000', '0.000', '-0.125', '0.119', '0.001']\n",
      "k,b,p,q,kfoc,bfoc,epstar,V,V_crit\n",
      "['0.177', '0.782', '0.345', '0.026', '-0.000', '-0.000', '-0.125', '0.118', '0.000']\n",
      "finished\n",
      "6\n",
      "k,b,p,q,kfoc,bfoc,epstar,V,V_crit\n",
      "['0.205', '0.851', '0.366', '0.030', '-0.000', '-0.000', '-0.126', '0.250', '0.114']\n",
      "k,b,p,q,kfoc,bfoc,epstar,V,V_crit\n",
      "['0.186', '0.872', '0.333', '0.020', '0.000', '0.000', '-0.043', '0.125', '0.001']\n",
      "k,b,p,q,kfoc,bfoc,epstar,V,V_crit\n",
      "['0.177', '0.885', '0.316', '0.016', '0.000', '0.000', '0.001', '0.062', '0.055']\n",
      "k,b,p,q,kfoc,bfoc,epstar,V,V_crit\n",
      "['0.181', '0.878', '0.324', '0.018', '-0.000', '0.000', '-0.022', '0.094', '0.027']\n",
      "k,b,p,q,kfoc,bfoc,epstar,V,V_crit\n",
      "['0.184', '0.875', '0.328', '0.019', '0.000', '-0.000', '-0.033', '0.109', '0.013']\n",
      "k,b,p,q,kfoc,bfoc,epstar,V,V_crit\n",
      "['0.185', '0.874', '0.330', '0.019', '0.000', '0.000', '-0.038', '0.117', '0.006']\n",
      "k,b,p,q,kfoc,bfoc,epstar,V,V_crit\n",
      "['0.185', '0.873', '0.332', '0.019', '0.000', '0.000', '-0.041', '0.121', '0.002']\n",
      "k,b,p,q,kfoc,bfoc,epstar,V,V_crit\n",
      "['0.186', '0.872', '0.332', '0.020', '-0.000', '-0.000', '-0.042', '0.123', '0.001']\n",
      "k,b,p,q,kfoc,bfoc,epstar,V,V_crit\n",
      "['0.186', '0.872', '0.332', '0.020', '-0.000', '-0.000', '-0.044', '0.124', '0.000']\n",
      "k,b,p,q,kfoc,bfoc,epstar,V,V_crit\n",
      "['0.186', '0.872', '0.332', '0.020', '-0.000', '0.000', '-0.043', '0.124', '0.000']\n",
      "k,b,p,q,kfoc,bfoc,epstar,V,V_crit\n",
      "['0.186', '0.872', '0.332', '0.020', '0.000', '0.000', '-0.043', '0.124', '0.000']\n",
      "finished\n",
      "7\n",
      "k,b,p,q,kfoc,bfoc,epstar,V,V_crit\n",
      "['0.212', '0.945', '0.351', '0.022', '0.000', '0.000', '-0.043', '0.250', '0.108']\n",
      "k,b,p,q,kfoc,bfoc,epstar,V,V_crit\n",
      "['0.194', '0.980', '0.316', '0.014', '0.000', '0.000', '0.047', '0.125', '0.005']\n",
      "k,b,p,q,kfoc,bfoc,epstar,V,V_crit\n",
      "['0.203', '0.961', '0.334', '0.018', '0.000', '0.000', '-0.000', '0.188', '0.052']\n",
      "k,b,p,q,kfoc,bfoc,epstar,V,V_crit\n",
      "['0.199', '0.970', '0.325', '0.016', '-0.000', '0.000', '0.023', '0.156', '0.024']\n",
      "k,b,p,q,kfoc,bfoc,epstar,V,V_crit\n",
      "['0.196', '0.975', '0.321', '0.015', '0.000', '0.000', '0.034', '0.141', '0.010']\n",
      "k,b,p,q,kfoc,bfoc,epstar,V,V_crit\n",
      "['0.195', '0.977', '0.319', '0.014', '0.000', '0.000', '0.041', '0.133', '0.003']\n",
      "k,b,p,q,kfoc,bfoc,epstar,V,V_crit\n",
      "['0.195', '0.979', '0.318', '0.014', '-0.000', '0.000', '0.044', '0.129', '0.001']\n",
      "k,b,p,q,kfoc,bfoc,epstar,V,V_crit\n",
      "['0.195', '0.978', '0.318', '0.014', '-0.000', '0.000', '0.042', '0.131', '0.001']\n",
      "k,b,p,q,kfoc,bfoc,epstar,V,V_crit\n",
      "['0.195', '0.979', '0.318', '0.014', '-0.000', '0.000', '0.043', '0.130', '0.000']\n",
      "k,b,p,q,kfoc,bfoc,epstar,V,V_crit\n",
      "['0.195', '0.978', '0.318', '0.014', '0.000', '-0.000', '0.042', '0.130', '0.000']\n",
      "k,b,p,q,kfoc,bfoc,epstar,V,V_crit\n",
      "['0.195', '0.978', '0.318', '0.014', '0.000', '-0.000', '0.043', '0.130', '0.000']\n",
      "k,b,p,q,kfoc,bfoc,epstar,V,V_crit\n",
      "['0.195', '0.978', '0.318', '0.014', '-0.000', '0.000', '0.043', '0.130', '0.000']\n",
      "finished\n",
      "8\n",
      "k,b,p,q,kfoc,bfoc,epstar,V,V_crit\n",
      "['0.221', '1.056', '0.334', '0.016', '0.000', '0.000', '0.044', '0.250', '0.103']\n",
      "k,b,p,q,kfoc,bfoc,epstar,V,V_crit\n",
      "['0.204', '1.110', '0.298', '0.009', '0.000', '0.000', '0.143', '0.125', '0.011']\n",
      "k,b,p,q,kfoc,bfoc,epstar,V,V_crit\n",
      "['0.212', '1.081', '0.316', '0.012', '0.000', '0.000', '0.092', '0.188', '0.046']\n",
      "k,b,p,q,kfoc,bfoc,epstar,V,V_crit\n",
      "['0.208', '1.095', '0.307', '0.010', '0.000', '0.000', '0.117', '0.156', '0.018']\n",
      "k,b,p,q,kfoc,bfoc,epstar,V,V_crit\n",
      "['0.206', '1.102', '0.302', '0.010', '-0.000', '0.000', '0.130', '0.141', '0.003']\n",
      "k,b,p,q,kfoc,bfoc,epstar,V,V_crit\n",
      "['0.205', '1.107', '0.300', '0.009', '-0.000', '-0.000', '0.137', '0.133', '0.004']\n",
      "k,b,p,q,kfoc,bfoc,epstar,V,V_crit\n",
      "['0.205', '1.105', '0.301', '0.009', '-0.000', '0.000', '0.133', '0.137', '0.000']\n",
      "k,b,p,q,kfoc,bfoc,epstar,V,V_crit\n",
      "['0.206', '1.104', '0.302', '0.010', '0.000', '0.000', '0.131', '0.139', '0.002']\n",
      "k,b,p,q,kfoc,bfoc,epstar,V,V_crit\n",
      "['0.205', '1.104', '0.301', '0.009', '0.000', '-0.000', '0.132', '0.138', '0.001']\n",
      "k,b,p,q,kfoc,bfoc,epstar,V,V_crit\n",
      "['0.205', '1.104', '0.301', '0.009', '0.000', '-0.000', '0.133', '0.137', '0.000']\n",
      "k,b,p,q,kfoc,bfoc,epstar,V,V_crit\n",
      "['0.205', '1.104', '0.301', '0.009', '-0.000', '0.000', '0.133', '0.137', '0.000']\n",
      "finished\n",
      "9\n",
      "k,b,p,q,kfoc,bfoc,epstar,V,V_crit\n",
      "['0.231', '1.189', '0.315', '0.010', '0.000', '-0.000', '0.137', '0.250', '0.096']\n",
      "k,b,p,q,kfoc,bfoc,epstar,V,V_crit\n",
      "['0.214', '1.269', '0.277', '0.005', '0.000', '-0.000', '0.247', '0.125', '0.018']\n",
      "k,b,p,q,kfoc,bfoc,epstar,V,V_crit\n",
      "['0.222', '1.226', '0.296', '0.008', '-0.000', '0.000', '0.190', '0.188', '0.039']\n",
      "k,b,p,q,kfoc,bfoc,epstar,V,V_crit\n",
      "['0.218', '1.247', '0.286', '0.006', '0.000', '-0.000', '0.218', '0.156', '0.011']\n",
      "k,b,p,q,kfoc,bfoc,epstar,V,V_crit\n",
      "['0.216', '1.258', '0.282', '0.006', '-0.000', '-0.000', '0.233', '0.141', '0.003']\n",
      "k,b,p,q,kfoc,bfoc,epstar,V,V_crit\n",
      "['0.217', '1.252', '0.284', '0.006', '-0.000', '-0.000', '0.225', '0.148', '0.004']\n",
      "k,b,p,q,kfoc,bfoc,epstar,V,V_crit\n",
      "['0.216', '1.256', '0.283', '0.006', '-0.000', '0.000', '0.229', '0.145', '0.000']\n",
      "k,b,p,q,kfoc,bfoc,epstar,V,V_crit\n",
      "['0.216', '1.256', '0.282', '0.006', '-0.000', '0.000', '0.231', '0.143', '0.002']\n",
      "k,b,p,q,kfoc,bfoc,epstar,V,V_crit\n",
      "['0.216', '1.256', '0.282', '0.006', '0.000', '0.000', '0.230', '0.144', '0.001']\n",
      "k,b,p,q,kfoc,bfoc,epstar,V,V_crit\n",
      "['0.216', '1.255', '0.283', '0.006', '0.000', '-0.000', '0.229', '0.144', '0.000']\n",
      "k,b,p,q,kfoc,bfoc,epstar,V,V_crit\n",
      "['0.216', '1.255', '0.283', '0.006', '-0.000', '0.000', '0.229', '0.144', '0.000']\n",
      "finished\n"
     ]
    }
   ],
   "source": [
    "# Lists for storage\n",
    "wlist = []\n",
    "klist = []\n",
    "blist = []\n",
    "qlist = []\n",
    "plist = []\n",
    "Vlist = []\n",
    "tlist = []\n",
    "q1list = []\n",
    "q2list = []\n",
    "p1list = []\n",
    "p2list = []\n",
    "# For loop: optimization for each endowment combination\n",
    "for i in range(10):\n",
    "    print(i)\n",
    "    # Save fraction\n",
    "    w10 = 0.9 - 0.05*i\n",
    "    w20 = 1.1 + 0.05*i\n",
    "    wlist.append(w20/(w10+w20))\n",
    "    # Create the instance\n",
    "    mdl = BCG_incomplete_markets(w10 = w10, w20 = w20, ktop = 0.5, btop = 2.5)\n",
    "    # Solve for equilibrium\n",
    "    kss,bss,Vss,qss,pss,c10ss,c11ss,c20ss,c21ss,theta1ss = mdl.solve_eq(print_crit=False)\n",
    "    # Store the equilibrium results\n",
    "    klist.append(kss)\n",
    "    blist.append(bss)\n",
    "    qlist.append(qss)\n",
    "    plist.append(pss)\n",
    "    Vlist.append(Vss)\n",
    "    tlist.append(theta1ss)\n",
    "\n",
    "    # Evaluations of equity and bond by each agent\n",
    "    Q1,Q2,P1,P2 = mdl.valuations_by_agent(c10ss, c11ss, c20ss, c21ss, kss, bss)\n",
    "    # Save the valuations\n",
    "    q1list.append(Q1)\n",
    "    q2list.append(Q2)\n",
    "    p1list.append(P1)\n",
    "    p2list.append(P2)"
   ]
  },
  {
   "cell_type": "code",
   "execution_count": 36,
   "metadata": {},
   "outputs": [
    {
     "data": {
      "image/png": "[encoded data removed]",
      "text/plain": [
       "<Figure size 864x864 with 6 Axes>"
      ]
     },
     "metadata": {
      "needs_background": "light"
     },
     "output_type": "display_data"
    }
   ],
   "source": [
    "# Plot\n",
    "fig, ax = plt.subplots(3,2,figsize=(12,12))\n",
    "ax[0,0].plot(wlist,klist)\n",
    "ax[0,0].set_title('capital')\n",
    "ax[0,1].plot(wlist,blist)\n",
    "ax[0,1].set_title('debt')\n",
    "ax[1,0].plot(wlist,qlist)\n",
    "ax[1,0].set_title('equity price')\n",
    "ax[1,1].plot(wlist,plist)\n",
    "ax[1,1].set_title('bond price')\n",
    "ax[2,0].plot(wlist,Vlist)\n",
    "ax[2,0].set_title('firm value')\n",
    "ax[2,0].set_xlabel('fraction of initial endowment held by agent 2',fontsize=13)\n",
    "# Create a list of Default thresholds\n",
    "A       = mdl.A\n",
    "alpha   = mdl.alpha\n",
    "epslist = []\n",
    "for i in range(len(wlist)):\n",
    "    bb = blist[i]\n",
    "    kk = klist[i]\n",
    "    eps = np.log(bb/(A*kk**alpha))\n",
    "    epslist.append(eps)\n",
    "# Plot (cont.)\n",
    "ax[2,1].plot(wlist,epslist)\n",
    "ax[2,1].set_title(r'default threshold $\\epsilon^*$')\n",
    "ax[2,1].set_xlabel('fraction of initial endowment held by agent 2',fontsize=13)\n",
    "plt.show()"
   ]
  },
  {
   "cell_type": "code",
   "execution_count": 37,
   "metadata": {},
   "outputs": [
    {
     "data": {
      "image/png": "[encoded data removed]",
      "text/plain": [
       "<Figure size 1152x432 with 3 Axes>"
      ]
     },
     "metadata": {
      "needs_background": "light"
     },
     "output_type": "display_data"
    }
   ],
   "source": [
    "fig, ax = plt.subplots(1,3,figsize=(16,6))\n",
    "ax[0].plot(wlist,q1list,label='agent 1',color='green')\n",
    "ax[0].plot(wlist,q2list,label='agent 2',color='blue')\n",
    "ax[0].plot(wlist,qlist,label='equity price',color='red',linestyle='--')\n",
    "ax[0].legend()\n",
    "ax[0].set_title('equity valuations')\n",
    "ax[0].set_xlabel('fraction of initial endowment held by agent 2',fontsize=11)\n",
    "ax[1].plot(wlist,p1list,label='agent 1',color='green')\n",
    "ax[1].plot(wlist,p2list,label='agent 2',color='blue')\n",
    "ax[1].plot(wlist,plist,label='bond price',color='red',linestyle='--')\n",
    "ax[1].legend()\n",
    "ax[1].set_title('bond valuations')\n",
    "ax[1].set_xlabel('fraction of initial endowment held by agent 2',fontsize=11)\n",
    "ax[2].plot(wlist,tlist,color='blue')\n",
    "ax[2].set_title('equity holdings by agent 1')\n",
    "ax[2].set_xlabel('fraction of initial endowment held by agent 2',fontsize=11)\n",
    "plt.show()"
   ]
  }
 ],
 "metadata": {
  "interpreter": {
   "hash": "4d884904bc29f7597ada18f51c2dced7caeac8d0bee2d87585de5946cf47cde2"
  },
  "kernelspec": {
   "display_name": "Python 3.9.1 64-bit",
   "language": "python",
   "name": "python3"
  },
  "language_info": {
   "codemirror_mode": {
    "name": "ipython",
    "version": 3
   },
   "file_extension": ".py",
   "mimetype": "text/x-python",
   "name": "python",
   "nbconvert_exporter": "python",
   "pygments_lexer": "ipython3",
   "version": "3.9.1"
  },
  "orig_nbformat": 4
 },
 "nbformat": 4,
 "nbformat_minor": 2
}
