{
 "cells": [
  {
   "cell_type": "markdown",
   "metadata": {},
   "source": [
    "## Overborrowing and Systemic Externalities in the Business Cycle, Bianchi (2011)  \n",
    "\n",
    "## by Marco Piña"
   ]
  },
  {
   "cell_type": "markdown",
   "metadata": {},
   "source": [
    "### Load libraries"
   ]
  },
  {
   "cell_type": "code",
   "execution_count": 1,
   "metadata": {},
   "outputs": [],
   "source": [
    "using Distributions\n",
    "using Interpolations #interpolations\n",
    "using Optim          #optimize\n",
    "using Roots          #find roots\n",
    "using ProgressMeter  #to show progress\n",
    "using LinearAlgebra  #norm function (compute norm of a matrix)\n",
    "using JLD            #to save and load results\n",
    "using Plots          #plots\n",
    "using LaTeXStrings   #to write LaTeX in legends\n",
    "using QuantEcon      #stationary distributions\n",
    "using StatsPlots     #kernel density"
   ]
  },
  {
   "cell_type": "markdown",
   "metadata": {},
   "source": [
    "### Include original stochastic structure of the paper"
   ]
  },
  {
   "cell_type": "code",
   "execution_count": null,
   "metadata": {},
   "outputs": [],
   "source": [
    "include(\"Bianchi2011_stochastic.jl\")"
   ]
  },
  {
   "cell_type": "markdown",
   "metadata": {},
   "source": [
    "### Include auxiliary functions (for interpolation and simulation)"
   ]
  },
  {
   "cell_type": "code",
   "execution_count": null,
   "metadata": {},
   "outputs": [],
   "source": [
    "include(\"aux_funcs.jl\")"
   ]
  },
  {
   "cell_type": "markdown",
   "metadata": {},
   "source": [
    "### Define parameters and grid"
   ]
  },
  {
   "cell_type": "code",
   "execution_count": null,
   "metadata": {},
   "outputs": [],
   "source": [
    "#Parameters\n",
    "r  = 0.04             #interest rate\n",
    "σ  = 2                #risk aversion\n",
    "η  = 1/0.83-1         #elasticity of substitution\n",
    "ω  = 0.31             #weight on tradables\n",
    "β  = 0.91             #discount factor\n",
    "κ  = 0.32\n",
    "n  = 4                #nodes\n",
    "ny = n*n\n",
    "\n",
    "#grid for b\n",
    "b_min     = -1.1\n",
    "b_max     =  0.0\n",
    "nb        =  80\n",
    "b_grid    = collect(range(b_min,b_max, length=nb))\n",
    "\n",
    "#grid for y\n",
    "YN= repeat(states_N,1,nb)\n",
    "YT= repeat(states_T,1,nb)\n",
    "B = repeat(b_grid,1, ny)'\n",
    "\n",
    "#initial values (matrices)\n",
    "bpol_in   = repeat(b_grid,1,ny)'\n",
    "cpol_in   = ones(ny,nb)\n",
    "ppol_in   = ones(ny,nb)\n",
    "μ_in      = zeros(ny,nb)\n",
    "Eμ        = zeros(ny,nb)\n",
    "bpol_bind = -κ*(ppol_in.*YN + YT)\n",
    "cpol_bind = (1+r)*B + YT - bpol_bind\n",
    "\n",
    "#marginal utility\n",
    "mgu(ct,yn)=(ω*ct^(-η)+(1-ω)*yn^(-η))^(σ/η-1/η-1)*ω*(ct^(-η-1))"
   ]
  },
  {
   "cell_type": "markdown",
   "metadata": {},
   "source": [
    "### Technical parameters"
   ]
  },
  {
   "cell_type": "code",
   "execution_count": null,
   "metadata": {},
   "outputs": [],
   "source": [
    "updt   = 0.2 ; #Updating rule: Must be slow\n",
    "n_iter = 300 ;\n",
    "counter= 0   ;\n",
    "tol    = 1e-5;"
   ]
  },
  {
   "cell_type": "markdown",
   "metadata": {},
   "source": [
    "## Competitive Equilibrium Problem"
   ]
  },
  {
   "cell_type": "code",
   "execution_count": null,
   "metadata": {},
   "outputs": [],
   "source": [
    "while counter < n_iter\n",
    "    global updt,counter,n_iter, μ_in ,Eμ,cpol_in,bpol_in,ppol_in,cpol_bind,bpol_bind\n",
    "\n",
    "    #save old values\n",
    "    bpol_out = copy(bpol_in)\n",
    "    cpol_out = copy(cpol_in)\n",
    "    ppol_out = copy(ppol_in)\n",
    "\n",
    "    #marginal utility\n",
    "    λ = mgu.(cpol_in,YN)\n",
    "\n",
    "    #Expected marginal utility\n",
    "    for i in 1:nb\n",
    "        for j in 1:ny\n",
    "            Eμ[j,i] = β*(1+r)*T[j,:]'*interp1(b_grid,λ,bpol_in[j,i])\n",
    "        end\n",
    "    end\n",
    "\n",
    "    #Compute Euler's residual assuming that constraint binds\n",
    "    for i in 1:nb\n",
    "        for j in 1:ny\n",
    "            μ_in[j,i] = mgu(cpol_bind[j,i],YN[j,i]) - Eμ[j,i]\n",
    "        end\n",
    "    end\n",
    "\n",
    "    #system of equations\n",
    "    for i in 1:nb\n",
    "        for j in 1:ny\n",
    "            if μ_in[j,i] > 0.0 #then constraint binds\n",
    "                bpol_in[j,i] = copy(bpol_bind[j,i])\n",
    "                cpol_in[j,i] = copy(cpol_bind[j,i])\n",
    "            else               #then find optimal consumption\n",
    "                u(cc)   = mgu(cc,YN[j,i]) - Eμ[j,i]\n",
    "                cpol_in[j,i] = find_zero( u , 0.1 ) ; μ_in[j,i] = u(cpol_in[j,i]) # (check μ ≥ 0)\n",
    "                bpol_in[j,i] = B[j,i]*(1+r) + YT[j,i] - cpol_in[j,i]\n",
    "            end\n",
    "        end\n",
    "    end\n",
    "    ppol_in = ((1-ω)/ω) .* (cpol_in./YN).^(1+η)\n",
    "\n",
    "    #updating rule\n",
    "    bpol_in = updt.*bpol_in .+ (1-updt).*bpol_out\n",
    "    cpol_in = updt.*cpol_in .+ (1-updt).*cpol_out\n",
    "    ppol_in = updt.*ppol_in .+ (1-updt).*ppol_out\n",
    "\n",
    "    bpol_bind = clamp.(-κ.*(ppol_in.*YN+YT), b_min,b_max)\n",
    "    cpol_bind = (1+r).*B .+ YT .- bpol_bind\n",
    "\n",
    "    #convergence criterion\n",
    "    diff=maximum( [ maximum(abs.(bpol_out .- bpol_in)),\n",
    "                    maximum(abs.(cpol_out .- cpol_in)),\n",
    "                    maximum(abs.(ppol_out .- ppol_in))  ] )\n",
    "\n",
    "    diff2=round(diff,digits=7)\n",
    "\n",
    "    println(\"Diff = $diff2 ; Iter= $counter\")\n",
    "        if diff<tol\n",
    "            println(\"Convergence reached :D! convergence=$diff2\")\n",
    "            global cpol_out=copy(cpol_in)\n",
    "            global bpol_out=copy(bpol_in)\n",
    "            global ppol_out=copy(ppol_in)\n",
    "            global μ_out=copy(μ_in)\n",
    "            break\n",
    "        elseif counter ≥ n_iter\n",
    "            println(\"Failed convergence D:! iteration=$max_iter\")\n",
    "            break\n",
    "        end\n",
    "        counter += 1\n",
    "end"
   ]
  }
 ],
 "metadata": {
  "kernelspec": {
   "display_name": "Julia 1.5.3",
   "language": "julia",
   "name": "julia-1.5"
  },
  "language_info": {
   "file_extension": ".jl",
   "mimetype": "application/julia",
   "name": "julia",
   "version": "1.5.3"
  }
 },
 "nbformat": 4,
 "nbformat_minor": 2
}
